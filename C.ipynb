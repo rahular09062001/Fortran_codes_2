{
  "nbformat": 4,
  "nbformat_minor": 0,
  "metadata": {
    "colab": {
      "provenance": [],
      "toc_visible": true,
      "include_colab_link": true
    },
    "kernelspec": {
      "name": "python3",
      "display_name": "Python 3"
    },
    "language_info": {
      "name": "python"
    }
  },
  "cells": [
    {
      "cell_type": "markdown",
      "metadata": {
        "id": "view-in-github",
        "colab_type": "text"
      },
      "source": [
        "<a href=\"https://colab.research.google.com/github/rahular09062001/Google_Colab_Codes/blob/main/C.ipynb\" target=\"_parent\"><img src=\"https://colab.research.google.com/assets/colab-badge.svg\" alt=\"Open In Colab\"/></a>"
      ]
    },
    {
      "cell_type": "markdown",
      "source": [
        "# C Programing"
      ],
      "metadata": {
        "id": "p8gNeWqsXlMb"
      }
    },
    {
      "cell_type": "markdown",
      "source": [
        "# Hello World !"
      ],
      "metadata": {
        "id": "peAwul7XXsJr"
      }
    },
    {
      "cell_type": "code",
      "source": [
        "#include<stdio.h>\n",
        "\n",
        "int main(){\n",
        "\n",
        "\tprintf(\"Hello World ! \\n \");\n",
        "\tprintf(\"I am Rahul A R \\n\");\n",
        "\n",
        "\treturn 0;\n",
        "}"
      ],
      "metadata": {
        "id": "sjAUTzKtXx1z"
      },
      "execution_count": null,
      "outputs": []
    },
    {
      "cell_type": "markdown",
      "source": [
        "## Hello world 2"
      ],
      "metadata": {
        "id": "2SjMS7Ibjmze"
      }
    },
    {
      "cell_type": "code",
      "source": [
        "#include<stdio.h>\n",
        "\n",
        "int main(){\n",
        "\n",
        "\tint p,n;\n",
        "\n",
        "\tp=100;\n",
        "\tn=10;\n",
        "\n",
        "\tprintf(\"%i\\n\",p);\n",
        "\treturn 0;\n",
        "}"
      ],
      "metadata": {
        "id": "xvUrPG1Kjqbh"
      },
      "execution_count": null,
      "outputs": []
    },
    {
      "cell_type": "markdown",
      "source": [
        "# Input And Output"
      ],
      "metadata": {
        "id": "frpO1Ld5X4mT"
      }
    },
    {
      "cell_type": "markdown",
      "source": [
        "## Cube of a number"
      ],
      "metadata": {
        "id": "2ze-MFEiX9iX"
      }
    },
    {
      "cell_type": "code",
      "source": [
        "#include<stdio.h>\n",
        "\n",
        "int main() {\n",
        "\n",
        "\tint number ;\n",
        "\n",
        "\tprintf(\"Enter the value of the number \\n\");\n",
        "\tscanf(\" %d\",&number);\n",
        "\n",
        "\tprintf(\"The square of the number is %d\",number*number);\n",
        "\tprintf(\"\\n\");\n",
        "\n",
        "\treturn 0;\n",
        "}"
      ],
      "metadata": {
        "id": "iC4Wt4nyYFcP"
      },
      "execution_count": null,
      "outputs": []
    },
    {
      "cell_type": "markdown",
      "source": [
        "## Addition of two numbers"
      ],
      "metadata": {
        "id": "RlT0NK6wYLy7"
      }
    },
    {
      "cell_type": "code",
      "source": [
        "#include<stdio.h>\n",
        "\n",
        "int main(){\n",
        "\n",
        "\tint x,y,result;\n",
        "\n",
        "\tprintf(\"Enter the value of  x \\n\");\n",
        "\tscanf(\"%d\",&x);\n",
        "\n",
        "\tprintf(\"Enter the value of y \\n\");\n",
        "\tscanf(\"%d\",&y);\n",
        "\n",
        "\tresult = x + y;\n",
        "\n",
        "\tprintf(\"The sum of x and y is :%d\",result);\n",
        "\tprintf(\"\\n\");\n",
        "\n",
        "\treturn 0;\n",
        "}"
      ],
      "metadata": {
        "id": "BBhAOV_gYROX"
      },
      "execution_count": null,
      "outputs": []
    },
    {
      "cell_type": "markdown",
      "source": [
        "## Simple Interest"
      ],
      "metadata": {
        "id": "UXZNpQ2Ko2Zp"
      }
    },
    {
      "cell_type": "code",
      "source": [
        "#include<stdio.h>\n",
        "\n",
        "int main(){\n",
        "\n",
        "\tint p,n;\n",
        "\tfloat r,si;\n",
        "\n",
        "\tprintf(\"Enter the value of p , r, n \\n\");\n",
        "\tscanf(\"%d %f %d\",&p,&r,&n);\n",
        "\n",
        "\tsi = p*n*r/100;\n",
        "\tprintf(\"The Simple interest = %f\",si);\n",
        "\tprintf(\"\\n\");\n",
        "\n",
        "\treturn 0;\n",
        "}"
      ],
      "metadata": {
        "id": "FjHOp-uAo5QR"
      },
      "execution_count": null,
      "outputs": []
    },
    {
      "cell_type": "markdown",
      "source": [
        "# Formats"
      ],
      "metadata": {
        "id": "mhaXKBfPNosT"
      }
    },
    {
      "cell_type": "markdown",
      "source": [
        "The format string can be %d (integer), %c (character), %s (string), %f (float) etc."
      ],
      "metadata": {
        "id": "RW0XgipAPS9k"
      }
    },
    {
      "cell_type": "markdown",
      "source": [
        "## integer formats"
      ],
      "metadata": {
        "id": "wfD8N7hCNzM7"
      }
    },
    {
      "cell_type": "code",
      "source": [
        "#include<stdio.h>\n",
        "\n",
        "int main(){\n",
        "\n",
        "\tint x=400;\n",
        "\n",
        "\tprintf(\"%8d \\n \",x);\n",
        "\n",
        "\treturn 0;\n",
        "}"
      ],
      "metadata": {
        "id": "bCI-kXXoNq6K"
      },
      "execution_count": null,
      "outputs": []
    },
    {
      "cell_type": "markdown",
      "source": [
        "## integer format left aligned"
      ],
      "metadata": {
        "id": "offPmiAip5p1"
      }
    },
    {
      "cell_type": "code",
      "source": [
        "#include<stdio.h>\n",
        "\n",
        "int main(){\n",
        "\n",
        "\tint i;\n",
        "\n",
        "\tprintf(\"Enter the value of i :\");\n",
        "\tscanf(\"%d\",&i);\n",
        "\n",
        "\tprintf(\"The value you entered is = %-8d \\n\",i);\n",
        "\n",
        "\treturn 0;\n",
        "}"
      ],
      "metadata": {
        "id": "p22jj1_hp9Ds"
      },
      "execution_count": null,
      "outputs": []
    },
    {
      "cell_type": "markdown",
      "source": [
        "# Operators and Type\n"
      ],
      "metadata": {
        "id": "_MwagLtPrFhY"
      }
    },
    {
      "cell_type": "markdown",
      "source": [
        "\n",
        "\n",
        "```\n",
        "Operators and Type\n",
        "!           : Logical not\n",
        "* / %       : Arithematic and modulus\n",
        "+ -         : Arithematic\n",
        "> < <= >=   : Relational\n",
        "== !=       : Relational\n",
        "&&          : Logical AND\n",
        "||          : Logical OR\n",
        "=           : Assingment\n",
        "```\n",
        "\n"
      ],
      "metadata": {
        "id": "QcAFb80rrIBw"
      }
    },
    {
      "cell_type": "markdown",
      "source": [
        "# Program"
      ],
      "metadata": {
        "id": "ipg_RRTz3Gt5"
      }
    },
    {
      "cell_type": "markdown",
      "source": [
        "## Distance in m,cm,inches,feet"
      ],
      "metadata": {
        "id": "yz4nqC8i3JAm"
      }
    },
    {
      "cell_type": "code",
      "source": [
        "#include<stdio.h>\n",
        "\n",
        "int main(){\n",
        "\n",
        "\tfloat dist,in_meter,in_cm,in_inch,in_feet;\n",
        "\n",
        "\tprintf(\"Enter the distance between the two cites \");\n",
        "\tscanf(\"%f\",&dist);\n",
        "\n",
        "\tin_meter = dist*1000;\n",
        "\tin_cm = dist*100000;\n",
        "\tin_inch = dist*39370.1;\n",
        "\tin_feet = dist*3280.84;\n",
        "\n",
        "\tprintf(\"Distance in meter = %f \\n\",in_meter);\n",
        "\tprintf(\"Distance in cm = %f \\n\", in_cm);\n",
        "\tprintf(\"Distnace in inch = %f \\n\",in_inch);\n",
        "\tprintf(\"Distance in feet = %f \\n\",in_feet);\n",
        "\n",
        "\treturn 0;\n",
        "}"
      ],
      "metadata": {
        "id": "sdQMKuZX3Mqm"
      },
      "execution_count": null,
      "outputs": []
    },
    {
      "cell_type": "markdown",
      "source": [
        "## Temperature of city in degree celcius"
      ],
      "metadata": {
        "id": "Rex4PI2a5Yhq"
      }
    },
    {
      "cell_type": "code",
      "source": [
        "#include<stdio.h>\n",
        "\n",
        "int main(){\n",
        "\n",
        "\tfloat temp;\n",
        "\n",
        "\tprintf(\"Enter the temperature of city in Fahrenheit \\n\");\n",
        "\tscanf(\"%f\",&temp);\n",
        "\n",
        "\ttemp = (temp-32)*(5.0/9.0);\n",
        "\n",
        "\tprintf(\"Temperatur of city in degree celcius = %f degree celcius \\n\",temp);\n",
        "\n",
        "\treturn 0;\n",
        "}"
      ],
      "metadata": {
        "id": "w5v4OIIT5dMP"
      },
      "execution_count": null,
      "outputs": []
    },
    {
      "cell_type": "markdown",
      "source": [
        "# IF"
      ],
      "metadata": {
        "id": "yAnwTXmds7Wi"
      }
    },
    {
      "cell_type": "code",
      "source": [
        "#include<stdio.h>\n",
        "#include<math.h>\n",
        "\n",
        "int main(){\n",
        "\n",
        "        int num;\n",
        "\n",
        "        printf(\"Enter a number greater than 20 \\n\");\n",
        "        scanf(\"%d\",&num);\n",
        "\n",
        "        if(num>10)\n",
        "                printf(\"Good boy.....! \\n\");\n",
        "                printf(\"The number you entered is : %d \\n\",num);\n",
        "\n",
        "        return 0;\n",
        "}\n"
      ],
      "metadata": {
        "id": "dTLhLRnts_No"
      },
      "execution_count": null,
      "outputs": []
    },
    {
      "cell_type": "markdown",
      "source": [
        "# Else if"
      ],
      "metadata": {
        "id": "moYLljEzu982"
      }
    },
    {
      "cell_type": "code",
      "source": [
        "#include<stdio.h>\n",
        "#include<math.h>\n",
        "\n",
        "int main(){\n",
        "\n",
        "\tfloat m1,m2,m3,m4,m5;\n",
        "\tfloat per;\n",
        "\n",
        "\tprintf(\"Enter the marks obtained in 5 subjects.....\\n\");\n",
        "\tscanf(\"%f %f %f %f %f \",&m1,&m2,&m3,&m4,&m5);\n",
        "\n",
        "\tper = ((m1+m2+m3+m4+m5)/500.0)*100.0;\n",
        "\n",
        "\tif(per >= 90){\n",
        "\n",
        "\t\tprintf(\"Percentage = %f Grade = A+ \\n\",per);\n",
        "\t}\n",
        "\telse if(per >= 80 && per < 90 ){\n",
        "\n",
        "\t\tprintf(\"Percentage = %f Grade = A \\n\",per);\n",
        "\t}\n",
        "\telse if(per >= 70 && per<80){\n",
        "\n",
        "\t\tprintf(\"Percentage = %f Grade = B \\n\",per);\n",
        "\t}\n",
        "\telse if(per >= 60 && per < 70){\n",
        "\n",
        "\t\tprintf(\"Percentager = %f Grade = C \\n\",per);\n",
        "\t}\n",
        "\telse if(per >= 50 && per < 60){\n",
        "\n",
        "\t\tprintf(\"Percentage = %f Grad3e = D \\n\",per);\n",
        "\t}\n",
        "\telse{\n",
        "\n",
        "\t\tprintf(\"Failed \\n\");\n",
        "\t}\n",
        "\n",
        "\treturn 0;\n",
        "\n",
        "\n",
        "}"
      ],
      "metadata": {
        "id": "o9B1l4bkvAWx"
      },
      "execution_count": null,
      "outputs": []
    },
    {
      "cell_type": "markdown",
      "source": [
        "# Triangle"
      ],
      "metadata": {
        "id": "KtjFaKrf3qCG"
      }
    },
    {
      "cell_type": "code",
      "source": [
        "#include<stdio.h>\n",
        "\n",
        "int main(){\n",
        "\n",
        "        float a1,a2,a3;\n",
        "        float a;\n",
        "\n",
        "        printf(\"Enter the three angle of the triangle \\n\");\n",
        "        scanf(\"%f %f %f\",&a1,&a2,&a3);\n",
        "\n",
        "        a = a1 + a2 + a3;\n",
        "\n",
        "        if(a == 180.0){\n",
        "\n",
        "                printf(\"The angles belongs to a triangle \\n\");\n",
        "        }\n",
        "        else {\n",
        "                printf(\"The angles are not acceptable for a triangle \\n\");\n",
        "        }\n",
        "\n",
        "        return 0;\n",
        "\n",
        "}\n"
      ],
      "metadata": {
        "id": "k0I4ZIt33stj"
      },
      "execution_count": null,
      "outputs": []
    },
    {
      "cell_type": "markdown",
      "source": [
        "# Loop"
      ],
      "metadata": {
        "id": "Dlt3bQP_9G-w"
      }
    },
    {
      "cell_type": "markdown",
      "source": [
        "## While loop"
      ],
      "metadata": {
        "id": "tEvbVS5q9KF4"
      }
    },
    {
      "cell_type": "markdown",
      "source": [
        "### Multiplication Table"
      ],
      "metadata": {
        "id": "SQmcDQbt9LrA"
      }
    },
    {
      "cell_type": "code",
      "source": [
        "#include<stdio.h>\n",
        "\n",
        "int main(){\n",
        "\n",
        "\tint a=1,n;\n",
        "\n",
        "\tprintf(\"Enter the value of for which multiple is to be calculated \\n\");\n",
        "\tscanf(\"%d\",&n);\n",
        "\n",
        "\twhile(a<=10){\n",
        "\n",
        "\t\tprintf(\"%d X %d = %d \\n\",a,n,(a*n));\n",
        "\t\ta++;\n",
        "\t}\n",
        "\n",
        "\treturn 0;\n",
        "}\n"
      ],
      "metadata": {
        "id": "0t25UQ1u9OCY"
      },
      "execution_count": null,
      "outputs": []
    }
  ]
}