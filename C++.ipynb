{
  "nbformat": 4,
  "nbformat_minor": 0,
  "metadata": {
    "colab": {
      "provenance": [],
      "toc_visible": true,
      "include_colab_link": true
    },
    "kernelspec": {
      "name": "python3",
      "display_name": "Python 3"
    },
    "language_info": {
      "name": "python"
    }
  },
  "cells": [
    {
      "cell_type": "markdown",
      "metadata": {
        "id": "view-in-github",
        "colab_type": "text"
      },
      "source": [
        "<a href=\"https://colab.research.google.com/github/rahular09062001/Google_Colab_Codes/blob/main/C%2B%2B.ipynb\" target=\"_parent\"><img src=\"https://colab.research.google.com/assets/colab-badge.svg\" alt=\"Open In Colab\"/></a>"
      ]
    },
    {
      "cell_type": "markdown",
      "source": [
        "# C++ Basics (freecodecamp)"
      ],
      "metadata": {
        "id": "kFLS86zTEXod"
      }
    },
    {
      "cell_type": "code",
      "execution_count": null,
      "metadata": {
        "id": "INuva6UDDemP"
      },
      "outputs": [],
      "source": [
        "#include <iostream>\n",
        "\n",
        "using namespace std;\n",
        "\n",
        "int main()\n",
        "/* int main()  is a function , what ever we put inside the curly brackets '{ }' */\n",
        "/*  after int main() is executed */\n",
        "{\n",
        "    cout << \"Hello world!\" << endl;\n",
        "    return 0;\n",
        "}\n",
        "\n",
        "/* cout => console out (means print output)  */\n",
        "/* endl => means end line  ) */\n"
      ]
    },
    {
      "cell_type": "markdown",
      "source": [
        "building a shape using c++"
      ],
      "metadata": {
        "id": "Ncq76egVHFKV"
      }
    },
    {
      "cell_type": "code",
      "source": [
        "#include <iostream>\n",
        "\n",
        "using namespace std;\n",
        "\n",
        "int main()\n",
        "\n",
        "{\n",
        "    cout << \"    /|\" << endl;\n",
        "    cout << \"   / |\" << endl;\n",
        "    cout << \"  /  |\" << endl;\n",
        "    cout << \" /   |\" << endl;\n",
        "    cout << \"/____|\" << endl;\n",
        "\n",
        "    return 0;\n",
        "}\n",
        "\n",
        "/* if we use '' instead of \"\" the output won't be a shape, it will be a number */\n",
        "/* The program will run with out    return 0; */\n",
        "/* But use return 0; */"
      ],
      "metadata": {
        "id": "UQEXbmOFHLQD"
      },
      "execution_count": null,
      "outputs": []
    },
    {
      "cell_type": "markdown",
      "source": [
        "Mathematical Operations"
      ],
      "metadata": {
        "id": "zFxzztbGLlVn"
      }
    },
    {
      "cell_type": "code",
      "source": [
        "# include <iostream>\n",
        "\n",
        "using namespace std;\n",
        "\n",
        "int main()\n",
        "\n",
        "{\n",
        "    cout << \"hi\" << endl;\n",
        "    cout << 3*2 << endl;\n",
        "    cout <<  5 -6 << endl;\n",
        "    cout << 5 + 6 << endl;\n",
        "\n",
        "   return 0;\n",
        "}\n",
        "\n",
        "/* for exponential we can't use a**b  */"
      ],
      "metadata": {
        "id": "2mQ_L1-fLp3X"
      },
      "execution_count": null,
      "outputs": []
    },
    {
      "cell_type": "markdown",
      "source": [
        "# Data Types"
      ],
      "metadata": {
        "id": "2c_87m5qpYKW"
      }
    },
    {
      "cell_type": "code",
      "source": [
        "#include <iostream>\n",
        "\n",
        "using  namespace std;\n",
        "\n",
        "int main() {\n",
        "\n",
        "\tchar letter = 'A' ;\n",
        "\tstring word =  \"Hi I am Rahul\";\n",
        "\tint number = 44;\n",
        "\tfloat fnumber = 22.3;\n",
        "\tdouble dnumber = 82.2342;\n",
        "\tbool bval = true;\n",
        "\n",
        "\tcout << \" Character = \" << letter << endl;\n",
        "\tcout << \" String = \" << word << endl;\n",
        "\tcout << \" Integer = \" << number << endl;\n",
        "\tcout << \" Float = \" <<  fnumber << endl;\n",
        "\tcout << \" Double = \" << dnumber << endl;\n",
        "\tcout << \" Boolean = \" << bval << endl;\n",
        "\n",
        "  return 0;\n",
        "\n",
        "}"
      ],
      "metadata": {
        "id": "cTOlvmrgpbXC"
      },
      "execution_count": null,
      "outputs": []
    },
    {
      "cell_type": "markdown",
      "source": [
        "## Signed and Unsigned Integer"
      ],
      "metadata": {
        "id": "z4yBZRYHKzyi"
      }
    },
    {
      "cell_type": "code",
      "source": [
        "#include<iostream>\n",
        "\n",
        "using namespace std;\n",
        "\n",
        "int main(){\n",
        "\n",
        "\tsigned int integer_1,integer_11; // not requirement of sign\n",
        "\tunsigned int integer_2,integer_22; // on positive values\n",
        "\n",
        "       cout << \"Enter postive and negative value to check signed integer\" << endl;\n",
        "       cin >> integer_1;\n",
        "       cin >> integer_11;\n",
        "\n",
        "       cout << \"The values you enterd are\" << integer_1 << \" \" << integer_11 << endl;\n",
        "\n",
        "       cout << \"Enter positve and negative values to check unsigned integer \" << endl;\n",
        "       cin >> integer_2;\n",
        "       cin >> integer_22;\n",
        "\n",
        "       cout << \"The value your enterd are\" << integer_2 << \" \" << integer_22 << endl;\n",
        "\n",
        "       return 0;\n",
        "}"
      ],
      "metadata": {
        "id": "1uHhiXKjK4PC"
      },
      "execution_count": null,
      "outputs": []
    },
    {
      "cell_type": "markdown",
      "source": [
        "# Variables"
      ],
      "metadata": {
        "id": "N3wi3b8mSTLS"
      }
    },
    {
      "cell_type": "code",
      "source": [
        "#include <iostream>\n",
        "\n",
        "using namespace std;\n",
        "\n",
        "int main()\n",
        "\n",
        "{\n",
        "   string CharacterName = \"Jackson\";   /* This is to give string variable*/\n",
        "   int CharacterNo  ;                  /* This is to provide integer variable */\n",
        "   float CharacterNum ;                /* This is to provide real variable */\n",
        "\n",
        "\n",
        "   CharacterNo = 4;\n",
        "   CharacterNum = 34.4;\n",
        "\n",
        "\n",
        "   cout << \"The name is \" << CharacterName << endl;\n",
        "   cout << \"The no. given is \"<< CharacterNo << \" in integer\" << endl;\n",
        "   cout << \" The CharacterNum is \" << CharacterNum << \"in float\" << endl;\n",
        "\n",
        "   return 0 ;\n",
        "\n",
        "}\n",
        "\n",
        "/* ';' This sign is used to end line */\n",
        "/* '<<' to seperate things in a line */"
      ],
      "metadata": {
        "id": "hBOS30ErSYQz"
      },
      "execution_count": null,
      "outputs": []
    },
    {
      "cell_type": "markdown",
      "source": [
        "# Constant"
      ],
      "metadata": {
        "id": "xohEG65jGXUi"
      }
    },
    {
      "cell_type": "markdown",
      "source": [
        "## Constant double"
      ],
      "metadata": {
        "id": "LKIyQZFzGbrH"
      }
    },
    {
      "cell_type": "code",
      "source": [
        "#include<iostream>\n",
        "\n",
        "using namespace std;\n",
        "\n",
        "int main() {\n",
        "\n",
        "\tint i;\n",
        "\tconst double density = 25;\n",
        "\n",
        "\tcout << \"Enter the value of i\" << endl;\n",
        "\tcin >> i ;\n",
        "\tcout << \" The value you entered = \" << i << endl;\n",
        "\tcout << \"Enter the value of density\" << endl;\n",
        "//\tcin >> density ;\n",
        "\tcout << \"The density input\" << density << endl;\n",
        "\n",
        "return 0;\n",
        "\n",
        "}"
      ],
      "metadata": {
        "id": "aaXYK7nvGZNL"
      },
      "execution_count": null,
      "outputs": []
    },
    {
      "cell_type": "markdown",
      "source": [
        "# E power"
      ],
      "metadata": {
        "id": "COCOEIYuHUgm"
      }
    },
    {
      "cell_type": "code",
      "source": [
        "#include<iostream>\n",
        "\n",
        "using namespace std;\n",
        "\n",
        "int main() {\n",
        "\n",
        "\tconst double density = 25.0e-10;\n",
        "\t// e in the code reads 10\n",
        "\n",
        "\n",
        "\tcout << \"The density value =\" << density << endl;\n",
        "\n",
        "return 0;\n",
        "\n",
        "}"
      ],
      "metadata": {
        "id": "RnlA_TB_HXdE"
      },
      "execution_count": null,
      "outputs": []
    },
    {
      "cell_type": "markdown",
      "source": [
        "# Mathematical Expression"
      ],
      "metadata": {
        "id": "rtheLwCWSEpJ"
      }
    },
    {
      "cell_type": "markdown",
      "source": [
        "## cmath"
      ],
      "metadata": {
        "id": "4zFB-ClCSHiK"
      }
    },
    {
      "cell_type": "code",
      "source": [
        "#include<iostream>\n",
        "#include<cmath>\n",
        "\n",
        "using namespace std;\n",
        "\n",
        "int main () {\n",
        "\n",
        "\tdouble i,j,k;\n",
        "\n",
        "\tcout << \"Enter the value of i,j respectively\" << endl;\n",
        "\tcin >> i ;\n",
        "\tcin >> j;\n",
        "\n",
        "\tcout << \"exponential i^j \\n \";\n",
        "\tcout << pow(i,j);\n",
        "\n",
        "\tcout << \"\\n The value of pi \\n\";\n",
        "\tk=M_PI;\n",
        "\tcout << k << endl;\n",
        "\n",
        "\treturn 0;\n",
        "}"
      ],
      "metadata": {
        "id": "E6T_BD69SMEQ"
      },
      "execution_count": null,
      "outputs": []
    },
    {
      "cell_type": "markdown",
      "source": [
        "## Special Functions"
      ],
      "metadata": {
        "id": "iVxzJft6yZht"
      }
    },
    {
      "cell_type": "code",
      "source": [
        "#include<iostream>\n",
        "#include<cmath>\n",
        "\n",
        "using namespace std;\n",
        "\n",
        "int main(){\n",
        "\n",
        "\tdouble y,x ;\n",
        "\n",
        "\tcout << \"Enter the values of x and y \\n\";\n",
        "\tcin >> y;\n",
        "\tcin >> x;\n",
        "\n",
        "\tcout <<\"fmod(y,x) = \"<<  fmod(y,x) << endl;\n",
        "\tcout <<\"atan2(y,x)= \" << atan(y/x) << endl;\n",
        "\n",
        "\tcout << \"fabs(y/x)\" << fabs(y/x) << endl;\n",
        "\n",
        "\n",
        "\treturn 0;\n",
        "\n",
        "}"
      ],
      "metadata": {
        "id": "9iW1fcuGycNB"
      },
      "execution_count": null,
      "outputs": []
    },
    {
      "cell_type": "markdown",
      "source": [
        "# Functions"
      ],
      "metadata": {
        "id": "Yux5SgX_PIGK"
      }
    },
    {
      "cell_type": "markdown",
      "source": [
        "## length()"
      ],
      "metadata": {
        "id": "PD9vaOAcPR22"
      }
    },
    {
      "cell_type": "code",
      "source": [
        "#include <iostream>\n",
        "\n",
        "using namespace std;\n",
        "\n",
        "int main() {\n",
        "\n",
        "\n",
        "\tstring phrase = \" Theoretical and Computational Physics\";\n",
        "\n",
        "\tcout << phrase << endl;\n",
        "\tcout << phrase.length() << endl;\n",
        "\tcout << phrase[2] << endl;\n",
        "\n",
        "\treturn 0;\n",
        "\n",
        "}"
      ],
      "metadata": {
        "id": "Rq0IBoC9PLZq"
      },
      "execution_count": null,
      "outputs": []
    },
    {
      "cell_type": "markdown",
      "source": [
        "## Changing the string element"
      ],
      "metadata": {
        "id": "_rUHioqlPWeF"
      }
    },
    {
      "cell_type": "code",
      "source": [
        "#include <iostream>\n",
        "\n",
        "using namespace std;\n",
        "\n",
        "int main() {\n",
        "\n",
        "\tstring phrase;\n",
        "\n",
        "\tphrase = \"Central University Of Punjab\";\n",
        "\n",
        "\tcout << phrase << endl;\n",
        "\n",
        "\tphrase[0] = 'B';\n",
        "\n",
        "\tcout << phrase << endl;\n",
        "\n",
        "\tphrase[0] = 'C';\n",
        "\n",
        "\tcout << phrase.find(\"University\",0) << endl;\n",
        "\n",
        "\treturn 0;\n",
        "\n",
        "}\n",
        "\n",
        "\n",
        "\n"
      ],
      "metadata": {
        "id": "kWOWdz2fQJH0"
      },
      "execution_count": null,
      "outputs": []
    },
    {
      "cell_type": "markdown",
      "source": [
        "## Substr()"
      ],
      "metadata": {
        "id": "QyWShOmjPp67"
      }
    },
    {
      "cell_type": "code",
      "source": [
        "#include <iostream>\n",
        "\n",
        "using namespace std;\n",
        "\n",
        "int main() {\n",
        "\n",
        "\tstring phrase;\n",
        "\tstring subphrase;\n",
        "\n",
        "\tphrase = \"Central University of Punjab\";\n",
        "\tsubphrase = phrase.substr(0,10);\n",
        "\n",
        "\tcout << subphrase << endl;\n",
        "\n",
        "\treturn 0;\n",
        "\n",
        "}"
      ],
      "metadata": {
        "id": "UT8lGRAwPuzJ"
      },
      "execution_count": null,
      "outputs": []
    },
    {
      "cell_type": "markdown",
      "source": [
        "# User defined functions"
      ],
      "metadata": {
        "id": "Goc1KN0Fifjt"
      }
    },
    {
      "cell_type": "markdown",
      "source": [
        "## sum"
      ],
      "metadata": {
        "id": "rbYdnIHNilrv"
      }
    },
    {
      "cell_type": "code",
      "source": [
        "#include<iostream>\n",
        "\n",
        "using namespace std;\n",
        "\n",
        "int sum(int a,int b){\n",
        "\n",
        "\tint c;\n",
        "\tc = a + b;\n",
        "\n",
        "\treturn c;\n",
        "}\n",
        "int main(){\n",
        "\n",
        "       int a,b;\n",
        "       cout<< \"Enter two numbers\"<<endl;\n",
        "       cin>>a;\n",
        "       cin>>b;\n",
        "       cout<< \"The sum of these two numbers are \"<<sum(a,b)<<endl;\n",
        "\n",
        "       return 0;\n",
        "}"
      ],
      "metadata": {
        "id": "EwAZ2oWdim93"
      },
      "execution_count": null,
      "outputs": []
    },
    {
      "cell_type": "markdown",
      "source": [
        "## Exponential"
      ],
      "metadata": {
        "id": "m_JSBqwrio6d"
      }
    },
    {
      "cell_type": "code",
      "source": [
        "#include<iostream>\n",
        "\n",
        "using namespace std;\n",
        "\n",
        "double exp(double a,int b){\n",
        "\n",
        "\tdouble k=1;\n",
        "\n",
        "\tfor(int i=1;i<=b;i++){\n",
        "\n",
        "\t\tk=k*a;\n",
        "\t}\n",
        "\n",
        "\treturn k;\n",
        "}\n",
        "\n",
        "int main(){\n",
        "\n",
        "\tdouble a;\n",
        "\tint b;\n",
        "\n",
        "\tcout << \"Enter the value you need to calculate the exponential \\n\";\n",
        "\tcin >> a;\n",
        "\tcout << \"Enter the degree of exponential \\n\";\n",
        "\tcin >> b;\n",
        "\tcout << \"The exponential is  = \"<< exp(a,b)<< endl;\n",
        "\n",
        "\treturn 0;\n",
        "}"
      ],
      "metadata": {
        "id": "mXBuG88slmAt"
      },
      "execution_count": null,
      "outputs": []
    },
    {
      "cell_type": "markdown",
      "source": [
        "# If Statement"
      ],
      "metadata": {
        "id": "F9XZarhFr4-3"
      }
    },
    {
      "cell_type": "markdown",
      "source": [
        "## if"
      ],
      "metadata": {
        "id": "JHKyW6EIr71K"
      }
    },
    {
      "cell_type": "code",
      "source": [
        "#include<iostream>\n",
        "\n",
        "using namespace std;\n",
        "\n",
        "int main () {\n",
        "\n",
        "\tint num;\n",
        "\tcout << \"Enter the value\" << endl;\n",
        "        cin >> num ;\n",
        "\tif (num %2 == 0){\n",
        "\t\tcout << \"The given number is even \" << endl;\n",
        "\t}\n",
        "}\n",
        "\n"
      ],
      "metadata": {
        "id": "_IxkAZrjr9_U"
      },
      "execution_count": null,
      "outputs": []
    },
    {
      "cell_type": "markdown",
      "source": [
        "## if else"
      ],
      "metadata": {
        "id": "wcp1fBngohwy"
      }
    },
    {
      "cell_type": "code",
      "source": [
        "#include<iostream>\n",
        "\n",
        "using namespace std;\n",
        "\n",
        "int main(){\n",
        "\n",
        "\tint num;\n",
        "\tcout << \"Enter the value\";\n",
        "\tcin >> num;\n",
        "\n",
        "\tif(num%2 ==0){\n",
        "\tcout << \"The number is even \";\n",
        "\t}\n",
        "\telse{\n",
        "\tcout << \"The number is odd \";\n",
        "\t}\n",
        "\n",
        "\treturn 0;\n",
        "}"
      ],
      "metadata": {
        "id": "iVZiLwD7ojjx"
      },
      "execution_count": null,
      "outputs": []
    },
    {
      "cell_type": "markdown",
      "source": [
        "## if, else and else if"
      ],
      "metadata": {
        "id": "-DnIed97lS-O"
      }
    },
    {
      "cell_type": "code",
      "source": [
        "#include<iostream>\n",
        "\n",
        "using namespace std;\n",
        "\n",
        "int main() {\n",
        "\n",
        "\tint num1, num2;\n",
        "\tcout << \"Enter the first value\" << endl;\n",
        "\tcin >> num1;\n",
        "\tcout << \"Enter the second value\" << endl;\n",
        "\tcin >> num2;\n",
        "\n",
        "\tif ( num1 >= num2 && num2 % 2 == 0 ){\n",
        "\n",
        "\t\tcout << num1 << \" is greater than \" << num2 << \" and \" << num2 << \" is even \" << endl;;\n",
        "\t}\n",
        "\n",
        "\telse if ( num1 <= num2 ) {\n",
        "\n",
        "\t\tcout << num1 << \" is less than \" << num2 << endl;\n",
        "\n",
        "\t}\n",
        "\n",
        "\telse {\n",
        "\t\tcout << \" The condition is not listed \" << endl;\t}\n",
        "\n",
        "\n",
        "\treturn 0;\n",
        "\n",
        "}"
      ],
      "metadata": {
        "id": "KvxbjZFDlWUA"
      },
      "execution_count": null,
      "outputs": []
    },
    {
      "cell_type": "markdown",
      "source": [
        "# Square Root Calculation"
      ],
      "metadata": {
        "id": "HOi0Z8CqpdgZ"
      }
    },
    {
      "cell_type": "code",
      "source": [
        "#include<iostream>\n",
        "#include<cmath>\n",
        "\n",
        "using namespace std;\n",
        "\n",
        "int main() {\n",
        "\n",
        "\tcout << \" This program will caluculate the squarerooot of a number \" << endl;\n",
        "\tcout << \" Enter the value to caluculate the squareroot \" << endl;\n",
        "\n",
        "\tdouble num;\n",
        "\n",
        "\tcin >> num;\n",
        "\n",
        "\tnum = sqrt( num );\n",
        "\n",
        "\tcout << \" The square root is \" << num << endl;\n",
        "\n",
        "\treturn 0 ;\n",
        "\n",
        "}"
      ],
      "metadata": {
        "id": "LsUb5vMZpgRB"
      },
      "execution_count": null,
      "outputs": []
    },
    {
      "cell_type": "markdown",
      "source": [
        "## Quadratic Equation"
      ],
      "metadata": {
        "id": "J6jMJrNIMzXQ"
      }
    },
    {
      "cell_type": "code",
      "source": [
        "#include<iostream>\n",
        "#include<cmath>\n",
        "\n",
        "using namespace std;\n",
        "\n",
        "int main() {\n",
        "\n",
        "\tfloat a,b,c;\n",
        "\tfloat dis,rp,ip;\n",
        "\tfloat x1,x2;\n",
        "\n",
        "\tcout << \"This program Solves the root of a quadratic Equation\" << endl;\n",
        "\tcout << \"Equation of the form A*x**2 + B*x + C = 0 \" << endl;\n",
        "\tcout << \"Enter the coefficents A, B and C\" << endl;\n",
        "\tcout << \"A : \" ; cin >> a;\n",
        "\tcout << \"B : \" ; cin >> b;\n",
        "\tcout << \"C : \" ; cin >> c;\n",
        "\n",
        "\tcout << \"The Coefficents A,B and C are\"<< endl;\n",
        "\tcout << \"A = \"  << a << endl;\n",
        "\tcout << \"B = \"  << b << endl;\n",
        "\tcout << \"C = \"  << c << endl;\n",
        "\n",
        "\t// Calculation of Descriminant\n",
        "\tdis = pow(b,2)-(4*a*c);\n",
        "\n",
        "\tif (dis > 0){\n",
        "\tcout << \"The equation has two real roots\" << endl;\n",
        "\tx1= (((-b) + (sqrt(dis)))/(2*a));\n",
        "\tx2= (((-b) - (sqrt(dis)))/(2*a));\n",
        "\n",
        "\tcout << \"x1 = \" << x1 << endl;\n",
        "\tcout << \"x2 = \" << x2 << endl;\n",
        "\n",
        "\t}\n",
        "\n",
        "\telse if (dis < 0){\n",
        "\trp = (-b)/(2*a);\n",
        "\tip = sqrt(abs(dis))/(2*a);\n",
        "\n",
        "\tcout << \"The equation has complex roots\" << endl;\n",
        "\tcout << \"x1 = \" << rp << \" +i \" << ip << endl;\n",
        "\tcout << \"x2 = \" << rp << \" -i \" << ip << endl;\n",
        "\t}\n",
        "\n",
        "\telse {\n",
        "\n",
        "\tx1 = (-b)/(2*a);\n",
        "\tcout << \" The equation has two identical real roots\" << endl;\n",
        "\tcout << \" x1 = x2 = \"<< x1 << endl;\n",
        "\n",
        "\t}\n",
        "\treturn 0;\n",
        "}"
      ],
      "metadata": {
        "id": "ZnKbLYenM2oJ"
      },
      "execution_count": null,
      "outputs": []
    },
    {
      "cell_type": "markdown",
      "source": [
        "# Switch"
      ],
      "metadata": {
        "id": "p1e-d6ZvClQ3"
      }
    },
    {
      "cell_type": "markdown",
      "source": [
        "## Switch case with numbers"
      ],
      "metadata": {
        "id": "1XdCmxqHEAnP"
      }
    },
    {
      "cell_type": "code",
      "source": [
        "#include<iostream>\n",
        "\n",
        "using namespace std;\n",
        "\n",
        "int main() {\n",
        "\n",
        "\tint num;\n",
        "\tcout << \"Enter a number to check grade\"<< endl;\n",
        "\tcin >> num;\n",
        "\n",
        "\tswitch(num){\n",
        "\n",
        "\t\tcase 10: cout << \"It is 10\"; break;\n",
        "\t\tcase 20: cout << \"It is 20\"; break;\n",
        "\t\tcase 30: cout << \"It is 30\"; break;\n",
        "\t\tdefault: cout << \"Not 10,20,30\"; break;\n",
        "\t}\n",
        "\n",
        "\t}"
      ],
      "metadata": {
        "id": "nqVKaEsfCx7I"
      },
      "execution_count": null,
      "outputs": []
    },
    {
      "cell_type": "markdown",
      "source": [
        "# Loop"
      ],
      "metadata": {
        "id": "oo01AdqsGXU9"
      }
    },
    {
      "cell_type": "markdown",
      "source": [
        "## for"
      ],
      "metadata": {
        "id": "2Z41kYuZGZAq"
      }
    },
    {
      "cell_type": "code",
      "source": [
        "#include<iostream>\n",
        "\n",
        "using namespace std;\n",
        "\n",
        "int main(){\n",
        "\n",
        "        for(int i=1;i<=10;i++){\n",
        "\n",
        "                cout << i << \" \" << 2*i << endl;\n",
        "        }\n",
        "}"
      ],
      "metadata": {
        "id": "5q0N55kkGbqf"
      },
      "execution_count": null,
      "outputs": []
    },
    {
      "cell_type": "markdown",
      "source": [
        "## nested for loop"
      ],
      "metadata": {
        "id": "wM3QR9qAC5rg"
      }
    },
    {
      "cell_type": "code",
      "source": [
        "#include<iostream>\n",
        "\n",
        "using namespace std;\n",
        "\n",
        "int main(){\n",
        "\n",
        "\tfor(int i=1;i<=9;i++){\n",
        "\tfor(int j=1;j<=9;j++){\n",
        "\tcout << i<<\" \" << j << \"\\n\";\n",
        "\t}\n",
        "\t}\n",
        "\n",
        "\treturn 0;\n",
        "}"
      ],
      "metadata": {
        "id": "Hog_FbffC9Ep"
      },
      "execution_count": null,
      "outputs": []
    },
    {
      "cell_type": "markdown",
      "source": [
        "## Infinite Loop"
      ],
      "metadata": {
        "id": "kxI-PfrCW8sN"
      }
    },
    {
      "cell_type": "markdown",
      "source": [
        "### 1"
      ],
      "metadata": {
        "id": "85X4kXCCZxBC"
      }
    },
    {
      "cell_type": "code",
      "source": [
        "#include<iostream>\n",
        "\n",
        "using namespace std;\n",
        "\n",
        "int main() {\n",
        "\n",
        "\tint i;\n",
        "\ti=0;\n",
        "\n",
        "\tfor(;;){\n",
        "\tcout << i << \"\\n\";\n",
        "\ti=i+1;\n",
        "\n",
        "\t}\n",
        "\n",
        "\treturn 0;\n",
        "}"
      ],
      "metadata": {
        "id": "JjgpG0eIW_0H"
      },
      "execution_count": null,
      "outputs": []
    },
    {
      "cell_type": "markdown",
      "source": [
        "### 2"
      ],
      "metadata": {
        "id": "oNO1fx3NZ1Cg"
      }
    },
    {
      "cell_type": "code",
      "source": [
        "#include<iostream>\n",
        "\n",
        "using namespace std;\n",
        "\n",
        "int main() {\n",
        "\n",
        "\tint i;\n",
        "\tfor (;;i++){\n",
        "\n",
        "\tcout << \" i value =\" << i << endl;\n",
        "\n",
        "\t}\n",
        "\n",
        "\treturn 0;\n",
        "}"
      ],
      "metadata": {
        "id": "RDqGLfLhZ2m6"
      },
      "execution_count": null,
      "outputs": []
    },
    {
      "cell_type": "markdown",
      "source": [
        "3"
      ],
      "metadata": {
        "id": "rUU-hejGZ4K0"
      }
    },
    {
      "cell_type": "code",
      "source": [
        "#include<iostream>\n",
        "\n",
        "using namespace std;\n",
        "\n",
        "int main() {\n",
        "\n",
        "\tint i;\n",
        "\tfor (;;){\n",
        "\n",
        "\tcout << \" i value =\" << i << endl;\n",
        "\ti++;\n",
        "\n",
        "\t}\n",
        "\n",
        "\treturn 0;\n",
        "}"
      ],
      "metadata": {
        "id": "Qm-BHuejZ-B_"
      },
      "execution_count": null,
      "outputs": []
    },
    {
      "cell_type": "markdown",
      "source": [
        "### 4"
      ],
      "metadata": {
        "id": "OCtRxGs3aQ0K"
      }
    },
    {
      "cell_type": "code",
      "source": [
        "#include<iostream>\n",
        "\n",
        "using namespace std;\n",
        "\n",
        "int main() {\n",
        "\n",
        "\tfor (int i;;i++){\n",
        "\n",
        "\tcout << \" i value =\" << i << endl;\n",
        "\n",
        "\t}\n",
        "\n",
        "\treturn 0;\n",
        "}"
      ],
      "metadata": {
        "id": "3CuDQLNtaR6c"
      },
      "execution_count": null,
      "outputs": []
    },
    {
      "cell_type": "markdown",
      "source": [
        "## While Loop"
      ],
      "metadata": {
        "id": "IBoQN7wrjOxc"
      }
    },
    {
      "cell_type": "code",
      "source": [
        "#include<iostream>\n",
        "\n",
        "using namespace std;\n",
        "\n",
        "int main () {\n",
        "\n",
        "\tint i=1;\n",
        "\n",
        "\twhile(i<=20){\n",
        "\n",
        "\t\tcout << i << endl;\n",
        "\t\ti++;\n",
        "\n",
        "\t}\n",
        "\n",
        "\treturn 0;\n",
        "}"
      ],
      "metadata": {
        "id": "WodrTtyQjQzU"
      },
      "execution_count": null,
      "outputs": []
    },
    {
      "cell_type": "markdown",
      "source": [
        "## Nested While Loop"
      ],
      "metadata": {
        "id": "RdEHyMm_lNvt"
      }
    },
    {
      "cell_type": "code",
      "source": [
        "#include<iostream>\n",
        "\n",
        "using namespace std;\n",
        "\n",
        "int main(){\n",
        "\n",
        "\tint i=0;\n",
        "\n",
        "\twhile(i<=10){\n",
        "\n",
        "\t\tint j=0;\n",
        "\twhile(j<=10){\n",
        "\tcout << i + j << endl;\n",
        "\tj++;\n",
        "\t}\n",
        "\ti++;\n",
        "\t}\n",
        "\n",
        "\treturn 0;\n",
        "\n",
        "}"
      ],
      "metadata": {
        "id": "i_2fby70lQVK"
      },
      "execution_count": null,
      "outputs": []
    },
    {
      "cell_type": "markdown",
      "source": [
        "## Infinite While Loop"
      ],
      "metadata": {
        "id": "cEzy2OjB8Y0W"
      }
    },
    {
      "cell_type": "code",
      "source": [
        "#include<iostream>\n",
        "\n",
        "using namespace std;\n",
        "\n",
        "\n",
        "int main(){\n",
        "\n",
        "\tint i=0;\n",
        "\n",
        "\n",
        "\twhile(true){\n",
        "\n",
        "\n",
        "\t\tcout << \"i value = \"<< i << endl;\n",
        "\n",
        "\t\ti++;\n",
        "\t}\n",
        "\n",
        "\treturn 0;\n",
        "}"
      ],
      "metadata": {
        "id": "HyXVBlsF8bKq"
      },
      "execution_count": null,
      "outputs": []
    },
    {
      "cell_type": "markdown",
      "source": [
        "## Do While Loop\n"
      ],
      "metadata": {
        "id": "CyXZmnBvDo0w"
      }
    },
    {
      "cell_type": "code",
      "source": [
        "#include<iostream>\n",
        "\n",
        "using namespace std;\n",
        "\n",
        "int main(){\n",
        "\n",
        "\tint i=0;\n",
        "\n",
        "\tdo {\n",
        "\n",
        "\t\tcout << \"The i value = \" << i << endl;\n",
        "\n",
        "\t\ti++;\n",
        "\t}while(i<=10);\n",
        "\n",
        "\treturn 0;\n",
        "}"
      ],
      "metadata": {
        "id": "pmQQAg7CDub6"
      },
      "execution_count": null,
      "outputs": []
    },
    {
      "cell_type": "markdown",
      "source": [
        "# Decrement Loop"
      ],
      "metadata": {
        "id": "IT_KrqMv2cWe"
      }
    },
    {
      "cell_type": "markdown",
      "source": [
        "## For"
      ],
      "metadata": {
        "id": "gKb5rfQX2gV7"
      }
    },
    {
      "cell_type": "code",
      "source": [
        "#include<iostream>\n",
        "#include<cmath>\n",
        "\n",
        "using namespace std;\n",
        "\n",
        "int main(){\n",
        "\n",
        "\n",
        "\tfor(int i=10;i>=-20;i--){\n",
        "\n",
        "\t\tcout << \"i value = \" << i << endl;\n",
        "\n",
        "\t}\n",
        "\n",
        "\treturn 0;\n",
        "}"
      ],
      "metadata": {
        "id": "podxKzuo2kHn"
      },
      "execution_count": null,
      "outputs": []
    },
    {
      "cell_type": "markdown",
      "source": [
        "## while"
      ],
      "metadata": {
        "id": "TvTRBdkk2pBF"
      }
    },
    {
      "cell_type": "code",
      "source": [
        "#include<iostream>\n",
        "#include<cmath>\n",
        "\n",
        "using namespace std;\n",
        "\n",
        "int main(){\n",
        "\n",
        "\tint i=10;\n",
        "\twhile(i>=-20){\n",
        "\n",
        "\t\tcout << \"i value = \" << i << endl;\n",
        "\t\ti--;\n",
        "\t}\n",
        "\n",
        "\treturn 0;\n",
        "}"
      ],
      "metadata": {
        "id": "RCXKpwjA2qta"
      },
      "execution_count": null,
      "outputs": []
    },
    {
      "cell_type": "markdown",
      "source": [
        "# Continue , break and goto"
      ],
      "metadata": {
        "id": "reHTyV7C7_X-"
      }
    },
    {
      "cell_type": "markdown",
      "source": [
        "## Break"
      ],
      "metadata": {
        "id": "DTKydLJ58C1o"
      }
    },
    {
      "cell_type": "code",
      "source": [
        "#include<iostream>\n",
        "#include<cmath>\n",
        "\n",
        "using namespace std;\n",
        "\n",
        "int main() {\n",
        "\n",
        "\tfor(int i=1;i<=3;i++){\n",
        "\n",
        "\t\tfor (int j=1;j<=3;j++){\n",
        "\n",
        "\t\t\tif(i==j){\n",
        "\n",
        "\t\t\t\tbreak;\n",
        "\t\t\t}\n",
        "\n",
        "\t\t\tcout << i << j << endl;\n",
        "\t\t}\n",
        "\t}\n",
        "\n",
        "\treturn 0;\n",
        "}"
      ],
      "metadata": {
        "id": "lButBFzf8GOo"
      },
      "execution_count": null,
      "outputs": []
    },
    {
      "cell_type": "markdown",
      "source": [
        "## Continue"
      ],
      "metadata": {
        "id": "6UbP1mfW8K8E"
      }
    },
    {
      "cell_type": "code",
      "source": [
        "#include<iostream>\n",
        "#include<cmath>\n",
        "\n",
        "using namespace std;\n",
        "\n",
        "int main() {\n",
        "\n",
        "\tfor(int i=1;i<=3;i++){\n",
        "\n",
        "\t\tfor (int j=1;j<=3;j++){\n",
        "\n",
        "\t\t\tif(i==j){\n",
        "\n",
        "\t\t\t\tcontinue;\n",
        "\t\t\t}\n",
        "\n",
        "\t\t\tcout << i << j << endl;\n",
        "\t\t}\n",
        "\t}\n",
        "\n",
        "\treturn 0;\n",
        "}"
      ],
      "metadata": {
        "id": "tpdMhiGJ8MiZ"
      },
      "execution_count": null,
      "outputs": []
    },
    {
      "cell_type": "markdown",
      "source": [
        "## Go to"
      ],
      "metadata": {
        "id": "bL97eTUEpqwx"
      }
    },
    {
      "cell_type": "code",
      "source": [
        "#include<iostream>\n",
        "\n",
        "using namespace std;\n",
        "\n",
        "int main(){\n",
        "\n",
        "ineligible: cout<< \"you are ineligible to vote \\n\" ;\n",
        "\n",
        "first: cout << \"Enter your age \" << endl;\n",
        "\t   int age;\n",
        "\t   cin >> age;\n",
        "\n",
        "\t  if(age>=19){\n",
        "\n",
        "\t\t  cout << \"You are eligible to vote\" << endl;\n",
        "\t\t  goto first;\n",
        "\t  }\n",
        "\t  else{\n",
        "\t  goto ineligible;\n",
        "\t  }\n",
        "\n",
        "\t  return 0;\n",
        "}"
      ],
      "metadata": {
        "id": "Kw58TVB9pt71"
      },
      "execution_count": null,
      "outputs": []
    },
    {
      "cell_type": "markdown",
      "source": [
        "# ASCII Values"
      ],
      "metadata": {
        "id": "gmlsKDx3jSGz"
      }
    },
    {
      "cell_type": "markdown",
      "source": [
        "## int"
      ],
      "metadata": {
        "id": "-tyNV4DEp2ki"
      }
    },
    {
      "cell_type": "code",
      "source": [
        "#include<iostream>\n",
        "\n",
        "using namespace std;\n",
        "\n",
        "int main(int argc, char* argv[] ) {\n",
        "\n",
        "\tchar letter;\n",
        "\n",
        "\tcout << \"Enter the letter \" << endl;\n",
        "\tcin >> letter ;\n",
        "\n",
        "\tcout << \"ASCII Code of \" << letter << \" is \" << int(letter) << endl;\n",
        "\n",
        "\treturn 0;\n",
        "}"
      ],
      "metadata": {
        "id": "4iwW3944jU-B"
      },
      "execution_count": null,
      "outputs": []
    },
    {
      "cell_type": "markdown",
      "source": [
        "## string"
      ],
      "metadata": {
        "id": "lGZuLnsup0ul"
      }
    },
    {
      "cell_type": "code",
      "source": [
        "Use libray String"
      ],
      "metadata": {
        "id": "zUIAqsp3qBOE"
      },
      "execution_count": null,
      "outputs": []
    },
    {
      "cell_type": "code",
      "source": [
        "#include<iostream>\n",
        "#include<string>\n",
        "\n",
        "using namespace std;\n",
        "\n",
        "int main(){\n",
        "\n",
        "\tstring city;\n",
        "\n",
        "\tcout << \"Enter the name\" << endl;\n",
        "\tcin >> city;\n",
        "\tcout << \"The length of the string \" << city.length() << endl;\n",
        "\tcout << \"Third character \" << city[2] << endl;\n",
        "\tcout << \"output \" << city << endl;\n",
        "\n",
        "\treturn 0;\n",
        "}"
      ],
      "metadata": {
        "id": "_EMwHG06pK0D"
      },
      "execution_count": null,
      "outputs": []
    },
    {
      "cell_type": "markdown",
      "source": [
        "## Checking ASCII in string"
      ],
      "metadata": {
        "id": "NeypNlnfsA4z"
      }
    },
    {
      "cell_type": "code",
      "source": [
        "#include<iostream>\n",
        "#include<string>\n",
        "\n",
        "using namespace std;\n",
        "\n",
        "int main() {\n",
        "\n",
        "\tstring city;\n",
        "\n",
        "\tcout << \"Enter the name of the City\" << endl;\n",
        "\tcin >> city;\n",
        "\n",
        "\tcout << \"Enter the position of the element whose ascii code you want to determine\"<< endl;\n",
        "\tint i;\n",
        "\tcin >> i;\n",
        "\tcout << \"The ASCII Code is \" << int(city[i-1]) << endl;\n",
        "\n",
        "\tcout << \"Enter the character for ASCII Code \" << endl;\n",
        "\tchar a;\n",
        "\tcin >> a ;\n",
        "\n",
        "\tcout << \"ASCII Code of \" << a << \" \" << int(a) << endl;\n",
        "\n",
        "\treturn 0;\n",
        "}"
      ],
      "metadata": {
        "id": "uXE743cwr-yj"
      },
      "execution_count": null,
      "outputs": []
    },
    {
      "cell_type": "markdown",
      "source": [
        "# Boolean If"
      ],
      "metadata": {
        "id": "UhHEr63nyo9Q"
      }
    },
    {
      "cell_type": "code",
      "source": [
        "#include<iostream>\n",
        "\n",
        "using namespace std;\n",
        "\n",
        "int main() {\n",
        "\n",
        "\tbool flag;\n",
        "\tint i;\n",
        "\n",
        "\tcout << \"Enter a value less than 10\" << endl;\n",
        "\tcin >> i;\n",
        "\n",
        "if_1:if(i<10){\n",
        "\tflag=true;\n",
        "\t}\n",
        "else {\n",
        "\n",
        "\t\tflag=false;\n",
        "\t}\n",
        "\n",
        "if_2: if(flag){\n",
        "      cout << \"The value enterd is less than 10 /n\";\n",
        "      }\n",
        " else {\n",
        "\n",
        "\t      cout << \"The value entered is greater than or equal to 10\" << endl;\n",
        "      }\n",
        "\n",
        "      return 0;\n",
        "}"
      ],
      "metadata": {
        "id": "eJMa4JjHyrXt"
      },
      "execution_count": null,
      "outputs": []
    },
    {
      "cell_type": "markdown",
      "source": [
        "## not bool flag"
      ],
      "metadata": {
        "id": "UnOY-Bkz0O3D"
      }
    },
    {
      "cell_type": "code",
      "source": [
        "#include<iostream>\n",
        "\n",
        "using namespace std;\n",
        "\n",
        "int main() {\n",
        "\n",
        "\tbool flag=false;\n",
        "\n",
        "\tint i;\n",
        "\tcout << \"Enter the value of i\" << endl;\n",
        "\tcin >> i;\n",
        "\n",
        "\tif(!flag){\n",
        "\tcout << \"The value you entered is \" << i << endl;\n",
        "\t}\n",
        "\n",
        "\treturn 0;\n",
        "\n",
        "}"
      ],
      "metadata": {
        "id": "Hm_vDJzk0Q0W"
      },
      "execution_count": null,
      "outputs": []
    },
    {
      "cell_type": "markdown",
      "source": [
        "# Array"
      ],
      "metadata": {
        "id": "UWdCOtDy5irz"
      }
    },
    {
      "cell_type": "markdown",
      "source": [
        "## array 1"
      ],
      "metadata": {
        "id": "uvHgEP025kdT"
      }
    },
    {
      "cell_type": "code",
      "source": [
        "#include<iostream>\n",
        "#include<cmath>\n",
        "\n",
        "using namespace std;\n",
        "\n",
        "int main(){\n",
        "\n",
        "\tint array[10];\n",
        "\n",
        "\tfor(int i=1;i<11;i++){\n",
        "\n",
        "\t\tcout << \"Enter the values\" << endl;\n",
        "\t\tcin >> array[i];\n",
        "\t}\n",
        "\n",
        "\tcout << \"The values you entered are \" << endl;\n",
        "\n",
        "\tfor (int i=1;i<=10;i++)\n",
        "\t{\n",
        "\tcout << array[i] << endl;\n",
        "\t}\n",
        "\n",
        "\treturn 0;\n",
        "}"
      ],
      "metadata": {
        "id": "QD6vWmVK5l70"
      },
      "execution_count": null,
      "outputs": []
    },
    {
      "cell_type": "markdown",
      "source": [
        "# File Opening"
      ],
      "metadata": {
        "id": "mJZKuPqsYME3"
      }
    },
    {
      "cell_type": "markdown",
      "source": [
        "## File Open 1"
      ],
      "metadata": {
        "id": "vdUE8pnFYN7V"
      }
    },
    {
      "cell_type": "code",
      "source": [
        "#include<iostream>\n",
        "#include<fstream>\n",
        "#include<cassert>\n",
        "#include<cmath>\n",
        "\n",
        "using namespace std;\n",
        "\n",
        "int main(){\n",
        "\n",
        "\tofstream write_output(\"out1.txt\");\n",
        "\tassert(write_output.is_open());\n",
        "\n",
        "\tfor (int ji;ji<=25;ji++){\n",
        "\twrite_output << ji << \" \" << pow(ji,2) << \" \" << pow(ji,3) << endl;\n",
        "\t}\n",
        "\n",
        "\twrite_output.close();\n",
        "\n",
        "\treturn 0;\n",
        "}"
      ],
      "metadata": {
        "id": "Eq0x9P8yYQei"
      },
      "execution_count": null,
      "outputs": []
    },
    {
      "cell_type": "markdown",
      "source": [
        "## File Open 2"
      ],
      "metadata": {
        "id": "jAM9gUh8YdQ-"
      }
    },
    {
      "cell_type": "code",
      "source": [
        "#include<iostream>\n",
        "#include<fstream>\n",
        "#include<cassert>\n",
        "#include<cmath>\n",
        "\n",
        "using namespace std;\n",
        "\n",
        "int main(){\n",
        "\n",
        "\tofstream write_output(\"out2.txt\");\n",
        "\tassert (write_output.is_open());\n",
        "\n",
        "\tfor(int i=1;i<=30;i++){\n",
        "\n",
        "\t\twrite_output << \"out \"<< i <<\" \"<< pow(i,2) << endl;\n",
        "\n",
        "\t}\n",
        "\twrite_output.close();\n",
        "\n",
        "\treturn 0;\n",
        "}"
      ],
      "metadata": {
        "id": "aYGxHHQTYl1c"
      },
      "execution_count": null,
      "outputs": []
    },
    {
      "cell_type": "markdown",
      "source": [
        "## File Open 3"
      ],
      "metadata": {
        "id": "ackT-LmhYmlY"
      }
    },
    {
      "cell_type": "code",
      "source": [
        "#include<iostream>\n",
        "#include<fstream>\n",
        "#include<cassert>\n",
        "#include<cmath>\n",
        "\n",
        "using namespace std;\n",
        "\n",
        "int main(){\n",
        "\n",
        "\tofstream write_output(\"out.txt\");\n",
        "\tassert(write_output.is_open());\n",
        "\tfor (int i=1;i<=25;i++){\n",
        "\n",
        "\t\twrite_output << i << \" \" << pow(i,2) << endl;\n",
        "\t}\n",
        "\twrite_output.close();\n",
        "\n",
        "\treturn 0;\n",
        "\n",
        "}"
      ],
      "metadata": {
        "id": "w-xX2DVEYpaI"
      },
      "execution_count": null,
      "outputs": []
    },
    {
      "cell_type": "markdown",
      "source": [
        "## File open important"
      ],
      "metadata": {
        "id": "zMo28Jb3HhPe"
      }
    },
    {
      "cell_type": "code",
      "source": [
        "#include<iostream>\n",
        "#include<fstream>\n",
        "#include<cassert>\n",
        "#include<cmath>\n",
        "\n",
        "using namespace std;\n",
        "\n",
        "int main(){\n",
        "\n",
        "\n",
        "\n",
        "\tofstream write_out(\"out.txt\");\n",
        "\tassert (write_out.is_open());\n",
        "\t\tfor(int i=0;i<=20;i++){\n",
        "\t\twrite_out << i << endl;\n",
        "\t\t}\n",
        "\twrite_out.close();\n",
        "\n",
        "\treturn 0;\n",
        "}"
      ],
      "metadata": {
        "id": "eDi2880JHkbf"
      },
      "execution_count": null,
      "outputs": []
    },
    {
      "cell_type": "markdown",
      "source": [
        "## Opening Multiple Files"
      ],
      "metadata": {
        "id": "gwt7yuHSKIHe"
      }
    },
    {
      "cell_type": "code",
      "source": [
        "#include<iostream>\n",
        "#include<fstream>\n",
        "#include<cassert>\n",
        "#include<cmath>\n",
        "\n",
        "using namespace std;\n",
        "\n",
        "int main() {\n",
        "\n",
        "\tofstream input(\"data_out.txt\");\n",
        "\tofstream input_1(\"data_out1.txt\");\n",
        "\tassert(input.is_open());\n",
        "\tassert(input_1.is_open());\n",
        "\n",
        "\tint i=0,j=0;\n",
        "\n",
        "\tdo{\n",
        "\t\tinput << \"The value = \"<< i << endl;\n",
        "\t\ti++;\n",
        "\n",
        "\t}while(i<=50);\n",
        "\n",
        "\tdo{\n",
        "\n",
        "\t\tinput_1 << \"The squares are = \" << pow(j,2) << endl;\n",
        "\t        j++;\n",
        "\n",
        "\t}while(j<=50);\n",
        "\n",
        "\treturn 0;\n",
        "\n",
        "}"
      ],
      "metadata": {
        "id": "VOEZMAPEKKtA"
      },
      "execution_count": null,
      "outputs": []
    },
    {
      "cell_type": "markdown",
      "source": [
        "## File input by user"
      ],
      "metadata": {
        "id": "EfHCQoztxWHq"
      }
    },
    {
      "cell_type": "code",
      "source": [
        "#include<iostream>\n",
        "#include<fstream>\n",
        "#include<cassert>\n",
        "#include<cmath>\n",
        "\n",
        "using namespace std;\n",
        "\n",
        "int main(){\n",
        "\n",
        "\tcout << \"Enter the filename : \" ;\n",
        "        string filename;\n",
        "        cin >> filename;\n",
        "\n",
        "\tofstream out(filename);\n",
        "\tassert (out.is_open());\n",
        "\n",
        "\tfor(int i;i<=20;i++){\n",
        "\n",
        "\t\tout << \"Line \" << i << \" \" << pow(i,3) << endl;\n",
        "\t}\n",
        "\n",
        "\tout.close();\n",
        "\n",
        "\treturn 0;\n",
        "\n",
        "\n",
        "}"
      ],
      "metadata": {
        "id": "hyJypHlaxYgO"
      },
      "execution_count": null,
      "outputs": []
    },
    {
      "cell_type": "markdown",
      "source": [
        "# Append a file"
      ],
      "metadata": {
        "id": "Cd_p0_lbDWpK"
      }
    },
    {
      "cell_type": "markdown",
      "source": [
        "## Append 1"
      ],
      "metadata": {
        "id": "TegMfYZRDZTQ"
      }
    },
    {
      "cell_type": "code",
      "source": [
        "#include<iostream>\n",
        "#include<fstream>\n",
        "#include<cassert>\n",
        "#include<cmath>\n",
        "\n",
        "using namespace std;\n",
        "\n",
        "int main(){\n",
        "\n",
        "\tcout << \"Enter the filename : \" ;\n",
        "        string filename;\n",
        "        cin >> filename;\n",
        "\n",
        "\tstd::ofstream out(filename,std::ios::app);\n",
        "\tassert (out.is_open());\n",
        "\n",
        "\tfor(int i;i<=20;i++){\n",
        "\n",
        "\t\tout << \"Line \" << i << \" \" << pow(i,3) << endl;\n",
        "\t}\n",
        "\n",
        "\tout.close();\n",
        "\n",
        "\treturn 0;\n",
        "\n",
        "\n",
        "}"
      ],
      "metadata": {
        "id": "4ufJy1hFDbFi"
      },
      "execution_count": null,
      "outputs": []
    },
    {
      "cell_type": "markdown",
      "source": [
        "## Append 2 (Removing name std)"
      ],
      "metadata": {
        "id": "xfkmhaf1Dgsi"
      }
    },
    {
      "cell_type": "code",
      "source": [
        "#include<iostream>\n",
        "#include<fstream>\n",
        "#include<cassert>\n",
        "#include<cmath>\n",
        "\n",
        "using namespace std;\n",
        "\n",
        "int main(){\n",
        "\n",
        "\tcout << \"Enter the filename : \" ;\n",
        "        string filename;\n",
        "        cin >> filename;\n",
        "\n",
        "\tofstream out(filename,::ios::app);\n",
        "\tassert (out.is_open());\n",
        "\n",
        "\tfor(int i;i<=20;i++){\n",
        "\n",
        "\t\tout << \"Line \" << i << \" \" << pow(i,3) << endl;\n",
        "\t}\n",
        "\n",
        "\tout.close();\n",
        "\n",
        "\treturn 0;\n",
        "\n",
        "\n",
        "}"
      ],
      "metadata": {
        "id": "NKwXZpPND396"
      },
      "execution_count": null,
      "outputs": []
    },
    {
      "cell_type": "markdown",
      "source": [
        "## Append 3"
      ],
      "metadata": {
        "id": "1SDtXaEe-NRE"
      }
    },
    {
      "cell_type": "code",
      "source": [
        "#include<iostream>\n",
        "#include<fstream>\n",
        "#include<cassert>\n",
        "#include<cmath>\n",
        "\n",
        "using namespace std;\n",
        "\n",
        "int main(){\n",
        "\n",
        "\tcout <<\"This program is going to append the given file \\n\" ;\n",
        "\n",
        "\tcout << \"Enter the name file to append \\n\" ;\n",
        "\tstring filename;\n",
        "\tcin >> filename;\n",
        "\n",
        "\tofstream out(filename,::ios::app);\n",
        "\tassert(out.is_open());\n",
        "\n",
        "\tcout << \"Give the total number of lines \\n\" ;\n",
        "\tint j;\n",
        "\tcin >> j;\n",
        "\n",
        "\tout.precision(5);\n",
        "\tfor (int i=1;i<=j;i++){\n",
        "\n",
        "\t\tout << i << \" \" << pow(i,2) << endl;\n",
        "\t}\n",
        "\n",
        "\tout.close();\n",
        "\n",
        "\treturn 0;\n",
        "}"
      ],
      "metadata": {
        "id": "3Djzd1R3-RED"
      },
      "execution_count": null,
      "outputs": []
    },
    {
      "cell_type": "markdown",
      "source": [
        "# Precision"
      ],
      "metadata": {
        "id": "fQo0fwQPH9OL"
      }
    },
    {
      "cell_type": "code",
      "source": [
        "#include<iostream>\n",
        "#include<fstream>\n",
        "\n",
        "using namespace std;\n",
        "\n",
        "int main(){\n",
        "\n",
        "\tcout << \"Enter the name of file : \";\n",
        "\tstring filename;\n",
        "\tcin >> filename;\n",
        "\n",
        "\tofstream out(filename);\n",
        "\n",
        "\tdouble x1,x2,x3;\n",
        "\n",
        "\tcout << \"Enter the double value of \" << endl;\n",
        "\tcout << \"x1 : \";\n",
        "\tcin >> x1;\n",
        "\tcout << \"x2 : \";\n",
        "\tcin >> x2;\n",
        "\tcout << \"x3 : \";\n",
        "\tcin >> x3;\n",
        "\n",
        "\tout.precision(3);\n",
        "\tout << \"x1 : \" << x1 << endl;\n",
        "\tout.precision(5);\n",
        "\tout << \"x2 : \" << x2 << endl;\n",
        "\tout.precision(7);\n",
        "\tout << \"x3 : \"<< x3 << endl;\n",
        "\n",
        "\tout.close();\n",
        "\n",
        "\treturn 0;\n",
        "}"
      ],
      "metadata": {
        "id": "xQZuNH6tH_HL"
      },
      "execution_count": null,
      "outputs": []
    },
    {
      "cell_type": "markdown",
      "source": [
        "# File Reading"
      ],
      "metadata": {
        "id": "eMgAlb4ZIoio"
      }
    },
    {
      "cell_type": "markdown",
      "source": [
        "## File reading 1"
      ],
      "metadata": {
        "id": "AC-q7i5DIrCm"
      }
    },
    {
      "cell_type": "markdown",
      "source": [
        "Beware of std::"
      ],
      "metadata": {
        "id": "V5nPgkUMIwrE"
      }
    },
    {
      "cell_type": "code",
      "source": [
        "#include <cassert>\n",
        "#include <iostream>\n",
        "#include <fstream>\n",
        "\n",
        "int main()\n",
        "{\n",
        "double x[20],y[20];\n",
        "\n",
        "std::cout << \"Enter the name of file \\n\";\n",
        "std::string filename;\n",
        "std::cin >> filename;\n",
        "\n",
        "std::ifstream read_file(filename);\n",
        "assert(read_file.is_open());\n",
        "for (int i=0; i<20; i++)\n",
        "{\n",
        "read_file >> x[i] >> y[i];\n",
        "\n",
        "std::cout << x[i]<<\" \" << y[i] << std::endl;\n",
        "}\n",
        "read_file.close();\n",
        "\n",
        "\n",
        "return 0;\n",
        "}"
      ],
      "metadata": {
        "id": "25J0uQl2Is1W"
      },
      "execution_count": null,
      "outputs": []
    },
    {
      "cell_type": "markdown",
      "source": [
        "# Prime Number"
      ],
      "metadata": {
        "id": "KNosZ6xIWWzH"
      }
    },
    {
      "cell_type": "markdown",
      "source": [
        "## Primen Number 1"
      ],
      "metadata": {
        "id": "aK7NqACgLqoR"
      }
    },
    {
      "cell_type": "code",
      "source": [
        "#include<iostream>\n",
        "#include<cmath>\n",
        "\n",
        "using namespace std;\n",
        "\n",
        "int main(){\n",
        "\n",
        "\tint a;\n",
        "\n",
        "\tcout << \"Enter the value\" << endl;\n",
        "\tcin >> a ;\n",
        "\n",
        "loop_1: for (int i=1;i<=a;i++){\n",
        "\n",
        "\n",
        "\n",
        "\t\tfor(int j=1;j<=i;j++){\n",
        "\n",
        "\t\t\tif(i%j==0 && (j==1 || j==i)){\n",
        "\t\t\t\tif(j==i){\n",
        "\t\tcout << i << endl;\n",
        "\t\t\t\t}\n",
        "\t\t\t}\n",
        "\t\t\telse if(i%j==0 &&(j!=i || j!=1)){\n",
        "\t\t\tbreak;\n",
        "\t\t\t}\n",
        "\t\t}\n",
        "\n",
        "\t}\n",
        "\treturn 0;\n",
        "\n",
        "}"
      ],
      "metadata": {
        "id": "S0LChWOqWYpf"
      },
      "execution_count": null,
      "outputs": []
    },
    {
      "cell_type": "markdown",
      "source": [
        "## Prime Number 2"
      ],
      "metadata": {
        "id": "YMDX77KF740d"
      }
    },
    {
      "cell_type": "code",
      "source": [
        "#include<iostream>\n",
        "#include<cmath>\n",
        "\n",
        "using namespace std;\n",
        "\n",
        "bool p_num(int a){\n",
        "\n",
        "\tbool c;\n",
        "\n",
        "\tfor(int i=1;i<=a;i++){\n",
        "\n",
        "\t\tif(a==1){\n",
        "\n",
        "\t\t\tc = true;\n",
        "\t\t\tbreak;\n",
        "\t\t}\n",
        "\n",
        "\n",
        "\t\telse if(a%i==0 and i==a){\n",
        "\n",
        "\t\t\tc = true;\n",
        "\t\t}\n",
        "\t\telse if(a%i==0 and (i!=a and i!=1)){\n",
        "\n",
        "\t\t\tc = false;\n",
        "\t\t\tbreak;\n",
        "\t\t}\n",
        "\t}\n",
        "\n",
        "\treturn c;\n",
        "\n",
        "}\n",
        "\n",
        "int main(){\n",
        "\n",
        "\tint a;\n",
        "\n",
        "\tcout << \"Enter the number you want to check for prime \"<< endl;\n",
        "\tcin >> a ;\n",
        "\n",
        "\tif(p_num(a)){\n",
        "\n",
        "\t\tcout << a << \" is a prime number\"<< endl;\n",
        "\t}\n",
        "\telse{\n",
        "\n",
        "\t\tcout << a << \" is not a prime number \"<< endl;\n",
        "\t}\n",
        "\n",
        "\treturn 0;\n",
        "\n",
        "\n",
        "}"
      ],
      "metadata": {
        "id": "HlD-pYmy76_W"
      },
      "execution_count": null,
      "outputs": []
    }
  ]
}