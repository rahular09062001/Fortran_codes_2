{
  "nbformat": 4,
  "nbformat_minor": 0,
  "metadata": {
    "colab": {
      "provenance": [],
      "include_colab_link": true
    },
    "kernelspec": {
      "name": "python3",
      "display_name": "Python 3"
    },
    "language_info": {
      "name": "python"
    }
  },
  "cells": [
    {
      "cell_type": "markdown",
      "metadata": {
        "id": "view-in-github",
        "colab_type": "text"
      },
      "source": [
        "<a href=\"https://colab.research.google.com/github/rahular09062001/Fortran_codes_2/blob/main/Fortran_1.ipynb\" target=\"_parent\"><img src=\"https://colab.research.google.com/assets/colab-badge.svg\" alt=\"Open In Colab\"/></a>"
      ]
    },
    {
      "cell_type": "markdown",
      "source": [
        "![image.png](https://1.bp.blogspot.com/-6risnkwFq5s/YMeqOL_gFyI/AAAAAAAAA60/jGVnRff8R3Ulndaxsyv12FeiNdjF42ZBwCLcBGAsYHQ/w0/0001-2869515876_20210615_003927_0000.png)"
      ],
      "metadata": {
        "id": "CSIoL---NGXY"
      }
    },
    {
      "cell_type": "markdown",
      "source": [
        "#Roots  of a quadratic  equation\n",
        "\n",
        "\n",
        "\n"
      ],
      "metadata": {
        "id": "bjum-JdtC1nZ"
      }
    },
    {
      "cell_type": "code",
      "source": [
        "program root_quadratic\n",
        "! Design and write a program to solve for the roots of a quadratic equation, regardless of type\n",
        "    implicit none\n",
        "    real::a,b,c,x1,x2,x3,x4\n",
        "    print*,\"The quadratic equation is in the form  (ax^2 + bx + c) = 0\"\n",
        "    print*,\"Enter the coeffiencts a, b, c respectively\"\n",
        "    read(*,*)a,b,c\n",
        "    x1=(-b)/2*a\n",
        "    x2=b**2-(4*a*c)\n",
        "    x3=sqrt(x2)/(2*a)\n",
        "    x4=sqrt(-x2)/(2*a)\n",
        "     re_al: if (x2>=0) then\n",
        "        print*,\"The  roots of the quadratic equation  are real and roots are\"\n",
        "        print*,x1 + x3\n",
        "        print*,x1 - x3\n",
        "    else\n",
        "        print*,\"The  roots are complex  and are given by\"\n",
        "        print*,x1,\"+   i\",x4\n",
        "        print*,x1,\"-   i\",x4\n",
        "    end if re_al\n",
        "end  program root_quadratic"
      ],
      "metadata": {
        "id": "TvizZNtQDFpg"
      },
      "execution_count": null,
      "outputs": []
    },
    {
      "cell_type": "markdown",
      "source": [
        "# Character Manipulation"
      ],
      "metadata": {
        "id": "IuYLh4WOEnmx"
      }
    },
    {
      "cell_type": "code",
      "source": [
        "# Character Manipulation\n",
        "\n",
        "program rio\n",
        "    implicit none\n",
        "    character(len=15)::a,b,c\n",
        "    print*,'enter the value of a'\n",
        "    read(*,*)a\n",
        "    b=a(1:10)  ! Slice text from 1 to 10 in a and assign them to b\n",
        "    c(3:8)=b(1:5)   ! Slice text from 1 to 5 in b and assign them to c from 3 to 8\n",
        "    print*,a\n",
        "    print*,b\n",
        "    print*,c\n",
        "end program rio"
      ],
      "metadata": {
        "id": "jxW7VyzeEsfC"
      },
      "execution_count": null,
      "outputs": []
    },
    {
      "cell_type": "markdown",
      "source": [
        "concatenation Operator(//)"
      ],
      "metadata": {
        "id": "Q-yfA5atNdfU"
      }
    },
    {
      "cell_type": "code",
      "source": [
        "program rio\n",
        "    implicit none\n",
        "\n",
        "    character(len=15)::a,b,c\n",
        "\n",
        "    print*,'enter the value of a'\n",
        "    read(*,*)a\n",
        "    b=a(1:10)\n",
        "    c(1:10)=b(1:3)//a(3:5)//b(1:4)\n",
        "\n",
        "! To add the strings (//) is used\n",
        "\n",
        "    print*,a\n",
        "    print*,b\n",
        "    print*,c\n",
        "\n",
        "end program rio"
      ],
      "metadata": {
        "id": "j_bRFIGWNjMx"
      },
      "execution_count": null,
      "outputs": []
    },
    {
      "cell_type": "markdown",
      "source": [
        "# Loop"
      ],
      "metadata": {
        "id": "_QeOeL1YA5d5"
      }
    },
    {
      "cell_type": "markdown",
      "source": [
        "## while loop"
      ],
      "metadata": {
        "id": "H_tQGLvoA8Bt"
      }
    },
    {
      "cell_type": "code",
      "source": [
        "program w_loop\n",
        "\n",
        "        implicit none\n",
        "\n",
        "        integer :: i\n",
        "\n",
        "        print*,\"Enter the value of of i \"\n",
        "        read(*,*) i\n",
        "\n",
        "        do while (i<=100)\n",
        "\n",
        "        print*,\"The value of i =\",i+2\n",
        "\n",
        "        end do\n",
        "\n",
        "        end program w_loop"
      ],
      "metadata": {
        "id": "ZrBayfQ_A9-G"
      },
      "execution_count": null,
      "outputs": []
    },
    {
      "cell_type": "markdown",
      "source": [
        "# I/O operations"
      ],
      "metadata": {
        "id": "nfy-OeAdAZBR"
      }
    },
    {
      "cell_type": "markdown",
      "source": [
        "## Opening and writing in the file"
      ],
      "metadata": {
        "id": "TrNoJWZJCjDn"
      }
    },
    {
      "cell_type": "code",
      "source": [
        "program rio\n",
        "\n",
        "    implicit none\n",
        "\n",
        "    integer :: i, stat\n",
        "    character (len=20) :: filename\n",
        "    character (len=80) :: msg\n",
        "\n",
        "    write(*,*)\"Enter the filename\"\n",
        "    read(*,*) filename\n",
        "\n",
        "    open(3, file=filename, status=\"new\", action=\"readwrite\", iostat=stat, iomsg=msg)\n",
        "\n",
        "    if (stat==0) then\n",
        "\n",
        "        print*,\"file is  open\"\n",
        "\n",
        "        do i=1,20\n",
        "\n",
        "            write(3,*) i**2/2.0\n",
        "\n",
        "        end do\n",
        "\n",
        "    else\n",
        "\n",
        "        print*,\"Error :\",trim(msg)\n",
        "\n",
        "    end if\n",
        "\n",
        "end program rio"
      ],
      "metadata": {
        "id": "9w3SfRC8CuS6"
      },
      "execution_count": null,
      "outputs": []
    },
    {
      "cell_type": "markdown",
      "source": [
        "# Array\n"
      ],
      "metadata": {
        "id": "rLkNK8h1ck6h"
      }
    },
    {
      "cell_type": "markdown",
      "source": [
        "## Initialization of array"
      ],
      "metadata": {
        "id": "BGC-DNjGjJPd"
      }
    },
    {
      "cell_type": "markdown",
      "source": [
        "###1"
      ],
      "metadata": {
        "id": "pnBAT-ENBK-7"
      }
    },
    {
      "cell_type": "code",
      "execution_count": null,
      "metadata": {
        "id": "WWErJHyNCz3n"
      },
      "outputs": [],
      "source": [
        "# initialization of Array\n",
        "\n",
        "\n",
        "program rio\n",
        "    implicit none\n",
        "    real,parameter::k=3.5\n",
        "    integer,dimension(5)::i\n",
        "    integer::j\n",
        "\n",
        "\n",
        "    i=[6,7,8,9,10]\n",
        "\n",
        "    !# Initialization of array\n",
        "    !# We can use (/  /) instead of [   ]\n",
        "    !# i(1)=6,i(2)=7,....,i()\n",
        "\n",
        "    print*,k\n",
        "\n",
        "    do j=1,5\n",
        "        print*,i(j)\n",
        "    end do\n",
        "\n",
        "end program rio"
      ]
    },
    {
      "cell_type": "markdown",
      "source": [
        "### 2"
      ],
      "metadata": {
        "id": "16lpHGOJBNxh"
      }
    },
    {
      "cell_type": "code",
      "source": [
        "!# In this program the intialized value is 1\n",
        "\n",
        "program rio\n",
        "      implicit none\n",
        "      integer::i\n",
        "      real,dimension(25)::value=1\n",
        "\n",
        "      do i=1,25\n",
        "      print*,value(i)\n",
        "\n",
        "      end do\n",
        "\n",
        "      end program rio\n"
      ],
      "metadata": {
        "id": "ka7Y_Ad4e_NG"
      },
      "execution_count": null,
      "outputs": []
    },
    {
      "cell_type": "markdown",
      "source": [
        "###3"
      ],
      "metadata": {
        "id": "EHnnjthRjO1T"
      }
    },
    {
      "cell_type": "code",
      "source": [
        "# Array 2\n",
        "\n",
        "program rio\n",
        "    implicit none\n",
        "    real,dimension(5)::i=[1.,2.,3.,4.,5.]\n",
        "    integer::j\n",
        "\n",
        "    do j=1,5\n",
        "        print*,i(j)\n",
        "    end do\n",
        "\n",
        "end program rio"
      ],
      "metadata": {
        "id": "t0FvfJ3MjBAl"
      },
      "execution_count": null,
      "outputs": []
    },
    {
      "cell_type": "markdown",
      "source": [
        "## do loop to initialize array\n",
        "\n"
      ],
      "metadata": {
        "id": "egq2ov9Lnt-n"
      }
    },
    {
      "cell_type": "code",
      "source": [
        "program rio\n",
        "\n",
        "    implicit none\n",
        "    integer::k\n",
        "    integer,dimension(25)::i = [(k, k=1,25)]\n",
        "    !# To initialize array for large numbers we can use do loop at declaration statement\n",
        "    real,dimension(25)::j=[(real(k), k=1,25)]\n",
        "\n",
        "\n",
        "    do k=1,25\n",
        "        write(*,100)i(k),j(k)\n",
        "        100 format(i2.2,2x,f5.2)\n",
        "    end do\n",
        "\n",
        "end program rio"
      ],
      "metadata": {
        "id": "FyiIgxddncIb"
      },
      "execution_count": null,
      "outputs": []
    },
    {
      "cell_type": "markdown",
      "source": [
        "## different loops to intialize array"
      ],
      "metadata": {
        "id": "mh_p7e_ydnio"
      }
    },
    {
      "cell_type": "markdown",
      "source": [
        "###1"
      ],
      "metadata": {
        "id": "_ZbE5WqwB0_Q"
      }
    },
    {
      "cell_type": "code",
      "source": [
        "# Program 1\n",
        "\n",
        "program rio\n",
        "      implicit none\n",
        "      integer::i\n",
        "      real,dimension(25)::value=[(real(i**2),i=1,10),(real(i),i=1,15)]\n",
        "\n",
        "      !# Here multiple loops is used to intialize the array 'value'\n",
        "      !# from 1 to 10 the value is i**2\n",
        "      !# form 11 to 25 the value is i\n",
        "\n",
        "\n",
        "      do i=1,25\n",
        "      print*,value(i)\n",
        "\n",
        "      end do\n",
        "\n",
        "      end program rio"
      ],
      "metadata": {
        "id": "P5Iho_4KeOcL"
      },
      "execution_count": null,
      "outputs": []
    },
    {
      "cell_type": "markdown",
      "source": [
        "###2"
      ],
      "metadata": {
        "id": "TpNvI9oxB5x2"
      }
    },
    {
      "cell_type": "code",
      "source": [
        "# Program 2\n",
        "\n",
        "program rio\n",
        "    implicit none\n",
        "    integer::i\n",
        "    real,dimension(20)::value=[(real(i),i=1,10),(real(i**2),i=1,5),(log(real(i)),i=1,5)]\n",
        "\n",
        "!# Use '=' between the variable name and loop : variable = []\n",
        "\n",
        "\n",
        "    do i=1,20\n",
        "        print*,value(i)\n",
        "    end do\n",
        "\n",
        "end program rio"
      ],
      "metadata": {
        "id": "VybCJaxW54KA"
      },
      "execution_count": null,
      "outputs": []
    },
    {
      "cell_type": "markdown",
      "source": [
        "## Implied do loop"
      ],
      "metadata": {
        "id": "nsAE-YXcRcD1"
      }
    },
    {
      "cell_type": "code",
      "source": [
        "program rio\n",
        "    implicit none\n",
        "\n",
        "    integer::i\n",
        "    integer,parameter::size=20\n",
        "    real,dimension(size)::value,square,cube\n",
        "\n",
        "    value=[(real(i),i=1,size)]\n",
        "\n",
        "    loop_1:do i=1,size\n",
        "\n",
        "        square(i)=value(i)**2\n",
        "        cube(i)=value(i)**3\n",
        "\n",
        "    end do loop_1\n",
        "\n",
        "    write(*,100)\n",
        "    100 format(20x,\"Table of contents\",/,&\n",
        "    &2(4x,\"value\",2x,\" square \",2x,\"  cube  \"))\n",
        "    write(*,101)(value(i),square(i),cube(i),i=1,size)\n",
        "    101 format(2(4x,f5.2,2x,f8.2,2x,f8.2))\n",
        "\n",
        "end program rio\n"
      ],
      "metadata": {
        "id": "AhbDIhOCRhVe"
      },
      "execution_count": null,
      "outputs": []
    },
    {
      "cell_type": "markdown",
      "source": [
        "## Nested implied do loop\n"
      ],
      "metadata": {
        "id": "zY10C1Mkpixv"
      }
    },
    {
      "cell_type": "markdown",
      "source": [
        "###1"
      ],
      "metadata": {
        "id": "8lzdloMvCFEO"
      }
    },
    {
      "cell_type": "code",
      "source": [
        "program rio\n",
        "    implicit none\n",
        "\n",
        "    integer::i,j\n",
        "\n",
        "    write(*,100)((i,j,j=1,3),i=1,2)\n",
        "    100  format((i5,2x,i5,2x))\n",
        "\n",
        "end program rio"
      ],
      "metadata": {
        "id": "RI4sQSQPpovM"
      },
      "execution_count": null,
      "outputs": []
    },
    {
      "cell_type": "markdown",
      "source": [
        "###2"
      ],
      "metadata": {
        "id": "qLBzV13FCGx9"
      }
    },
    {
      "cell_type": "code",
      "source": [
        "program rio\n",
        "    implicit none\n",
        "\n",
        "    integer::i,j,k\n",
        "\n",
        "    write(*,100)(((k,i,j,j=1,3),i=1,2),k=1,4)\n",
        "    100  format((i5,2x,i5,2x,i5,2x))\n",
        "\n",
        "end program rio"
      ],
      "metadata": {
        "id": "BMmLsD-QqX8H"
      },
      "execution_count": null,
      "outputs": []
    },
    {
      "cell_type": "markdown",
      "source": [
        "###3"
      ],
      "metadata": {
        "id": "r5b1P5IqCJ4O"
      }
    },
    {
      "cell_type": "code",
      "source": [
        "program rio\n",
        "    implicit none\n",
        "\n",
        "    integer::i,j,k\n",
        "\n",
        "    write(*,100)(((k,i,j,j=1,4),i=1,2),k=1,4)\n",
        "    100  format(2(i5,2x,i5,2x,i5,2x))\n",
        "\n",
        "end program rio"
      ],
      "metadata": {
        "id": "K0PNL12rqlAG"
      },
      "execution_count": null,
      "outputs": []
    },
    {
      "cell_type": "markdown",
      "source": [
        "### 4: print as matrix"
      ],
      "metadata": {
        "id": "2i8TofqaWgfT"
      }
    },
    {
      "cell_type": "code",
      "source": [
        "program rio\n",
        "\n",
        "      implicit none\n",
        "\n",
        "      integer, parameter:: size=10\n",
        "      integer :: i\n",
        "      integer, dimension(size):: a=[(i,i=1,size)]\n",
        "\n",
        "      write(*,100)a\n",
        "      100 format(I2,2x,I2)\n",
        "\n",
        "      end program rio\n"
      ],
      "metadata": {
        "id": "Cojl2UN-Wpcl"
      },
      "execution_count": null,
      "outputs": []
    },
    {
      "cell_type": "markdown",
      "source": [
        "## Sorting"
      ],
      "metadata": {
        "id": "FFZhreRhtOx0"
      }
    },
    {
      "cell_type": "code",
      "source": [
        "program rio\n",
        "    implicit none\n",
        "\n",
        "    integer,parameter::size=10\n",
        "    integer,dimension(size)::a\n",
        "    character(len=20)::filename\n",
        "    character(len=80)::msg\n",
        "    integer::status,nval=0\n",
        "    integer::i,j\n",
        "    integer::ipointer,temp\n",
        "\n",
        "    print*,\"Enter the value of file you need to read\"\n",
        "    read(*,*)filename\n",
        "\n",
        "\n",
        "    open(3,file=filename,status=\"old\",action=\"read\",iostat=status,iomsg=msg)\n",
        "\n",
        "    process: if (status==0)then\n",
        "\n",
        "    read_loop:do\n",
        "        nval=nval+1\n",
        "        read(3,*,iostat=status)a(nval)\n",
        "        if(status/=0)exit\n",
        "    end do read_loop\n",
        "\n",
        "    sort_out: do i=1,nval-1\n",
        "     ipointer=i\n",
        "     sort_in: do j=i+1,nval\n",
        "     check:if(a(j)<a(ipointer))then\n",
        "        ipointer=j\n",
        "     end if check\n",
        "\n",
        "    end do sort_in\n",
        "\n",
        "    check1:if(i/=ipointer)then\n",
        "        temp=a(i)\n",
        "        a(i)=a(ipointer)\n",
        "        a(ipointer)=temp\n",
        "    end if check1\n",
        "\n",
        "    end do sort_out\n",
        " else\n",
        "    print*,\"error\"\n",
        " end if process\n",
        "\n",
        " output:do i=1,size\n",
        "    print*,a(i)\n",
        " end do output\n",
        "end program rio"
      ],
      "metadata": {
        "id": "OD0hGWSBtTb4"
      },
      "execution_count": null,
      "outputs": []
    },
    {
      "cell_type": "markdown",
      "source": [
        "# Subroutine\n"
      ],
      "metadata": {
        "id": "qRZmBR2neQPq"
      }
    },
    {
      "cell_type": "markdown",
      "source": [
        "##program 1"
      ],
      "metadata": {
        "id": "-yIQ2jskIHOX"
      }
    },
    {
      "cell_type": "code",
      "source": [
        "program test_hyp\n",
        "      implicit none\n",
        "\n",
        "      real::s1\n",
        "      real::s2\n",
        "      real::hyp1\n",
        "\n",
        "      print*,\"Enter the value of first side\"\n",
        "      read(*,*)s1\n",
        "\n",
        "      print*,\"Enter the value of second side\"\n",
        "      read(*,*)s2\n",
        "\n",
        "      call hypotinuse (s1,s2,hyp1)\n",
        "\n",
        "      write(*,*)\"The value of hypotinuse is =\",hyp1\n",
        "\n",
        "      end program test_hyp\n",
        "~"
      ],
      "metadata": {
        "id": "k8ebp8FmHrDt"
      },
      "execution_count": null,
      "outputs": []
    },
    {
      "cell_type": "code",
      "source": [
        "subroutine hypotinuse (side1,side2,hyp)\n",
        "      implicit none\n",
        "\n",
        "      real,intent(in)::side1\n",
        "      real,intent(in)::side2\n",
        "      real,intent(out)::hyp\n",
        "\n",
        "      ! Local variables\n",
        "\n",
        "      real::temp\n",
        "\n",
        "      temp=side1**2+side2**2\n",
        "\n",
        "      hyp=sqrt(temp)\n",
        "\n",
        "      end subroutine hypotinuse\n",
        "~"
      ],
      "metadata": {
        "id": "Xm4DZg5cIK85"
      },
      "execution_count": null,
      "outputs": []
    },
    {
      "cell_type": "markdown",
      "source": [
        "##Program 2 : Initializing an array using subroutine"
      ],
      "metadata": {
        "id": "Dq3xOT5QVXxK"
      }
    },
    {
      "cell_type": "code",
      "source": [
        "program rio\n",
        "\n",
        "      implicit none\n",
        "      integer::i\n",
        "      real,dimension(-5:5)::val_1,val_2\n",
        "\n",
        "      call subcal_s1 (val_1,val_2,i)\n",
        "\n",
        "      do i=-5,5\n",
        "\n",
        "      print*,val_1(i),val_2(i)\n",
        "\n",
        "\n",
        "      end do\n",
        "\n",
        "      end program rio\n",
        "\n"
      ],
      "metadata": {
        "id": "WDs-uu3xVkUd"
      },
      "execution_count": null,
      "outputs": []
    },
    {
      "cell_type": "code",
      "source": [
        "subroutine subcal_s1 (v1,v2,i1)\n",
        "\n",
        "      implicit none\n",
        "\n",
        "      real,dimension(-5:5),intent(out)::v1\n",
        "      real,dimension(-5:5),intent(out)::v2\n",
        "      integer,intent(out)::i1\n",
        "\n",
        "      do i1=-5,5\n",
        "      v1(i1)=i1\n",
        "      v2(i1)=i1**2\n",
        "      end do\n",
        "\n",
        "      end subroutine subcal_s1\n"
      ],
      "metadata": {
        "id": "KzZp12fTVr7Z"
      },
      "execution_count": null,
      "outputs": []
    },
    {
      "cell_type": "markdown",
      "source": [
        "##Program 3 : Subroutine and array"
      ],
      "metadata": {
        "id": "QMAO5iUD5n3u"
      }
    },
    {
      "cell_type": "code",
      "source": [
        "program rio\n",
        "    implicit none\n",
        "\n",
        "    integer::i\n",
        "    real,dimension(5)::a,b\n",
        "\n",
        "    call bound_s1 (a,b,i) ! Instead of passing the whole array you can pass just the intial box and can print the whole array of boxes\n",
        "    ! try: call bound_s1(a(1),b(2),1)\n",
        "\n",
        "\n",
        "\n",
        "    loop_1: do i=1,5\n",
        "\n",
        "        write(*,100)i,a(i)\n",
        "        100 format(\"a(\",I2,\")=\",f4.1)\n",
        "        write(*,101)i,b(i)\n",
        "        101 format(\"b(\",I2,\")=\",f4.1)\n",
        "\n",
        "    end do loop_1\n",
        "\n",
        "end program rio"
      ],
      "metadata": {
        "id": "iPaF7pah5q0j"
      },
      "execution_count": null,
      "outputs": []
    },
    {
      "cell_type": "code",
      "source": [
        "subroutine bound_s1(val_1,val_2,val_3)\n",
        "implicit none\n",
        "\n",
        "real,dimension(5),intent(out)::val_1\n",
        "real,dimension(5),intent(out)::val_2\n",
        "integer,intent(out)::val_3\n",
        "\n",
        "val_1=[(real(val_3),val_3=1,5)]\n",
        "val_2=[((real(val_3)**2),val_3=1,5)]\n",
        "\n",
        "return\n",
        "\n",
        "end subroutine bound_s1\n"
      ],
      "metadata": {
        "id": "D6O4mQvl5uVr"
      },
      "execution_count": null,
      "outputs": []
    },
    {
      "cell_type": "markdown",
      "source": [
        "##Program 4 : Array using subroutine (to find large value from input values)"
      ],
      "metadata": {
        "id": "lRddUEY5kwJD"
      }
    },
    {
      "cell_type": "code",
      "source": [
        "program rio\n",
        "    implicit none\n",
        "    integer,parameter::size = 20\n",
        "    integer,dimension(size)::terms\n",
        "    integer::i,Plarge_pointer,end_val\n",
        "\n",
        "    print*,\"Enter the value of no. of terms\"\n",
        "    read(*,*)end_val\n",
        "\n",
        "    checker_1: if (end_val<=size)then\n",
        "        call collect_values (terms,i,Plarge_pointer,end_val,size)\n",
        "\n",
        "        large_val: do i=1,end_val\n",
        "        print*,\"The term number \",i,\" is\", terms(i)\n",
        "\n",
        "        end do large_val\n",
        "\n",
        "    else\n",
        "        print*,\"Error the dimension is out of limit \"\n",
        "        print*,\"Enter a value less than or equal to 20\"\n",
        "    end if checker_1\n",
        "\n",
        "    print*,\"==========\",Plarge_pointer,\"==============\"\n",
        "\n",
        "end program rio"
      ],
      "metadata": {
        "id": "LhXpCjYbk8i-"
      },
      "execution_count": null,
      "outputs": []
    },
    {
      "cell_type": "code",
      "source": [
        "subroutine collect_values(Sterms,Sj,large_pointer,end_val,s_size)\n",
        "    implicit none\n",
        "\n",
        "    integer,intent(in)::s_size\n",
        "    integer,dimension(s_size),intent(out)::Sterms\n",
        "    integer,intent(out)::Sj\n",
        "    integer,intent(in)::end_val\n",
        "\n",
        "\n",
        "    integer,intent(out)::large_pointer\n",
        "\n",
        "\n",
        "    write(*,104)\"Enter the vlaue of terms no. 01\"\n",
        "    104 format(a)\n",
        "    read(*,*)large_pointer\n",
        "    Sterms(1)=large_pointer\n",
        "\n",
        "    do Sj=2,end_val\n",
        "\n",
        "        Write(*,103)Sj\n",
        "        103 format(\"Enter the value of terms no. \",I2.2)\n",
        "        read(*,*)Sterms(Sj)\n",
        "\n",
        "        checkerloop_1: if((Sterms(Sj))>large_pointer)then\n",
        "\n",
        "            large_pointer=Sterms(Sj)\n",
        "\n",
        "        else\n",
        "            large_pointer=large_pointer\n",
        "\n",
        "        end if checkerloop_1\n",
        "\n",
        "\n",
        "    end do\n",
        "\n",
        "end subroutine collect_values\n",
        "\n"
      ],
      "metadata": {
        "id": "BURCXsy9lI03"
      },
      "execution_count": null,
      "outputs": []
    },
    {
      "cell_type": "markdown",
      "source": [
        "## Upper Case"
      ],
      "metadata": {
        "id": "N0qfGwhRlPq6"
      }
    },
    {
      "cell_type": "code",
      "source": [
        "program rio\n",
        "\n",
        "    implicit none\n",
        "\n",
        "    character(len=30)::word\n",
        "    integer::i\n",
        "\n",
        "    print*,\"Enter the word\"\n",
        "    read(*,*)word\n",
        "\n",
        "    i=len_trim(word)\n",
        "\n",
        "    call u_case(word,i)\n",
        "\n",
        "    end program rio\n"
      ],
      "metadata": {
        "id": "g0jrvpqklbRQ"
      },
      "execution_count": null,
      "outputs": []
    },
    {
      "cell_type": "code",
      "source": [
        "subroutine u_case(s_word,s_i)\n",
        "\n",
        "    implicit none\n",
        "\n",
        "    character(len=30),intent(inout)::s_word\n",
        "    integer,intent(in)::s_i\n",
        "\n",
        "    integer::s_j\n",
        "    character,dimension(s_i)::box\n",
        "    character::w\n",
        "    integer::i\n",
        "\n",
        "    print_loop:do s_j=1,s_i\n",
        "\n",
        "    box(s_j)=s_word(s_j:s_j)\n",
        "\n",
        "\n",
        "    end do print_loop\n",
        "\n",
        "\n",
        "    loop_2: do s_j=1,s_i\n",
        "\n",
        "    i=iachar(s_word(s_j:s_j))\n",
        "    w=s_word(s_j:s_j)\n",
        "    first:if(i>=65.and.i<=90)then\n",
        "        print*,w,\"  -  Capital letter\"\n",
        "\n",
        "    else if (i>96.and.i<123)then first\n",
        "        print*,w,\"  -  Small letter\"\n",
        "        w=achar(i-32)\n",
        "        s_word(s_j:s_j)=w\n",
        "    end if first\n",
        "\n",
        "\n",
        "\n",
        "    end do loop_2\n",
        "\n",
        "    print*,s_word\n",
        "    return\n",
        "\n",
        "    end subroutine u_case\n",
        "\n"
      ],
      "metadata": {
        "id": "5aPqRfYNlX2v"
      },
      "execution_count": null,
      "outputs": []
    },
    {
      "cell_type": "markdown",
      "source": [
        "# Collatz Conjecture"
      ],
      "metadata": {
        "id": "fsaACH5lj0Js"
      }
    },
    {
      "cell_type": "code",
      "source": [
        "program rio\n",
        "    implicit none\n",
        "\n",
        "    real::k,k1\n",
        "    integer::n_val\n",
        "\n",
        "    n_val=0\n",
        "\n",
        "    print*,\"Enter the value of integer\"\n",
        "    read(*,*)k\n",
        "\n",
        "    loop_1:do\n",
        "        n_val= n_val + 1\n",
        "        k1=(k/2.0)\n",
        "\n",
        "        if_stat_1: if (mod(int(k),2)==1)then\n",
        "\n",
        "            k=(3*k)+1\n",
        "\n",
        "        else\n",
        "            k=k1\n",
        "        end if if_stat_1\n",
        "\n",
        "        if(int(k)==1)exit\n",
        "    end do loop_1\n",
        "\n",
        "    write(*,100)\"The value of k is\",int(k)\n",
        "    write(*,100)\"The number of steps is :\",n_val\n",
        "    100 format(a,2x,i3.3)\n",
        "\n",
        "end program rio"
      ],
      "metadata": {
        "id": "71a4azzyj5hA"
      },
      "execution_count": null,
      "outputs": []
    },
    {
      "cell_type": "markdown",
      "source": [
        "# Module"
      ],
      "metadata": {
        "id": "r7h6DzbN4Rpy"
      }
    },
    {
      "cell_type": "markdown",
      "source": [
        "How to compile modules\n",
        "\n",
        "```\n",
        "gfortran -c module1.f95 module2.f95 mainprogram.f95\n",
        "gfortran module1.o module2.o mainprogram.o\n",
        "./a.out\n",
        "\n",
        "```\n",
        "\n",
        "\n",
        "\n"
      ],
      "metadata": {
        "id": "Zd4ap4VH6EXM"
      }
    },
    {
      "cell_type": "markdown",
      "source": [
        "## Module 1"
      ],
      "metadata": {
        "id": "VnZehg5rnZjx"
      }
    },
    {
      "cell_type": "markdown",
      "source": [
        "Main program"
      ],
      "metadata": {
        "id": "CPhs45yF4zVI"
      }
    },
    {
      "cell_type": "code",
      "source": [
        "program rio\n",
        "\n",
        "    use p2m1\n",
        "    implicit none\n",
        "\n",
        "    print*,\"Enter the value of a\"\n",
        "    read(*,*)a\n",
        "    print*,\"Enter the value of b\"\n",
        "    read(*,*)b\n",
        "\n",
        "    call p2s1()\n",
        "\n",
        "    call p2s2()\n",
        "\n",
        "end program rio\n"
      ],
      "metadata": {
        "id": "1ZgkCYJH4hWK"
      },
      "execution_count": null,
      "outputs": []
    },
    {
      "cell_type": "markdown",
      "source": [
        "Module"
      ],
      "metadata": {
        "id": "cmy1N5YH42oB"
      }
    },
    {
      "cell_type": "code",
      "source": [
        "module p2m1\n",
        "\n",
        "    implicit none\n",
        "    save\n",
        "\n",
        "    integer::a,b\n",
        "\n",
        "    contains\n",
        "\n",
        "    subroutine p2s1()\n",
        "\n",
        "        write(*,100)a\n",
        "        100 format(\"The value of a is\",i2)\n",
        "        write(*,101)b\n",
        "        101 format(\"The value of b is\",i2)\n",
        "\n",
        "        return\n",
        "\n",
        "    end subroutine p2s1\n",
        "\n",
        "    subroutine p2s2()\n",
        "\n",
        "        print*,\"====================================\"\n",
        "\n",
        "        write(*,100)a*b\n",
        "        100 format(\"The  product of a and b is \",i2)\n",
        "\n",
        "        return\n",
        "\n",
        "    end subroutine p2s2\n",
        "\n",
        "end module p2m1"
      ],
      "metadata": {
        "id": "1Wz7V3Ht4rRV"
      },
      "execution_count": null,
      "outputs": []
    },
    {
      "cell_type": "markdown",
      "source": [
        "## Module 2 (function is included)"
      ],
      "metadata": {
        "id": "3Ic9Oyyemfkf"
      }
    },
    {
      "cell_type": "markdown",
      "source": [
        "Main program"
      ],
      "metadata": {
        "id": "cLcjr04JmtxP"
      }
    },
    {
      "cell_type": "code",
      "source": [
        "program rio\n",
        "\n",
        "      use p1m1\n",
        "      implicit none\n",
        "\n",
        "\n",
        "      print*,\"Enter the value of first no. \"\n",
        "      read(*,*)a\n",
        "      print*,\"Enter the value of second no. \"\n",
        "      read(*,*)b\n",
        "\n",
        "      print*,\"       Choose the operation       \"\n",
        "      print*,\"==================================\"\n",
        "      print*,\"1         :          Addition     \"\n",
        "      print*,\"2         :          Substraction \"\n",
        "      print*,\"3         :          Product      \"\n",
        "      print*,\"4         :          Division     \"\n",
        "      print*,\"==================================\"\n",
        "      read(*,*)i\n",
        "\n",
        "      select case(i)\n",
        "\n",
        "      case (1)\n",
        "              call p1m1s1()\n",
        "      case (2)\n",
        "              call p1m1s2()\n",
        "      case (3)\n",
        "              call p1m1s3()\n",
        "      case (4)\n",
        "              call p1m1s4()\n",
        "      case default\n",
        "              print*,\"ERROR\"\n",
        "      end select\n",
        "\n",
        "\n",
        "\n",
        "      end program rio\n",
        "\n",
        "\n"
      ],
      "metadata": {
        "id": "PlWvTMPgmpqL"
      },
      "execution_count": null,
      "outputs": []
    },
    {
      "cell_type": "markdown",
      "source": [
        "1st module"
      ],
      "metadata": {
        "id": "jn9AELKomwYL"
      }
    },
    {
      "cell_type": "code",
      "source": [
        "module p1m1\n",
        "\n",
        "      implicit none\n",
        "      save\n",
        "\n",
        "      integer::a,b,i\n",
        "      real::c,d\n",
        "\n",
        "      contains\n",
        "\n",
        "              !=================================================================\n",
        "\n",
        "              subroutine p1m1s1()\n",
        "\n",
        "                      implicit none\n",
        "\n",
        "                      write(*,100)\"The sum of numbers\",a+b\n",
        "                      100 format(A30,x,I4)\n",
        "\n",
        "                      return\n",
        "\n",
        "                      end subroutine p1m1s1\n",
        "\n",
        "\n",
        "              !================================================================\n",
        "\n",
        "              subroutine p1m1s2()\n",
        "\n",
        "                      implicit none\n",
        "\n",
        "                      write(*,100)\"The difference is\",a-b\n",
        "                      100 format(A30,x,I4)\n",
        "\n",
        "                      return\n",
        "\n",
        "              end subroutine p1m1s2\n",
        "\n",
        "              !================================================================\n",
        "\n",
        "              subroutine p1m1s3()\n",
        "\n",
        "                      implicit none\n",
        "\n",
        "                      write(*,100)\"The product is\",a*b\n",
        "                      100 format(A30,x,I4)\n",
        "\n",
        "                      return\n",
        " end subroutine p1m1s3\n",
        "\n",
        "              !================================================================\n",
        "\n",
        "            real function rdiv(j,k)\n",
        "\n",
        "                   implicit none\n",
        "                   integer,intent(in)::j\n",
        "                   integer,intent(in)::k\n",
        "\n",
        "                  rdiv=(real(j))/(real(k))\n",
        "\n",
        "\n",
        "\n",
        "            end function rdiv\n",
        "\n",
        "              !===============================================================\n",
        "\n",
        "              subroutine p1m1s4()\n",
        "\n",
        "                      implicit none\n",
        "\n",
        "                      write(*,100)\"The division is \",rdiv(a,b)\n",
        "                      100 format(A30,x,f4.1)\n",
        "\n",
        "                      return\n",
        "\n",
        "              end subroutine p1m1s4\n",
        "\n",
        "\n",
        "\n",
        "\n",
        "      end module p1m1\n",
        "\n",
        "\n",
        "\n",
        "\n",
        "\n"
      ],
      "metadata": {
        "id": "gQfiaNRPmzGK"
      },
      "execution_count": null,
      "outputs": []
    },
    {
      "cell_type": "markdown",
      "source": [
        "## Module 3 (sorting file)"
      ],
      "metadata": {
        "id": "b6OKgcffoX1T"
      }
    },
    {
      "cell_type": "markdown",
      "source": [
        "Main program"
      ],
      "metadata": {
        "id": "SKEyszaxrILu"
      }
    },
    {
      "cell_type": "code",
      "source": [
        "program rio\n",
        "\n",
        "      use sorting_file\n",
        "      implicit none\n",
        "\n",
        "      call read_file()\n",
        "\n",
        "      call data_sorting()\n",
        "\n",
        "      end program rio\n"
      ],
      "metadata": {
        "id": "JCl-BTrvrANT"
      },
      "execution_count": null,
      "outputs": []
    },
    {
      "cell_type": "markdown",
      "source": [
        "Module"
      ],
      "metadata": {
        "id": "o7LjByhvrLlg"
      }
    },
    {
      "cell_type": "code",
      "source": [
        "module sorting_file\n",
        "\n",
        "      implicit none\n",
        "      save\n",
        "\n",
        "      integer::dime\n",
        "      integer::stat,stat_1\n",
        "      character(len=20)::file_name\n",
        "      character(len=80)::msg,msg_1\n",
        "\n",
        "\n",
        "      contains\n",
        "\n",
        "              subroutine read_file()\n",
        "\n",
        "\n",
        "                      real::k\n",
        "\n",
        "                      print*,\"Enter the file name\"\n",
        "                      read(*,*)file_name\n",
        "\n",
        "                      dime=0\n",
        "\n",
        "                      open(3,file=file_name,status=\"old\",action=\"read\",&\n",
        "                    iostat=stat,iomsg=msg)\n",
        "\n",
        "\n",
        "           if(stat==0)then\n",
        "\n",
        "                   do\n",
        "\n",
        "                   read(3,*,iostat=stat)k\n",
        "                   if(stat/=0)exit\n",
        "                   dime=dime+1\n",
        "\n",
        "                   end do\n",
        "\n",
        "                   print*,\"The value of dimension\",dime\n",
        "\n",
        "           else\n",
        "                   print*,\"Error  :\",trim(msg)\n",
        "\n",
        "           end if\n",
        "\n",
        "\n",
        "\n",
        "           end subroutine read_file\n",
        "! ...........................................................................................\n",
        "\n",
        "        subroutine data_sorting()\n",
        "\n",
        "             real,dimension(dime)::a\n",
        "             real::temp\n",
        "             integer::i=0\n",
        "             integer::ipointer,k,j\n",
        "\n",
        "\n",
        "            open(4,file=file_name,status=\"old\",action=\"read\",&\n",
        "                   iostat=stat_1,iomsg=msg_1)\n",
        "\n",
        "           first_if: if(stat_1==0)then\n",
        "\n",
        "                   loop_1: do\n",
        "\n",
        "\n",
        "                   i=i+1\n",
        "                   read(4,*,iostat=stat_1)a(i)\n",
        "                   if (stat_1/=0)exit\n",
        "                   print*,a(i)\n",
        "\n",
        "                   end do loop_1\n",
        "\n",
        "                   print*,\"======================================\"\n",
        "                   print*,\"End of reading file\"\n",
        "\n",
        "\n",
        "\n",
        "                   outer:do k=1,dime-1\n",
        "\n",
        "                   ipointer=k\n",
        "\n",
        "                   inner:do j=k+1,dime\n",
        "\n",
        "                   if(a(j)<a(ipointer))then\n",
        "                           ipointer=j\n",
        "                   end if\n",
        "\n",
        "\n",
        "                   end do inner\n",
        "\n",
        "                   second_if:if(ipointer/=i)then\n",
        "                           temp=a(k)\n",
        "                           a(k)=a(ipointer)\n",
        "                           a(ipointer)=temp\n",
        "\n",
        "                   end if second_if\n",
        "                   end do outer\n",
        "\n",
        "                   Print*,\"====================================\"\n",
        "                   print*,\"Sorted data\"\n",
        "\n",
        "                   print_array:do k=1,dime\n",
        "\n",
        "                   print*,a(k)\n",
        "\n",
        "                   end do print_array\n",
        "\n",
        "           else first_if\n",
        "\n",
        "                   print*,\"Error  : \",trim(msg)\n",
        "\n",
        "           end if first_if\n",
        "\n",
        "        end subroutine data_sorting\n",
        "     ! ..................................................................................\n",
        "\n",
        "        end module sorting_file\n"
      ],
      "metadata": {
        "id": "R0urKih6qR6g"
      },
      "execution_count": null,
      "outputs": []
    },
    {
      "cell_type": "markdown",
      "source": [
        "# Multi-dimensional Array"
      ],
      "metadata": {
        "id": "5ibHPpKLWyMI"
      }
    },
    {
      "cell_type": "markdown",
      "source": [
        "### Symmetric matrix\n"
      ],
      "metadata": {
        "id": "pdeEqD5zcFqE"
      }
    },
    {
      "cell_type": "code",
      "source": [
        "\n",
        "\n",
        "program rio\n",
        "\n",
        "      implicit none\n",
        "\n",
        "      integer :: i, j\n",
        "      integer,dimension(10,10)::arry\n",
        "\n",
        "      loop_i:do i=1,10\n",
        "\n",
        "      loop_j:do j=1,10\n",
        "\n",
        "      arry(i,j)=(i**2)+(j**2)\n",
        "\n",
        "      end do loop_j\n",
        "      end do loop_i\n",
        "\n",
        "              write(*,100)arry\n",
        "              100 format(10(I3,2x))\n",
        "\n",
        "              end program rio"
      ],
      "metadata": {
        "id": "RyxTV_iHW21e"
      },
      "execution_count": null,
      "outputs": []
    },
    {
      "cell_type": "markdown",
      "source": [
        "## Reading file"
      ],
      "metadata": {
        "id": "2JeOWADwVzt8"
      }
    },
    {
      "cell_type": "markdown",
      "source": [
        "Main Program"
      ],
      "metadata": {
        "id": "FLtk1_igWJId"
      }
    },
    {
      "cell_type": "code",
      "source": [
        "program rio\n",
        "\n",
        "      implicit none\n",
        "\n",
        "      integer,parameter :: multi = 3\n",
        "      integer,dimension(3,4)::val\n",
        "      character(len=20) :: filename\n",
        "      character(len=80) :: msg\n",
        "      integer :: stat\n",
        "      integer :: i,j\n",
        "\n",
        "\n",
        "      print*,\"Enter the file name\"\n",
        "      read(*,*)filename\n",
        "\n",
        "      open(3, file = filename, status = \"old\", action = \"read\", &\n",
        "              iostat = stat, iomsg = msg)\n",
        "\n",
        "      if ( stat == 0 ) then\n",
        "\n",
        "              print*,\"file \",trim(filename),\" opened\"\n",
        "\n",
        "              loop_1 : do i = 1, 3\n",
        "\n",
        "              loop_2 : do j = 1, 4\n",
        "\n",
        "              read( 3,*,iostat = stat ) val(i,j)\n",
        "\n",
        "              end do loop_2\n",
        "\n",
        "              end do loop_1\n",
        "\n",
        "      else\n",
        "              print*,\"ERROR\",trim(msg)\n",
        "\n",
        "      end if\n",
        "\n",
        "      write(*,199) val\n",
        "      199 format(3(I2,x))\n",
        "\n",
        "\n",
        "\n",
        "      end program rio\n",
        "\n"
      ],
      "metadata": {
        "id": "q70z4s7DV5xZ"
      },
      "execution_count": null,
      "outputs": []
    },
    {
      "cell_type": "markdown",
      "source": [
        "DATA File"
      ],
      "metadata": {
        "id": "egmpvfmXV7mE"
      }
    },
    {
      "cell_type": "code",
      "source": [
        "1\n",
        "1\n",
        "1\n",
        "1\n",
        "2\n",
        "2\n",
        "2\n",
        "2\n",
        "3\n",
        "3\n",
        "3\n",
        "3"
      ],
      "metadata": {
        "id": "wPQvPaA2V_16"
      },
      "execution_count": null,
      "outputs": []
    },
    {
      "cell_type": "markdown",
      "source": [
        "## Where"
      ],
      "metadata": {
        "id": "Q3IPdKYJk_wZ"
      }
    },
    {
      "cell_type": "code",
      "source": [
        "program rio\n",
        "\n",
        "      implicit none\n",
        "\n",
        "      integer :: i\n",
        "      real,dimension(20) :: val=[(-i,i=1,10),(i,i=11,20)]\n",
        "      real,dimension(20) :: logval\n",
        "\n",
        "      logval=log(val)\n",
        "\n",
        "      write(*,100)(val(i),logval(i),i=1,20)\n",
        "      100 format(\"The log value of \",f6.2,\" is \",f6.4)\n",
        "\n",
        "      print*,\"========================================\"\n",
        "\n",
        "      where(val<0)\n",
        "              logval=0.00099\n",
        "      end where\n",
        "      write(*,101)(val(i),logval(i),i=1,20)\n",
        "      101 format(\"The log value of \",f6.2,\" is \",f6.4)\n",
        "\n",
        "      end program rio\n"
      ],
      "metadata": {
        "id": "IdoIYaHPlClG"
      },
      "execution_count": null,
      "outputs": []
    },
    {
      "cell_type": "markdown",
      "source": [
        "## Forall"
      ],
      "metadata": {
        "id": "qQd_o3AeGoCH"
      }
    },
    {
      "cell_type": "markdown",
      "source": [
        "Change the value of a(i,i) elements only"
      ],
      "metadata": {
        "id": "Zzc5-c_-JzxV"
      }
    },
    {
      "cell_type": "code",
      "source": [
        "program rio\n",
        "\n",
        "    implicit none\n",
        "\n",
        "    integer :: i\n",
        "    integer,parameter :: s1=5,s2=5\n",
        "    integer,dimension(s1,s2) :: box\n",
        "\n",
        "    box=1\n",
        "    first: forall(i=1:5)\n",
        "    box(i,i)=5\n",
        "    end forall first\n",
        "\n",
        "\n",
        "\n",
        "    write(*,100)box\n",
        "    100 format(5(I3.0,2x))\n",
        "\n",
        "end program rio"
      ],
      "metadata": {
        "id": "5Jn6PpF2J5By"
      },
      "execution_count": null,
      "outputs": []
    },
    {
      "cell_type": "markdown",
      "source": [
        "change the value of a(i,j) elements"
      ],
      "metadata": {
        "id": "CfT58pZ4NJad"
      }
    },
    {
      "cell_type": "code",
      "source": [
        "program rio\n",
        "\n",
        "    implicit none\n",
        "\n",
        "    integer :: i,j\n",
        "    integer,parameter :: s1=6,s2=5\n",
        "    integer,dimension(s1,s2) :: box\n",
        "\n",
        "    box=1\n",
        "    first: forall(i=1:5,j=1:3)\n",
        "    box(j,i)=5\n",
        "    end forall first\n",
        "\n",
        "    sec: forall(i=1:5,j=4:6)\n",
        "    box(j,i)=i+j\n",
        "    end forall sec\n",
        "\n",
        "\n",
        "\n",
        "    write(*,100)box\n",
        "    100 format(6(I3.0,2x))\n",
        "\n",
        "end program rio"
      ],
      "metadata": {
        "id": "Y93fUcImNO-0"
      },
      "execution_count": null,
      "outputs": []
    },
    {
      "cell_type": "markdown",
      "source": [
        "## Array inquiry function"
      ],
      "metadata": {
        "id": "drmcXBsNrMy5"
      }
    },
    {
      "cell_type": "code",
      "source": [
        "program rio\n",
        "\n",
        "      implicit none\n",
        "\n",
        "      integer,parameter :: size1=5,size2=5\n",
        "      integer,dimension(-6:9,size2) :: array\n",
        "\n",
        "\n",
        "      print*,lbound(array) ! check lower bound of the array\n",
        "      print*,ubound(array) ! check upper bound of the array\n",
        "      print*,shape(array)  ! check shape\n",
        "      print*,size(array)   ! check size\n",
        "\n",
        "\n",
        "      end program rio\n"
      ],
      "metadata": {
        "id": "JxcXM6nirUPZ"
      },
      "execution_count": null,
      "outputs": []
    },
    {
      "cell_type": "markdown",
      "source": [
        "## Array transformation function"
      ],
      "metadata": {
        "id": "h8F1D2YydSkP"
      }
    },
    {
      "cell_type": "markdown",
      "source": [
        "### Dot product"
      ],
      "metadata": {
        "id": "kvLpaU9ndaVd"
      }
    },
    {
      "cell_type": "markdown",
      "source": [
        "for dot product the rank of matrix should be one\n",
        "vectors are matrix of rank one"
      ],
      "metadata": {
        "id": "HuF8qrRydgCv"
      }
    },
    {
      "cell_type": "code",
      "source": [
        "program rio\n",
        "\n",
        "      implicit none\n",
        "\n",
        "      integer,parameter :: size1=5,size2=5\n",
        "      integer,dimension(size1,size2) :: a,b\n",
        "      integer,dimension(size1*size2) :: ra,rb\n",
        "      integer :: i,j\n",
        "\n",
        "      loop_1:do i=1,size1\n",
        "      loop_2:do j=1,size2\n",
        "\n",
        "      a(i,j) = 1\n",
        "      b(i,j) = 2\n",
        "\n",
        "      end do loop_2\n",
        "      end do loop_1\n",
        "\n",
        "      ra=reshape([a],[size1*size2])\n",
        "      rb=reshape([b],[size1*size2])\n",
        "      write(*,100)ra\n",
        "      print*,\"========================\"\n",
        "      write(*,100)dot_product(ra,rb)\n",
        "      100 format(5(I8,2x))\n",
        "\n",
        "end program rio\n"
      ],
      "metadata": {
        "id": "n5gZ_jtUdWn9"
      },
      "execution_count": null,
      "outputs": []
    },
    {
      "cell_type": "markdown",
      "source": [
        "### Transpose"
      ],
      "metadata": {
        "id": "ooUX9wRDs-pU"
      }
    },
    {
      "cell_type": "code",
      "source": [
        "Program rio\n",
        "\n",
        "      implicit none\n",
        "\n",
        "      integer :: i,j\n",
        "      integer,parameter :: s1=5,s2=5\n",
        "      integer, dimension(s1,s2) :: matrix_1, matrix_2, matrix_3, &\n",
        "         matrix_4\n",
        "\n",
        "      loop_1 : do i=1,s1\n",
        "      loop_2 : do j=1,s2\n",
        "\n",
        "      matrix_1(i,j) = i+j\n",
        "      matrix_2(i,j) = i-j\n",
        "\n",
        "      end do loop_2\n",
        "      end do loop_1\n",
        "\n",
        "      where(matrix_2<0)\n",
        "              matrix_2=-(matrix_2)\n",
        "      elsewhere(matrix_2==0)\n",
        "              matrix_2=0\n",
        "      end where\n",
        "\n",
        "      !loop_3: do i=1,s1\n",
        "      !loop_4: do j=1,s2\n",
        "\n",
        "      !write(*,100)matrix_1(i,j),matrix_2(i,j)\n",
        "      !100 format(\"matrix_1 \",i4,\"  matrix_2 \",i4)\n",
        "\n",
        "      !end do loop_4\n",
        "      !end do loop_3\n",
        "\n",
        "      print*,\"Matrix_1\"\n",
        "      write(*,100)matrix_1\n",
        "      print*,\"=========================\"\n",
        "      print*,\"Matrix_2\"\n",
        "      write(*,100)matrix_2\n",
        "      100 format(5(I4,2x))\n",
        "      print*,\"=========================\"\n",
        "      matrix_3=matmul(matrix_1,matrix_2)\n",
        "      write(*,100)matrix_3\n",
        "      print*,\"=========================\"\n",
        "      matrix_4=transpose(matrix_3)!..........................Main focus\n",
        "      write(*,100)matrix_4\n",
        "\n",
        "\n",
        "\n",
        "      end program rio\n"
      ],
      "metadata": {
        "id": "aWF9yuZRs5FD"
      },
      "execution_count": null,
      "outputs": []
    },
    {
      "cell_type": "markdown",
      "source": [
        "### Cross Product\n",
        "\n"
      ],
      "metadata": {
        "id": "xPhLW5oWpGHb"
      }
    },
    {
      "cell_type": "code",
      "source": [
        "program rio\n",
        "\n",
        "      implicit none\n",
        "\n",
        "      integer :: i,j\n",
        "      integer,parameter :: s1=5,s2=5\n",
        "      integer, dimension(s1,s2) :: matrix_1, matrix_2\n",
        "\n",
        "      loop_1 : do i=1,s1\n",
        "      loop_2 : do j=1,s2\n",
        "\n",
        "      matrix_1(i,j) = i+j\n",
        "      matrix_2(i,j) = i-j\n",
        "\n",
        "      end do loop_2\n",
        "      end do loop_1\n",
        "\n",
        "      where(matrix_2<0)\n",
        "              matrix_2=-(matrix_2)\n",
        "      elsewhere(matrix_2==0)\n",
        "              matrix_2=-50\n",
        "      end where\n",
        "\n",
        "      !loop_3: do i=1,s1\n",
        "      !loop_4: do j=1,s2\n",
        "\n",
        "      !write(*,100)matrix_1(i,j),matrix_2(i,j)\n",
        "      !100 format(\"matrix_1 \",i4,\"  matrix_2 \",i4)\n",
        "\n",
        "      !end do loop_4\n",
        "      !end do loop_3\n",
        "\n",
        "      print*,\"Matrix_1\"\n",
        "      write(*,100)matrix_1\n",
        "      print*,\"=========================\"\n",
        "      print*,\"Matrix_2\"\n",
        "      write(*,100)matrix_2\n",
        "      100 format(5(I4,2x))\n",
        "      print*,\"=========================\"\n",
        "      write(*,100)matmul(matrix_1,matrix_2)\n",
        "\n",
        "\n",
        "\n",
        "      end program rio\n"
      ],
      "metadata": {
        "id": "V6J7AoXfpPUX"
      },
      "execution_count": null,
      "outputs": []
    },
    {
      "cell_type": "markdown",
      "source": [
        "## Allocation"
      ],
      "metadata": {
        "id": "NYw49kTNr1JG"
      }
    },
    {
      "cell_type": "markdown",
      "source": [
        "### Manual Allocation\n"
      ],
      "metadata": {
        "id": "v7NgBfkcdb0k"
      }
    },
    {
      "cell_type": "code",
      "source": [
        "program rio\n",
        "\n",
        "      implicit none\n",
        "\n",
        "      character(len=20) :: filename\n",
        "      character(len=80) :: msg,amsg,emsg\n",
        "      integer :: stat,astat,dstat\n",
        "      real,allocatable,dimension(:,:) :: box ! can change dimension according to the number of line in file\n",
        "      integer :: nval=0,temp\n",
        "\n",
        "      print*,\"Enter the filename\"\n",
        "      read(*,*)filename\n",
        "\n",
        "      open(3, file=filename, status='unknown', action='read', &\n",
        "              iostat=stat, iomsg=msg)\n",
        "\n",
        "      open_if : if ( stat==0 ) then\n",
        "\n",
        "              print*,\"The file is open\"\n",
        "\n",
        "              r_loop: do\n",
        "\n",
        "             read(3,*,iostat=stat)temp\n",
        "             if( stat/=0) exit\n",
        "             nval=nval+1\n",
        "\n",
        "             end do r_loop\n",
        "\n",
        "     else open_if\n",
        "\n",
        "            print*,\"Error\"\n",
        "           print*,trim(msg)\n",
        "\n",
        "      end if open_if\n",
        "\n",
        "      allocate(box(nval,2),stat=astat)\n",
        "\n",
        "      allocation_if:if( astat==0 )then\n",
        "\n",
        "              print*,\"box is allocated\"\n",
        "              print*,shape(box)\n",
        "              print*,\"================\"\n",
        "              rewind(3)\n",
        "\n",
        "              read(3,*)box\n",
        "\n",
        "      else allocation_if\n",
        "              print*,\"the box is not allocated\"\n",
        "\n",
        "      end if allocation_if\n",
        "\n",
        "      close(3)\n",
        "\n",
        "      write(*,100)box(1,1),box(1,2),box(2,1)\n",
        "      100 format(2(f5.1,2x))\n",
        "\n",
        "      deallocate(box,stat=dstat)\n",
        "      if(dstat==0)then\n",
        "              print*,\"box is deallocated\"\n",
        "      else\n",
        "              print*,\"not deallocated\"\n",
        "              print*,trim(emsg)\n",
        "      end if\n",
        "\n",
        "      end program rio\n",
        "\n"
      ],
      "metadata": {
        "id": "l5m2FAhbr9C9"
      },
      "execution_count": null,
      "outputs": []
    },
    {
      "cell_type": "markdown",
      "source": [
        "### Auto Allocation"
      ],
      "metadata": {
        "id": "_sHV6zCZdgwc"
      }
    },
    {
      "cell_type": "code",
      "source": [
        "program rio\n",
        "\n",
        "        implicit none\n",
        "\n",
        "        integer,allocatable,dimension(:) :: a\n",
        "        integer,dimension(4) :: b =[1,2,3,4]\n",
        "        integer,dimension(10) :: c =[12,4,562,562,3,4,2,1,3,1]\n",
        "\n",
        "        a=b\n",
        "\n",
        "        print*,a\n",
        "        a=b(1:2:3)\n",
        "\n",
        "        print*,a\n",
        "\n",
        "        a=c\n",
        "        print*,a(1:6:2)\n",
        "\n",
        "        end program rio\n"
      ],
      "metadata": {
        "id": "6N_Awptddkpx"
      },
      "execution_count": null,
      "outputs": []
    },
    {
      "cell_type": "markdown",
      "source": [
        "# Advanced Procedures\n"
      ],
      "metadata": {
        "id": "UGPYvajpsPHx"
      }
    },
    {
      "cell_type": "markdown",
      "source": [
        "## Gauss Jordan Elimination Method"
      ],
      "metadata": {
        "id": "UIc7FimcsSb-"
      }
    },
    {
      "cell_type": "markdown",
      "source": [
        "Subroutine"
      ],
      "metadata": {
        "id": "dyCfGpUFsm_1"
      }
    },
    {
      "cell_type": "code",
      "source": [
        "subroutine GJ_elim(a,b,ndim,n,error)\n",
        "\n",
        "      implicit none\n",
        "\n",
        "      integer,intent(in) :: ndim\n",
        "      real,intent(inout),dimension(ndim,ndim) :: a\n",
        "      real,intent(inout),dimension(ndim) :: b\n",
        "      integer, intent(in) :: n\n",
        "      integer, intent(out) :: error\n",
        "\n",
        "      real,parameter :: epsilon = 1.0E-6\n",
        "      real :: factor\n",
        "\n",
        "      integer :: irow\n",
        "      integer :: ipeak\n",
        "      integer :: jrow\n",
        "      integer :: kcol\n",
        "      real :: temp\n",
        "\n",
        "\n",
        "      mainloop: do irow =1,n\n",
        "\n",
        "      ipeak = irow\n",
        "\n",
        "      max_pivot : do jrow= irow +1, n\n",
        "\n",
        "      if (abs(a(jrow,irow)) > abs(a(ipeak,irow))) then\n",
        "\n",
        "              ipeak = jrow\n",
        "\n",
        "      end if\n",
        "\n",
        "      end do max_pivot\n",
        "\n",
        "      singular : if (abs(a(ipeak,irow)) < epsilon) then\n",
        "\n",
        "              error = 1\n",
        "              return\n",
        "\n",
        "      end if singular\n",
        "\n",
        "      swap_eqn : if (ipeak /= irow ) then\n",
        "\n",
        "              do kcol =1,n\n",
        "              temp = a(ipeak,kcol)\n",
        "              a(ipeak,kcol) = a(irow,kcol)\n",
        "              a(irow,kcol) = temp\n",
        "\n",
        "              end do\n",
        "\n",
        "              temp = b(ipeak)\n",
        "              b(ipeak) = b(irow)\n",
        "              b(irow) = temp\n",
        "\n",
        "      end if swap_eqn\n",
        "\n",
        "      eliminate : do jrow = 1,n\n",
        "\n",
        "      if (jrow /= irow ) then\n",
        "\n",
        "              factor = a(jrow,irow)/a(irow,irow)\n",
        "              do kcol = 1,n\n",
        "\n",
        "              a(jrow,kcol) = a(irow,kcol)*factor + a(jrow,kcol)\n",
        "\n",
        "              end do\n",
        "\n",
        "              b(jrow) = b(irow)*factor + b(jrow)\n",
        "\n",
        "      end if\n",
        "\n",
        "      end do eliminate\n",
        "\n",
        "      end do mainloop\n",
        "\n",
        "      divide: do irow = 1,n\n",
        "\n",
        "      b(irow) = b(irow)/a(irow,irow)\n",
        "      a(irow,irow) = 1\n",
        "\n",
        "      end do divide\n",
        "\n",
        "      error = 0\n",
        "\n",
        "      end subroutine GJ_elim\n"
      ],
      "metadata": {
        "id": "kKXVY3iLsZr4"
      },
      "execution_count": null,
      "outputs": []
    },
    {
      "cell_type": "markdown",
      "source": [
        "Main program"
      ],
      "metadata": {
        "id": "FJWKNBGsvx1R"
      }
    },
    {
      "cell_type": "code",
      "source": [
        "program rio\n",
        "\n",
        "      implicit none\n",
        "\n",
        "      integer,parameter :: max_size = 10\n",
        "      real,dimension(max_size,max_size) :: a\n",
        "      real,dimension(max_size) :: b\n",
        "      integer :: error\n",
        "      character(len = 20) :: file_name\n",
        "      integer :: i\n",
        "      integer :: j\n",
        "      character(len = 80) :: msg\n",
        "      integer :: n=3\n",
        "      integer :: istat\n",
        "\n",
        "      write(*,\"('Enter the file name containing the eqns:')\")\n",
        "      read(*,*)file_name\n",
        "\n",
        "      open(1, file=file_name, status='old', action='read', &\n",
        "              iostat=istat, iomsg=msg)\n",
        "      fileopen: if ( istat == 0) then\n",
        "\n",
        "             ! read(1,*)n\n",
        "\n",
        "              size_ok: if (n <= max_size ) then\n",
        "\n",
        "                      do i =1,n\n",
        "\n",
        "                      read(1,*) (a(i,j),j=1,n),b(i)\n",
        "\n",
        "                      end do\n",
        "\n",
        "                     write(*,\"(/,'Coefficients before call :')\")\n",
        "                     do i =1,n\n",
        "                    write(*,\"(1x,7f11.4)\")(a(i,j),j=1,n),b(i)\n",
        "                    end do\n",
        "\n",
        "                    call GJ_elim(a,b,max_size,n,error)\n",
        "\n",
        "                    error_check: if(error/=0)then\n",
        "\n",
        "                            write(*,1000)\n",
        "                            1000 format(/'Zero pivot encountered!', &\n",
        "                //'There is no unique solution to this system.')\n",
        "\n",
        "        else error_check\n",
        "\n",
        "                write(*,\"(/,'Coefficients after call:')\")\n",
        "                do i =1,n\n",
        "\n",
        "                write(*,\"(1x,7f11.4)\")(a(i,j),j=1,n),b(i)\n",
        "\n",
        "                end do\n",
        "\n",
        "                write(*,\"(/,'The solutions are:')\")\n",
        "                do i=1,n\n",
        "\n",
        "                write(*,\"(2x,'x(',i2,')=',f16.6)\")i,b(i)\n",
        "\n",
        "                end do\n",
        "\n",
        "        end if error_check\n",
        "\n",
        "         end if size_ok\n",
        "\n",
        "         else fileopen\n",
        "\n",
        "                 write(*,1020) msg\n",
        "                 1020 format('file open failed:',A)\n",
        "\n",
        "         end if fileopen\n",
        "\n",
        "         end program rio\n"
      ],
      "metadata": {
        "id": "eJLMDqJYvrg5"
      },
      "execution_count": null,
      "outputs": []
    },
    {
      "cell_type": "markdown",
      "source": [
        "## Automatic allocation using allocatable"
      ],
      "metadata": {
        "id": "Wj3TUiGK6sW8"
      }
    },
    {
      "cell_type": "markdown",
      "source": [
        "Main"
      ],
      "metadata": {
        "id": "Tpi2LvZs6-Nr"
      }
    },
    {
      "cell_type": "code",
      "source": [
        "program rio\n",
        "\n",
        "        use test\n",
        "        implicit none\n",
        "\n",
        "        call try()\n",
        "\n",
        "        end program rio\n"
      ],
      "metadata": {
        "id": "heBOQt4R65FE"
      },
      "execution_count": null,
      "outputs": []
    },
    {
      "cell_type": "markdown",
      "source": [
        "Module"
      ],
      "metadata": {
        "id": "xRrx9NrG613z"
      }
    },
    {
      "cell_type": "code",
      "source": [
        "module test\n",
        "\n",
        "        implicit none\n",
        "        save\n",
        "\n",
        "        real,allocatable,dimension(:,:) :: array_1\n",
        "\n",
        "        contains\n",
        "\n",
        "                subroutine try()\n",
        "\n",
        "                        real,dimension(3,2) :: a=reshape([1,2,3,4,5,6],[3,2])\n",
        "                        real,dimension(4,2) :: b=reshape([4,5,6,7,8,9,1,2],[4,2])\n",
        "\n",
        "                        array_1 = a\n",
        "\n",
        "                        print*, array_1\n",
        "\n",
        "                        print*,\"=======================\"\n",
        "\n",
        "                        array_1 = b\n",
        "                        print*, array_1\n",
        "\n",
        "                        end subroutine try\n",
        "\n",
        "                        end module test\n"
      ],
      "metadata": {
        "id": "itruE2S76xFd"
      },
      "execution_count": null,
      "outputs": []
    },
    {
      "cell_type": "markdown",
      "source": [
        "## Use allocation inside module\n"
      ],
      "metadata": {
        "id": "A3YAUp3LZTOb"
      }
    },
    {
      "cell_type": "markdown",
      "source": [
        " Module"
      ],
      "metadata": {
        "id": "l8m5AQt1aJ2S"
      }
    },
    {
      "cell_type": "code",
      "source": [
        "module test\n",
        "\n",
        "        implicit none\n",
        "       ! Save\n",
        "\n",
        " !       real,allocatable,dimension(:) :: array_1\n",
        " !       integer :: nval\n",
        "\n",
        "        contains\n",
        "\n",
        "                subroutine try(array_1,nval)\n",
        "\n",
        "                        real,allocatable,dimension(:),intent(inout) :: array_1\n",
        "                        integer,intent(inout) :: nval\n",
        "\n",
        "          !             integer :: nval\n",
        "                        character(len=20) :: filename\n",
        "                        character(len=80) :: msg\n",
        "                        integer :: stat,astat\n",
        "                        real:: temp\n",
        "\n",
        "                        nval = 0\n",
        "\n",
        "                        print*,\"Enter the name of the file\"\n",
        "                        read(*,*)filename\n",
        "\n",
        "                        open(3,file=filename, status='unknown', action='read',&\n",
        "                                iostat=stat, iomsg=msg)\n",
        "\n",
        "                       file_open: if( stat==0 ) then\n",
        "\n",
        "                                do\n",
        "                                read(3,*,iostat=stat)temp\n",
        "                                if (stat/=0)exit\n",
        "                                nval=nval+1\n",
        "                                end do\n",
        "\n",
        "                                allocate(array_1(nval),stat=astat)\n",
        "\n",
        "                               alloc_if: if ( astat == 0) then\n",
        "\n",
        "                                        rewind(3)\n",
        "                                        read(3,*)array_1\n",
        "                                else alloc_if\n",
        "\n",
        "                                        print*,\"not allocated\"\n",
        "\n",
        "                                end if alloc_if\n",
        "\n",
        "                        else file_open\n",
        "\n",
        "                                print*,trim(msg)\n",
        "\n",
        "                        end if file_open\n",
        "\n",
        "                        return\n",
        "\n",
        "                        end subroutine try\n",
        "\n",
        "                        end module test\n"
      ],
      "metadata": {
        "id": "BHKmAilfZaMA"
      },
      "execution_count": null,
      "outputs": []
    },
    {
      "cell_type": "markdown",
      "source": [
        "Main program"
      ],
      "metadata": {
        "id": "yupnIsCEaszn"
      }
    },
    {
      "cell_type": "code",
      "source": [
        "program rio\n",
        "\n",
        "        use test\n",
        "        implicit none\n",
        "\n",
        "        real,allocatable,dimension(:) :: array_1\n",
        "        integer :: nval\n",
        "\n",
        "        call try(array_1,nval)\n",
        "\n",
        "        write(*,100)array_1\n",
        "        100 format(2(f5.1,2x))\n",
        "\n",
        "        end program rio\n"
      ],
      "metadata": {
        "id": "C0mHyEHgaoFP"
      },
      "execution_count": null,
      "outputs": []
    },
    {
      "cell_type": "markdown",
      "source": [
        "# Additional Intrinsic Data Type"
      ],
      "metadata": {
        "id": "CUGYN_tTM8rF"
      }
    },
    {
      "cell_type": "markdown",
      "source": [
        "## Kind determination"
      ],
      "metadata": {
        "id": "RbUEmoB9NFqc"
      }
    },
    {
      "cell_type": "markdown",
      "source": [
        "This program will determine the kind of the number"
      ],
      "metadata": {
        "id": "rhii1DD6NPnj"
      }
    },
    {
      "cell_type": "code",
      "source": [
        "program rio\n",
        "\n",
        "        implicit none\n",
        "\n",
        "        integer :: i\n",
        "        real :: j\n",
        "\n",
        "        print*,\"Enter the value of i\"\n",
        "        read(*,*)i\n",
        "\n",
        "        print*,\"Enter the value of j\"\n",
        "        read(*,*)j\n",
        "\n",
        "        write(*,*)kind(i)\n",
        "        print*,\"=======================\"\n",
        "        write(*,*)kind(j)\n",
        "\n",
        "        end program rio\n"
      ],
      "metadata": {
        "id": "D41HvBqkNA3C"
      },
      "execution_count": null,
      "outputs": []
    },
    {
      "cell_type": "code",
      "source": [
        "program rio\n",
        "\n",
        "        implicit none\n",
        "\n",
        "\n",
        "        write(*,*)kind(5._8)\n",
        "        print*,\"=======================\"\n",
        "        write(*,*)kind(5.3)\n",
        "\n",
        "        end program rio\n",
        "\n"
      ],
      "metadata": {
        "id": "my2paQ6iNaDp"
      },
      "execution_count": null,
      "outputs": []
    },
    {
      "cell_type": "markdown",
      "source": [
        "## Setting kind as a parameter"
      ],
      "metadata": {
        "id": "jSKK9ym1OqlN"
      }
    },
    {
      "cell_type": "code",
      "source": [
        "program rio\n",
        "\n",
        "        implicit none\n",
        "\n",
        "        integer,parameter :: sgl = 8\n",
        "        integer,parameter :: dbl = 16\n",
        "        integer(kind=sgl) :: i\n",
        "        integer(kind=dbl) :: j\n",
        "\n",
        "        print*,kind(i)\n",
        "        print*,kind(j)\n",
        "\n",
        "        end program rio\n"
      ],
      "metadata": {
        "id": "enucZDAuOuQ9"
      },
      "execution_count": null,
      "outputs": []
    },
    {
      "cell_type": "markdown",
      "source": [
        "## Selected real kind"
      ],
      "metadata": {
        "id": "w9Y50f7VlD3F"
      }
    },
    {
      "cell_type": "code",
      "source": [
        "program rio\n",
        "\n",
        "        implicit none\n",
        "\n",
        "        integer,parameter :: sgl =selected_real_kind(4,3)\n",
        "        integer,parameter :: dbl = selected_real_kind(10,10)\n",
        "\n",
        "        real :: var_1=0.\n",
        "        real :: var_2=0.\n",
        "\n",
        "        write(*,*) kind(var_1),precision(var_1),range(var_1)\n",
        "        write(*,*) kind(var_2),precision(var_2),range(var_2)\n",
        "\n",
        "        end program rio\n"
      ],
      "metadata": {
        "id": "yZdrxIbclKAr"
      },
      "execution_count": null,
      "outputs": []
    },
    {
      "cell_type": "markdown",
      "source": [
        "# Commmands in Linux"
      ],
      "metadata": {
        "id": "HSw-Rd7wlun1"
      }
    },
    {
      "cell_type": "markdown",
      "source": [
        "1. Store output : ./a.out > filename.txt\n",
        "2. List all files and subfiles : ls -R\n",
        "\n",
        "\n"
      ],
      "metadata": {
        "id": "yiYqXMfPl3Hg"
      }
    },
    {
      "cell_type": "markdown",
      "source": [
        "# Term Paper"
      ],
      "metadata": {
        "id": "zuSDtzKLyRJ8"
      }
    },
    {
      "cell_type": "markdown",
      "source": [
        "## Inquire"
      ],
      "metadata": {
        "id": "ehcwfGo2yT0X"
      }
    },
    {
      "cell_type": "markdown",
      "source": [
        "Checks whether a file exist or not"
      ],
      "metadata": {
        "id": "lrEiIqPnydlB"
      }
    },
    {
      "cell_type": "code",
      "source": [
        "program rio\n",
        "\n",
        "      implicit none\n",
        "\n",
        "      logical :: exists\n",
        "      character(len = 20) :: filename\n",
        "\n",
        "      print*, \"Enter the name of the file\"\n",
        "      read(*,*) filename\n",
        "\n",
        "      inquire(file=filename, exist=exists)\n",
        "\n",
        "      if (exists) then\n",
        "              print*,\"The file \",trim(filename),\" exist\"\n",
        "      else\n",
        "              print*,\"The file \",trim(filename),\" do not exist\"\n",
        "      end if\n",
        "\n",
        "      end program rio\n",
        "\n"
      ],
      "metadata": {
        "id": "DB34IZxQyZ-4"
      },
      "execution_count": null,
      "outputs": []
    },
    {
      "cell_type": "markdown",
      "source": [
        "## Append"
      ],
      "metadata": {
        "id": "pL_tD2oQi9IU"
      }
    },
    {
      "cell_type": "markdown",
      "source": [
        "This will add new elements to the file without deleting the previous one"
      ],
      "metadata": {
        "id": "wt52UiH6jEv7"
      }
    },
    {
      "cell_type": "code",
      "source": [
        "program rio\n",
        "\n",
        "      implicit none\n",
        "\n",
        "      character(len=20) :: filename\n",
        "      character(len=80) :: msg\n",
        "      integer :: stat\n",
        "      integer :: i\n",
        "\n",
        "      print*,\"Enter the name of file\"\n",
        "      read(*,*)filename\n",
        "\n",
        "\n",
        "      open(3, file=filename, action=\"write\", status=\"old\", &\n",
        "         position=\"append\" ,iostat= stat, iomsg=msg)\n",
        "\n",
        "       if( stat==0 )then\n",
        "\n",
        "               print*,\"The file \",filename,\" is opened\"\n",
        "\n",
        "               do i=1,30\n",
        "\n",
        "               write(3,*)\"Record \",i,\" is \",i**2\n",
        "\n",
        "               end do\n",
        "\n",
        "       else\n",
        "               print*,\"The file \",filename,\" is not opened\"\n",
        "               print*,\"Error :\",trim(msg)\n",
        "\n",
        "       end if\n",
        "\n",
        "       end program rio\n"
      ],
      "metadata": {
        "id": "jZ_KuTFvjCbT"
      },
      "execution_count": null,
      "outputs": []
    },
    {
      "cell_type": "markdown",
      "source": [
        "# **** Chapman ****"
      ],
      "metadata": {
        "id": "KquG6ygP2RUy"
      }
    },
    {
      "cell_type": "markdown",
      "source": [
        "## 8: Additional features of Array"
      ],
      "metadata": {
        "id": "jgUGSNuO3uAC"
      }
    },
    {
      "cell_type": "markdown",
      "source": [
        "### 8.1: Array inquiry functions\n"
      ],
      "metadata": {
        "id": "fX2CMa-u3-cO"
      }
    },
    {
      "cell_type": "markdown",
      "source": [
        "![Array inquiry function.PNG](data:image/png;base64,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)"
      ],
      "metadata": {
        "id": "AJJUwoY-2jIW"
      }
    },
    {
      "cell_type": "markdown",
      "source": [
        "### 8.2: Transformational Intrinsic Functions"
      ],
      "metadata": {
        "id": "4UDduzvB6R3J"
      }
    },
    {
      "cell_type": "markdown",
      "source": [
        "![TIF.PNG](data:image/png;base64,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)"
      ],
      "metadata": {
        "id": "6jpe5fAR6biO"
      }
    },
    {
      "cell_type": "markdown",
      "source": [
        "![Tif2.PNG](data:image/png;base64,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)"
      ],
      "metadata": {
        "id": "1EvYeXTD6muV"
      }
    },
    {
      "cell_type": "markdown",
      "source": [
        "### 8.3: Forall constrict"
      ],
      "metadata": {
        "id": "wc368qBYKK1i"
      }
    },
    {
      "cell_type": "markdown",
      "source": [
        "![forall_1.PNG](data:image/png;base64,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)"
      ],
      "metadata": {
        "id": "BFIDDX1BKDuh"
      }
    },
    {
      "cell_type": "markdown",
      "source": [
        "### 8.4: Allocation"
      ],
      "metadata": {
        "id": "kRGm0cX47pf5"
      }
    },
    {
      "cell_type": "markdown",
      "source": [
        "![alloca_1.PNG](data:image/png;base64,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)"
      ],
      "metadata": {
        "id": "3XikqUq68UuB"
      }
    },
    {
      "cell_type": "markdown",
      "source": [
        "![alloca-2.PNG](data:image/png;base64,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)"
      ],
      "metadata": {
        "id": "KBGWx-_h8xDn"
      }
    },
    {
      "cell_type": "markdown",
      "source": [
        "## 11 : Additional Intrinsic Data type\n"
      ],
      "metadata": {
        "id": "au76vYpGMnmA"
      }
    },
    {
      "cell_type": "code",
      "source": [
        "REAL(KIND=1) :: value_1\n",
        "REAL(KIND=4) :: value_2\n",
        "REAL(KIND=8), DIMENSION(20) :: array\n",
        "REAL(4) :: temp"
      ],
      "metadata": {
        "id": "gVlCyLAltrJu"
      },
      "execution_count": null,
      "outputs": []
    },
    {
      "cell_type": "markdown",
      "source": [
        "Always assing kind numbers to a named constant (In different compilers kind number is associated with different bits)"
      ],
      "metadata": {
        "id": "IcINZR6uuq3o"
      }
    },
    {
      "cell_type": "code",
      "source": [
        "INTEGER, PARAMETER :: SGL = 4 ! Compiler dependent value\n",
        "INTEGER, PARAMETER :: DBL = 8 ! Compiler dependent value\n",
        "REAL(KIND=SGL) :: value_1\n",
        "REAL(KIND=DBL), DIMENSION(20) :: array\n",
        "REAL(SGL) :: temp"
      ],
      "metadata": {
        "id": "qguGYphsuw7M"
      },
      "execution_count": null,
      "outputs": []
    },
    {
      "cell_type": "markdown",
      "source": [
        "It is also possible to declare the kind of a real constant. The kind of a real constant\n",
        "is declared by appending an underscore and the kind number to the constant. The following are examples of valid real constants:"
      ],
      "metadata": {
        "id": "j_Vr56Rhv8Id"
      }
    },
    {
      "cell_type": "code",
      "source": [
        "34.                ! Default kind\n",
        "34._4              ! Only valid if 4 is a legal kind of real\n",
        "34.E3              ! Single precision\n",
        "1234.56789_DBL     ! Only valid if \"DBL\" is an integer named constant"
      ],
      "metadata": {
        "id": "uZFM9KmHwGO2"
      },
      "execution_count": null,
      "outputs": []
    },
    {
      "cell_type": "markdown",
      "source": [
        "A double-precision constant in exponential\n",
        "notation can be declared by using a **D** instead of an **E** to declare the exponent of the\n",
        "constant. For example"
      ],
      "metadata": {
        "id": "qaBpkpv3yDCe"
      }
    },
    {
      "cell_type": "code",
      "source": [
        "3.0E0   ! is a single-precision constant\n",
        "3.0D0   ! is a double-precision constant"
      ],
      "metadata": {
        "id": "6tCu8VIlyUK0"
      },
      "execution_count": null,
      "outputs": []
    },
    {
      "cell_type": "markdown",
      "source": [
        "### 11.1: Kind intrinsic function"
      ],
      "metadata": {
        "id": "L-Qv8juGMunc"
      }
    },
    {
      "cell_type": "markdown",
      "source": [
        "![in_dat.1.PNG](data:image/png;base64,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)"
      ],
      "metadata": {
        "id": "SJhmUcaNM4DT"
      }
    },
    {
      "cell_type": "markdown",
      "source": [
        "### 11.2: Determining the kind of the variable"
      ],
      "metadata": {
        "id": "cy4ESfbByk1j"
      }
    },
    {
      "cell_type": "markdown",
      "source": [
        "Fortran includes an intrinsic function KIND, which returns the kind number of a\n",
        "given constant or variable"
      ],
      "metadata": {
        "id": "L_tYrp3Nys_X"
      }
    },
    {
      "cell_type": "code",
      "source": [
        "program rio\n",
        "\n",
        "        implicit none\n",
        "\n",
        "        integer :: i\n",
        "        real :: j\n",
        "\n",
        "        print*,\"Enter the value of i\"\n",
        "        read(*,*)i\n",
        "\n",
        "        print*,\"Enter the value of j\"\n",
        "        read(*,*)j\n",
        "\n",
        "        write(*,*)kind(i)\n",
        "        print*,\"=======================\"\n",
        "        write(*,*)kind(j)\n",
        "\n",
        "        end program rio\n",
        "\n"
      ],
      "metadata": {
        "id": "p3m0z6yPzRaT"
      },
      "execution_count": null,
      "outputs": []
    },
    {
      "cell_type": "code",
      "source": [
        "program rio\n",
        "\n",
        "        implicit none\n",
        "\n",
        "\n",
        "        write(*,*)kind(5._8)\n",
        "        print*,\"=======================\"\n",
        "        write(*,*)kind(5.3)\n",
        "\n",
        "        end program rio\n",
        "\n"
      ],
      "metadata": {
        "id": "GCqj3h976UGT"
      },
      "execution_count": null,
      "outputs": []
    },
    {
      "cell_type": "markdown",
      "source": [
        "### 11.3: Select Precision in Processor Independent Manner(SELECTED_REAL_KIND)\n"
      ],
      "metadata": {
        "id": "1y3if2y8LYBE"
      }
    },
    {
      "cell_type": "markdown",
      "source": [
        "Double-precision values have approximately twice the precision of\n",
        "single-precision values, but the number of bits associated with each kind of real is\n",
        "entirely up to the computer vendor. On most computers, a single-precision value is 32\n",
        "bits long and a double-precision value is 64 bits long.In some computers it is different."
      ],
      "metadata": {
        "id": "DCysZ2xSLf49"
      }
    },
    {
      "cell_type": "markdown",
      "source": [
        "We can use an intrinsic function\n",
        "to automatically select the proper kind of real value to use as the program is moved\n",
        "between computers. This function is called SELECTED_REAL_KIND"
      ],
      "metadata": {
        "id": "8bn6cZWUL3kk"
      }
    },
    {
      "cell_type": "code",
      "source": [
        "kind_number = SELECTED_REAL_KIND(p=precision,r=range)\n",
        "\n",
        "kind_number = SELECTED_REAL_KIND(p=6,r=37)\n",
        "kind_number = SELECTED_REAL_KIND(p=12)\n",
        "kind_number = SELECTED_REAL_KIND(r=100)\n",
        "kind_number = SELECTED_REAL_KIND(13,200)\n",
        "kind_number = SELECTED_REAL_KIND(13)\n",
        "kind_number = SELECTED_REAL_KIND(p=17)"
      ],
      "metadata": {
        "id": "tVJwYqfwMwYR"
      },
      "execution_count": null,
      "outputs": []
    },
    {
      "cell_type": "code",
      "source": [
        "SELECTED_REAL_KIND(p,r)\n",
        "SELECTED_INT_KIND(r)\n",
        "kind(r)\n",
        "precision(x)\n",
        "range(x)\n"
      ],
      "metadata": {
        "id": "PPc7krB6W0Ho"
      },
      "execution_count": null,
      "outputs": []
    },
    {
      "cell_type": "code",
      "source": [
        "program rio\n",
        "\n",
        "        implicit none\n",
        "\n",
        "        integer,parameter :: sgl =selected_real_kind(4,3)\n",
        "        integer,parameter :: dbl = selected_real_kind(10,10)\n",
        "\n",
        "        real :: var_1=0.\n",
        "        real :: var_2=0.\n",
        "\n",
        "        write(*,*) kind(var_1),precision(var_1),range(var_1)\n",
        "        write(*,*) kind(var_2),precision(var_2),range(var_2)\n",
        "\n",
        "        end program rio\n"
      ],
      "metadata": {
        "id": "0lsHJ2fYk-YN"
      },
      "execution_count": null,
      "outputs": []
    },
    {
      "cell_type": "markdown",
      "source": [
        "# Rough"
      ],
      "metadata": {
        "id": "suUWs3h8s4Ox"
      }
    },
    {
      "cell_type": "markdown",
      "source": [
        "##1\n"
      ],
      "metadata": {
        "id": "Xio_cJYXsko-"
      }
    },
    {
      "cell_type": "markdown",
      "source": [
        "Main Program"
      ],
      "metadata": {
        "id": "plVT-2SjWc4i"
      }
    },
    {
      "cell_type": "code",
      "source": [
        "\n",
        "program rio\n",
        "\n",
        "        use poisson\n",
        "        implicit none\n",
        "\n",
        "        print*,\"Enter the number of cars (integers only)\"\n",
        "        read(*,*) k\n",
        "\n",
        "        print*,\"Enter the time in seconds\"\n",
        "        read(*,*) t\n",
        "\n",
        "        call factorial()\n",
        "\n",
        "        print*,fact_k\n",
        "\n",
        "        print*,exp(1.0)\n",
        "\n",
        "        end program rio\n"
      ],
      "metadata": {
        "id": "PPZ_6a53WRlh"
      },
      "execution_count": null,
      "outputs": []
    },
    {
      "cell_type": "markdown",
      "source": [
        "Module"
      ],
      "metadata": {
        "id": "4WXjGndzWf5H"
      }
    },
    {
      "cell_type": "code",
      "source": [
        "module poisson\n",
        "\n",
        "      implicit none\n",
        "      save\n",
        "\n",
        "      integer::k\n",
        "      real::t\n",
        "      real,parameter::lam=96 ! Second\n",
        "      integer(kind=16)::fact_k\n",
        "      contains\n",
        "\n",
        "! ....................Factorial Subroutine......................\n",
        "\n",
        "              subroutine factorial()\n",
        "\n",
        "                      integer(kind=16)::i\n",
        "                      fact_k=1\n",
        "\n",
        "\n",
        "                      do i=1,k\n",
        "\n",
        "                      fact_k=fact_k*i\n",
        "\n",
        "                      end do\n",
        "\n",
        "                      end subroutine factorial\n",
        "\n",
        "!....................End Poisson Module........................\n",
        "\n",
        "                      end module poisson\n",
        "\n",
        "\n"
      ],
      "metadata": {
        "id": "-TaGeg-ltja8"
      },
      "execution_count": null,
      "outputs": []
    },
    {
      "cell_type": "markdown",
      "source": [
        "##2 : Factorial Function\n"
      ],
      "metadata": {
        "id": "yaxOaj3DLSwn"
      }
    },
    {
      "cell_type": "markdown",
      "source": [
        "### 2.1"
      ],
      "metadata": {
        "id": "SW330U9KLdrx"
      }
    },
    {
      "cell_type": "code",
      "source": [
        "program rio\n",
        "\n",
        "    implicit none\n",
        "\n",
        "    integer(kind=16),external::fact\n",
        "    integer::k\n",
        "\n",
        "\n",
        "    print*,\"enter the value of k\"\n",
        "    read(*,*)k\n",
        "\n",
        "    print*,fact(k)\n",
        "\n",
        "end program rio\n",
        "\n",
        "integer(kind=16) function fact(f_k)\n",
        "\n",
        "implicit none\n",
        "\n",
        "integer,intent(in)::f_k\n",
        "integer::i\n",
        "\n",
        "fact=1\n",
        "\n",
        "do i=1,f_k\n",
        "\n",
        "    fact=fact*i\n",
        "\n",
        "end do\n",
        "\n",
        "return\n",
        "\n",
        "end function fact\n"
      ],
      "metadata": {
        "id": "_9UAvM9wLbRJ"
      },
      "execution_count": null,
      "outputs": []
    },
    {
      "cell_type": "markdown",
      "source": [
        "###2.2\n"
      ],
      "metadata": {
        "id": "N7a4O5c3NS9w"
      }
    },
    {
      "cell_type": "code",
      "source": [
        "! Main Program\n",
        "program rio\n",
        "\n",
        "    implicit none\n",
        "\n",
        "    integer(kind=16),external::fact\n",
        "    integer::k\n",
        "\n",
        "    print*,\"Enter the numbe for factorial calculation\"\n",
        "    read(*,*)k\n",
        "\n",
        "    print*,\"Factorial of the number is =\",fact(k)\n",
        "\n",
        "end program rio"
      ],
      "metadata": {
        "id": "P0kkvEAHNXId"
      },
      "execution_count": null,
      "outputs": []
    },
    {
      "cell_type": "code",
      "source": [
        "! function Program\n",
        "integer(kind=16) function fact(k)\n",
        "\n",
        "implicit none\n",
        "\n",
        "\n",
        "integer,intent(in)::k\n",
        "integer::i\n",
        "integer(kind=16)::temp\n",
        "\n",
        "\n",
        "temp=1\n",
        "do i=1,k\n",
        "    temp=temp*i\n",
        "\n",
        "end do\n",
        "\n",
        "fact=temp\n",
        "\n",
        "end function fact\n",
        "\n",
        "\n",
        "\n",
        "\n"
      ],
      "metadata": {
        "id": "NUnGsw_6NcX5"
      },
      "execution_count": null,
      "outputs": []
    },
    {
      "cell_type": "markdown",
      "source": [
        "## 3: Name Sorting"
      ],
      "metadata": {
        "id": "bDCd0cviskmd"
      }
    },
    {
      "cell_type": "markdown",
      "source": [
        "Main Program"
      ],
      "metadata": {
        "id": "elT39w1GtV0v"
      }
    },
    {
      "cell_type": "code",
      "source": [
        "program rio\n",
        "\n",
        "      use name_sorting\n",
        "      implicit none\n",
        "\n",
        "      print*,\"Enter the total number of names\"\n",
        "      read(*,*)dimen\n",
        "\n",
        "      call store()\n",
        "\n",
        "\n",
        "end program rio\n"
      ],
      "metadata": {
        "id": "DZxRqtz3sopz"
      },
      "execution_count": null,
      "outputs": []
    },
    {
      "cell_type": "markdown",
      "source": [
        "Module Program"
      ],
      "metadata": {
        "id": "caelP2gntYX4"
      }
    },
    {
      "cell_type": "code",
      "source": [
        "module name_sorting\n",
        "\n",
        "      implicit none\n",
        "      save\n",
        "\n",
        "\n",
        "      integer :: dimen\n",
        "      integer :: i,j,k\n",
        "\n",
        "      contains\n",
        "\n",
        "     !............................Subroutine 1...........................\n",
        "\n",
        "              subroutine store()\n",
        "\n",
        "              implicit none\n",
        "\n",
        "              integer,parameter::len_val=20\n",
        "              character(len=len_val),dimension(dimen) :: name_1\n",
        "              character(len=len_val)::temp\n",
        "              character(len=len_val)::char_pointer\n",
        "              integer :: val_i,val_j\n",
        "              integer :: ipointer\n",
        "\n",
        "\n",
        "\n",
        "              ask : do i=1,dimen\n",
        "\n",
        "              write(*,100)\"Enter Name no.\",i\n",
        "              100 format( A,2x,I3)\n",
        "              read(*,*)name_1(i)\n",
        "\n",
        "              end do ask\n",
        "\n",
        "\n",
        "\n",
        "              sort_outer : do i=1,dimen-1\n",
        "\n",
        "              ipointer=i\n",
        "              val_i=iachar(name_1(i)(1:1))\n",
        "\n",
        "\n",
        "\n",
        "              sort_inner : do j=i+1,dimen\n",
        "              val_j=iachar(name_1(j)(1:1))\n",
        "\n",
        "              check :if(val_i>val_j)then\n",
        "                  .    ipointer=j\n",
        "              end if check\n",
        "\n",
        "              end do sort_inner\n",
        "\n",
        "              swap : if(ipointer/=i)then\n",
        "                      temp=name_1(i)\n",
        "                      name_1(i)=name_1(ipointer)\n",
        "                      name_1(ipointer)=temp\n",
        "\n",
        "              end if swap\n",
        "\n",
        "\n",
        "\n",
        "              end do sort_outer\n",
        "\n",
        "              P_output: do i=1,dimen\n",
        "\n",
        "              print*,name_1(i)\n",
        "\n",
        "              end do P_output\n",
        "\n",
        "\n",
        "              return\n",
        "\n",
        "\n",
        "              end subroutine store\n",
        "\n",
        "     !.........................End Module ................................\n",
        "\n",
        "              end module name_sorting\n",
        "\n",
        "\n"
      ],
      "metadata": {
        "id": "CKGHpsc-sxU4"
      },
      "execution_count": null,
      "outputs": []
    },
    {
      "cell_type": "markdown",
      "source": [
        "## 4: Soho Pixel Speed"
      ],
      "metadata": {
        "id": "LF7AoXtKP0ln"
      }
    },
    {
      "cell_type": "markdown",
      "source": [
        "Main Program"
      ],
      "metadata": {
        "id": "onUQpoW_QItJ"
      }
    },
    {
      "cell_type": "code",
      "source": [
        "program rio\n",
        "\n",
        "      use pixs\n",
        "      implicit none\n",
        "\n",
        "      print*,\"Enter the number of data\"\n",
        "      read(*,*)dimen\n",
        "\n",
        "      call pix_speed()\n",
        "\n",
        "      end program rio"
      ],
      "metadata": {
        "id": "Zw0evzYEP5Fx"
      },
      "execution_count": null,
      "outputs": []
    },
    {
      "cell_type": "markdown",
      "source": [
        "Module"
      ],
      "metadata": {
        "id": "f2X3BdslQMTO"
      }
    },
    {
      "cell_type": "code",
      "source": [
        "module pixs\n",
        "\n",
        "      implicit none\n",
        "      save\n",
        "\n",
        "      integer::dimen\n",
        "      character(len=20)::filename\n",
        "\n",
        "      contains\n",
        "\n",
        "              subroutine pix_speed()\n",
        "\n",
        "                      real,dimension(dimen)::x,y,th,tm,tmm,thh\n",
        "                      real,dimension(dimen-1)::sx,sy\n",
        "                      real::sumx = 0 ,sumy = 0\n",
        "                      real::pixx,pixy\n",
        "                      real::temp_x,temp_y,temp_t\n",
        "                      integer::i\n",
        "                      integer::stat\n",
        "                      character(len=80)::msg\n",
        "\n",
        "                      print*,\"Enter the name of file to store data\"\n",
        "                      read(*,*)filename\n",
        "\n",
        "                      loop_1:do i=1,dimen\n",
        "\n",
        "                      write(*,100)\"Enter the value of x,y and \",&\n",
        "                              \"time in hour and minute\",i\n",
        "                      100 format(2A,2x,I2.2)\n",
        "                      read(*,*)x(i),y(i),th(i),tm(i)\n",
        "                      thh(i)=th(i)\n",
        "                      tmm(i)=tm(i)\n",
        "                      th(i)=th(i)*60.0\n",
        "                      tm(i)=tm(i)+th(i)\n",
        "\n",
        "\n",
        "                      end do loop_1\n",
        "\n",
        "                      loop_2 : do i=1,dimen-1\n",
        "\n",
        "                      temp_x=x(i+1)-x(i)\n",
        "                      temp_y=y(i+1)-y(i)\n",
        "                      temp_t=tm(i+1)-tm(i)\n",
        "\n",
        "                      sx(i) = temp_x/temp_t\n",
        "                      sy(i) = temp_y/temp_t\n",
        "\n",
        "\n",
        "\n",
        "                      end do loop_2\n",
        "\n",
        "                      loop_3 : do i=1, dimen-1\n",
        "\n",
        "                      sumx = sumx + sx(i)\n",
        "                      sumy = sumy + sy(i)\n",
        "\n",
        "                      end do loop_3\n",
        "\n",
        "                      open(3,file=filename,status='new',action='write',iostat=stat,iomsg=msg)\n",
        "\n",
        "                      first_if: if (stat==0) then\n",
        "\n",
        "                              loop_4 : do i=1,dimen\n",
        "\n",
        "                              write(3,*)thh(i),tmm(i),x(i),y(i)\n",
        "\n",
        "\n",
        "\n",
        "                              end do loop_4\n",
        "\n",
        "\n",
        "\n",
        "                              write(*,101)\"The file\",filename,\"is created\"\n",
        "                              101 format(3(A,x))\n",
        "\n",
        "                      else first_if\n",
        "\n",
        "                      write(*,101)\"The file\",filename,\"is not created\"\n",
        "                      print*,\"ERROR :\",trim(msg)\n",
        "\n",
        "                      end if first_if\n",
        "\n",
        "\n",
        "\n",
        "                     pixx=(sumx/real(dimen-1))\n",
        "                     pixy=(sumy/real(dimen-1))\n",
        "\n",
        "                     print*,\"x pixel speed = \",pixx\n",
        "                     print*,\"y pixel speed = \",pixy\n",
        "\n",
        "\n",
        "\n",
        "                      end subroutine pix_speed\n",
        "\n",
        "                      end module pixs\n",
        "\n",
        "\n",
        "\n"
      ],
      "metadata": {
        "id": "vxLZj1XMQBIQ"
      },
      "execution_count": null,
      "outputs": []
    },
    {
      "cell_type": "markdown",
      "source": [
        "## 5: read multiple rows"
      ],
      "metadata": {
        "id": "bIEW_7eg7cJc"
      }
    },
    {
      "cell_type": "markdown",
      "source": [
        "Data program"
      ],
      "metadata": {
        "id": "gJF24kFp7x8N"
      }
    },
    {
      "cell_type": "code",
      "source": [
        "program rio\n",
        "\n",
        "    implicit none\n",
        "\n",
        "    integer :: i\n",
        "    character(len=20) :: filename\n",
        "    integer :: stat\n",
        "    character(len=80) :: msg\n",
        "\n",
        "    print*,\"Enter the filename to store the data\"\n",
        "    read(*,*)filename\n",
        "\n",
        "    open(3, file = filename, status = \"new\", action = \"write\",  iostat = stat, iomsg = msg)\n",
        "\n",
        "    if (  stat == 0 ) then\n",
        "\n",
        "        print*,\"The file \",filename,\" is created\"\n",
        "\n",
        "        print_loop :do i=1,20\n",
        "\n",
        "            write(3,*)i,i**2,i**3\n",
        "            !100 format(I3.3,2x,I5.5)\n",
        "\n",
        "\n",
        "        end do print_loop\n",
        "\n",
        "    else\n",
        "\n",
        "        print*,\"ERROR :\",trim(msg)\n",
        "        print*,\"The file \",filename,\" is not created\"\n",
        "\n",
        "    end if\n",
        "\n",
        "end program rio\n",
        "\n"
      ],
      "metadata": {
        "id": "0_t8_fJz7lMt"
      },
      "execution_count": null,
      "outputs": []
    },
    {
      "cell_type": "markdown",
      "source": [
        "Reading Program"
      ],
      "metadata": {
        "id": "7eGTTfbH73o3"
      }
    },
    {
      "cell_type": "code",
      "source": [
        "program rio\n",
        "\n",
        "    implicit none\n",
        "\n",
        "    integer :: i\n",
        "    character(len=20) :: filename\n",
        "    integer :: stat\n",
        "    character(len=80) :: msg\n",
        "    integer :: x,y\n",
        "\n",
        "    print*,\"Enter the name of file\"\n",
        "    read(*,*)filename\n",
        "\n",
        "\n",
        "    open(3, file = filename, status = 'old', action = 'read', iostat = stat, iomsg = msg)\n",
        "\n",
        "    first_if: if ( stat == 0) then\n",
        "\n",
        "        do\n",
        "\n",
        "            read(3,*,iostat = stat)x,y\n",
        "            print*,x,y\n",
        "\n",
        "            if ( stat /= 0) exit\n",
        "\n",
        "        end do\n",
        "\n",
        "    else first_if\n",
        "\n",
        "        print*,\"Error :\",trim(msg)\n",
        "\n",
        "    end if  first_if\n",
        "\n",
        "    close(3)\n",
        "\n",
        "end program rio"
      ],
      "metadata": {
        "id": "XGk7Guo977Wh"
      },
      "execution_count": null,
      "outputs": []
    },
    {
      "cell_type": "markdown",
      "source": [
        "Reading Program\n",
        "\n",
        "Data set is read as character"
      ],
      "metadata": {
        "id": "GJ5-gW92CloV"
      }
    },
    {
      "cell_type": "code",
      "source": [
        "program rio\n",
        "\n",
        "    implicit none\n",
        "\n",
        "    integer :: i\n",
        "    character(len=20) :: filename\n",
        "    integer :: stat\n",
        "    character(len=80) :: msg\n",
        "    character(len=20) :: x,y !.......................................( Main focus )\n",
        "\n",
        "    print*,\"Enter the name of file\"\n",
        "    read(*,*)filename\n",
        "\n",
        "\n",
        "    open(3, file = filename, status = 'old', action = 'read', iostat = stat, iomsg = msg)\n",
        "\n",
        "    first_if: if ( stat == 0) then\n",
        "\n",
        "        do\n",
        "\n",
        "            read(3,*,iostat = stat)x,y\n",
        "            print*,x,y\n",
        "\n",
        "            if ( stat /= 0) exit\n",
        "\n",
        "        end do\n",
        "\n",
        "    else first_if\n",
        "\n",
        "        print*,\"Error :\",trim(msg)\n",
        "\n",
        "    end if  first_if\n",
        "\n",
        "    close(3)\n",
        "\n",
        "end program rio"
      ],
      "metadata": {
        "id": "hmkN6ZnRCwV4"
      },
      "execution_count": null,
      "outputs": []
    },
    {
      "cell_type": "markdown",
      "source": [
        "## 6: open website"
      ],
      "metadata": {
        "id": "xBptuja6xlkx"
      }
    },
    {
      "cell_type": "code",
      "source": [
        "program rio\n",
        "\n",
        "    implicit none\n",
        "\n",
        "    character(len=20)::name\n",
        "\n",
        "    print*,\"Enter the name\"\n",
        "    read(*,*)name\n",
        "\n",
        "\n",
        "\n",
        "\n",
        "    call system(trim(name))\n",
        "\n",
        "end program rio"
      ],
      "metadata": {
        "id": "bozpmrxTxt4F"
      },
      "execution_count": null,
      "outputs": []
    },
    {
      "cell_type": "markdown",
      "source": [
        "## 7: Reading problem"
      ],
      "metadata": {
        "id": "DhSPfyPD6eKN"
      }
    },
    {
      "cell_type": "code",
      "source": [
        "program rio\n",
        "\n",
        "      implicit none\n",
        "\n",
        "      integer,dimension(5,4) :: val\n",
        "      integer :: stat, stat1\n",
        "      character (len=80) :: msg, msg1\n",
        "      character (len=20) :: filename\n",
        "      integer :: i,j\n",
        "\n",
        "      print*,\"Enter the filename\"\n",
        "      read(*,*)filename\n",
        "\n",
        "      open(3,file=filename,status=\"new\",action =\"write\", &\n",
        "              iostat= stat1, iomsg = msg1)\n",
        "\n",
        "      if_1 :if ( stat1 == 0) then\n",
        "\n",
        "      print*, \"The file is written\"\n",
        "\n",
        "      do_1 :do i=1,4\n",
        "\n",
        "      write(3,*)i,i,i,i\n",
        "\n",
        "      end do do_1\n",
        "\n",
        "      else  if_1\n",
        "\n",
        "              print*,\"Error in writing\",trim(msg1)\n",
        "\n",
        "      end if if_1\n",
        "\n",
        "      close(3)\n",
        "\n",
        "\n",
        "\n",
        "      open(2, file = filename, status = \"old\", &\n",
        "              action = \"read\", iostat = stat, iomsg = msg)\n",
        "\n",
        "      if ( stat == 0 ) then\n",
        "\n",
        "      print*,\"The file\",trim(filename),\" is opened\"\n",
        "\n",
        "      loop_1 : do i = 1,5\n",
        "\n",
        "      loop_2 : do j = 1,4\n",
        "\n",
        "      read(2,*,iostat = stat) val(i,j)\n",
        "            end do loop_2\n",
        "\n",
        "      end do loop_1\n",
        "\n",
        "      else\n",
        "              print*,\"Error :\",trim(msg)\n",
        "\n",
        "      end if\n",
        "\n",
        "      close(2)\n",
        "\n",
        "      write(*,33)val\n",
        "      33 format(4(I2,x))\n",
        "\n",
        "      end program rio\n",
        "\n",
        "\n"
      ],
      "metadata": {
        "id": "ho3Xw_sr6jx0"
      },
      "execution_count": null,
      "outputs": []
    },
    {
      "cell_type": "markdown",
      "source": [
        "## 8: file opening"
      ],
      "metadata": {
        "id": "qiIy4zGh6igx"
      }
    },
    {
      "cell_type": "code",
      "source": [
        "program rio\n",
        "\n",
        "      implicit none\n",
        "\n",
        "      character(len=20) :: filename\n",
        "      character(len=80) :: msg\n",
        "      integer :: stat\n",
        "      integer :: i\n",
        "\n",
        "\n",
        "      print*,\"Enter the name of the file\"\n",
        "      read(*,*)filename\n",
        "\n",
        "      open(3, file=filename, status=\"new\", action=\"write\", &\n",
        "              iostat= stat, iomsg= msg)\n",
        "\n",
        "      if( stat == 0 ) then\n",
        "\n",
        "              print*,\"The file \",trim(filename),\" is open\"\n",
        "\n",
        "              do i=1,20\n",
        "\n",
        "              write(3,100)i,i**2\n",
        "              write(*,100)i,i**2\n",
        "              100 format(I2,3x,I5)\n",
        "\n",
        "              end do\n",
        "\n",
        "      else\n",
        "              print*,\"Error\",trim(msg)\n",
        "\n",
        "      end if\n",
        "\n",
        "     close(3)\n",
        "end program rio\n"
      ],
      "metadata": {
        "id": "1KK-m6CazjEf"
      },
      "execution_count": null,
      "outputs": []
    },
    {
      "cell_type": "markdown",
      "source": [
        "## 9: Soho PS gnuplot"
      ],
      "metadata": {
        "id": "7F03eBpNfgI-"
      }
    },
    {
      "cell_type": "code",
      "source": [
        "program rio\n",
        "\n",
        "      implicit none\n",
        "\n",
        "      character(len=20) :: filename\n",
        "      character(len=80) :: msg,msg_2\n",
        "      integer :: stat,astat,stat_2\n",
        "      real,allocatable,dimension(:,:) :: box\n",
        "      real :: temp,temp_x,temp_y,temp_t,sum_x,sum_y\n",
        "      integer :: nval=0\n",
        "      integer :: i\n",
        "\n",
        "      print*, \"Enter the filename\"\n",
        "      read(*,*) filename\n",
        "\n",
        "      open(3, file=filename, status='unknown', action='read', &\n",
        "             iostat=stat, iomsg=msg)\n",
        "\n",
        "      first_if : if ( stat==0) then\n",
        "\n",
        "             Num_loop: do\n",
        "\n",
        "             read(3,*,iostat=stat)temp\n",
        "             if( stat /= 0)exit\n",
        "             nval = nval+1\n",
        "\n",
        "             end do Num_loop\n",
        "\n",
        "             allocate(box(4,nval),stat=astat)\n",
        "\n",
        "             alloca_if : if ( astat==0 ) then\n",
        "\n",
        "             print*,\"=====Allocation is done=======\"\n",
        "             rewind(3)\n",
        "             read(3,*)box\n",
        "\n",
        "             print*,\"====file is read=======\"\n",
        "\n",
        "             write(*,100)box\n",
        "             100 format(4(f7.2,2x))\n",
        "\n",
        "             close(3)\n",
        "\n",
        "             forall( i=1:nval)\n",
        "                    box(1,i)=box(1,i)*60\n",
        "                    box(2,i)=box(2,i)+box(1,i)\n",
        "            end forall\n",
        "\n",
        "            print*,\"Enter the name to save the data\"!........................................updation required\n",
        "            read(*,*)filename\n",
        "\n",
        "            open(2, file=filename, status='unknown', action='readwrite', &\n",
        "                   iostat=stat_2, iomsg=msg_2)\n",
        "\n",
        "           file_2_if: if ( stat_2 == 0) then\n",
        "\n",
        "                  f2loop_1: do i=1, nval-1\n",
        "\n",
        "                  temp_x=box(3,i+1)-box(3,i)\n",
        "                  temp_y=box(4,i+1)-box(4,i)\n",
        "                  temp_t=box(2,i+1)-box(2,i)\n",
        "\n",
        "\n",
        "                 write(2,*)box(2,i+1),temp_x,temp_y\n",
        "\n",
        "\n",
        "                 end do f2loop_1\n",
        "\n",
        "           else file_2_if\n",
        "\n",
        "                   print*,\"The file2 is not open\"\n",
        "\n",
        "           end if file_2_if\n",
        "\n",
        "\n",
        "\n",
        "             deallocate(box)\n",
        "\n",
        "             call system('gnuplot -p script_soho.plt')\n",
        "             call system('gnuplot -p script2_soho.plt')\n",
        "\n",
        "     else alloca_if\n",
        "\n",
        "             print*,\"====Allocation is not done======\"\n",
        "\n",
        "     end if alloca_if\n",
        "\n",
        "     else first_if\n",
        "\n",
        "             print*,\"The file is not read\"\n",
        "\n",
        "     end if first_if\n",
        "\n",
        "            end program rio\n",
        "\n"
      ],
      "metadata": {
        "id": "tME7GqmwfnhN"
      },
      "execution_count": null,
      "outputs": []
    },
    {
      "cell_type": "markdown",
      "source": [
        "Main Code"
      ],
      "metadata": {
        "id": "G9DNvdFEgCpa"
      }
    },
    {
      "cell_type": "markdown",
      "source": [
        "Script file for path plot"
      ],
      "metadata": {
        "id": "1WCyxC9ygHKm"
      }
    },
    {
      "cell_type": "code",
      "source": [
        "set title \"soho plot\"\n",
        "set xlabel 'x pixel'\n",
        "set ylabel 'y pixel'\n",
        "set xrange [250:500]\n",
        "set yrange [500:220]\n",
        "plot 'soho_230131.txt' u 3:4 w lp lw 2 lc 4\n"
      ],
      "metadata": {
        "id": "PI9KTlmdgP9F"
      },
      "execution_count": null,
      "outputs": []
    },
    {
      "cell_type": "markdown",
      "source": [
        "Script file for pixelspeed change plot"
      ],
      "metadata": {
        "id": "Zpu-sm3PggFM"
      }
    },
    {
      "cell_type": "code",
      "source": [
        "set title 'plot 2'\n",
        "set xlabel 'time'\n",
        "set ylabel 'time'\n",
        "plot 'soho_pix.txt' u 1:2 w lp lw 2 lc 5 title 'xaxis','' u 1:3 w lp lw 2 lc 6 title 'yaxis'\n"
      ],
      "metadata": {
        "id": "DbLID0eLgm-x"
      },
      "execution_count": null,
      "outputs": []
    },
    {
      "cell_type": "markdown",
      "source": [
        "## 10: Code Creator"
      ],
      "metadata": {
        "id": "4QNflJ8upRx-"
      }
    },
    {
      "cell_type": "code",
      "source": [
        "program rio\n",
        "\n",
        "    implicit none\n",
        "    character(len=20) :: filename\n",
        "    character(len=80) :: msg\n",
        "    integer :: stat\n",
        "    character(len=80) :: fun\n",
        "    real :: value\n",
        "\n",
        "    print*,\"Enter the filename\"\n",
        "    read(*,*) filename\n",
        "\n",
        "    print*,\"\"\n",
        "    open( 3, file=filename, status='unknown', action='readwrite', &\n",
        "          iostat=stat, iomsg=msg)\n",
        "\n",
        "          if ( stat==0 ) then\n",
        "            !.............................................\n",
        "\n",
        "            print*,\"Enter the expression\"\n",
        "            read(*,*)fun\n",
        "            print*,\"Enter the value of x\"\n",
        "            read(*,*)value\n",
        "            !.............................................\n",
        "            write(3,*)\"program rio\"\n",
        "            write(3,*)\" implicit none\"\n",
        "            write(3,*)\"real :: x\"\n",
        "            write(3,*)\"real :: k\"\n",
        "            write(3,\"(/)\")\n",
        "            write(3,*)\"x = \",value\n",
        "            write(3,*)\"k = \",fun\n",
        "            write(3,*)\"print*,k\"\n",
        "            write(3,*)\"end program rio\"\n",
        "\n",
        "            print*,\"The file \",trim(filename),\" is created\"\n",
        "\n",
        "          else\n",
        "            print*,trim(msg)\n",
        "\n",
        "          end if\n",
        "\n",
        "        end program rio"
      ],
      "metadata": {
        "id": "MPSoDVAdpYpo"
      },
      "execution_count": null,
      "outputs": []
    },
    {
      "cell_type": "markdown",
      "source": [
        "## 11: Colum_reader"
      ],
      "metadata": {
        "id": "SEnZ_Co047eK"
      }
    },
    {
      "cell_type": "code",
      "source": [
        "program rio\n",
        "\n",
        "      implicit none\n",
        "\n",
        "      character(len=20) :: filename\n",
        "      character(len=80) :: msg\n",
        "      integer :: stat\n",
        "      integer :: temp\n",
        "      integer :: nval=0, i\n",
        "      integer,dimension(6) :: box\n",
        "\n",
        "      print*,\"Enter the file name\"\n",
        "      read(*,*) filename\n",
        "\n",
        "      open (3, file=filename, status='unknown', &\n",
        "              iostat=stat , iomsg=msg )\n",
        "\n",
        "      if ( stat == 0 ) then\n",
        "\n",
        "      read_do: do\n",
        "\n",
        "       read(3,100,advance='no',iostat=stat)temp\n",
        "       100 format(I5,2x,I5)\n",
        "       if ( stat /= 0 ) exit\n",
        "       nval=nval+1\n",
        "       print*,temp\n",
        "\n",
        "\n",
        "        end do read_do\n",
        "\n",
        "      else\n",
        "\n",
        "             print*, trim(msg)\n",
        "\n",
        "       end if\n",
        "\n",
        "       print*,\"The total number of elements = \",nval\n",
        "\n",
        "       end program rio\n",
        "\n",
        "\n",
        "\n"
      ],
      "metadata": {
        "id": "vcLH7n-O5GUd"
      },
      "execution_count": null,
      "outputs": []
    },
    {
      "cell_type": "markdown",
      "source": [
        "# Assignment"
      ],
      "metadata": {
        "id": "u_TfQk6RE058"
      }
    },
    {
      "cell_type": "markdown",
      "source": [
        "## Temperatur of city"
      ],
      "metadata": {
        "id": "oCZfD_GwE5Vw"
      }
    },
    {
      "cell_type": "code",
      "source": [
        "program rio\n",
        "\n",
        " implicit none\n",
        "\n",
        " real :: temp\n",
        "\n",
        " print*,\"Enter the value of temperature in Fahrenheit\"\n",
        " read(*,*) temp\n",
        "\n",
        " write(*,100)((temp - 32.)*(5./9.))\n",
        " 100 format(\"The temperature in celcius scale = \",f5.1)\n",
        "\n",
        " end program rio"
      ],
      "metadata": {
        "id": "S0Cf4DcmFT6y"
      },
      "execution_count": null,
      "outputs": []
    },
    {
      "cell_type": "markdown",
      "source": [
        "## Sine and Cosine"
      ],
      "metadata": {
        "id": "5yblnTlDFZho"
      }
    },
    {
      "cell_type": "code",
      "source": [
        "program angle\n",
        "\n",
        " implicit none\n",
        "\n",
        " real :: dangle\n",
        " real :: result_1\n",
        "\n",
        " print*,\"Enter the angle in degree\"\n",
        " read(*,*) dangle\n",
        "\n",
        "\n",
        " result_1= (sind(dangle)**2 + cosd(dangle)**2)\n",
        "\n",
        " write(*,100)dangle,dangle,result_1\n",
        " 100 format (//,\"sin(\",f5.1,\")**2 + cos(\",f5.1,\")**2 = \",f15.9,//)\n",
        "\n",
        "\n",
        "\n",
        " if  (result_1 < 1. .and. result_1 > 0.9) then\n",
        "\n",
        "  print*, result_1,\" can be approximated as 1 \"\n",
        "  write(*,102)dangle,dangle\n",
        "  102 format(/,\"Hence sin(\",f5.1,\")**2 + cos(\",f5.1,\")**2 = 1\")\n",
        "\n",
        "  else if ( ceiling(result_1) == 1 ) then\n",
        "\n",
        "  write(*,101)dangle,dangle\n",
        "  101 format(\"sin(\",f5.1,\")**2 + cos(\",f5.1,\")**2 = 1\")\n",
        "\n",
        "  else\n",
        "\n",
        "  print*,\"Hence sin(\",dangle,\")**2 + cos(\",dangle,\")**2 /= \",1\n",
        "\n",
        " end if\n",
        "\n",
        " end program angle\n"
      ],
      "metadata": {
        "id": "VRxQLWYnFjN_"
      },
      "execution_count": null,
      "outputs": []
    },
    {
      "cell_type": "markdown",
      "source": [
        "## Cartesian to Polar"
      ],
      "metadata": {
        "id": "piZNzL1TFu_-"
      }
    },
    {
      "cell_type": "code",
      "source": [
        "program Cartesian_polar\n",
        "\n",
        "  implicit none\n",
        "\n",
        "  real :: x,y ! Polar Coordinates\n",
        "  real :: r,theta ! Cartesian coordinates\n",
        "  real,parameter :: deg = (180.0/(2*asin(1.0)))\n",
        "\n",
        "  print*,\"Enter the value of x and y coordinates\"\n",
        "  read(*,*) x,y\n",
        "\n",
        "  write(*,\"(/)\")\n",
        "  write(*,101)\"x\",x\n",
        "  write(*,101)\"y\",y\n",
        "  101 format(\"The value of \",A,\" = \",f5.1,/)\n",
        "\n",
        "  r = sqrt(x**2+y**2)\n",
        "  theta =  atan ( y/x )\n",
        "\n",
        "  write(*,100)r,(theta*deg)\n",
        "  100 format(/,\"The Polar Coordinates are\",/,\"The value of r =\",f9.3,/, &\n",
        "  \"The value of theta =\",f9.3)\n",
        "\n",
        "\n",
        "  end program Cartesian_polar"
      ],
      "metadata": {
        "id": "sOBGlHUxF0rv"
      },
      "execution_count": null,
      "outputs": []
    },
    {
      "cell_type": "markdown",
      "source": [
        "## Odd or Even"
      ],
      "metadata": {
        "id": "DJHVyWkWF8C5"
      }
    },
    {
      "cell_type": "code",
      "source": [
        "program odd_even\n",
        "\n",
        "  implicit none\n",
        "\n",
        "  integer(kind=16) :: x\n",
        "\n",
        "  print*, \"Enter the value of Integer\"\n",
        "  read(*,*) x\n",
        "\n",
        "  100 format(/,I0,\" is \",A)\n",
        "\n",
        "  if ( mod(x,2) == 1 ) then\n",
        "\n",
        "    write(*,100)x,\"odd\"\n",
        "\n",
        "  else\n",
        "\n",
        "    write(*,100)x,\"even\"\n",
        "\n",
        "  end if\n",
        "\n",
        "end program odd_even"
      ],
      "metadata": {
        "id": "C-Fnw1o3GA2X"
      },
      "execution_count": null,
      "outputs": []
    },
    {
      "cell_type": "markdown",
      "source": [
        "## Youngest of Three"
      ],
      "metadata": {
        "id": "D6AC86P5GNDC"
      }
    },
    {
      "cell_type": "code",
      "source": [
        "program age\n",
        "\n",
        "  implicit none\n",
        "\n",
        "  integer :: i,j,pointer\n",
        "  integer,dimension(3) :: a\n",
        "  character(len=20),dimension(3) :: b\n",
        "  integer :: temp_a\n",
        "  character(len=20) ::temp_n\n",
        "\n",
        "  do i=1,3\n",
        "\n",
        "    print*,\"Enter the Name and age respectively\"\n",
        "    read(*,*) b(i),a(i)\n",
        "\n",
        "  end do\n",
        "\n",
        "  outer: do i=1,2\n",
        "\n",
        "    pointer = i\n",
        "\n",
        "    inner: do j=i+1,3\n",
        "\n",
        "      if ( a(pointer) > a(j) ) then\n",
        "\n",
        "       pointer = j\n",
        "\n",
        "      end if\n",
        "\n",
        "\n",
        "    end do inner\n",
        "\n",
        "\n",
        "    if ( pointer /= i) then\n",
        "\n",
        "      temp_a = a(i)\n",
        "      temp_n = b(i)\n",
        "\n",
        "      a(i) = a(pointer)\n",
        "      b(i) = b(pointer)\n",
        "\n",
        "      a(pointer)=temp_a\n",
        "      b(pointer)=temp_n\n",
        "\n",
        "     end if\n",
        "\n",
        "\n",
        "  end do outer\n",
        "\n",
        "  do i=1,3\n",
        "\n",
        "  write(*,101)b(i),a(i)\n",
        "  101 format(A,2x,I2)\n",
        "\n",
        "  end do\n",
        "\n",
        "    write(*,\"(//,'The younger is ',A)\")b(1)\n",
        "\n",
        "  end program age"
      ],
      "metadata": {
        "id": "r69wl2CgGPzb"
      },
      "execution_count": null,
      "outputs": []
    },
    {
      "cell_type": "markdown",
      "source": [
        "## Factorial"
      ],
      "metadata": {
        "id": "vl6-k3Wdj1O3"
      }
    },
    {
      "cell_type": "code",
      "source": [
        "program factorial\n",
        "\n",
        "        implicit none\n",
        "\n",
        "        real(kind=16) :: x\n",
        "        integer :: i\n",
        "        integer :: j\n",
        "\n",
        "        print*,\"Enter the number you want to calculate the factorial\"\n",
        "        read(*,*) j\n",
        "\n",
        "        x=1\n",
        "\n",
        "        do i=1,j\n",
        "\n",
        "        x=x*i\n",
        "\n",
        "        end do\n",
        "\n",
        "        print*,\"The factorial of \",j,\" = \",x\n",
        "\n",
        "        end program factorial"
      ],
      "metadata": {
        "id": "PQHiqIAdj4ZO"
      },
      "execution_count": null,
      "outputs": []
    },
    {
      "cell_type": "markdown",
      "source": [
        "## Exponential"
      ],
      "metadata": {
        "id": "9D1nETuelcRu"
      }
    },
    {
      "cell_type": "code",
      "source": [
        "program exponential\n",
        "\n",
        "        real :: x\n",
        "        integer :: y\n",
        "        real(kind=16) :: z\n",
        "\n",
        "        print*,\"Enter the value of two number you want to calculate the exponential\"\n",
        "        read(*,*) x,y\n",
        "\n",
        "        z=x**y\n",
        "\n",
        "        print*,x,\"**\",y,\" = \",z\n",
        "\n",
        "        end program exponential"
      ],
      "metadata": {
        "id": "wYbjBR6qleuF"
      },
      "execution_count": null,
      "outputs": []
    },
    {
      "cell_type": "markdown",
      "source": [
        "## Matrix"
      ],
      "metadata": {
        "id": "sfkMO_1-Gwps"
      }
    },
    {
      "cell_type": "code",
      "source": [
        "program matrix\n",
        "\n",
        "  integer,dimension(4,4) :: a\n",
        "  integer :: i,j\n",
        "\n",
        "  inner: do i=1,4\n",
        "\n",
        "    outer : do j=1,4\n",
        "\n",
        "      a(i,j) = i+(2*j)\n",
        "\n",
        "    end do outer\n",
        "\n",
        "  end do inner\n",
        "\n",
        "  write(*,10) a\n",
        "  10 format(4(I3,x))\n",
        "\n",
        "  end program matrix\n"
      ],
      "metadata": {
        "id": "EiS5G1RIGzid"
      },
      "execution_count": null,
      "outputs": []
    },
    {
      "cell_type": "markdown",
      "source": [
        "## Prime  Number"
      ],
      "metadata": {
        "id": "SpmIB0ZALyFz"
      }
    },
    {
      "cell_type": "code",
      "source": [
        "program prime_number\n",
        "\n",
        "  implicit none\n",
        "\n",
        "  integer :: i\n",
        "  integer :: x\n",
        "\n",
        "  print*,\"enter the number you want to check prime number\"\n",
        "  read(*,*)x\n",
        "\n",
        "  do i=2,x\n",
        "\n",
        "  if ( mod(x,i) == 0 .and. i == x ) then\n",
        "\n",
        "  print*,\"The number \",x,\" is a prime number\"\n",
        "\n",
        "  else if ( mod(x,i) == 0 .and. i /= x ) then\n",
        "\n",
        "  print*,\"Not a prime number\"\n",
        "  print*,x,\" is divisible by \",i\n",
        "\n",
        "  exit\n",
        "\n",
        "  end if\n",
        "\n",
        "  end do\n",
        "\n",
        "  end program prime_number"
      ],
      "metadata": {
        "id": "tVAEMFVfL2It"
      },
      "execution_count": null,
      "outputs": []
    },
    {
      "cell_type": "markdown",
      "source": [
        "##  Prime number from 1 to 300"
      ],
      "metadata": {
        "id": "3mOgV_i74dnQ"
      }
    },
    {
      "cell_type": "code",
      "source": [
        "program prime_number\n",
        "\n",
        "  implicit none\n",
        "\n",
        "  integer :: i\n",
        "  integer :: x\n",
        "  logical :: check\n",
        "\n",
        "\n",
        "  print*,\"The  prime numbers from 1 to 300 are \"\n",
        "  write(*,100)1\n",
        "\n",
        "  outer : do x=2,300\n",
        "\n",
        "  inner :do i=2,x\n",
        "\n",
        "  if ( mod(x,i) == 0 .and. i == x ) then\n",
        "\n",
        "  check = .true.\n",
        "\n",
        "  else if ( mod(x,i) == 0 .and. i /= x ) then\n",
        "\n",
        "  check = .false.\n",
        "\n",
        "  exit inner\n",
        "\n",
        "  end if\n",
        "\n",
        "  end do inner\n",
        "\n",
        "  if ( check ) write(*,100)x\n",
        "  100 format(I4)\n",
        "\n",
        "  end do outer\n",
        "\n",
        "  end program prime_number"
      ],
      "metadata": {
        "id": "LQtRPh5R4iOF"
      },
      "execution_count": null,
      "outputs": []
    },
    {
      "cell_type": "markdown",
      "source": [
        "## Hydrogen spectrum"
      ],
      "metadata": {
        "id": "hA1iISXr-1KF"
      }
    },
    {
      "cell_type": "code",
      "source": [
        "program H_spectra\n",
        "\n",
        "  implicit none\n",
        "\n",
        "  real,parameter :: rh=109677\n",
        "  real :: n1,n2\n",
        "  real :: wave_number\n",
        "\n",
        "  print*,\"Enter the value of n1\"\n",
        "  read(*,*)n1\n",
        "\n",
        "  print*,\"Enter the value of n2\"\n",
        "  read(*,*)n2\n",
        "\n",
        "  if ( n1 < n2) then\n",
        "\n",
        "  wave_number = rh*((1.0/(n1**2))-(1.0/(n2**2)))*10\n",
        "\n",
        "\n",
        "  print*,\"The wavenumber for the corresponding transition from \",n1, &\n",
        "  \" to \",n2,\" = \",wave_number,\" cm^-1 \"\n",
        "  print*,\"The corresponding wave length = \",(1/wave_number),\" micrometer \"\n",
        "\n",
        "  else\n",
        "\n",
        "  print*,\"n1 should be less than n2\"\n",
        "\n",
        "  end if\n",
        "\n",
        "end program H_spectra\n"
      ],
      "metadata": {
        "id": "WuvTKSfr-5Wb"
      },
      "execution_count": null,
      "outputs": []
    },
    {
      "cell_type": "markdown",
      "source": [
        "## Sorting"
      ],
      "metadata": {
        "id": "Yk7b5t2d1MKQ"
      }
    },
    {
      "cell_type": "code",
      "source": [
        "program ascending\n",
        "\n",
        "      implicit none\n",
        "\n",
        "      real,allocatable,dimension(:) :: box\n",
        "      character(len=20) :: filename\n",
        "      character(len=80) :: msg,emsg\n",
        "      integer :: istat,astat\n",
        "      real :: temp,temp_1\n",
        "      integer :: nval =0\n",
        "      integer :: i,j,ipointer\n",
        "\n",
        "      print*,\"Enter the name of the file\"\n",
        "      read(*,*) filename\n",
        "\n",
        "      open(3, file=filename, status='unknown', action='read', &\n",
        "              iostat=istat, iomsg=msg)\n",
        "\n",
        "      read_loop: if ( istat==0 ) then\n",
        "\n",
        "              print*,\"The file is open\"\n",
        "\n",
        "              hi: do\n",
        "\n",
        "              read(3,*,iostat=istat) temp\n",
        "              if ( istat /= 0 ) exit\n",
        "              nval = nval+1\n",
        "\n",
        "\n",
        "              end do hi\n",
        "\n",
        "\n",
        "       allocate (box(nval), stat=astat, errmsg=emsg)\n",
        "\n",
        "       allocate_if: if ( astat==0 ) then\n",
        "\n",
        "       rewind(3)\n",
        "\n",
        "       read(3,*) box\n",
        "\n",
        "\n",
        "       print*,\"The file data is allocated in box\"\n",
        "\n",
        "       outer:do i=1,nval-1\n",
        "\n",
        "       ipointer = i\n",
        "\n",
        "       inner: do j=i+1,nval\n",
        "\n",
        "       inner_if: if ( box(ipointer) > box(j) ) then\n",
        "\n",
        "            ipointer = j\n",
        "\n",
        "       end if inner_if\n",
        "\n",
        "       end do inner\n",
        "\n",
        "       outer_if :if ( ipointer /= i) then\n",
        "\n",
        "               temp_1 = box(i)\n",
        "               box(i) = box(ipointer)\n",
        "               box(ipointer) = temp_1\n",
        "\n",
        "\n",
        "       end if outer_if\n",
        "\n",
        "       end do outer\n",
        "\n",
        "       write(*,100) box\n",
        "       100 format(f5.1)\n",
        "\n",
        "       deallocate(box)\n",
        "\n",
        "       else allocate_if\n",
        "\n",
        "               print*,\"The file allocation failed\"\n",
        "               print*,trim(emsg)\n",
        "\n",
        "       end if allocate_if\n",
        "\n",
        "      else read_loop\n",
        "\n",
        "               print*,trim(msg)\n",
        "\n",
        "       end if read_loop\n",
        "\n",
        "\n",
        "\n",
        "       end program ascending\n",
        "\n",
        "\n"
      ],
      "metadata": {
        "id": "CIikxvPG1PI8"
      },
      "execution_count": null,
      "outputs": []
    },
    {
      "cell_type": "markdown",
      "source": [
        "## matrix_2 (5x5)"
      ],
      "metadata": {
        "id": "n3fhlCXN3c-f"
      }
    },
    {
      "cell_type": "code",
      "source": [
        "program matrix_2\n",
        "\n",
        "      implicit none\n",
        "      real,dimension(5,5) :: box\n",
        "      integer :: i,j\n",
        "\n",
        "      outer:do i=1,5\n",
        "\n",
        "      inner : do j=1,5\n",
        "\n",
        "      box(i,j)= ((3*i)+(2*j))**2\n",
        "\n",
        "      end do inner\n",
        "\n",
        "      end do outer\n",
        "\n",
        "      write(*,100) box\n",
        "      100 format( 5(f5.1,x))\n",
        "\n",
        "\n",
        "      end program matrix_2"
      ],
      "metadata": {
        "id": "K_Q1DlkN3lRI"
      },
      "execution_count": null,
      "outputs": []
    },
    {
      "cell_type": "markdown",
      "source": [
        "## Leap Year"
      ],
      "metadata": {
        "id": "OFvTv_JiLusB"
      }
    },
    {
      "cell_type": "markdown",
      "source": [
        "![Screenshot from 2023-03-10 04-12-25.png](data:image/png;base64,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)"
      ],
      "metadata": {
        "id": "YsVbo-jDnjYh"
      }
    },
    {
      "cell_type": "code",
      "source": [
        "Program leap_year\n",
        "\n",
        "   implicit none\n",
        "\n",
        "   integer :: x\n",
        "   character(len=40) :: reason\n",
        "   logical :: yes\n",
        "\n",
        "   write(*,121)\n",
        "   121 format(/, &\n",
        "   \"..............Conditions for leap year...........................\",/,&\n",
        "   \" 1. Years evenly divisible by 400 are leap years.\",/,&\n",
        "   \" 2. Years evenly divisible by 100 but not by 400 are not leap years.\",/,&\n",
        "   \" 3. All years divisilble by 4 but not by 100 are leap years\",/,&\n",
        "   \" 4. All other years are not leap years. \",/)\n",
        "\n",
        "   Print*,\"Enter the year to check for leap year\"\n",
        "   read(*,*) x\n",
        "\n",
        "   if ( mod(x,400) == 0 ) then\n",
        "\n",
        "     yes=.true.\n",
        "     reason=\"Condition 1\"\n",
        "\n",
        "\n",
        "   else if ( mod(x,100)==0 .and. mod(x,400)/=0 ) then\n",
        "\n",
        "     yes=.false.\n",
        "     reason=\"Condition 2\"\n",
        "\n",
        "   else if ( mod(x,4)==0 .and. mod(x,100)/=0 ) then\n",
        "\n",
        "     yes=.true.\n",
        "     reason=\"Condition 3\"\n",
        "\n",
        "   else\n",
        "\n",
        "     yes=.false.\n",
        "     reason=\"Condition 4\"\n",
        "\n",
        "   end if\n",
        "\n",
        "   write_if : if ( yes ) then\n",
        "\n",
        "      write(*,100)x,trim(reason)\n",
        "      100 format(i4,\" is a leap year\",/,\" reason : \",A,\" is satisfied\")\n",
        "\n",
        "   else write_if\n",
        "\n",
        "      write(*,101)x,trim(reason)\n",
        "      101 format(i4,\" is not a leap year\",/,\" reason : \",A,\" is satisfied\")\n",
        "\n",
        "   end if write_if\n",
        "\n",
        "\n",
        "   end program leap_year"
      ],
      "metadata": {
        "id": "OJJDPTYiLyXm"
      },
      "execution_count": null,
      "outputs": []
    },
    {
      "cell_type": "markdown",
      "source": [
        "## Leap year from  1800 to 2020"
      ],
      "metadata": {
        "id": "4xpWPm6BM6qy"
      }
    },
    {
      "cell_type": "code",
      "source": [
        "Program leap_year\n",
        "\n",
        "   implicit none\n",
        "\n",
        "   integer :: x\n",
        "   logical :: yes\n",
        "\n",
        "   write(*,121)\n",
        "   121 format(/, &\n",
        "   \"..............Conditions for leap year...........................\",/,&\n",
        "   \" 1. Years evenly divisible by 400 are leap years.\",/,&\n",
        "   \" 2. Years evenly divisible by 100 but not by 400 are not leap years.\",/,&\n",
        "   \" 3. All years divisilble by 4 but not by 100 are leap years\",/,&\n",
        "   \" 4. All other years are not leap years. \",/)\n",
        "\n",
        "\n",
        "   print*,\"Leap years from 1800 to 2030\"\n",
        "\n",
        "   do x=1800, 2030\n",
        "\n",
        "   if ( mod(x,400) == 0 ) then\n",
        "\n",
        "     yes=.true.\n",
        "\n",
        "   else if ( mod(x,100)==0 .and. mod(x,400)/=0 ) then\n",
        "\n",
        "     yes=.false.\n",
        "\n",
        "   else if ( mod(x,4)==0 .and. mod(x,100)/=0 ) then\n",
        "\n",
        "     yes=.true.\n",
        "\n",
        "   else\n",
        "\n",
        "     yes=.false.\n",
        "\n",
        "   end if\n",
        "\n",
        "   if ( yes ) write(*,*)x\n",
        "\n",
        "   end do\n",
        "\n",
        "\n",
        "   end program leap_year"
      ],
      "metadata": {
        "id": "ltmP9qNjNAHk"
      },
      "execution_count": null,
      "outputs": []
    },
    {
      "cell_type": "markdown",
      "source": [
        "## Ideal Gas Equation"
      ],
      "metadata": {
        "id": "_YahcDtKLfUt"
      }
    },
    {
      "cell_type": "code",
      "source": [
        "program ideal_gas_equation\n",
        "\n",
        "   implicit none\n",
        "\n",
        "   real,parameter :: R = 8.20575E-2\n",
        "   real,parameter :: V = 24.465\n",
        "   integer  :: i\n",
        "   real :: p1,p2,t\n",
        "\n",
        "   print*,\"Enter the range of pressure in atm that you want to calculate the temperature for 1 mol of ideal gas\"\n",
        "   read(*,*) p1,p2\n",
        "\n",
        "   write(*,\"(/)\")\n",
        "   write(*,\"('Pressure(atm)',2x,'Temperature(K)')\")\n",
        "   write(*,\"(/)\")\n",
        "   do i=int(p1),int(p2)\n",
        "\n",
        "   t = (real(i)*V)/R\n",
        "   write(*,100)real(i),t\n",
        "   100 format(f10.2,3x,f11.2)\n",
        "\n",
        "   end do\n",
        "\n",
        "   end program ideal_gas_equation\n"
      ],
      "metadata": {
        "id": "mnT2t4QLLiFr"
      },
      "execution_count": null,
      "outputs": []
    },
    {
      "cell_type": "markdown",
      "source": [
        "## Combination 0f 1 2 3"
      ],
      "metadata": {
        "id": "dSpjTjSTGg1j"
      }
    },
    {
      "cell_type": "code",
      "source": [
        "program combination\n",
        "\n",
        "    implicit none\n",
        "\n",
        "    integer :: i,j,k\n",
        "\n",
        "    do_i:do i=1,3\n",
        "    do_j:do j=1,3\n",
        "    do_k:do k=1,3\n",
        "\n",
        "    write(*,100)i,j,k\n",
        "    100 format(2x,3I1)\n",
        "\n",
        "    end do do_k\n",
        "    end do do_j\n",
        "    end do do_i\n",
        "\n",
        "    end program combination"
      ],
      "metadata": {
        "id": "A47OY5-TGkSt"
      },
      "execution_count": null,
      "outputs": []
    },
    {
      "cell_type": "markdown",
      "source": [
        "# EST\n"
      ],
      "metadata": {
        "id": "aELH4l4bicTM"
      }
    },
    {
      "cell_type": "markdown",
      "source": [
        "## age leap year"
      ],
      "metadata": {
        "id": "AQ1u_Ly9iffi"
      }
    },
    {
      "cell_type": "code",
      "source": [
        "Program birth_year\n",
        "\n",
        "  implicit none\n",
        "\n",
        "  integer :: by ! Birth year\n",
        "  integer :: i=1\n",
        "  logical :: check\n",
        "\n",
        "  termination_loop: do     !Loop terminate the program after 3 wrong entry\n",
        "\n",
        "  termi_if: if (i>3) then  ! terminate the program after 3 wrong entry\n",
        "\n",
        "  print*,\"Sorry you are having problems.Program terminated\"\n",
        "  exit\n",
        "\n",
        "  end if termi_if\n",
        "\n",
        "  print*,\"Enter the year in which the person is born\"\n",
        "  print*,\"( Birth year should be between 1905 and 2022)\"\n",
        "  read(*,*)by\n",
        "\n",
        "  check_by: if (1905 < by .and.by <2022 ) then\n",
        "\n",
        "  leap_check: if ( mod(by,400) == 0 )then ! leap year checking\n",
        "\n",
        "  check = .true.\n",
        "\n",
        "  elseif (mod(by,100) == 0 .and. mod(by,400) /= 0) then leap_check\n",
        "\n",
        "  check = .false.\n",
        "\n",
        "  elseif  (mod(by,4)== 0 .and. mod(by,100) /= 0) then leap_check\n",
        "\n",
        "  check = .true.\n",
        "\n",
        "  else leap_check\n",
        "\n",
        "  check = .false.\n",
        "\n",
        "  end if leap_check\n",
        "\n",
        "  100 format(\"The the birth year of the person is\",x,I4,/,x,I4,x,A)\n",
        "  print_if : if (check) then\n",
        "  write(*,100)by,by,\"is a leap year\"\n",
        "  exit termination_loop\n",
        "  else print_if\n",
        "  write(*,100)by,by,\"is not a leap year\"\n",
        "  exit termination_loop\n",
        "  end if print_if\n",
        "\n",
        "\n",
        "  else check_by\n",
        "\n",
        "  print*,\"Sorry this is not a valid year\"\n",
        "  i=i+1\n",
        "  cycle termination_loop\n",
        "\n",
        "  end if check_by\n",
        "\n",
        "  end do termination_loop\n",
        "\n",
        "  end program birth_year"
      ],
      "metadata": {
        "id": "nfGl24fmiZyx"
      },
      "execution_count": null,
      "outputs": []
    },
    {
      "cell_type": "markdown",
      "source": [
        "## Youngest"
      ],
      "metadata": {
        "id": "DiO6ssBErAs0"
      }
    },
    {
      "cell_type": "code",
      "source": [
        "program young\n",
        "\n",
        "      implicit none\n",
        "\n",
        "      character(len=10),dimension(3) :: nbox\n",
        "      integer,dimension(3) :: abox\n",
        "      integer :: i,j\n",
        "      character(len=10) :: ntemp\n",
        "      integer :: atemp\n",
        "      integer :: ipointer\n",
        "      !integer :: equal=0\n",
        "\n",
        "      nbox(1)=\"Ram\"\n",
        "      nbox(2)=\"Shyam\"\n",
        "      nbox(3)=\"Madhu\"\n",
        "\n",
        "      name_box: do i=1,3\n",
        "\n",
        "      print*,\"Enter the age of \",nbox(i)\n",
        "      read(*,*)abox(i)\n",
        "\n",
        "      end do name_box\n",
        "\n",
        "      ipointer=1\n",
        "      outer: do i=2,3\n",
        "\n",
        "      if (abox(ipointer)>abox(i))then\n",
        "              ipointer=i\n",
        "\n",
        "\n",
        "      end if\n",
        "\n",
        "      end do outer\n",
        "\n",
        "      write(*,100)trim(nbox(ipointer)),abox(ipointer)\n",
        "      100 format(A,x,\"is the youngest having age\",x,I0)\n",
        "\n",
        "\n",
        "\n",
        "      end program young\n",
        "\n"
      ],
      "metadata": {
        "id": "nhAkwGmlrDGw"
      },
      "execution_count": null,
      "outputs": []
    },
    {
      "cell_type": "markdown",
      "source": [
        "# LJ potential"
      ],
      "metadata": {
        "id": "Tet-MPn0o3qL"
      }
    },
    {
      "cell_type": "code",
      "source": [
        "program LJ_12_6\n",
        "\n",
        "implicit none\n",
        "\n",
        "real(kind=16) :: v,e,s\n",
        "real :: r\n",
        "real(kind=16),parameter :: kb=1.38*(10**(-23))\n",
        "integer :: i,j\n",
        "\n",
        "print*,\"Provide the parameters\"\n",
        "print*,\"epsilon\"\n",
        "read(*,*)e\n",
        "print*,\"sigma\"\n",
        "read(*,*)s\n",
        "s=s\n",
        "\n",
        "r=0\n",
        "\n",
        "do\n",
        "\n",
        "r=r+0.01\n",
        "\n",
        "v= 4*e*(((s/(r))**12)-((s/(r))**6))\n",
        "\n",
        "\n",
        "write(*,*) r,v\n",
        "\n",
        "if (r > 1.30)exit\n",
        "\n",
        "end do\n",
        "\n",
        "end program LJ_12_6"
      ],
      "metadata": {
        "id": "OEKyNu0Vo7hw"
      },
      "execution_count": null,
      "outputs": []
    }
  ]
}