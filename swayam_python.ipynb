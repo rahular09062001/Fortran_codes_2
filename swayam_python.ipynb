{
  "cells": [
    {
      "cell_type": "markdown",
      "metadata": {
        "id": "view-in-github",
        "colab_type": "text"
      },
      "source": [
        "<a href=\"https://colab.research.google.com/github/rahular09062001/Google_Colab_Codes/blob/main/swayam_python.ipynb\" target=\"_parent\"><img src=\"https://colab.research.google.com/assets/colab-badge.svg\" alt=\"Open In Colab\"/></a>"
      ]
    },
    {
      "cell_type": "markdown",
      "source": [
        "## Lecture Materials\n",
        "\n",
        "Lecture Material 3: https://drive.google.com/drive/folders/1zFiUu8QmJQMhHsSEVCIA74hrmsHe7LP9\n",
        "\n",
        "Lecture Material 4: https://drive.google.com/drive/folders/1yDZuKdN8oytQFfqlJjTly0oPsusBZEPM\n",
        "\n",
        "Lecture Material 5: https://drive.google.com/drive/folders/14JNdFpV2vp3CxOtJNW4Zu6o8yPa30dSF\n",
        "\n",
        "Lecture Material 6: https://drive.google.com/drive/folders/1yuOqesGHNV7vA1D0FrOgTnPuZ-rvQ_Mp\n",
        "\n",
        "Lecture Material 7:\n",
        "https://drive.google.com/drive/folders/1T5WhFawBWj5AZNf4C5AoOldQHH86NtVo\n",
        "\n",
        "Lecture Material 8: https://drive.google.com/drive/folders/1gCzKda30G2TK_nI0QkdjZ9NgY3GAUKSB\n",
        "\n",
        "Lecture Material 9:\n",
        "https://drive.google.com/drive/folders/1gCzKda30G2TK_nI0QkdjZ9NgY3GAUKSB\n",
        "\n"
      ],
      "metadata": {
        "id": "9otPI4nD79kR"
      }
    },
    {
      "cell_type": "markdown",
      "metadata": {
        "id": "RWYro_FvH6JW"
      },
      "source": [
        "# Basic Syntax, Variable and Data Types\n"
      ]
    },
    {
      "cell_type": "code",
      "execution_count": null,
      "metadata": {
        "colab": {
          "base_uri": "https://localhost:8080/"
        },
        "id": "z0kAqfDWIFZn",
        "outputId": "a9953505-868a-46bd-a990-06b578cb1cfc"
      },
      "outputs": [
        {
          "name": "stdout",
          "output_type": "stream",
          "text": [
            "4 4 4\n"
          ]
        }
      ],
      "source": [
        "num1=num2=num3=4\n",
        "\n",
        "print(num1,num2,num3)"
      ]
    },
    {
      "cell_type": "code",
      "execution_count": null,
      "metadata": {
        "colab": {
          "base_uri": "https://localhost:8080/"
        },
        "id": "aI_EEIYhKBG5",
        "outputId": "3722035c-a38e-4f87-fefa-a8cc5fbb062f"
      },
      "outputs": [
        {
          "name": "stdout",
          "output_type": "stream",
          "text": [
            "2 4 afkhlka\n"
          ]
        }
      ],
      "source": [
        "num1,num2,name=2,4,'afkhlka'\n",
        "\n",
        "print(num1,num2,name)"
      ]
    },
    {
      "cell_type": "markdown",
      "metadata": {
        "id": "ChE8iGOwKjGH"
      },
      "source": [
        "## Complex Numbers"
      ]
    },
    {
      "cell_type": "code",
      "execution_count": null,
      "metadata": {
        "colab": {
          "base_uri": "https://localhost:8080/"
        },
        "id": "ME_oj4wIMdKF",
        "outputId": "a90c797f-c002-4c5b-b940-8d5e0f981587"
      },
      "outputs": [
        {
          "name": "stdout",
          "output_type": "stream",
          "text": [
            "(11+17j)\n"
          ]
        }
      ],
      "source": [
        "num1= 4 + 7j\n",
        "num2= 7 + 10j\n",
        "\n",
        "print(num1+num2)"
      ]
    },
    {
      "cell_type": "code",
      "execution_count": null,
      "metadata": {
        "colab": {
          "base_uri": "https://localhost:8080/"
        },
        "id": "KRi4qwZhMymT",
        "outputId": "fccd109a-a02d-43ff-86f4-0a831de33305"
      },
      "outputs": [
        {
          "name": "stdout",
          "output_type": "stream",
          "text": [
            "Hello word !\n"
          ]
        }
      ],
      "source": [
        "print(\"Hello word !\")"
      ]
    },
    {
      "cell_type": "markdown",
      "metadata": {
        "id": "1_nv5N7io89Z"
      },
      "source": [
        "# Operator"
      ]
    },
    {
      "cell_type": "markdown",
      "metadata": {
        "id": "FECQjuTQpfml"
      },
      "source": [
        "## Modulus operator\n",
        "\n",
        "% is the modulus operator\n",
        "it returns the remainder value.The first number is greater and second number is smaller we get the remainder\n",
        "if the second number is greater then we get the first number as the output\n"
      ]
    },
    {
      "cell_type": "code",
      "execution_count": null,
      "metadata": {
        "colab": {
          "base_uri": "https://localhost:8080/"
        },
        "id": "D921pAL4pi1-",
        "outputId": "8190461e-45c8-4f88-a7ee-8c6ed62e5580"
      },
      "outputs": [
        {
          "name": "stdout",
          "output_type": "stream",
          "text": [
            "1\n"
          ]
        }
      ],
      "source": [
        "x=4\n",
        "y=3\n",
        "print(x%y)"
      ]
    },
    {
      "cell_type": "code",
      "execution_count": null,
      "metadata": {
        "colab": {
          "base_uri": "https://localhost:8080/"
        },
        "id": "I9e2DmJhpzbp",
        "outputId": "77cb0136-4582-4037-bece-1a6fdc050724"
      },
      "outputs": [
        {
          "name": "stdout",
          "output_type": "stream",
          "text": [
            "0\n"
          ]
        }
      ],
      "source": [
        "x=4\n",
        "y=2\n",
        "print(x%y)"
      ]
    },
    {
      "cell_type": "code",
      "execution_count": null,
      "metadata": {
        "colab": {
          "base_uri": "https://localhost:8080/"
        },
        "id": "NStUdxNWqUFQ",
        "outputId": "46a9cac7-7dc4-4007-f0e2-574347c46e8f"
      },
      "outputs": [
        {
          "name": "stdout",
          "output_type": "stream",
          "text": [
            "3\n"
          ]
        }
      ],
      "source": [
        "x=3\n",
        "y=6\n",
        "print(x%y)"
      ]
    },
    {
      "cell_type": "code",
      "execution_count": null,
      "metadata": {
        "colab": {
          "base_uri": "https://localhost:8080/"
        },
        "id": "gdYBcD_vqbpk",
        "outputId": "24afaaa7-da97-44ae-8d8a-c3d6a3c6492a"
      },
      "outputs": [
        {
          "name": "stdout",
          "output_type": "stream",
          "text": [
            "1.2000000000000002\n"
          ]
        }
      ],
      "source": [
        "x=2.4\n",
        "y=6\n",
        "print(y%x)"
      ]
    },
    {
      "cell_type": "code",
      "execution_count": null,
      "metadata": {
        "colab": {
          "base_uri": "https://localhost:8080/"
        },
        "id": "Iog8dcLKqlC-",
        "outputId": "ebee5457-9a63-464a-85a4-30aa425f9492"
      },
      "outputs": [
        {
          "name": "stdout",
          "output_type": "stream",
          "text": [
            "2.4\n"
          ]
        }
      ],
      "source": [
        "x=2.4\n",
        "y=6\n",
        "print(x%y)"
      ]
    },
    {
      "cell_type": "markdown",
      "metadata": {
        "id": "GaNFREOgqseS"
      },
      "source": [
        "## floor Division\n",
        "\n",
        "// : symbol"
      ]
    },
    {
      "cell_type": "code",
      "execution_count": null,
      "metadata": {
        "colab": {
          "base_uri": "https://localhost:8080/"
        },
        "id": "4dO4Y-aTq3Nk",
        "outputId": "afeb7c23-74c1-468b-a28c-64a129fcea11"
      },
      "outputs": [
        {
          "name": "stdout",
          "output_type": "stream",
          "text": [
            "2\n"
          ]
        }
      ],
      "source": [
        "print(8//3)"
      ]
    },
    {
      "cell_type": "markdown",
      "metadata": {
        "id": "7yXbxldpvi6E"
      },
      "source": []
    },
    {
      "cell_type": "markdown",
      "metadata": {
        "id": "fKVAssFYq8de"
      },
      "source": [
        "## Assignment operator"
      ]
    },
    {
      "cell_type": "markdown",
      "metadata": {
        "id": "JI1GNXMiu12X"
      },
      "source": [
        "\n",
        "\n",
        "\n",
        "\n",
        "```\n",
        "\n",
        " i.    =\n",
        " ii.   +=\n",
        " iii.  -=\n",
        " iv.   *=\n",
        " v.    /=\n",
        " vi.   %=\n",
        " vii.  //=\n",
        " viii. **=\n",
        "```\n",
        "\n",
        "\n"
      ]
    },
    {
      "cell_type": "code",
      "execution_count": null,
      "metadata": {
        "colab": {
          "base_uri": "https://localhost:8080/"
        },
        "id": "KfQFBZ9evsNv",
        "outputId": "f27e4c94-7b80-43c2-d273-1efff798b918"
      },
      "outputs": [
        {
          "name": "stdout",
          "output_type": "stream",
          "text": [
            "7\n"
          ]
        }
      ],
      "source": [
        "x=3\n",
        "x+=4\n",
        "print(x)"
      ]
    },
    {
      "cell_type": "code",
      "execution_count": null,
      "metadata": {
        "colab": {
          "base_uri": "https://localhost:8080/"
        },
        "id": "zAJzDbunvxgL",
        "outputId": "dbc1188c-fdff-4975-f202-3065714f91ba"
      },
      "outputs": [
        {
          "name": "stdout",
          "output_type": "stream",
          "text": [
            "80\n"
          ]
        }
      ],
      "source": [
        "x=8\n",
        "x*=10   # => x = x*10\n",
        "print(x)"
      ]
    },
    {
      "cell_type": "markdown",
      "metadata": {
        "id": "3ZeJxHlFv7-7"
      },
      "source": [
        "## Logical Operator\n",
        "\n",
        "```\n",
        "i. not\n",
        "ii. and\n",
        "iii. or\n",
        "\n",
        "```"
      ]
    },
    {
      "cell_type": "code",
      "execution_count": null,
      "metadata": {
        "colab": {
          "base_uri": "https://localhost:8080/"
        },
        "id": "f-xqAQUhxd3A",
        "outputId": "ca7b9a6b-ef30-46fa-c565-c4a1aba85207"
      },
      "outputs": [
        {
          "name": "stdout",
          "output_type": "stream",
          "text": [
            "True\n"
          ]
        }
      ],
      "source": [
        "x=10\n",
        "print(x==10 and x>3)"
      ]
    },
    {
      "cell_type": "code",
      "execution_count": null,
      "metadata": {
        "colab": {
          "base_uri": "https://localhost:8080/"
        },
        "id": "VtsKHieaxk52",
        "outputId": "f16c02aa-b16d-4d3b-86f6-8c3459d22f15"
      },
      "outputs": [
        {
          "name": "stdout",
          "output_type": "stream",
          "text": [
            "False\n"
          ]
        }
      ],
      "source": [
        "x=10\n",
        "print(not(x==10 and x>3))"
      ]
    },
    {
      "cell_type": "code",
      "execution_count": null,
      "metadata": {
        "colab": {
          "base_uri": "https://localhost:8080/"
        },
        "id": "N-4V9Qgoxpte",
        "outputId": "508223be-c2bf-4cb6-be6c-4487dd0f6ade"
      },
      "outputs": [
        {
          "name": "stdout",
          "output_type": "stream",
          "text": [
            "True\n"
          ]
        }
      ],
      "source": [
        "print(x>10 or x==10)"
      ]
    },
    {
      "cell_type": "markdown",
      "metadata": {
        "id": "r7aT0hFpxwi4"
      },
      "source": [
        "## Identity Operator\n",
        "\n",
        "```\n",
        "i.  is\n",
        "ii. is not\n",
        "```"
      ]
    },
    {
      "cell_type": "code",
      "execution_count": null,
      "metadata": {
        "colab": {
          "base_uri": "https://localhost:8080/"
        },
        "id": "ge-AWWLsyI4_",
        "outputId": "aea54196-7924-4cd2-f335-68a54f012fca"
      },
      "outputs": [
        {
          "name": "stdout",
          "output_type": "stream",
          "text": [
            "False\n"
          ]
        }
      ],
      "source": [
        "x=4\n",
        "y=7\n",
        "print(x is y)"
      ]
    },
    {
      "cell_type": "code",
      "execution_count": null,
      "metadata": {
        "colab": {
          "base_uri": "https://localhost:8080/"
        },
        "id": "HXPahP5GycLI",
        "outputId": "838b2da4-4bfa-4d0b-94c2-f6c1cee0274f"
      },
      "outputs": [
        {
          "name": "stdout",
          "output_type": "stream",
          "text": [
            "True\n"
          ]
        }
      ],
      "source": [
        "x=4\n",
        "y=4\n",
        "print(x is y)"
      ]
    },
    {
      "cell_type": "code",
      "execution_count": null,
      "metadata": {
        "colab": {
          "base_uri": "https://localhost:8080/"
        },
        "id": "6cn1p5FgyfpR",
        "outputId": "2d63aece-bce0-47b4-ff91-3e4e677ff679"
      },
      "outputs": [
        {
          "name": "stdout",
          "output_type": "stream",
          "text": [
            "True\n"
          ]
        }
      ],
      "source": [
        "x=4\n",
        "y=9\n",
        "print(x is not y)"
      ]
    },
    {
      "cell_type": "markdown",
      "metadata": {
        "id": "JZIj05dZ0h8M"
      },
      "source": [
        "## Membership Operator\n",
        "\n",
        "```\n",
        "i.   in\n",
        "ii.  not in\n",
        "```"
      ]
    },
    {
      "cell_type": "code",
      "execution_count": null,
      "metadata": {
        "colab": {
          "base_uri": "https://localhost:8080/"
        },
        "id": "lvrB9elp0utC",
        "outputId": "80736b7e-5b42-4872-be6f-4503701dd33d"
      },
      "outputs": [
        {
          "name": "stdout",
          "output_type": "stream",
          "text": [
            "True\n"
          ]
        }
      ],
      "source": [
        "box =[\"cat\",\"tiger\",\"Lion\"]\n",
        "print(\"cat\" in box)"
      ]
    },
    {
      "cell_type": "code",
      "execution_count": null,
      "metadata": {
        "colab": {
          "base_uri": "https://localhost:8080/"
        },
        "id": "R-h1qsoJ07St",
        "outputId": "fa36ca1b-c5fd-4c70-c46d-a7c57f588b01"
      },
      "outputs": [
        {
          "name": "stdout",
          "output_type": "stream",
          "text": [
            "False\n"
          ]
        }
      ],
      "source": [
        "box =[\"cat\",\"tiger\",\"Lion\"]\n",
        "print(\"rat\" in box)"
      ]
    },
    {
      "cell_type": "code",
      "execution_count": null,
      "metadata": {
        "colab": {
          "base_uri": "https://localhost:8080/"
        },
        "id": "fHav5SGD0-uF",
        "outputId": "dd4e8fcd-7099-4753-c6f3-a0f0b058450f"
      },
      "outputs": [
        {
          "name": "stdout",
          "output_type": "stream",
          "text": [
            "True\n"
          ]
        }
      ],
      "source": [
        "box =[\"cat\",\"tiger\",\"Lion\"]\n",
        "print(\"rat\" not in box)"
      ]
    },
    {
      "cell_type": "code",
      "execution_count": null,
      "metadata": {
        "colab": {
          "base_uri": "https://localhost:8080/"
        },
        "id": "l3Kin5Pz1CBT",
        "outputId": "a5a7ff11-9db1-43a5-e4d4-064a3ece8896"
      },
      "outputs": [
        {
          "name": "stdout",
          "output_type": "stream",
          "text": [
            "True\n"
          ]
        }
      ],
      "source": [
        "box =[\"cat\",\"tiger\",\"Lion\"]\n",
        "print(\"Cat\" not in box)"
      ]
    },
    {
      "cell_type": "markdown",
      "metadata": {
        "id": "PKmUi0Qh1Hf4"
      },
      "source": [
        "## Bitwise Operator\n",
        "\n",
        "```\n",
        "i. & (binary and)\n",
        "ii. | (binary or)\n",
        "iii. ^ (binary xor)\n",
        "iv. ~ (negation)\n",
        "v. << (left shift)\n",
        "vi. >> (right shift)\n",
        "```"
      ]
    },
    {
      "cell_type": "code",
      "execution_count": null,
      "metadata": {
        "colab": {
          "base_uri": "https://localhost:8080/"
        },
        "id": "juAlrbUd2h27",
        "outputId": "60f58acd-2afd-4fca-8ef5-5069e4f679b4"
      },
      "outputs": [
        {
          "name": "stdout",
          "output_type": "stream",
          "text": [
            "x =  0b111\n",
            "y =  0b110\n",
            "z =  0b110\n"
          ]
        }
      ],
      "source": [
        "x=7\n",
        "y =6\n",
        "z= (x & y)\n",
        "print(\"x = \",bin(x))\n",
        "print(\"y = \",bin(y))\n",
        "print(\"z = \",bin(z))"
      ]
    },
    {
      "cell_type": "code",
      "execution_count": null,
      "metadata": {
        "colab": {
          "base_uri": "https://localhost:8080/"
        },
        "id": "tR6LqAP32mjP",
        "outputId": "e7b8fc46-2719-4416-91b8-22637fb81e1c"
      },
      "outputs": [
        {
          "name": "stdout",
          "output_type": "stream",
          "text": [
            "x =  0b111\n",
            "y =  0b1001110\n",
            "z =  0b110\n",
            "6\n"
          ]
        }
      ],
      "source": [
        "x=7\n",
        "y =78\n",
        "z= (x & y)\n",
        "print(\"x = \",bin(x))\n",
        "print(\"y = \",bin(y))\n",
        "print(\"z = \",bin(z))\n",
        "print(z)"
      ]
    },
    {
      "cell_type": "code",
      "execution_count": null,
      "metadata": {
        "colab": {
          "base_uri": "https://localhost:8080/"
        },
        "id": "I2H1kt-i3Xzn",
        "outputId": "5af8dce3-ba5f-4de7-ffe0-358e33139522"
      },
      "outputs": [
        {
          "name": "stdout",
          "output_type": "stream",
          "text": [
            "x =  0b111\n",
            "y =  0b10\n",
            "z =  0b111\n"
          ]
        }
      ],
      "source": [
        "x=7\n",
        "y =2\n",
        "z= (x | y)\n",
        "print(\"x = \",bin(x))\n",
        "print(\"y = \",bin(y))\n",
        "print(\"z = \",bin(z))"
      ]
    },
    {
      "cell_type": "code",
      "execution_count": null,
      "metadata": {
        "colab": {
          "base_uri": "https://localhost:8080/"
        },
        "id": "Z_E2JNex5_Kf",
        "outputId": "7f11a8c1-faaa-44b7-bc6f-577e7b8dd0e6"
      },
      "outputs": [
        {
          "name": "stdout",
          "output_type": "stream",
          "text": [
            "x =  0b111\n",
            "y =  0b10\n",
            "z =  0b101\n"
          ]
        }
      ],
      "source": [
        "x=7\n",
        "y =2\n",
        "z= (x ^ y)\n",
        "print(\"x = \",bin(x))\n",
        "print(\"y = \",bin(y))\n",
        "print(\"z = \",bin(z))"
      ]
    },
    {
      "cell_type": "code",
      "execution_count": null,
      "metadata": {
        "colab": {
          "base_uri": "https://localhost:8080/"
        },
        "id": "Jo-EZ92p8PZr",
        "outputId": "d76a2500-2d1b-41c8-ae41-e07797e12468"
      },
      "outputs": [
        {
          "name": "stdout",
          "output_type": "stream",
          "text": [
            "x =  0b111\n",
            "y =  -0b1000\n"
          ]
        }
      ],
      "source": [
        "x=7\n",
        "\n",
        "z= ~x\n",
        "print(\"x = \",bin(x))\n",
        "print(\"y = \",bin(z))"
      ]
    },
    {
      "cell_type": "code",
      "execution_count": null,
      "metadata": {
        "colab": {
          "base_uri": "https://localhost:8080/"
        },
        "id": "Yt_koEft8dZH",
        "outputId": "aa97e9b3-e38e-48e8-b04f-af3b7c9b6b1e"
      },
      "outputs": [
        {
          "name": "stdout",
          "output_type": "stream",
          "text": [
            "x =  0b111\n",
            "y =  0b1110\n"
          ]
        }
      ],
      "source": [
        "x=7\n",
        "\n",
        "z= x<<1\n",
        "print(\"x = \",bin(x))\n",
        "print(\"y = \",bin(z))"
      ]
    },
    {
      "cell_type": "code",
      "execution_count": null,
      "metadata": {
        "colab": {
          "base_uri": "https://localhost:8080/"
        },
        "id": "VK_zZDvt80P7",
        "outputId": "9d7e4bdc-5a1a-44b7-a401-ae88efe5eb90"
      },
      "outputs": [
        {
          "name": "stdout",
          "output_type": "stream",
          "text": [
            "x =  0b111\n",
            "y =  0b11100\n"
          ]
        }
      ],
      "source": [
        "x=7\n",
        "\n",
        "z= x<<2\n",
        "print(\"x = \",bin(x))\n",
        "print(\"y = \",bin(z))"
      ]
    },
    {
      "cell_type": "code",
      "execution_count": null,
      "metadata": {
        "colab": {
          "base_uri": "https://localhost:8080/"
        },
        "id": "d_PnSWtH89Do",
        "outputId": "f1a38e8a-34ad-4b81-cc92-a35c4555a890"
      },
      "outputs": [
        {
          "name": "stdout",
          "output_type": "stream",
          "text": [
            "x =  0b111\n",
            "y =  0b11\n"
          ]
        }
      ],
      "source": [
        "x=7\n",
        "\n",
        "z= x>>1\n",
        "print(\"x = \",bin(x))\n",
        "print(\"y = \",bin(z))"
      ]
    },
    {
      "cell_type": "code",
      "execution_count": null,
      "metadata": {
        "colab": {
          "base_uri": "https://localhost:8080/"
        },
        "id": "Q9InlPx69A9S",
        "outputId": "a96db138-779d-457e-cb94-2221229e914a"
      },
      "outputs": [
        {
          "name": "stdout",
          "output_type": "stream",
          "text": [
            "x =  0b111\n",
            "y =  0b1\n"
          ]
        }
      ],
      "source": [
        "x=7\n",
        "\n",
        "z= x>>2\n",
        "print(\"x = \",bin(x))\n",
        "print(\"y = \",bin(z))"
      ]
    },
    {
      "cell_type": "code",
      "execution_count": null,
      "metadata": {
        "colab": {
          "base_uri": "https://localhost:8080/"
        },
        "id": "LuaGyM4y9Dok",
        "outputId": "5892c56a-39a2-4008-e933-acfcd013dc48"
      },
      "outputs": [
        {
          "name": "stdout",
          "output_type": "stream",
          "text": [
            "0b1001\n"
          ]
        }
      ],
      "source": [
        "a = 0b1011\n",
        "b = 0b1101\n",
        "print (bin(a&b))"
      ]
    },
    {
      "cell_type": "markdown",
      "metadata": {
        "id": "6D_wgboZ9WHf"
      },
      "source": [
        "# Logical Statement"
      ]
    },
    {
      "cell_type": "markdown",
      "metadata": {
        "id": "6ybkwkzf9meM"
      },
      "source": [
        "## Large number"
      ]
    },
    {
      "cell_type": "code",
      "execution_count": null,
      "metadata": {
        "colab": {
          "base_uri": "https://localhost:8080/"
        },
        "id": "qhiv17o5Htrj",
        "outputId": "ae29bd2a-a22d-4ef0-9c65-80a453b12b93"
      },
      "outputs": [
        {
          "name": "stdout",
          "output_type": "stream",
          "text": [
            "Enter the first number = 45\n",
            "Enter the second number = 96\n",
            "The largest Number =  96.0\n"
          ]
        }
      ],
      "source": [
        "num_1=float(input(\"Enter the first number = \"))\n",
        "num_2=float(input(\"Enter the second number = \"))\n",
        "\n",
        "if(num_1>num_2):\n",
        "  large = num_1\n",
        "else:\n",
        "  large=num_2\n",
        "\n",
        "print(\"The largest Number = \",large)\n"
      ]
    },
    {
      "cell_type": "markdown",
      "metadata": {
        "id": "hkESUMn-ITmc"
      },
      "source": [
        "## Even number or not"
      ]
    },
    {
      "cell_type": "code",
      "execution_count": null,
      "metadata": {
        "colab": {
          "base_uri": "https://localhost:8080/"
        },
        "id": "45qtqeqTIeJ8",
        "outputId": "5077e638-af09-4529-9496-1ca0a5b2965a"
      },
      "outputs": [
        {
          "name": "stdout",
          "output_type": "stream",
          "text": [
            "Enter the number : 3\n",
            "The number is odd\n"
          ]
        }
      ],
      "source": [
        "num = int(input(\"Enter the number : \"))\n",
        "\n",
        "if(num%2 == 0):\n",
        "  print(\"The number is even\")\n",
        "else:\n",
        "  print(\"The number is odd\")\n",
        "\n"
      ]
    },
    {
      "cell_type": "markdown",
      "metadata": {
        "id": "igHmI6ueJAdh"
      },
      "source": [
        "## Calculate the grade"
      ]
    },
    {
      "cell_type": "code",
      "execution_count": null,
      "metadata": {
        "colab": {
          "base_uri": "https://localhost:8080/"
        },
        "id": "n178FgUQK3ea",
        "outputId": "2149d2eb-da42-4047-ace6-379557bd6cde"
      },
      "outputs": [
        {
          "name": "stdout",
          "output_type": "stream",
          "text": [
            "Enter the marks obtained 67\n",
            "Grade :  B\n"
          ]
        }
      ],
      "source": [
        "marks=int(input(\"Enter the marks obtained \"))\n",
        "if(marks <= 100 and marks >90):\n",
        "  grade = \"A+\"\n",
        "elif(marks <= 90 and marks > 80):\n",
        "  grade = \"A\"\n",
        "elif(marks <= 80 and  marks > 70):\n",
        "  grade = \"B+\"\n",
        "elif(marks <= 70 and marks > 60):\n",
        "  grade = \"B\"\n",
        "elif(marks <= 60 and marks > 50):\n",
        "  grade = \"C\"\n",
        "else:\n",
        "  print(\"Enter a valid marks\")\n",
        "\n",
        "if(marks>=50):\n",
        "  print(\"Grade : \",grade)\n"
      ]
    },
    {
      "cell_type": "markdown",
      "metadata": {
        "id": "evLQk1KnMfus"
      },
      "source": [
        "## Comparing 3 numbers"
      ]
    },
    {
      "cell_type": "code",
      "execution_count": null,
      "metadata": {
        "colab": {
          "base_uri": "https://localhost:8080/"
        },
        "id": "PT_x-Guiu_NU",
        "outputId": "7c45ea2e-2bf5-4e62-d6e0-d763fac52992"
      },
      "outputs": [
        {
          "name": "stdout",
          "output_type": "stream",
          "text": [
            "Enter first number 1\n",
            "Enter second number 2\n",
            "Enter third number 3\n",
            "The largest number you entered is =  3.0\n"
          ]
        }
      ],
      "source": [
        "num1=float(input(\"Enter first number \"))\n",
        "num2=float(input(\"Enter second number \"))\n",
        "num3=float(input(\"Enter third number \"))\n",
        "\n",
        "if(num1>num2):\n",
        "  if(num1>num3):\n",
        "    greater=num1\n",
        "  else:\n",
        "    greater=num3\n",
        "else:\n",
        "  if(num2>num3):\n",
        "    greater=num2\n",
        "  else:\n",
        "    greater=num3\n",
        "\n",
        "print(\"The largest number you entered is = \",greater)\n",
        "\n"
      ]
    },
    {
      "cell_type": "markdown",
      "metadata": {
        "id": "KDUxt3v4v_7U"
      },
      "source": [
        "## Eligiblility to Vote\n"
      ]
    },
    {
      "cell_type": "code",
      "execution_count": null,
      "metadata": {
        "colab": {
          "base_uri": "https://localhost:8080/"
        },
        "id": "WY9C26lQwXM9",
        "outputId": "4758ce92-8b58-4ebc-e169-42de0c92726b"
      },
      "outputs": [
        {
          "name": "stdout",
          "output_type": "stream",
          "text": [
            "This program will determine whether a person is eligible to vote or not\n",
            "Enter the name of person \n",
            "Biru\n",
            "Enter the age of person \n",
            "20\n",
            "Biru  is eligible to vote\n"
          ]
        }
      ],
      "source": [
        "print(\"This program will determine whether a person is eligible to vote or not\")\n",
        "\n",
        "name=str(input(\"Enter the name of person \\n\"))\n",
        "age=int(input(\"Enter the age of person \\n\"))\n",
        "\n",
        "if(age>=18):\n",
        "  print(name,\" is eligible to vote\")\n",
        "else:\n",
        "  print(name,\"is not eligible to vote\")\n",
        "  print(\"The age should be greater than or equal to 18\")"
      ]
    },
    {
      "cell_type": "markdown",
      "metadata": {
        "id": "kcxspu2Jxb7W"
      },
      "source": [
        "# Loop"
      ]
    },
    {
      "cell_type": "markdown",
      "metadata": {
        "id": "TpFFKMbJ3K2t"
      },
      "source": [
        "## While Loop"
      ]
    },
    {
      "cell_type": "markdown",
      "metadata": {
        "id": "bqs6PBkU3MlW"
      },
      "source": [
        "### Name Printing"
      ]
    },
    {
      "cell_type": "code",
      "execution_count": null,
      "metadata": {
        "colab": {
          "base_uri": "https://localhost:8080/"
        },
        "id": "pe5Z2HXI3QIW",
        "outputId": "c09f41e9-cec3-49e0-ed80-a5ba34627195"
      },
      "outputs": [
        {
          "name": "stdout",
          "output_type": "stream",
          "text": [
            "Rahul\n",
            "Rahul\n",
            "Rahul\n",
            "Rahul\n",
            "Rahul\n"
          ]
        }
      ],
      "source": [
        "i=1\n",
        "while(i<=5):\n",
        "  i=i+1\n",
        "  print(\"Rahul\")"
      ]
    },
    {
      "cell_type": "markdown",
      "metadata": {
        "id": "XLD3vCsA3c_1"
      },
      "source": [
        "### Sum"
      ]
    },
    {
      "cell_type": "code",
      "execution_count": null,
      "metadata": {
        "colab": {
          "base_uri": "https://localhost:8080/"
        },
        "id": "eA2n3o-v582O",
        "outputId": "f7a4a02e-f8eb-4076-b52a-37e120a97087"
      },
      "outputs": [
        {
          "name": "stdout",
          "output_type": "stream",
          "text": [
            "Terms =  2\n",
            "Terms =  3\n",
            "Terms =  4\n",
            "Terms =  5\n",
            "Terms =  6\n",
            "Terms =  7\n",
            "Terms =  8\n",
            "Terms =  9\n",
            "Terms =  10\n",
            "Terms =  11\n",
            "Terms =  12\n",
            "Terms =  13\n",
            "Terms =  14\n",
            "Terms =  15\n",
            "Terms =  16\n",
            "Terms =  17\n",
            "Terms =  18\n",
            "Terms =  19\n",
            "Terms =  20\n",
            "Terms =  21\n",
            "Terms =  22\n",
            "Terms =  23\n",
            "Terms =  24\n",
            "Terms =  25\n",
            "Terms =  26\n",
            "The Total Sum =  325\n"
          ]
        }
      ],
      "source": [
        "i=1\n",
        "sum=0\n",
        "\n",
        "while(i<=25):\n",
        "  sum = sum+i\n",
        "  i= i+1\n",
        "  print(\"Terms = \",i)\n",
        "\n",
        "print(\"The Total Sum = \",sum)\n"
      ]
    },
    {
      "cell_type": "code",
      "execution_count": null,
      "metadata": {
        "colab": {
          "base_uri": "https://localhost:8080/"
        },
        "id": "M3qmHatL6WZQ",
        "outputId": "b6b15995-c165-4106-d80e-94348625ea3a"
      },
      "outputs": [
        {
          "name": "stdout",
          "output_type": "stream",
          "text": [
            "Enter the number : 532\n",
            "Loop number =  1\n",
            "number =  53.2\n",
            "Loop number =  2\n",
            "number =  5.32\n",
            "Loop number =  3\n",
            "number =  0.532\n",
            "Loop number =  4\n",
            "number =  0.053200000000000004\n",
            "Loop number =  5\n",
            "number =  0.00532\n",
            "Loop number =  6\n",
            "number =  0.000532\n",
            "Loop number =  7\n",
            "number =  5.3200000000000006e-05\n",
            "Loop number =  8\n",
            "number =  5.320000000000001e-06\n",
            "Loop number =  9\n",
            "number =  5.32e-07\n",
            "Loop number =  10\n",
            "number =  5.3200000000000007e-08\n",
            "Loop number =  11\n",
            "number =  5.320000000000001e-09\n",
            "Loop number =  12\n",
            "number =  5.32e-10\n",
            "Loop number =  13\n",
            "number =  5.32e-11\n",
            "Loop number =  14\n",
            "number =  5.32e-12\n",
            "Loop number =  15\n",
            "number =  5.32e-13\n",
            "Loop number =  16\n",
            "number =  5.3199999999999997e-14\n",
            "Loop number =  17\n",
            "number =  5.32e-15\n",
            "Loop number =  18\n",
            "number =  5.32e-16\n",
            "Loop number =  19\n",
            "number =  5.3199999999999994e-17\n",
            "Loop number =  20\n",
            "number =  5.3199999999999994e-18\n",
            "Loop number =  21\n",
            "number =  5.319999999999999e-19\n",
            "Loop number =  22\n",
            "number =  5.3199999999999997e-20\n",
            "Loop number =  23\n",
            "number =  5.32e-21\n",
            "Loop number =  24\n",
            "number =  5.32e-22\n",
            "Loop number =  25\n",
            "number =  5.32e-23\n",
            "Loop number =  26\n",
            "number =  5.32e-24\n",
            "Loop number =  27\n",
            "number =  5.320000000000001e-25\n",
            "Loop number =  28\n",
            "number =  5.320000000000001e-26\n",
            "Loop number =  29\n",
            "number =  5.320000000000001e-27\n",
            "Loop number =  30\n",
            "number =  5.320000000000001e-28\n",
            "Loop number =  31\n",
            "number =  5.320000000000002e-29\n",
            "Loop number =  32\n",
            "number =  5.320000000000002e-30\n",
            "Loop number =  33\n",
            "number =  5.3200000000000015e-31\n",
            "Loop number =  34\n",
            "number =  5.320000000000002e-32\n",
            "Loop number =  35\n",
            "number =  5.320000000000002e-33\n",
            "Loop number =  36\n",
            "number =  5.320000000000002e-34\n",
            "Loop number =  37\n",
            "number =  5.320000000000002e-35\n",
            "Loop number =  38\n",
            "number =  5.320000000000002e-36\n",
            "Loop number =  39\n",
            "number =  5.320000000000002e-37\n",
            "Loop number =  40\n",
            "number =  5.320000000000002e-38\n",
            "Loop number =  41\n",
            "number =  5.3200000000000015e-39\n",
            "Loop number =  42\n",
            "number =  5.320000000000002e-40\n",
            "Loop number =  43\n",
            "number =  5.320000000000002e-41\n",
            "Loop number =  44\n",
            "number =  5.3200000000000016e-42\n",
            "Loop number =  45\n",
            "number =  5.320000000000001e-43\n",
            "Loop number =  46\n",
            "number =  5.320000000000001e-44\n",
            "Loop number =  47\n",
            "number =  5.320000000000001e-45\n",
            "Loop number =  48\n",
            "number =  5.320000000000001e-46\n",
            "Loop number =  49\n",
            "number =  5.320000000000001e-47\n",
            "Loop number =  50\n",
            "number =  5.320000000000001e-48\n",
            "Loop number =  51\n",
            "number =  5.320000000000001e-49\n",
            "Loop number =  52\n",
            "number =  5.320000000000001e-50\n",
            "Loop number =  53\n",
            "number =  5.320000000000001e-51\n",
            "Loop number =  54\n",
            "number =  5.3200000000000006e-52\n",
            "Loop number =  55\n",
            "number =  5.320000000000001e-53\n",
            "Loop number =  56\n",
            "number =  5.320000000000001e-54\n",
            "Loop number =  57\n",
            "number =  5.3200000000000015e-55\n",
            "Loop number =  58\n",
            "number =  5.320000000000002e-56\n",
            "Loop number =  59\n",
            "number =  5.320000000000002e-57\n",
            "Loop number =  60\n",
            "number =  5.3200000000000016e-58\n",
            "Loop number =  61\n",
            "number =  5.320000000000002e-59\n",
            "Loop number =  62\n",
            "number =  5.320000000000002e-60\n",
            "Loop number =  63\n",
            "number =  5.320000000000002e-61\n",
            "Loop number =  64\n",
            "number =  5.320000000000002e-62\n",
            "Loop number =  65\n",
            "number =  5.320000000000002e-63\n",
            "Loop number =  66\n",
            "number =  5.3200000000000016e-64\n",
            "Loop number =  67\n",
            "number =  5.320000000000002e-65\n",
            "Loop number =  68\n",
            "number =  5.320000000000002e-66\n",
            "Loop number =  69\n",
            "number =  5.320000000000002e-67\n",
            "Loop number =  70\n",
            "number =  5.3200000000000015e-68\n",
            "Loop number =  71\n",
            "number =  5.320000000000002e-69\n",
            "Loop number =  72\n",
            "number =  5.320000000000002e-70\n",
            "Loop number =  73\n",
            "number =  5.320000000000002e-71\n",
            "Loop number =  74\n",
            "number =  5.320000000000002e-72\n",
            "Loop number =  75\n",
            "number =  5.320000000000002e-73\n",
            "Loop number =  76\n",
            "number =  5.320000000000002e-74\n",
            "Loop number =  77\n",
            "number =  5.320000000000002e-75\n",
            "Loop number =  78\n",
            "number =  5.320000000000002e-76\n",
            "Loop number =  79\n",
            "number =  5.320000000000002e-77\n",
            "Loop number =  80\n",
            "number =  5.320000000000002e-78\n",
            "Loop number =  81\n",
            "number =  5.320000000000002e-79\n",
            "Loop number =  82\n",
            "number =  5.320000000000002e-80\n",
            "Loop number =  83\n",
            "number =  5.320000000000002e-81\n",
            "Loop number =  84\n",
            "number =  5.320000000000002e-82\n",
            "Loop number =  85\n",
            "number =  5.320000000000002e-83\n",
            "Loop number =  86\n",
            "number =  5.320000000000002e-84\n",
            "Loop number =  87\n",
            "number =  5.320000000000002e-85\n",
            "Loop number =  88\n",
            "number =  5.320000000000002e-86\n",
            "Loop number =  89\n",
            "number =  5.3200000000000025e-87\n",
            "Loop number =  90\n",
            "number =  5.320000000000003e-88\n",
            "Loop number =  91\n",
            "number =  5.320000000000003e-89\n",
            "Loop number =  92\n",
            "number =  5.320000000000003e-90\n",
            "Loop number =  93\n",
            "number =  5.320000000000003e-91\n",
            "Loop number =  94\n",
            "number =  5.320000000000003e-92\n",
            "Loop number =  95\n",
            "number =  5.320000000000003e-93\n",
            "Loop number =  96\n",
            "number =  5.320000000000003e-94\n",
            "Loop number =  97\n",
            "number =  5.320000000000003e-95\n",
            "Loop number =  98\n",
            "number =  5.320000000000003e-96\n",
            "Loop number =  99\n",
            "number =  5.320000000000004e-97\n",
            "Loop number =  100\n",
            "number =  5.320000000000004e-98\n",
            "Loop number =  101\n",
            "number =  5.320000000000004e-99\n",
            "Loop number =  102\n",
            "number =  5.320000000000004e-100\n",
            "Loop number =  103\n",
            "number =  5.3200000000000043e-101\n",
            "Loop number =  104\n",
            "number =  5.320000000000005e-102\n",
            "Loop number =  105\n",
            "number =  5.320000000000005e-103\n",
            "Loop number =  106\n",
            "number =  5.320000000000005e-104\n",
            "Loop number =  107\n",
            "number =  5.320000000000005e-105\n",
            "Loop number =  108\n",
            "number =  5.320000000000004e-106\n",
            "Loop number =  109\n",
            "number =  5.3200000000000046e-107\n",
            "Loop number =  110\n",
            "number =  5.3200000000000045e-108\n",
            "Loop number =  111\n",
            "number =  5.320000000000005e-109\n",
            "Loop number =  112\n",
            "number =  5.320000000000005e-110\n",
            "Loop number =  113\n",
            "number =  5.320000000000005e-111\n",
            "Loop number =  114\n",
            "number =  5.320000000000005e-112\n",
            "Loop number =  115\n",
            "number =  5.320000000000005e-113\n",
            "Loop number =  116\n",
            "number =  5.320000000000005e-114\n",
            "Loop number =  117\n",
            "number =  5.3200000000000045e-115\n",
            "Loop number =  118\n",
            "number =  5.320000000000004e-116\n",
            "Loop number =  119\n",
            "number =  5.320000000000004e-117\n",
            "Loop number =  120\n",
            "number =  5.320000000000004e-118\n",
            "Loop number =  121\n",
            "number =  5.320000000000005e-119\n",
            "Loop number =  122\n",
            "number =  5.3200000000000046e-120\n",
            "Loop number =  123\n",
            "number =  5.320000000000004e-121\n",
            "Loop number =  124\n",
            "number =  5.320000000000005e-122\n",
            "Loop number =  125\n",
            "number =  5.3200000000000044e-123\n",
            "Loop number =  126\n",
            "number =  5.320000000000004e-124\n",
            "Loop number =  127\n",
            "number =  5.320000000000005e-125\n",
            "Loop number =  128\n",
            "number =  5.320000000000005e-126\n",
            "Loop number =  129\n",
            "number =  5.320000000000005e-127\n",
            "Loop number =  130\n",
            "number =  5.320000000000005e-128\n",
            "Loop number =  131\n",
            "number =  5.320000000000005e-129\n",
            "Loop number =  132\n",
            "number =  5.320000000000005e-130\n",
            "Loop number =  133\n",
            "number =  5.320000000000005e-131\n",
            "Loop number =  134\n",
            "number =  5.320000000000005e-132\n",
            "Loop number =  135\n",
            "number =  5.320000000000005e-133\n",
            "Loop number =  136\n",
            "number =  5.320000000000005e-134\n",
            "Loop number =  137\n",
            "number =  5.320000000000005e-135\n",
            "Loop number =  138\n",
            "number =  5.3200000000000054e-136\n",
            "Loop number =  139\n",
            "number =  5.320000000000006e-137\n",
            "Loop number =  140\n",
            "number =  5.320000000000006e-138\n",
            "Loop number =  141\n",
            "number =  5.320000000000006e-139\n",
            "Loop number =  142\n",
            "number =  5.320000000000006e-140\n",
            "Loop number =  143\n",
            "number =  5.320000000000006e-141\n",
            "Loop number =  144\n",
            "number =  5.320000000000007e-142\n",
            "Loop number =  145\n",
            "number =  5.320000000000006e-143\n",
            "Loop number =  146\n",
            "number =  5.320000000000007e-144\n",
            "Loop number =  147\n",
            "number =  5.320000000000007e-145\n",
            "Loop number =  148\n",
            "number =  5.320000000000007e-146\n",
            "Loop number =  149\n",
            "number =  5.320000000000007e-147\n",
            "Loop number =  150\n",
            "number =  5.3200000000000066e-148\n",
            "Loop number =  151\n",
            "number =  5.320000000000007e-149\n",
            "Loop number =  152\n",
            "number =  5.320000000000006e-150\n",
            "Loop number =  153\n",
            "number =  5.3200000000000064e-151\n",
            "Loop number =  154\n",
            "number =  5.320000000000006e-152\n",
            "Loop number =  155\n",
            "number =  5.320000000000006e-153\n",
            "Loop number =  156\n",
            "number =  5.3200000000000066e-154\n",
            "Loop number =  157\n",
            "number =  5.320000000000007e-155\n",
            "Loop number =  158\n",
            "number =  5.320000000000007e-156\n",
            "Loop number =  159\n",
            "number =  5.3200000000000066e-157\n",
            "Loop number =  160\n",
            "number =  5.320000000000007e-158\n",
            "Loop number =  161\n",
            "number =  5.320000000000007e-159\n",
            "Loop number =  162\n",
            "number =  5.320000000000007e-160\n",
            "Loop number =  163\n",
            "number =  5.320000000000007e-161\n",
            "Loop number =  164\n",
            "number =  5.320000000000006e-162\n",
            "Loop number =  165\n",
            "number =  5.3200000000000065e-163\n",
            "Loop number =  166\n",
            "number =  5.320000000000006e-164\n",
            "Loop number =  167\n",
            "number =  5.320000000000006e-165\n",
            "Loop number =  168\n",
            "number =  5.320000000000006e-166\n",
            "Loop number =  169\n",
            "number =  5.320000000000006e-167\n",
            "Loop number =  170\n",
            "number =  5.320000000000006e-168\n",
            "Loop number =  171\n",
            "number =  5.320000000000005e-169\n",
            "Loop number =  172\n",
            "number =  5.3200000000000055e-170\n",
            "Loop number =  173\n",
            "number =  5.320000000000006e-171\n",
            "Loop number =  174\n",
            "number =  5.320000000000005e-172\n",
            "Loop number =  175\n",
            "number =  5.3200000000000056e-173\n",
            "Loop number =  176\n",
            "number =  5.320000000000006e-174\n",
            "Loop number =  177\n",
            "number =  5.320000000000005e-175\n",
            "Loop number =  178\n",
            "number =  5.320000000000005e-176\n",
            "Loop number =  179\n",
            "number =  5.320000000000006e-177\n",
            "Loop number =  180\n",
            "number =  5.320000000000006e-178\n",
            "Loop number =  181\n",
            "number =  5.320000000000006e-179\n",
            "Loop number =  182\n",
            "number =  5.320000000000006e-180\n",
            "Loop number =  183\n",
            "number =  5.320000000000006e-181\n",
            "Loop number =  184\n",
            "number =  5.320000000000006e-182\n",
            "Loop number =  185\n",
            "number =  5.320000000000006e-183\n",
            "Loop number =  186\n",
            "number =  5.320000000000006e-184\n",
            "Loop number =  187\n",
            "number =  5.3200000000000067e-185\n",
            "Loop number =  188\n",
            "number =  5.320000000000007e-186\n",
            "Loop number =  189\n",
            "number =  5.320000000000007e-187\n",
            "Loop number =  190\n",
            "number =  5.3200000000000065e-188\n",
            "Loop number =  191\n",
            "number =  5.3200000000000065e-189\n",
            "Loop number =  192\n",
            "number =  5.320000000000007e-190\n",
            "Loop number =  193\n",
            "number =  5.320000000000007e-191\n",
            "Loop number =  194\n",
            "number =  5.3200000000000066e-192\n",
            "Loop number =  195\n",
            "number =  5.320000000000007e-193\n",
            "Loop number =  196\n",
            "number =  5.320000000000007e-194\n",
            "Loop number =  197\n",
            "number =  5.320000000000007e-195\n",
            "Loop number =  198\n",
            "number =  5.320000000000007e-196\n",
            "Loop number =  199\n",
            "number =  5.320000000000007e-197\n",
            "Loop number =  200\n",
            "number =  5.320000000000007e-198\n",
            "Loop number =  201\n",
            "number =  5.320000000000007e-199\n",
            "Loop number =  202\n",
            "number =  5.320000000000007e-200\n",
            "Loop number =  203\n",
            "number =  5.320000000000007e-201\n",
            "Loop number =  204\n",
            "number =  5.320000000000007e-202\n",
            "Loop number =  205\n",
            "number =  5.320000000000007e-203\n",
            "Loop number =  206\n",
            "number =  5.3200000000000074e-204\n",
            "Loop number =  207\n",
            "number =  5.320000000000007e-205\n",
            "Loop number =  208\n",
            "number =  5.320000000000007e-206\n",
            "Loop number =  209\n",
            "number =  5.3200000000000075e-207\n",
            "Loop number =  210\n",
            "number =  5.320000000000008e-208\n",
            "Loop number =  211\n",
            "number =  5.320000000000008e-209\n",
            "Loop number =  212\n",
            "number =  5.320000000000008e-210\n",
            "Loop number =  213\n",
            "number =  5.320000000000008e-211\n",
            "Loop number =  214\n",
            "number =  5.320000000000008e-212\n",
            "Loop number =  215\n",
            "number =  5.320000000000007e-213\n",
            "Loop number =  216\n",
            "number =  5.320000000000007e-214\n",
            "Loop number =  217\n",
            "number =  5.320000000000007e-215\n",
            "Loop number =  218\n",
            "number =  5.320000000000007e-216\n",
            "Loop number =  219\n",
            "number =  5.320000000000007e-217\n",
            "Loop number =  220\n",
            "number =  5.320000000000007e-218\n",
            "Loop number =  221\n",
            "number =  5.3200000000000075e-219\n",
            "Loop number =  222\n",
            "number =  5.320000000000007e-220\n",
            "Loop number =  223\n",
            "number =  5.320000000000007e-221\n",
            "Loop number =  224\n",
            "number =  5.320000000000007e-222\n",
            "Loop number =  225\n",
            "number =  5.320000000000007e-223\n",
            "Loop number =  226\n",
            "number =  5.320000000000007e-224\n",
            "Loop number =  227\n",
            "number =  5.320000000000007e-225\n",
            "Loop number =  228\n",
            "number =  5.320000000000007e-226\n",
            "Loop number =  229\n",
            "number =  5.320000000000007e-227\n",
            "Loop number =  230\n",
            "number =  5.320000000000006e-228\n",
            "Loop number =  231\n",
            "number =  5.320000000000007e-229\n",
            "Loop number =  232\n",
            "number =  5.3200000000000065e-230\n",
            "Loop number =  233\n",
            "number =  5.320000000000006e-231\n",
            "Loop number =  234\n",
            "number =  5.320000000000006e-232\n",
            "Loop number =  235\n",
            "number =  5.320000000000006e-233\n",
            "Loop number =  236\n",
            "number =  5.320000000000006e-234\n",
            "Loop number =  237\n",
            "number =  5.3200000000000065e-235\n",
            "Loop number =  238\n",
            "number =  5.320000000000006e-236\n",
            "Loop number =  239\n",
            "number =  5.320000000000006e-237\n",
            "Loop number =  240\n",
            "number =  5.320000000000006e-238\n",
            "Loop number =  241\n",
            "number =  5.320000000000006e-239\n",
            "Loop number =  242\n",
            "number =  5.320000000000006e-240\n",
            "Loop number =  243\n",
            "number =  5.320000000000006e-241\n",
            "Loop number =  244\n",
            "number =  5.320000000000006e-242\n",
            "Loop number =  245\n",
            "number =  5.320000000000006e-243\n",
            "Loop number =  246\n",
            "number =  5.320000000000005e-244\n",
            "Loop number =  247\n",
            "number =  5.3200000000000055e-245\n",
            "Loop number =  248\n",
            "number =  5.320000000000005e-246\n",
            "Loop number =  249\n",
            "number =  5.320000000000005e-247\n",
            "Loop number =  250\n",
            "number =  5.320000000000005e-248\n",
            "Loop number =  251\n",
            "number =  5.320000000000005e-249\n",
            "Loop number =  252\n",
            "number =  5.3200000000000046e-250\n",
            "Loop number =  253\n",
            "number =  5.3200000000000046e-251\n",
            "Loop number =  254\n",
            "number =  5.320000000000004e-252\n",
            "Loop number =  255\n",
            "number =  5.3200000000000044e-253\n",
            "Loop number =  256\n",
            "number =  5.320000000000005e-254\n",
            "Loop number =  257\n",
            "number =  5.3200000000000045e-255\n",
            "Loop number =  258\n",
            "number =  5.3200000000000046e-256\n",
            "Loop number =  259\n",
            "number =  5.320000000000004e-257\n",
            "Loop number =  260\n",
            "number =  5.320000000000004e-258\n",
            "Loop number =  261\n",
            "number =  5.320000000000004e-259\n",
            "Loop number =  262\n",
            "number =  5.320000000000004e-260\n",
            "Loop number =  263\n",
            "number =  5.320000000000004e-261\n",
            "Loop number =  264\n",
            "number =  5.320000000000004e-262\n",
            "Loop number =  265\n",
            "number =  5.320000000000004e-263\n",
            "Loop number =  266\n",
            "number =  5.320000000000004e-264\n",
            "Loop number =  267\n",
            "number =  5.320000000000003e-265\n",
            "Loop number =  268\n",
            "number =  5.320000000000003e-266\n",
            "Loop number =  269\n",
            "number =  5.3200000000000036e-267\n",
            "Loop number =  270\n",
            "number =  5.320000000000004e-268\n",
            "Loop number =  271\n",
            "number =  5.3200000000000034e-269\n",
            "Loop number =  272\n",
            "number =  5.320000000000004e-270\n",
            "Loop number =  273\n",
            "number =  5.320000000000003e-271\n",
            "Loop number =  274\n",
            "number =  5.320000000000003e-272\n",
            "Loop number =  275\n",
            "number =  5.320000000000003e-273\n",
            "Loop number =  276\n",
            "number =  5.320000000000003e-274\n",
            "Loop number =  277\n",
            "number =  5.3200000000000024e-275\n",
            "Loop number =  278\n",
            "number =  5.320000000000002e-276\n",
            "Loop number =  279\n",
            "number =  5.320000000000002e-277\n",
            "Loop number =  280\n",
            "number =  5.320000000000002e-278\n",
            "Loop number =  281\n",
            "number =  5.320000000000002e-279\n",
            "Loop number =  282\n",
            "number =  5.320000000000003e-280\n",
            "Loop number =  283\n",
            "number =  5.3200000000000025e-281\n",
            "Loop number =  284\n",
            "number =  5.320000000000003e-282\n",
            "Loop number =  285\n",
            "number =  5.320000000000002e-283\n",
            "Loop number =  286\n",
            "number =  5.3200000000000023e-284\n",
            "Loop number =  287\n",
            "number =  5.3200000000000025e-285\n",
            "Loop number =  288\n",
            "number =  5.320000000000003e-286\n",
            "Loop number =  289\n",
            "number =  5.320000000000003e-287\n",
            "Loop number =  290\n",
            "number =  5.320000000000003e-288\n",
            "Loop number =  291\n",
            "number =  5.320000000000003e-289\n",
            "Loop number =  292\n",
            "number =  5.320000000000002e-290\n",
            "Loop number =  293\n",
            "number =  5.3200000000000025e-291\n",
            "Loop number =  294\n",
            "number =  5.320000000000002e-292\n",
            "Loop number =  295\n",
            "number =  5.320000000000002e-293\n",
            "Loop number =  296\n",
            "number =  5.320000000000002e-294\n",
            "Loop number =  297\n",
            "number =  5.3200000000000016e-295\n",
            "Loop number =  298\n",
            "number =  5.320000000000002e-296\n",
            "Loop number =  299\n",
            "number =  5.3200000000000014e-297\n",
            "Loop number =  300\n",
            "number =  5.3200000000000014e-298\n",
            "Loop number =  301\n",
            "number =  5.320000000000002e-299\n",
            "Loop number =  302\n",
            "number =  5.320000000000002e-300\n",
            "Loop number =  303\n",
            "number =  5.320000000000002e-301\n",
            "Loop number =  304\n",
            "number =  5.320000000000002e-302\n",
            "Loop number =  305\n",
            "number =  5.3200000000000016e-303\n",
            "Loop number =  306\n",
            "number =  5.320000000000001e-304\n",
            "Loop number =  307\n",
            "number =  5.320000000000001e-305\n",
            "Loop number =  308\n",
            "number =  5.320000000000001e-306\n",
            "Loop number =  309\n",
            "number =  5.320000000000001e-307\n",
            "Loop number =  310\n",
            "number =  5.320000000000001e-308\n",
            "Loop number =  311\n",
            "number =  5.320000000000003e-309\n",
            "Loop number =  312\n",
            "number =  5.32e-310\n",
            "Loop number =  313\n",
            "number =  5.32e-311\n",
            "Loop number =  314\n",
            "number =  5.32e-312\n",
            "Loop number =  315\n",
            "number =  5.32000000003e-313\n",
            "Loop number =  316\n",
            "number =  5.32e-314\n",
            "Loop number =  317\n",
            "number =  5.32e-315\n",
            "Loop number =  318\n",
            "number =  5.32e-316\n",
            "Loop number =  319\n",
            "number =  5.32e-317\n",
            "Loop number =  320\n",
            "number =  5.32e-318\n",
            "Loop number =  321\n",
            "number =  5.32e-319\n",
            "Loop number =  322\n",
            "number =  5.32e-320\n",
            "Loop number =  323\n",
            "number =  5.32e-321\n",
            "Loop number =  324\n",
            "number =  5.34e-322\n",
            "Loop number =  325\n",
            "number =  5.4e-323\n",
            "Loop number =  326\n",
            "number =  5e-324\n",
            "Loop number =  327\n",
            "number =  0.0\n",
            "The sum of the digits is:  10\n"
          ]
        }
      ],
      "source": [
        "sum=0\n",
        "num=int(input(\"Enter the number : \"))\n",
        "i=0\n",
        "\n",
        "while(num!=0):\n",
        "  temp = num%10\n",
        "  sum = sum + int(temp)\n",
        "  num=num/10\n",
        "  i=i+1\n",
        "  print(\"Loop number = \",i)\n",
        "  print(\"number = \",num)\n",
        "\n",
        "print(\"The sum of the digits is: \",sum)"
      ]
    },
    {
      "cell_type": "markdown",
      "metadata": {
        "id": "zds1e_mL78LA"
      },
      "source": [
        "### Printing Odd Number"
      ]
    },
    {
      "cell_type": "code",
      "execution_count": null,
      "metadata": {
        "colab": {
          "base_uri": "https://localhost:8080/"
        },
        "id": "tM3HsSiE3RfK",
        "outputId": "4ad5decc-db40-4161-b142-0716c2c87671"
      },
      "outputs": [
        {
          "name": "stdout",
          "output_type": "stream",
          "text": [
            "Number =  1\n",
            "Number =  3\n",
            "Number =  5\n",
            "Number =  7\n",
            "Number =  9\n",
            "Number =  11\n",
            "Number =  13\n",
            "Number =  15\n",
            "Number =  17\n",
            "Number =  19\n",
            "Number =  21\n",
            "Number =  23\n",
            "Number =  25\n",
            "Number =  27\n",
            "Number =  29\n",
            "Number =  31\n",
            "Number =  33\n",
            "Number =  35\n",
            "Number =  37\n",
            "Number =  39\n",
            "Number =  41\n",
            "Number =  43\n",
            "Number =  45\n",
            "Number =  47\n",
            "Number =  49\n"
          ]
        }
      ],
      "source": [
        "i=1\n",
        "while(i<50):\n",
        "  print(\"Number = \",i)\n",
        "  i=i+2"
      ]
    },
    {
      "cell_type": "markdown",
      "metadata": {
        "id": "kAAAO7aj3c02"
      },
      "source": [
        "## For Loop"
      ]
    },
    {
      "cell_type": "markdown",
      "metadata": {
        "id": "dJXJ49qc53TK"
      },
      "source": [
        "### printing"
      ]
    },
    {
      "cell_type": "code",
      "execution_count": null,
      "metadata": {
        "colab": {
          "base_uri": "https://localhost:8080/"
        },
        "id": "EHGIYHHQ58vK",
        "outputId": "2948effc-fc38-4174-ae6e-a0a00e8363b4"
      },
      "outputs": [
        {
          "name": "stdout",
          "output_type": "stream",
          "text": [
            "value of i 1\n",
            "value of i 3\n",
            "value of i 5\n",
            "value of i 7\n",
            "value of i 9\n"
          ]
        }
      ],
      "source": [
        "\n",
        "for i in range(1,10,2):\n",
        "  print(\"value of i\",i)"
      ]
    },
    {
      "cell_type": "markdown",
      "metadata": {
        "id": "Jwa7sZVo6IPe"
      },
      "source": [
        "### Printing 2\n"
      ]
    },
    {
      "cell_type": "code",
      "execution_count": null,
      "metadata": {
        "colab": {
          "base_uri": "https://localhost:8080/"
        },
        "id": "Lq47BuG96Nk-",
        "outputId": "df758d4f-2068-46c3-afe2-5dbe8be7a586"
      },
      "outputs": [
        {
          "name": "stdout",
          "output_type": "stream",
          "text": [
            "value of i =  0\n",
            "value of i =  1\n",
            "value of i =  2\n",
            "value of i =  3\n",
            "value of i =  4\n",
            "value of i =  5\n",
            "value of i =  6\n",
            "value of i =  7\n",
            "value of i =  8\n",
            "value of i =  9\n"
          ]
        }
      ],
      "source": [
        "x = range(0,10,1)\n",
        "for i in x:\n",
        "  print(\"value of i = \",i)"
      ]
    },
    {
      "cell_type": "markdown",
      "metadata": {
        "id": "rv96ufan6Z4K"
      },
      "source": [
        "### Printing 3"
      ]
    },
    {
      "cell_type": "code",
      "execution_count": null,
      "metadata": {
        "colab": {
          "base_uri": "https://localhost:8080/"
        },
        "id": "GKOAByv66zL2",
        "outputId": "2df5bc40-a9b8-4544-dd4f-090d0b9118e1"
      },
      "outputs": [
        {
          "name": "stdout",
          "output_type": "stream",
          "text": [
            "Value of i =  0\n",
            "Value of i =  1\n",
            "Value of i =  2\n",
            "Value of i =  3\n",
            "Value of i =  4\n",
            "Value of i =  5\n",
            "Value of i =  6\n",
            "Value of i =  7\n",
            "Value of i =  8\n",
            "Value of i =  9\n"
          ]
        }
      ],
      "source": [
        "for i in range(10):\n",
        "  print(\"Value of i = \",i)"
      ]
    },
    {
      "cell_type": "markdown",
      "metadata": {
        "id": "RBz0g-0m66Kt"
      },
      "source": [
        "### Multiplication Table"
      ]
    },
    {
      "cell_type": "code",
      "execution_count": null,
      "metadata": {
        "colab": {
          "base_uri": "https://localhost:8080/"
        },
        "id": "PXnUgJG-7nI7",
        "outputId": "6f54eba0-7510-4adc-e78f-bd2c3a0099f9"
      },
      "outputs": [
        {
          "name": "stdout",
          "output_type": "stream",
          "text": [
            "Enter the number : 3\n",
            "The multiplication table of  3\n",
            "3  x  0  =  0\n",
            "3  x  1  =  3\n",
            "3  x  2  =  6\n",
            "3  x  3  =  9\n",
            "3  x  4  =  12\n",
            "3  x  5  =  15\n",
            "3  x  6  =  18\n",
            "3  x  7  =  21\n",
            "3  x  8  =  24\n",
            "3  x  9  =  27\n",
            "3  x  10  =  30\n"
          ]
        }
      ],
      "source": [
        "num=int(input(\"Enter the number : \"))\n",
        "print(\"The multiplication table of \",num)\n",
        "for i in range (11):\n",
        "  print(num,\" x \",i,\" = \",num*i)"
      ]
    },
    {
      "cell_type": "markdown",
      "metadata": {
        "id": "nkz8sEoa8Dv6"
      },
      "source": [
        "### Factorial"
      ]
    },
    {
      "cell_type": "code",
      "execution_count": null,
      "metadata": {
        "colab": {
          "base_uri": "https://localhost:8080/"
        },
        "id": "3A04ScCj-BtN",
        "outputId": "73d7bb45-da39-4ced-fcf6-fc4c451229e6"
      },
      "outputs": [
        {
          "name": "stdout",
          "output_type": "stream",
          "text": [
            "Enter the number = 120\n",
            "The factorial of  120  =  6689502913449127057588118054090372586752746333138029810295671352301633557244962989366874165271984981308157637893214090552534408589408121859898481114389650005964960521256960000000000000000000000000000\n"
          ]
        }
      ],
      "source": [
        "num=int(input(\"Enter the number = \"))\n",
        "if(num==0):\n",
        "  f=1\n",
        "f=1\n",
        "\n",
        "for i in range(1,num+1):\n",
        "  f=f*i\n",
        "\n",
        "print(\"The factorial of \",num,\" = \",f)"
      ]
    },
    {
      "cell_type": "markdown",
      "metadata": {
        "id": "qCmUS4pr-IC_"
      },
      "source": [
        "\n",
        "## Break"
      ]
    },
    {
      "cell_type": "code",
      "execution_count": null,
      "metadata": {
        "colab": {
          "base_uri": "https://localhost:8080/"
        },
        "id": "G0Bz00AVAJgE",
        "outputId": "4e953775-c0ee-4a09-9d2d-49eab8fec685"
      },
      "outputs": [
        {
          "name": "stdout",
          "output_type": "stream",
          "text": [
            "0\n",
            "1\n",
            "2\n",
            "3\n",
            "4\n",
            "5\n",
            "Out of loop\n"
          ]
        }
      ],
      "source": [
        "x = range(0,11)\n",
        "for i in x:\n",
        "  print(i)\n",
        "\n",
        "  if(i==5):\n",
        "    print(\"Out of loop\")\n",
        "    break\n",
        "\n"
      ]
    },
    {
      "cell_type": "code",
      "execution_count": null,
      "metadata": {
        "colab": {
          "base_uri": "https://localhost:8080/"
        },
        "id": "H_CtjxN-AfpK",
        "outputId": "e017870f-76d4-4c7d-8905-033f3425f7d3"
      },
      "outputs": [
        {
          "name": "stdout",
          "output_type": "stream",
          "text": [
            "Enter the value of string \n",
            "helicopter\n",
            "h\n",
            "e\n",
            "l\n",
            "i\n",
            "c\n",
            "Out of the loop\n"
          ]
        }
      ],
      "source": [
        "s=input(\"Enter the value of string \\n\")\n",
        "\n",
        "for i in s:\n",
        "  print(i)\n",
        "\n",
        "  if(i=='c',):\n",
        "    print(\"Out of the loop\")\n",
        "    break"
      ]
    },
    {
      "cell_type": "markdown",
      "metadata": {
        "id": "579fbMgvBAhz"
      },
      "source": [
        "## Continue"
      ]
    },
    {
      "cell_type": "code",
      "execution_count": null,
      "metadata": {
        "colab": {
          "base_uri": "https://localhost:8080/"
        },
        "id": "g2ukOkXcDSth",
        "outputId": "112de02d-11b0-48f1-831f-19a0a81cb749"
      },
      "outputs": [
        {
          "name": "stdout",
          "output_type": "stream",
          "text": [
            "1\n",
            "2\n",
            "3\n",
            "skip\n",
            "5\n",
            "6\n",
            "7\n",
            "8\n",
            "9\n",
            "10\n",
            "11\n"
          ]
        }
      ],
      "source": [
        "x = range(1,12)\n",
        "for i in x:\n",
        "  if(i==4):\n",
        "    print(\"skip\")\n",
        "    continue\n",
        "\n",
        "  print(i)"
      ]
    },
    {
      "cell_type": "code",
      "execution_count": null,
      "metadata": {
        "colab": {
          "base_uri": "https://localhost:8080/"
        },
        "id": "GWmUizLCIFbn",
        "outputId": "7a7461f6-9f80-47a0-f384-9672080c84a9"
      },
      "outputs": [
        {
          "name": "stdout",
          "output_type": "stream",
          "text": [
            "Enter the string \n",
            "chicken\n",
            "c\n",
            "h\n",
            "i\n",
            "c\n",
            "e\n",
            "n\n",
            "End of the loop\n"
          ]
        }
      ],
      "source": [
        "s= input(\"Enter the string \\n\")\n",
        "\n",
        "for i in s:\n",
        "  if(i==\"k\"):\n",
        "    continue\n",
        "  print(i)\n",
        "\n",
        "print(\"End of the loop\")"
      ]
    },
    {
      "cell_type": "markdown",
      "metadata": {
        "id": "Y6kZ1JASIfE5"
      },
      "source": [
        "## Pass"
      ]
    },
    {
      "cell_type": "code",
      "execution_count": null,
      "metadata": {
        "colab": {
          "base_uri": "https://localhost:8080/"
        },
        "id": "k8i8oTAVJrsy",
        "outputId": "5b20c67b-6146-411d-e9e7-3333fa056718"
      },
      "outputs": [
        {
          "name": "stdout",
          "output_type": "stream",
          "text": [
            "value of i =  1\n",
            "value of i =  3\n",
            "value of i =  5\n",
            "value of i =  7\n",
            "This is the pass block\n",
            "value of i =  9\n",
            "value of i =  11\n",
            "value of i =  13\n",
            "value of i =  15\n",
            "value of i =  17\n",
            "value of i =  19\n"
          ]
        }
      ],
      "source": [
        "for i in range (1,20,2):\n",
        "  print(\"value of i = \",i)\n",
        "\n",
        "  if(i==7):\n",
        "    pass\n",
        "    print(\"This is the pass block\")\n",
        "\n",
        "\n"
      ]
    },
    {
      "cell_type": "markdown",
      "metadata": {
        "id": "gx4ueI4pKTSQ"
      },
      "source": [
        "## Else"
      ]
    },
    {
      "cell_type": "code",
      "execution_count": null,
      "metadata": {
        "colab": {
          "base_uri": "https://localhost:8080/"
        },
        "id": "jM9kxv_ndA_W",
        "outputId": "4a9a9617-ab9b-4b8b-f13b-796d477c06b3"
      },
      "outputs": [
        {
          "name": "stdout",
          "output_type": "stream",
          "text": [
            "Enter the name :\n",
            "Python\n",
            "P\n",
            "y\n",
            "t\n",
            "h\n",
            "o\n",
            "n\n",
            "Porcess complete\n"
          ]
        }
      ],
      "source": [
        "name = input(\"Enter the name :\\n\")\n",
        "for i in name:\n",
        "  print(i)\n",
        "else:\n",
        "  print(\"Porcess complete\")"
      ]
    },
    {
      "cell_type": "code",
      "execution_count": null,
      "metadata": {
        "colab": {
          "base_uri": "https://localhost:8080/"
        },
        "id": "lUdq_qANdZv2",
        "outputId": "dbb5950a-7ed2-48e1-9180-de6865c16519"
      },
      "outputs": [
        {
          "name": "stdout",
          "output_type": "stream",
          "text": [
            "1\n",
            "0\n"
          ]
        }
      ],
      "source": [
        "i=2\n",
        "\n",
        "while(i>0):\n",
        "\n",
        "    i=i-1\n",
        "    print(i)"
      ]
    },
    {
      "cell_type": "markdown",
      "metadata": {
        "id": "THqmNkJihsOi"
      },
      "source": [
        "# String"
      ]
    },
    {
      "cell_type": "markdown",
      "metadata": {
        "id": "mGYdWWV3cjuL"
      },
      "source": [
        "## printing"
      ]
    },
    {
      "cell_type": "code",
      "execution_count": null,
      "metadata": {
        "colab": {
          "base_uri": "https://localhost:8080/"
        },
        "id": "ASL4V0aKcmAh",
        "outputId": "b3609621-d8ba-4d8c-a3a0-62f8dbca92ca"
      },
      "outputs": [
        {
          "name": "stdout",
          "output_type": "stream",
          "text": [
            "Hello, World !\n",
            "Hello, World !\n",
            " Hello World!\n",
            "Hello World 2\n",
            "      Hellow World 3\n"
          ]
        }
      ],
      "source": [
        "print('Hello, World !')\n",
        "print(\"Hello, World !\")\n",
        "print(''' Hello World!\n",
        "Hello World 2\n",
        "      Hellow World 3''')"
      ]
    },
    {
      "cell_type": "code",
      "execution_count": null,
      "metadata": {
        "colab": {
          "base_uri": "https://localhost:8080/"
        },
        "id": "mb_-7em1c5lq",
        "outputId": "c5e6238c-84bb-490e-a5fd-81139acc8b4d"
      },
      "outputs": [
        {
          "name": "stdout",
          "output_type": "stream",
          "text": [
            "Hello's\n"
          ]
        }
      ],
      "source": [
        "print('Hello\\'s')"
      ]
    },
    {
      "cell_type": "markdown",
      "metadata": {
        "id": "d816T2fkdRB1"
      },
      "source": [
        "## Escape Character"
      ]
    },
    {
      "cell_type": "code",
      "execution_count": null,
      "metadata": {
        "colab": {
          "base_uri": "https://localhost:8080/"
        },
        "id": "zlOvI-JEdiHl",
        "outputId": "0fe4b930-a6c4-46b2-cbd0-98ee0de74c21"
      },
      "outputs": [
        {
          "name": "stdout",
          "output_type": "stream",
          "text": [
            "How's the Josh ! \n"
          ]
        }
      ],
      "source": [
        "print('How\\'s the Josh ! ')"
      ]
    },
    {
      "cell_type": "code",
      "execution_count": null,
      "metadata": {
        "colab": {
          "base_uri": "https://localhost:8080/"
        },
        "id": "zLAxovxXaLdW",
        "outputId": "de4429f6-c98a-4638-fc71-7de11d9dce6e"
      },
      "outputs": [
        {
          "name": "stdout",
          "output_type": "stream",
          "text": [
            "\"Hello , How are you \"\n"
          ]
        }
      ],
      "source": [
        "print(\"\\\"Hello , How are you \\\"\")"
      ]
    },
    {
      "cell_type": "markdown",
      "metadata": {
        "id": "0mFXDXI1ahZu"
      },
      "source": [
        "### Next line"
      ]
    },
    {
      "cell_type": "code",
      "execution_count": null,
      "metadata": {
        "colab": {
          "base_uri": "https://localhost:8080/"
        },
        "id": "7mae2SqbaUCP",
        "outputId": "03588cad-89e9-4917-99f0-cd730182b1c5"
      },
      "outputs": [
        {
          "name": "stdout",
          "output_type": "stream",
          "text": [
            "Hello, \n",
            " How are you \n"
          ]
        }
      ],
      "source": [
        "print(\"Hello, \\n How are you \")"
      ]
    },
    {
      "cell_type": "markdown",
      "metadata": {
        "id": "X4KhxfV8aj9C"
      },
      "source": [
        "### Tab"
      ]
    },
    {
      "cell_type": "code",
      "execution_count": null,
      "metadata": {
        "colab": {
          "base_uri": "https://localhost:8080/"
        },
        "id": "Avx2OGOeaopz",
        "outputId": "157edbd8-f3ae-4586-c8d6-5af4bdb84cf2"
      },
      "outputs": [
        {
          "name": "stdout",
          "output_type": "stream",
          "text": [
            "Hello \t How are you \n"
          ]
        }
      ],
      "source": [
        "print(\"Hello \\t How are you \")"
      ]
    },
    {
      "cell_type": "markdown",
      "metadata": {
        "id": "hRFDLEl3aZRo"
      },
      "source": [
        "### Roasting"
      ]
    },
    {
      "cell_type": "code",
      "execution_count": null,
      "metadata": {
        "colab": {
          "base_uri": "https://localhost:8080/"
        },
        "id": "5HyLKqrOa6gF",
        "outputId": "8480ca65-56ba-42a3-810f-456191632fc7"
      },
      "outputs": [
        {
          "name": "stdout",
          "output_type": "stream",
          "text": [
            "Hello \\t How are you \n"
          ]
        }
      ],
      "source": [
        "print(R\"Hello \\t How are you \")"
      ]
    },
    {
      "cell_type": "markdown",
      "metadata": {
        "id": "C5BRePGNa-73"
      },
      "source": [
        "## Format string"
      ]
    },
    {
      "cell_type": "markdown",
      "metadata": {
        "id": "09HPSyPWc0l2"
      },
      "source": [
        "Syntax : format (value, formt specifier)\n",
        "\n",
        "\n",
        "```\n",
        "< is used for left justify\n",
        "> is used for right justify\n",
        "^ is used for centre alignment\n",
        "```\n",
        "\n"
      ]
    },
    {
      "cell_type": "code",
      "execution_count": null,
      "metadata": {
        "colab": {
          "base_uri": "https://localhost:8080/"
        },
        "id": "fTHPWOL7dkqE",
        "outputId": "859e537b-39ae-4701-a931-dac8bb0237bf"
      },
      "outputs": [
        {
          "name": "stdout",
          "output_type": "stream",
          "text": [
            "         Hello World\n"
          ]
        }
      ],
      "source": [
        "x=\"Hello World\"\n",
        "print(\"{:>20}\".format(x))"
      ]
    },
    {
      "cell_type": "code",
      "execution_count": null,
      "metadata": {
        "colab": {
          "base_uri": "https://localhost:8080/"
        },
        "id": "3624wQ1gdwqn",
        "outputId": "806beefe-823b-4c4d-e59e-c5656cb8acd5"
      },
      "outputs": [
        {
          "name": "stdout",
          "output_type": "stream",
          "text": [
            "Hello World         \n"
          ]
        }
      ],
      "source": [
        "x=\"Hello World\"\n",
        "print(\"{:<20}\".format(x))"
      ]
    },
    {
      "cell_type": "code",
      "execution_count": null,
      "metadata": {
        "colab": {
          "base_uri": "https://localhost:8080/"
        },
        "id": "LZ7bBFH8d_tA",
        "outputId": "f69d7892-478b-4207-aa8c-4dfcd0849863"
      },
      "outputs": [
        {
          "name": "stdout",
          "output_type": "stream",
          "text": [
            "    Hello world     \n"
          ]
        }
      ],
      "source": [
        "x=\"Hello world\"\n",
        "print(\"{:^20}\".format(x))"
      ]
    },
    {
      "cell_type": "code",
      "execution_count": null,
      "metadata": {
        "colab": {
          "base_uri": "https://localhost:8080/"
        },
        "id": "OArlG29GeLPy",
        "outputId": "33635805-0fdb-4965-f1cf-08e2260f001d"
      },
      "outputs": [
        {
          "name": "stdout",
          "output_type": "stream",
          "text": [
            "Hello ---------- World !\n"
          ]
        }
      ],
      "source": [
        "print('Hello',format('-','-<10'),'World !')"
      ]
    },
    {
      "cell_type": "code",
      "execution_count": null,
      "metadata": {
        "colab": {
          "base_uri": "https://localhost:8080/"
        },
        "id": "avVvrSW_eaYV",
        "outputId": "a4279e5b-0c81-4a75-8a0a-2b593c60dda2"
      },
      "outputs": [
        {
          "name": "stdout",
          "output_type": "stream",
          "text": [
            "Hello .................... World\n"
          ]
        }
      ],
      "source": [
        "print('Hello',format('.','.<20'),'World')"
      ]
    },
    {
      "cell_type": "code",
      "execution_count": null,
      "metadata": {
        "colab": {
          "base_uri": "https://localhost:8080/"
        },
        "id": "ErsH3fjlevq5",
        "outputId": "e1b5246b-02d6-4bf4-b49b-1ff8d7742afd"
      },
      "outputs": [
        {
          "name": "stdout",
          "output_type": "stream",
          "text": [
            "Hello                      World !\n"
          ]
        }
      ],
      "source": [
        "print(\"Hello\",format('','<20'),\"World !\")"
      ]
    },
    {
      "cell_type": "code",
      "execution_count": null,
      "metadata": {
        "colab": {
          "base_uri": "https://localhost:8080/"
        },
        "id": "1wt2IFrgfYE-",
        "outputId": "8dc083f4-7bc0-4c7f-c41b-1d22cc9a80ae"
      },
      "outputs": [
        {
          "name": "stdout",
          "output_type": "stream",
          "text": [
            "Hello                World\n"
          ]
        }
      ],
      "source": [
        "x= \"World\"\n",
        "print(\"Hello\",\"{:>20}\".format(\"World\"))"
      ]
    },
    {
      "cell_type": "markdown",
      "metadata": {
        "id": "5XjMNQLQfnuU"
      },
      "source": [
        "# Basic Operations of String"
      ]
    },
    {
      "cell_type": "markdown",
      "metadata": {
        "id": "yAVaWSaurQ0r"
      },
      "source": [
        "## Adding String\n"
      ]
    },
    {
      "cell_type": "code",
      "execution_count": null,
      "metadata": {
        "colab": {
          "base_uri": "https://localhost:8080/"
        },
        "id": "V1VdHJfQrTw5",
        "outputId": "80d57174-4383-4fd4-af21-6d17cfb2b6d8"
      },
      "outputs": [
        {
          "name": "stdout",
          "output_type": "stream",
          "text": [
            "Hello world ! welcome\n"
          ]
        }
      ],
      "source": [
        "str1 = \"Hello \"\n",
        "str2 = \"world ! \"\n",
        "str3 = \"welcome\"\n",
        "print(str1 + str2 + str3)"
      ]
    },
    {
      "cell_type": "code",
      "execution_count": null,
      "metadata": {
        "colab": {
          "base_uri": "https://localhost:8080/"
        },
        "id": "UkxeoJsqrgjo",
        "outputId": "ad9c8527-ff21-4bd5-aad6-3c8a38242cbb"
      },
      "outputs": [
        {
          "name": "stdout",
          "output_type": "stream",
          "text": [
            "Hello World ! \n",
            "World ! \n"
          ]
        }
      ],
      "source": [
        "str1 = \"Hello \"\n",
        "str2 = \"World ! \"\n",
        "str1 += str2\n",
        "print(str1)\n",
        "print(str2)"
      ]
    },
    {
      "cell_type": "markdown",
      "metadata": {
        "id": "Hx_pvtDcsKXU"
      },
      "source": [
        "## fstring"
      ]
    },
    {
      "cell_type": "code",
      "execution_count": null,
      "metadata": {
        "colab": {
          "base_uri": "https://localhost:8080/"
        },
        "id": "3YDWAwEJsfsj",
        "outputId": "e01097f0-51e5-45a2-b213-e638ef0878f0"
      },
      "outputs": [
        {
          "name": "stdout",
          "output_type": "stream",
          "text": [
            "Hello World !\n"
          ]
        }
      ],
      "source": [
        "str1 = \"Hello \"\n",
        "str2 = \"World !\"\n",
        "fstring = f\"{str1}{str2}\"\n",
        "print(fstring)"
      ]
    },
    {
      "cell_type": "markdown",
      "metadata": {
        "id": "2cqwVVhGtBhZ"
      },
      "source": [
        "## loop"
      ]
    },
    {
      "cell_type": "code",
      "execution_count": null,
      "metadata": {
        "colab": {
          "base_uri": "https://localhost:8080/"
        },
        "id": "haSGhdeZsrdv",
        "outputId": "3dabbc61-3baf-4735-bac6-ca658c9eaef5"
      },
      "outputs": [
        {
          "name": "stdout",
          "output_type": "stream",
          "text": [
            "S\n",
            "w\n",
            "i\n",
            "t\n",
            "z\n",
            "e\n",
            "r\n",
            "l\n",
            "a\n",
            "n\n",
            "d\n"
          ]
        }
      ],
      "source": [
        "for x in \"Switzerland\":\n",
        "  print(x)"
      ]
    },
    {
      "cell_type": "markdown",
      "metadata": {
        "id": "lHewZDa2tATW"
      },
      "source": [
        "## len function"
      ]
    },
    {
      "cell_type": "code",
      "execution_count": null,
      "metadata": {
        "colab": {
          "base_uri": "https://localhost:8080/"
        },
        "id": "oSOcsNwVtrEG",
        "outputId": "9ed2aecc-3ecb-4bad-9cef-458160c2a4bd"
      },
      "outputs": [
        {
          "name": "stdout",
          "output_type": "stream",
          "text": [
            "12\n"
          ]
        }
      ],
      "source": [
        "str = \"Independence\"\n",
        "print(len(str))"
      ]
    },
    {
      "cell_type": "markdown",
      "metadata": {
        "id": "GSGv97SOtw8q"
      },
      "source": [
        "## in function"
      ]
    },
    {
      "cell_type": "code",
      "execution_count": null,
      "metadata": {
        "colab": {
          "base_uri": "https://localhost:8080/"
        },
        "id": "-BJrs34nuHYs",
        "outputId": "fc4f4988-b40e-49df-e621-a6c011af00dc"
      },
      "outputs": [
        {
          "name": "stdout",
          "output_type": "stream",
          "text": [
            "True\n"
          ]
        }
      ],
      "source": [
        "str = \"Always work hard for success\"\n",
        "print(\"work\" in str)"
      ]
    },
    {
      "cell_type": "code",
      "execution_count": null,
      "metadata": {
        "colab": {
          "base_uri": "https://localhost:8080/"
        },
        "id": "MYbbOiUKuSVW",
        "outputId": "cbb603c5-85ea-4d9e-9efb-fcd20fa5d3ec"
      },
      "outputs": [
        {
          "name": "stdout",
          "output_type": "stream",
          "text": [
            "False\n"
          ]
        }
      ],
      "source": [
        "str = \"Always work hard for sucess\"\n",
        "print(\"Work \" in str)"
      ]
    },
    {
      "cell_type": "code",
      "execution_count": null,
      "metadata": {
        "colab": {
          "base_uri": "https://localhost:8080/"
        },
        "id": "tIe44NrfuaTR",
        "outputId": "5315b583-e8cf-498b-a384-84b0419f8709"
      },
      "outputs": [
        {
          "name": "stdout",
          "output_type": "stream",
          "text": [
            "False\n"
          ]
        }
      ],
      "source": [
        "str = \"Be a good kid\"\n",
        "print(\"bad\" in str)"
      ]
    },
    {
      "cell_type": "code",
      "execution_count": null,
      "metadata": {
        "colab": {
          "base_uri": "https://localhost:8080/"
        },
        "id": "nKd6vxKSugJA",
        "outputId": "765cb994-843a-47cc-8971-dbbd8875c6aa"
      },
      "outputs": [
        {
          "name": "stdout",
          "output_type": "stream",
          "text": [
            "Work is present in the string\n"
          ]
        }
      ],
      "source": [
        "str = \"Always work hard for sucess \"\n",
        "if (\"work\" in str):\n",
        "  print(\"Work is present in the string\")\n",
        "else:\n",
        "  print(\"Work is not present in the string\")"
      ]
    },
    {
      "cell_type": "code",
      "execution_count": null,
      "metadata": {
        "colab": {
          "base_uri": "https://localhost:8080/"
        },
        "id": "OUkNIYycvFOP",
        "outputId": "bf30fc64-289f-4509-bb0c-f44c9f815ccd"
      },
      "outputs": [
        {
          "name": "stdout",
          "output_type": "stream",
          "text": [
            "cork is not present in the string\n"
          ]
        }
      ],
      "source": [
        "str = \"Always work hard for sucess \"\n",
        "if (\"cork\" in str):\n",
        "  print(\"cork is present in the string\")\n",
        "else:\n",
        "  print(\"cork is not present in the string\")"
      ]
    },
    {
      "cell_type": "markdown",
      "metadata": {
        "id": "eBSvHjfewGnR"
      },
      "source": [
        "## Not in"
      ]
    },
    {
      "cell_type": "code",
      "execution_count": null,
      "metadata": {
        "colab": {
          "base_uri": "https://localhost:8080/"
        },
        "id": "PckTaGy9vMUp",
        "outputId": "b47a4480-b2bf-4dfc-f5c1-7851b052b48b"
      },
      "outputs": [
        {
          "name": "stdout",
          "output_type": "stream",
          "text": [
            "Himalaya is not present\n"
          ]
        }
      ],
      "source": [
        "str = \"A home in the lap of Alps mountain ranges\"\n",
        "if(\"himalaya\" not in str):\n",
        "  print(\"Himalaya is not present\")\n",
        "else:\n",
        "  print(\"Himalaya is prsent\")"
      ]
    },
    {
      "cell_type": "markdown",
      "metadata": {
        "id": "Fjjgvz9pv_P6"
      },
      "source": [
        "# String slices, function and methods"
      ]
    },
    {
      "cell_type": "markdown",
      "metadata": {
        "id": "976g4_hVtnCE"
      },
      "source": [
        "## Index\n"
      ]
    },
    {
      "cell_type": "code",
      "execution_count": null,
      "metadata": {
        "colab": {
          "base_uri": "https://localhost:8080/"
        },
        "id": "-NSsBb8ktzZA",
        "outputId": "b38b14d5-852a-4510-ecb4-0411a9772b0a"
      },
      "outputs": [
        {
          "name": "stdout",
          "output_type": "stream",
          "text": [
            "7\n"
          ]
        }
      ],
      "source": [
        "str1=\"Hellow World\"\n",
        "print(str1.index(\"W\"))"
      ]
    },
    {
      "cell_type": "code",
      "execution_count": null,
      "metadata": {
        "colab": {
          "base_uri": "https://localhost:8080/"
        },
        "id": "E94yW_-3uFSi",
        "outputId": "54334e68-c9d4-4a1f-8361-35748ac18cd8"
      },
      "outputs": [
        {
          "name": "stdout",
          "output_type": "stream",
          "text": [
            "d\n"
          ]
        }
      ],
      "source": [
        "str1=\"Hello World !\"\n",
        "print(str1[10])"
      ]
    },
    {
      "cell_type": "markdown",
      "metadata": {
        "id": "K0h70COtuOk1"
      },
      "source": [
        "## Slicing"
      ]
    },
    {
      "cell_type": "code",
      "execution_count": null,
      "metadata": {
        "colab": {
          "base_uri": "https://localhost:8080/"
        },
        "id": "7KLTeF1Buwb3",
        "outputId": "be035993-bef2-465a-b3ab-d24fc6ade45f"
      },
      "outputs": [
        {
          "name": "stdout",
          "output_type": "stream",
          "text": [
            "ternatio\n",
            "Internatio\n",
            "ternational \n"
          ]
        }
      ],
      "source": [
        "str1=\"International \"\n",
        "print(str1[2:10])\n",
        "print(str1[:10])\n",
        "print(str1[2:])"
      ]
    },
    {
      "cell_type": "code",
      "execution_count": null,
      "metadata": {
        "colab": {
          "base_uri": "https://localhost:8080/"
        },
        "id": "EYsDojI3u75f",
        "outputId": "0ae3a5fb-05a7-40de-920d-4abbeadfef62"
      },
      "outputs": [
        {
          "name": "stdout",
          "output_type": "stream",
          "text": [
            "atio\n"
          ]
        }
      ],
      "source": [
        "str1=\"International\"\n",
        "print(str1[-7:-3])"
      ]
    },
    {
      "cell_type": "markdown",
      "metadata": {
        "id": "qTYlMBUzwF3Q"
      },
      "source": [
        "## upper and lower"
      ]
    },
    {
      "cell_type": "code",
      "execution_count": null,
      "metadata": {
        "colab": {
          "base_uri": "https://localhost:8080/"
        },
        "id": "yp5Eme3qwiks",
        "outputId": "0235f667-fa3a-4635-b7ad-ca79cef8445c"
      },
      "outputs": [
        {
          "name": "stdout",
          "output_type": "stream",
          "text": [
            "INTERNATIONAL\n",
            "international\n"
          ]
        }
      ],
      "source": [
        "str1=\"International\"\n",
        "print(str1.upper())\n",
        "print(str1.lower())"
      ]
    },
    {
      "cell_type": "markdown",
      "metadata": {
        "id": "-KgASK9Ywqx7"
      },
      "source": [
        "## endswith"
      ]
    },
    {
      "cell_type": "code",
      "execution_count": null,
      "metadata": {
        "colab": {
          "base_uri": "https://localhost:8080/"
        },
        "id": "41bpGP7rw7qd",
        "outputId": "652c7b8f-083f-4622-c301-658d7fa5838c"
      },
      "outputs": [
        {
          "name": "stdout",
          "output_type": "stream",
          "text": [
            "True\n"
          ]
        }
      ],
      "source": [
        "str1=\"International\"\n",
        "print(str1.endswith(\"al\"))"
      ]
    },
    {
      "cell_type": "code",
      "execution_count": null,
      "metadata": {
        "colab": {
          "base_uri": "https://localhost:8080/"
        },
        "id": "ZRzzhSbnxE__",
        "outputId": "87456cc3-f7dc-4a66-c95a-877cc744192a"
      },
      "outputs": [
        {
          "name": "stdout",
          "output_type": "stream",
          "text": [
            "False\n"
          ]
        }
      ],
      "source": [
        "str1=\"International\"\n",
        "print(str1.endswith(\"la\"))"
      ]
    },
    {
      "cell_type": "markdown",
      "metadata": {
        "id": "1zkRe4fPxU9C"
      },
      "source": [
        "## split"
      ]
    },
    {
      "cell_type": "code",
      "execution_count": null,
      "metadata": {
        "colab": {
          "base_uri": "https://localhost:8080/"
        },
        "id": "NVNXXVGvxlv-",
        "outputId": "290025cb-55d3-46b2-ea7f-6d9b383288f9"
      },
      "outputs": [
        {
          "name": "stdout",
          "output_type": "stream",
          "text": [
            "['Be', 'a', 'kindful', 'person', 'in', 'this', 'world']\n"
          ]
        }
      ],
      "source": [
        "str1=\"Be a kindful person in this world\"\n",
        "print(str1.split())"
      ]
    },
    {
      "cell_type": "markdown",
      "metadata": {
        "id": "Zfqoxz6Qxve-"
      },
      "source": [
        "## find"
      ]
    },
    {
      "cell_type": "code",
      "execution_count": null,
      "metadata": {
        "colab": {
          "base_uri": "https://localhost:8080/"
        },
        "id": "t2WHihaDx_sT",
        "outputId": "35e209a4-e8d7-443d-9a9b-4ca5c224aec7"
      },
      "outputs": [
        {
          "name": "stdout",
          "output_type": "stream",
          "text": [
            "5\n"
          ]
        }
      ],
      "source": [
        "str1=\"Be a kindful person in this world !\"\n",
        "print(str1.find(\"kindful\"))"
      ]
    },
    {
      "cell_type": "markdown",
      "metadata": {
        "id": "y8KqcKD6yOJ8"
      },
      "source": [
        "## Strip"
      ]
    },
    {
      "cell_type": "code",
      "execution_count": null,
      "metadata": {
        "colab": {
          "base_uri": "https://localhost:8080/"
        },
        "id": "nrWCI5D7042p",
        "outputId": "0030cc0e-ead0-4700-92cf-123a5a6c3ccc"
      },
      "outputs": [
        {
          "name": "stdout",
          "output_type": "stream",
          "text": [
            "Hello Everyone\n"
          ]
        }
      ],
      "source": [
        "str1=\" Hello Everyone \"\n",
        "print(str1.strip())"
      ]
    },
    {
      "cell_type": "markdown",
      "metadata": {
        "id": "V1tg2zV30-cK"
      },
      "source": [
        "## Count"
      ]
    },
    {
      "cell_type": "code",
      "execution_count": null,
      "metadata": {
        "colab": {
          "base_uri": "https://localhost:8080/"
        },
        "id": "kMuEI7g41LbD",
        "outputId": "64c9af8f-8066-43ec-abdf-276b48fe5a05"
      },
      "outputs": [
        {
          "name": "stdout",
          "output_type": "stream",
          "text": [
            "1\n"
          ]
        }
      ],
      "source": [
        "str1= \"This is a nice string\"\n",
        "print(str1.count(\"nice\"))"
      ]
    },
    {
      "cell_type": "code",
      "execution_count": null,
      "metadata": {
        "colab": {
          "base_uri": "https://localhost:8080/"
        },
        "id": "1kQaNnjk1TtU",
        "outputId": "29c9a370-225a-4a4e-e5be-0e4444b9745b"
      },
      "outputs": [
        {
          "name": "stdout",
          "output_type": "stream",
          "text": [
            "2\n"
          ]
        }
      ],
      "source": [
        "str1= \"This is a nice and nice string\"\n",
        "print(str1.count(\"nice\"))"
      ]
    },
    {
      "cell_type": "markdown",
      "metadata": {
        "id": "04ux-40U1WyB"
      },
      "source": [
        "## isalnum"
      ]
    },
    {
      "cell_type": "code",
      "execution_count": null,
      "metadata": {
        "colab": {
          "base_uri": "https://localhost:8080/"
        },
        "id": "pgEAEG6b1wKn",
        "outputId": "cde233c5-c8b1-445f-c484-840ffa479258"
      },
      "outputs": [
        {
          "name": "stdout",
          "output_type": "stream",
          "text": [
            "False\n"
          ]
        }
      ],
      "source": [
        "str1=\"Enter the number\"\n",
        "print(str1.isalnum())"
      ]
    },
    {
      "cell_type": "code",
      "execution_count": null,
      "metadata": {
        "colab": {
          "base_uri": "https://localhost:8080/"
        },
        "id": "18LeHCBL16Bg",
        "outputId": "390bfd27-1303-4c89-9a10-a2dd98ba0564"
      },
      "outputs": [
        {
          "name": "stdout",
          "output_type": "stream",
          "text": [
            "False\n"
          ]
        }
      ],
      "source": [
        "str1=\"Enter the number 123\"\n",
        "print(str1.isalnum())"
      ]
    },
    {
      "cell_type": "code",
      "execution_count": null,
      "metadata": {
        "colab": {
          "base_uri": "https://localhost:8080/"
        },
        "id": "vEuDkT_Q19JI",
        "outputId": "3b2631df-ab10-458a-8686-21c061be7300"
      },
      "outputs": [
        {
          "name": "stdout",
          "output_type": "stream",
          "text": [
            "True\n"
          ]
        }
      ],
      "source": [
        "str1=\"123\"\n",
        "print(str1.isalnum())"
      ]
    },
    {
      "cell_type": "markdown",
      "metadata": {
        "id": "-_YfdFjT2AdJ"
      },
      "source": [
        "# List"
      ]
    },
    {
      "cell_type": "code",
      "execution_count": null,
      "metadata": {
        "colab": {
          "base_uri": "https://localhost:8080/"
        },
        "id": "IzAY94Ui2OVD",
        "outputId": "498516ce-ecea-45a3-ed79-810262880794"
      },
      "outputs": [
        {
          "name": "stdout",
          "output_type": "stream",
          "text": [
            "[3, 4, 5, 6, 7, 8]\n"
          ]
        }
      ],
      "source": [
        "first_list=[3,4,5,6,7,8]\n",
        "print(first_list)"
      ]
    },
    {
      "cell_type": "code",
      "execution_count": null,
      "metadata": {
        "colab": {
          "base_uri": "https://localhost:8080/"
        },
        "id": "rFz-6Lu6yUyh",
        "outputId": "426748be-2b45-4bef-809f-9afc3b413623"
      },
      "outputs": [
        {
          "name": "stdout",
          "output_type": "stream",
          "text": [
            "['Pune', 'ncl', 'rahul', 100, 101.0]\n"
          ]
        }
      ],
      "source": [
        "second_list=['Pune','ncl','rahul',100,101.0]\n",
        "print(second_list)"
      ]
    },
    {
      "cell_type": "markdown",
      "metadata": {
        "id": "N7YFloD2yfMs"
      },
      "source": [
        "## Printing Individual Elements"
      ]
    },
    {
      "cell_type": "code",
      "execution_count": null,
      "metadata": {
        "colab": {
          "base_uri": "https://localhost:8080/"
        },
        "id": "XlVgtgGH1mwp",
        "outputId": "64c6e139-d1d9-4b9d-87ae-44d8a0211e94"
      },
      "outputs": [
        {
          "output_type": "stream",
          "name": "stdout",
          "text": [
            "1\n",
            "[1, 'Bonn', 'Munich']\n"
          ]
        }
      ],
      "source": [
        "list_1=[1,\"Bonn\",\"Munich\",\"Berlin\",\"Portsdam\"]\n",
        "print(list_1[0])\n",
        "print(list_1[0:3])"
      ]
    },
    {
      "cell_type": "markdown",
      "metadata": {
        "id": "x8qRRebo19g7"
      },
      "source": [
        "## Multidimensional List"
      ]
    },
    {
      "cell_type": "code",
      "execution_count": null,
      "metadata": {
        "colab": {
          "base_uri": "https://localhost:8080/"
        },
        "id": "kruxeWLl2QlV",
        "outputId": "98766fc5-a6bc-4fa6-b58d-c9a98626e5af"
      },
      "outputs": [
        {
          "name": "stdout",
          "output_type": "stream",
          "text": [
            "Kozhikode\n"
          ]
        }
      ],
      "source": [
        "list_1=[[\"Trivandrum\",\"Kollam\",\"Malappuram\",\"Kozhikode\",\"Ernakulam\"],\"Paris\",\"Amsterdam\"]\n",
        "print(list_1[0][3])"
      ]
    },
    {
      "cell_type": "markdown",
      "metadata": {
        "id": "xlS7ECJq3SYQ"
      },
      "source": [
        "## len function"
      ]
    },
    {
      "cell_type": "code",
      "execution_count": null,
      "metadata": {
        "colab": {
          "base_uri": "https://localhost:8080/"
        },
        "id": "R6vUKzLi2qT7",
        "outputId": "54865a9d-99ba-4495-cc54-604724e6492f"
      },
      "outputs": [
        {
          "name": "stdout",
          "output_type": "stream",
          "text": [
            "3\n"
          ]
        }
      ],
      "source": [
        "list_1=[[\"Trivandrum\",\"Kollam\",\"Malappuram\",\"Kozhikode\",\"Ernakulam\"],\"Paris\",\"Amsterdam\"]\n",
        "print(len(list_1))"
      ]
    },
    {
      "cell_type": "code",
      "execution_count": null,
      "metadata": {
        "colab": {
          "base_uri": "https://localhost:8080/"
        },
        "id": "LGzrq4ud3AAf",
        "outputId": "3cd33b9d-67ea-4704-ca9f-db6ec57ed4a7"
      },
      "outputs": [
        {
          "name": "stdout",
          "output_type": "stream",
          "text": [
            "7\n"
          ]
        }
      ],
      "source": [
        "list_1=[\"Trivandrum\",\"Kollam\",\"Malappuram\",\"Kozhikode\",\"Ernakulam\",\"Paris\",\"Amsterdam\"]\n",
        "print(len(list_1))"
      ]
    },
    {
      "cell_type": "code",
      "execution_count": null,
      "metadata": {
        "colab": {
          "base_uri": "https://localhost:8080/"
        },
        "id": "fNBqrPPz3HWo",
        "outputId": "0a10c198-519f-4d10-ebda-794351e2978e"
      },
      "outputs": [
        {
          "name": "stdout",
          "output_type": "stream",
          "text": [
            "5\n"
          ]
        }
      ],
      "source": [
        "list_1=[[\"Trivandrum\",\"Kollam\",\"Malappuram\",\"Kozhikode\",\"Ernakulam\"],\"Paris\",\"Amsterdam\"]\n",
        "print(len(list_1[0]))"
      ]
    },
    {
      "cell_type": "code",
      "execution_count": null,
      "metadata": {
        "colab": {
          "base_uri": "https://localhost:8080/"
        },
        "id": "CCtpZYDw3Nox",
        "outputId": "e57c2c83-9e44-438e-c638-81d59dce9961"
      },
      "outputs": [
        {
          "name": "stdout",
          "output_type": "stream",
          "text": [
            "9\n"
          ]
        }
      ],
      "source": [
        "list_1=[[\"Trivandrum\",\"Kollam\",\"Malappuram\",\"Kozhikode\",\"Ernakulam\"],\"Paris\",\"Amsterdam\"]\n",
        "print(len(list_1[0][3]))"
      ]
    },
    {
      "cell_type": "markdown",
      "metadata": {
        "id": "-JubkdOs3Yai"
      },
      "source": [
        "## Negative index"
      ]
    },
    {
      "cell_type": "code",
      "execution_count": null,
      "metadata": {
        "colab": {
          "base_uri": "https://localhost:8080/"
        },
        "id": "Yi09hzdk3del",
        "outputId": "b41da5cd-bc3c-4bec-f5ee-de4262410406"
      },
      "outputs": [
        {
          "name": "stdout",
          "output_type": "stream",
          "text": [
            "Amsterdam\n"
          ]
        }
      ],
      "source": [
        "list_1=[\"Trivandrum\",\"Kollam\",\"Malappuram\",\"Kozhikode\",\"Ernakulam\",\"Paris\",\"Amsterdam\"]\n",
        "print(list_1[-1])"
      ]
    },
    {
      "cell_type": "markdown",
      "metadata": {
        "id": "y3biTpBR4DrX"
      },
      "source": [
        "## Cloning of List"
      ]
    },
    {
      "cell_type": "code",
      "execution_count": null,
      "metadata": {
        "colab": {
          "base_uri": "https://localhost:8080/"
        },
        "id": "YYqPp5Ta4O5o",
        "outputId": "132a8464-f585-409e-e013-60746f227f7c"
      },
      "outputs": [
        {
          "name": "stdout",
          "output_type": "stream",
          "text": [
            "list_a =  [1, 2, 3, 4, 5, 6, 7, 8, 9]\n",
            "list_b =  [1, 2, 3, 4, 5, 6, 7, 8, 9]\n"
          ]
        }
      ],
      "source": [
        "list_a=[1,2,3,4,5,6,7,8,9]\n",
        "list_b = list_a\n",
        "print(\"list_a = \",list_a)\n",
        "print(\"list_b = \",list_b)"
      ]
    },
    {
      "cell_type": "markdown",
      "metadata": {
        "id": "CBiMuSPd4oM7"
      },
      "source": [
        "## loop in a list"
      ]
    },
    {
      "cell_type": "code",
      "execution_count": null,
      "metadata": {
        "colab": {
          "base_uri": "https://localhost:8080/"
        },
        "id": "P5oA3sgy5K63",
        "outputId": "51d7085f-fc48-4e40-dec8-51e78934e92b"
      },
      "outputs": [
        {
          "name": "stdout",
          "output_type": "stream",
          "text": [
            "list_1 [ 0 ] =  Trivandrum\n",
            "list_1 [ 1 ] =  Kollam\n",
            "list_1 [ 2 ] =  [1, 3, 4, 6, 7, 9]\n",
            "list_1 [ 3 ] =  Malappuram\n",
            "list_1 [ 4 ] =  Kozhikode\n",
            "list_1 [ 5 ] =  Ernakulam\n",
            "list_1 [ 6 ] =  Paris\n",
            "list_1 [ 7 ] =  Amsterdam\n"
          ]
        }
      ],
      "source": [
        "list_1=[\"Trivandrum\",\"Kollam\",[1,3,4,6,7,9],\"Malappuram\",\"Kozhikode\",\"Ernakulam\",\"Paris\",\"Amsterdam\"]\n",
        "i = 0\n",
        "while (i<(len(list_1))):\n",
        "  print(\"list_1 [\",i,\"] = \",list_1[i])\n",
        "  i+=1"
      ]
    },
    {
      "cell_type": "code",
      "execution_count": null,
      "metadata": {
        "colab": {
          "base_uri": "https://localhost:8080/"
        },
        "id": "VoVapu3u8peC",
        "outputId": "93ddb4e6-ce55-419e-fdbe-0b34035cb8e3"
      },
      "outputs": [
        {
          "name": "stdout",
          "output_type": "stream",
          "text": [
            "[1, 1, 1, 1, 1]\n"
          ]
        }
      ],
      "source": [
        "list_1=[1,1,1,1,1]\n",
        "print(list_1)"
      ]
    },
    {
      "cell_type": "code",
      "execution_count": null,
      "metadata": {
        "colab": {
          "background_save": true
        },
        "id": "4PByVuHx9YPJ",
        "outputId": "dd8252eb-4ee2-4480-da3d-1b31c62f8df9"
      },
      "outputs": [
        {
          "name": "stdout",
          "output_type": "stream",
          "text": [
            "[23, 44, 56]\n"
          ]
        }
      ],
      "source": [
        "list1 = ['abc', 'zee', 'PYlan']\n",
        "print (list1[-2][-1])\n"
      ]
    },
    {
      "cell_type": "code",
      "execution_count": null,
      "metadata": {
        "id": "f_sXrYVfG8An",
        "colab": {
          "base_uri": "https://localhost:8080/"
        },
        "outputId": "6925b612-2a64-4422-85ab-ee5755df2485"
      },
      "outputs": [
        {
          "output_type": "stream",
          "name": "stdout",
          "text": [
            "False\n"
          ]
        }
      ],
      "source": [
        "t1 = (1, 2, 4, 3)\n",
        "t2 = (1, 2, 3, 4)\n",
        "print(t1 < t2)"
      ]
    },
    {
      "cell_type": "markdown",
      "source": [
        "## Append in list"
      ],
      "metadata": {
        "id": "0ptAWNVkvdAk"
      }
    },
    {
      "cell_type": "code",
      "source": [
        "fruit_list = [\"Apple\", \"Banana\"]\n",
        "\n",
        "print(f'Current Fruits List {fruit_list}')\n",
        "\n",
        "new_fruit = input(\"Please enter a fruit name:\\n\")\n",
        "\n",
        "fruit_list.append(new_fruit)\n",
        "\n",
        "print(f'Updated Fruits List {fruit_list}')"
      ],
      "metadata": {
        "id": "_o5sv4I0vfyS",
        "outputId": "856d8d8e-260b-489e-b7b2-b2ac1dd2f2d7",
        "colab": {
          "base_uri": "https://localhost:8080/"
        }
      },
      "execution_count": null,
      "outputs": [
        {
          "output_type": "stream",
          "name": "stdout",
          "text": [
            "Current Fruits List ['Apple', 'Banana']\n",
            "Please enter a fruit name:\n",
            "Apple\n",
            "Updated Fruits List ['Apple', 'Banana', 'Apple']\n"
          ]
        }
      ]
    },
    {
      "cell_type": "markdown",
      "source": [
        "# Dictionaries"
      ],
      "metadata": {
        "id": "kkep236NixPd"
      }
    },
    {
      "cell_type": "markdown",
      "source": [
        "## Type 1"
      ],
      "metadata": {
        "id": "-0gm8WlKskkI"
      }
    },
    {
      "cell_type": "code",
      "source": [
        "dict_1 = {\"Key1\":'Rahul',\n",
        "          \"Key2\" : \"Physics\",\n",
        "          \"Key3\" : \"Astrophysics\",\n",
        "          \"Key4\" : \"Biophysics\",}\n",
        "\n",
        "print(dict_1)"
      ],
      "metadata": {
        "colab": {
          "base_uri": "https://localhost:8080/"
        },
        "id": "3oWWIskTqv7L",
        "outputId": "96fe1409-f5d5-4b31-a514-0cf803318583"
      },
      "execution_count": null,
      "outputs": [
        {
          "output_type": "stream",
          "name": "stdout",
          "text": [
            "{'Key1': 'Rahul', 'Key2': 'Physics', 'Key3': 'Astrophysics', 'Key4': 'Biophysics'}\n"
          ]
        }
      ]
    },
    {
      "cell_type": "markdown",
      "source": [
        "## dict function"
      ],
      "metadata": {
        "id": "7q_89kEQsUUg"
      }
    },
    {
      "cell_type": "code",
      "source": [
        "print(dict([('key_1','Physics'),('key_2','Astrophysics'),('key_3','Biophysics')]))"
      ],
      "metadata": {
        "colab": {
          "base_uri": "https://localhost:8080/"
        },
        "id": "2Aw6d32lspiW",
        "outputId": "59381b7e-e5a6-4bc4-8c15-0214b4e3957f"
      },
      "execution_count": null,
      "outputs": [
        {
          "output_type": "stream",
          "name": "stdout",
          "text": [
            "{'key_1': 'Physics', 'key_2': 'Astrophysics', 'key_3': 'Biophysics'}\n"
          ]
        }
      ]
    },
    {
      "cell_type": "markdown",
      "source": [
        "## Dictionary Comprehension"
      ],
      "metadata": {
        "id": "iU04elpJtLNw"
      }
    },
    {
      "cell_type": "code",
      "source": [
        "dict_1={x : 3*x for x in range (1,10)}\n",
        "print(dict_1)"
      ],
      "metadata": {
        "colab": {
          "base_uri": "https://localhost:8080/"
        },
        "id": "vHkD4as8t4FA",
        "outputId": "318fc10e-2a94-47c2-d41c-c6d788e9a2d0"
      },
      "execution_count": null,
      "outputs": [
        {
          "output_type": "stream",
          "name": "stdout",
          "text": [
            "{1: 3, 2: 6, 3: 9, 4: 12, 5: 15, 6: 18, 7: 21, 8: 24, 9: 27}\n"
          ]
        }
      ]
    },
    {
      "cell_type": "markdown",
      "source": [
        "## Empty Dictionary"
      ],
      "metadata": {
        "id": "lipkq1aPzYLk"
      }
    },
    {
      "cell_type": "code",
      "source": [
        "dict_2 = {}\n",
        "print(\"Empty Dictionary :\",dict_2)"
      ],
      "metadata": {
        "colab": {
          "base_uri": "https://localhost:8080/"
        },
        "id": "yjnjIPGtz3QF",
        "outputId": "2ac2dfc3-e2e7-46f7-eb65-032591422e67"
      },
      "execution_count": null,
      "outputs": [
        {
          "output_type": "stream",
          "name": "stdout",
          "text": [
            "Empty Dictionary : {}\n"
          ]
        }
      ]
    },
    {
      "cell_type": "markdown",
      "source": [
        "## Acessing the dictionary using key"
      ],
      "metadata": {
        "id": "7hk_BsaT0AvY"
      }
    },
    {
      "cell_type": "code",
      "source": [
        "dict_2={x : x**2 for x in range (1,20)}\n",
        "\n",
        "print(\"dict_2[3] :\",dict_2[3])\n",
        "print(\"dict_2[10] :\",dict_2[10])"
      ],
      "metadata": {
        "colab": {
          "base_uri": "https://localhost:8080/"
        },
        "id": "Q9-gztM00bu4",
        "outputId": "f57b8650-cab8-4e8d-dfdf-f589d5c75d51"
      },
      "execution_count": null,
      "outputs": [
        {
          "output_type": "stream",
          "name": "stdout",
          "text": [
            "dict_2[3] : 9\n",
            "dict_2[10] : 100\n"
          ]
        }
      ]
    },
    {
      "cell_type": "code",
      "source": [
        "thisdict = {\n",
        "  \"brand\": \"Maruti\",\n",
        "  \"model\": \"Alto\",\n",
        "  \"year\": 1964,\n",
        "  \"year\": 2020\n",
        "}\n",
        "print(thisdict)"
      ],
      "metadata": {
        "colab": {
          "base_uri": "https://localhost:8080/"
        },
        "id": "EBAgBGm90sCU",
        "outputId": "942159ee-d946-4e4e-8efc-e58bff0969a4"
      },
      "execution_count": null,
      "outputs": [
        {
          "output_type": "stream",
          "name": "stdout",
          "text": [
            "{'brand': 'Maruti', 'model': 'Alto', 'year': 2020}\n"
          ]
        }
      ]
    },
    {
      "cell_type": "markdown",
      "source": [
        "## Add items to dictionary"
      ],
      "metadata": {
        "id": "WNESXyE81kEY"
      }
    },
    {
      "cell_type": "code",
      "source": [
        "dit_1 = {\"key_1\":\"Newyork\",'key_2':'Paris','key_3': 'London','key_4':'Munich'}\n",
        "\n",
        "print(dit_1)\n",
        "\n",
        "dit_1[\"key_5\"] = 'Washington'\n",
        "dit_1['key_6'] = 'California'\n",
        "\n",
        "print(dit_1)"
      ],
      "metadata": {
        "colab": {
          "base_uri": "https://localhost:8080/"
        },
        "id": "MuMbkiJlr8Vk",
        "outputId": "281cae8f-f363-4473-c662-043fac9169a7"
      },
      "execution_count": null,
      "outputs": [
        {
          "output_type": "stream",
          "name": "stdout",
          "text": [
            "{'key_1': 'Newyork', 'key_2': 'Paris', 'key_3': 'London', 'key_4': 'Munich'}\n",
            "{'key_1': 'Newyork', 'key_2': 'Paris', 'key_3': 'London', 'key_4': 'Munich', 'key_5': 'Washington', 'key_6': 'California'}\n"
          ]
        }
      ]
    },
    {
      "cell_type": "markdown",
      "source": [
        "## Altering an element in dictionary"
      ],
      "metadata": {
        "id": "ax1QMOK0sahf"
      }
    },
    {
      "cell_type": "code",
      "source": [
        "dit_1 = {\"key_1\":\"Newyork\",'key_2':'Paris','key_3': 'London','key_4':'Munich'}\n",
        "\n",
        "print(dit_1)\n",
        "\n",
        "dit_1['key_1'] = 'Berlin'\n",
        "dit_1['key_2'] = 'Berkly'\n",
        "\n",
        "print(dit_1)"
      ],
      "metadata": {
        "colab": {
          "base_uri": "https://localhost:8080/"
        },
        "id": "-9eOq9kItKQy",
        "outputId": "6f0e22da-82e6-4db4-9561-cb41a9e9498b"
      },
      "execution_count": null,
      "outputs": [
        {
          "output_type": "stream",
          "name": "stdout",
          "text": [
            "{'key_1': 'Newyork', 'key_2': 'Paris', 'key_3': 'London', 'key_4': 'Munich'}\n",
            "{'key_1': 'Berlin', 'key_2': 'Berkly', 'key_3': 'London', 'key_4': 'Munich'}\n"
          ]
        }
      ]
    },
    {
      "cell_type": "markdown",
      "source": [
        "## Deleting an element : pop"
      ],
      "metadata": {
        "id": "5kXRvI1EteOk"
      }
    },
    {
      "cell_type": "code",
      "source": [
        "dit_1 = {\"key_1\":\"Newyork\",'key_2':'Paris','key_3': 'London','key_4':'Munich'}\n",
        "\n",
        "print(dit_1.pop('key_1'))"
      ],
      "metadata": {
        "colab": {
          "base_uri": "https://localhost:8080/"
        },
        "id": "_O0B8-LJtxMn",
        "outputId": "eadd452a-4a08-4b20-ab8b-1bdff6decd35"
      },
      "execution_count": null,
      "outputs": [
        {
          "output_type": "stream",
          "name": "stdout",
          "text": [
            "Newyork\n"
          ]
        }
      ]
    },
    {
      "cell_type": "markdown",
      "source": [
        "## Deleting an element : clear"
      ],
      "metadata": {
        "id": "8dp32RCZuHJ0"
      }
    },
    {
      "cell_type": "code",
      "source": [
        "dit_1 = {\"key_1\":\"Newyork\",'key_2':'Paris','key_3': 'London','key_4':'Munich'}\n",
        "\n",
        "print(dit_1.clear())"
      ],
      "metadata": {
        "colab": {
          "base_uri": "https://localhost:8080/"
        },
        "id": "2r8X5qB8ub0h",
        "outputId": "ab133b44-4043-4579-c753-a7bb80cd59ac"
      },
      "execution_count": null,
      "outputs": [
        {
          "output_type": "stream",
          "name": "stdout",
          "text": [
            "None\n"
          ]
        }
      ]
    },
    {
      "cell_type": "code",
      "source": [
        "dit_1 = {\"key_1\":\"Newyork\",'key_2':'Paris','key_3': 'London','key_4':'Munich'}\n",
        "\n",
        "print(dit_1.clear('key_1'))"
      ],
      "metadata": {
        "colab": {
          "base_uri": "https://localhost:8080/",
          "height": 262
        },
        "id": "aIM99WAWugsS",
        "outputId": "a63f079a-18f5-4d83-f156-6f7aab600578"
      },
      "execution_count": null,
      "outputs": [
        {
          "output_type": "error",
          "ename": "TypeError",
          "evalue": "ignored",
          "traceback": [
            "\u001b[0;31m---------------------------------------------------------------------------\u001b[0m",
            "\u001b[0;31mTypeError\u001b[0m                                 Traceback (most recent call last)",
            "\u001b[0;32m<ipython-input-11-d0af19a3e5cf>\u001b[0m in \u001b[0;36m<cell line: 3>\u001b[0;34m()\u001b[0m\n\u001b[1;32m      1\u001b[0m \u001b[0mdit_1\u001b[0m \u001b[0;34m=\u001b[0m \u001b[0;34m{\u001b[0m\u001b[0;34m\"key_1\"\u001b[0m\u001b[0;34m:\u001b[0m\u001b[0;34m\"Newyork\"\u001b[0m\u001b[0;34m,\u001b[0m\u001b[0;34m'key_2'\u001b[0m\u001b[0;34m:\u001b[0m\u001b[0;34m'Paris'\u001b[0m\u001b[0;34m,\u001b[0m\u001b[0;34m'key_3'\u001b[0m\u001b[0;34m:\u001b[0m \u001b[0;34m'London'\u001b[0m\u001b[0;34m,\u001b[0m\u001b[0;34m'key_4'\u001b[0m\u001b[0;34m:\u001b[0m\u001b[0;34m'Munich'\u001b[0m\u001b[0;34m}\u001b[0m\u001b[0;34m\u001b[0m\u001b[0;34m\u001b[0m\u001b[0m\n\u001b[1;32m      2\u001b[0m \u001b[0;34m\u001b[0m\u001b[0m\n\u001b[0;32m----> 3\u001b[0;31m \u001b[0mprint\u001b[0m\u001b[0;34m(\u001b[0m\u001b[0mdit_1\u001b[0m\u001b[0;34m.\u001b[0m\u001b[0mclear\u001b[0m\u001b[0;34m(\u001b[0m\u001b[0;34m'key_1'\u001b[0m\u001b[0;34m)\u001b[0m\u001b[0;34m)\u001b[0m\u001b[0;34m\u001b[0m\u001b[0;34m\u001b[0m\u001b[0m\n\u001b[0m",
            "\u001b[0;31mTypeError\u001b[0m: dict.clear() takes no arguments (1 given)"
          ]
        }
      ]
    },
    {
      "cell_type": "markdown",
      "source": [
        "## Deleting dictionaries : del"
      ],
      "metadata": {
        "id": "S0fNtFbXukfX"
      }
    },
    {
      "cell_type": "code",
      "source": [
        "dit_1 = {\"key_1\":\"Newyork\",'key_2':'Paris','key_3': 'London','key_4':'Munich'}\n",
        "\n",
        "del(dit_1)\n",
        "print(dit_1)\n",
        "\n",
        "# This will show error hence the dictionary is deleted"
      ],
      "metadata": {
        "colab": {
          "base_uri": "https://localhost:8080/",
          "height": 279
        },
        "id": "KY76_bvWu7Uu",
        "outputId": "7566779a-0442-42f8-b7dc-a8bb202aaef5"
      },
      "execution_count": null,
      "outputs": [
        {
          "output_type": "error",
          "ename": "NameError",
          "evalue": "ignored",
          "traceback": [
            "\u001b[0;31m---------------------------------------------------------------------------\u001b[0m",
            "\u001b[0;31mNameError\u001b[0m                                 Traceback (most recent call last)",
            "\u001b[0;32m<ipython-input-13-da03f1b85f87>\u001b[0m in \u001b[0;36m<cell line: 4>\u001b[0;34m()\u001b[0m\n\u001b[1;32m      2\u001b[0m \u001b[0;34m\u001b[0m\u001b[0m\n\u001b[1;32m      3\u001b[0m \u001b[0;32mdel\u001b[0m\u001b[0;34m(\u001b[0m\u001b[0mdit_1\u001b[0m\u001b[0;34m)\u001b[0m\u001b[0;34m\u001b[0m\u001b[0;34m\u001b[0m\u001b[0m\n\u001b[0;32m----> 4\u001b[0;31m \u001b[0mprint\u001b[0m\u001b[0;34m(\u001b[0m\u001b[0mdit_1\u001b[0m\u001b[0;34m)\u001b[0m\u001b[0;34m\u001b[0m\u001b[0;34m\u001b[0m\u001b[0m\n\u001b[0m\u001b[1;32m      5\u001b[0m \u001b[0;34m\u001b[0m\u001b[0m\n\u001b[1;32m      6\u001b[0m \u001b[0;31m# This will show error hence the dictionary is deleted\u001b[0m\u001b[0;34m\u001b[0m\u001b[0;34m\u001b[0m\u001b[0m\n",
            "\u001b[0;31mNameError\u001b[0m: name 'dit_1' is not defined"
          ]
        }
      ]
    },
    {
      "cell_type": "markdown",
      "source": [
        "## Looping over a dictionary"
      ],
      "metadata": {
        "id": "7_s5skNMvCUU"
      }
    },
    {
      "cell_type": "code",
      "source": [
        "dict_1={'key_1': 'Newyork', 'key_2': 'Paris', 'key_3': 'London', 'key_4': 'Munich', 'key_5': 'Washington', 'key_6': 'California'}\n",
        "\n",
        "for i in dict_1:\n",
        "  print(dict_1[i])"
      ],
      "metadata": {
        "colab": {
          "base_uri": "https://localhost:8080/"
        },
        "id": "3GTiyhuavcz4",
        "outputId": "d39a49b4-bfac-4f4e-f4f9-e532a342c6be"
      },
      "execution_count": null,
      "outputs": [
        {
          "output_type": "stream",
          "name": "stdout",
          "text": [
            "Newyork\n",
            "Paris\n",
            "London\n",
            "Munich\n",
            "Washington\n",
            "California\n"
          ]
        }
      ]
    },
    {
      "cell_type": "markdown",
      "source": [
        "### values"
      ],
      "metadata": {
        "id": "ixvIIByDvnSc"
      }
    },
    {
      "cell_type": "code",
      "source": [
        "dit_1={'key_1': 'Newyork', 'key_2': 'Paris', 'key_3': 'London', 'key_4': 'Munich', 'key_5': 'Washington', 'key_6': 'California'}\n",
        "\n",
        "for i in dit_1.values():\n",
        "  print(i)"
      ],
      "metadata": {
        "colab": {
          "base_uri": "https://localhost:8080/"
        },
        "id": "BVmpzojjwT92",
        "outputId": "735b8126-08c4-48b0-8495-9782a6271314"
      },
      "execution_count": null,
      "outputs": [
        {
          "output_type": "stream",
          "name": "stdout",
          "text": [
            "Newyork\n",
            "Paris\n",
            "London\n",
            "Munich\n",
            "Washington\n",
            "California\n"
          ]
        }
      ]
    },
    {
      "cell_type": "markdown",
      "source": [
        "### items"
      ],
      "metadata": {
        "id": "CTAwL-q4wfff"
      }
    },
    {
      "cell_type": "code",
      "source": [
        "dit_1={'key_1': 'Newyork', 'key_2': 'Paris', 'key_3': 'London', 'key_4': 'Munich', 'key_5': 'Washington', 'key_6': 'California'}\n",
        "\n",
        "for i in dit_1.items():\n",
        "  print(i)"
      ],
      "metadata": {
        "colab": {
          "base_uri": "https://localhost:8080/"
        },
        "id": "V0LAFvZTwlaZ",
        "outputId": "6aef7d67-6157-4436-8688-0315fd9bdc9c"
      },
      "execution_count": null,
      "outputs": [
        {
          "output_type": "stream",
          "name": "stdout",
          "text": [
            "('key_1', 'Newyork')\n",
            "('key_2', 'Paris')\n",
            "('key_3', 'London')\n",
            "('key_4', 'Munich')\n",
            "('key_5', 'Washington')\n",
            "('key_6', 'California')\n"
          ]
        }
      ]
    },
    {
      "cell_type": "markdown",
      "source": [
        "## Copying a dictionary"
      ],
      "metadata": {
        "id": "EkS3g5FmwqJf"
      }
    },
    {
      "cell_type": "code",
      "source": [
        "dit_1={'key_1': 'Newyork', 'key_2': 'Paris', 'key_3': 'London', 'key_4': 'Munich', 'key_5': 'Washington', 'key_6': 'California'}\n",
        "\n",
        "x=dit_1.copy()\n",
        "\n",
        "print(x)"
      ],
      "metadata": {
        "colab": {
          "base_uri": "https://localhost:8080/"
        },
        "id": "686F_o7nxANj",
        "outputId": "7e8418a9-6eb1-4c89-e927-e9edc7442e51"
      },
      "execution_count": null,
      "outputs": [
        {
          "output_type": "stream",
          "name": "stdout",
          "text": [
            "{'key_1': 'Newyork', 'key_2': 'Paris', 'key_3': 'London', 'key_4': 'Munich', 'key_5': 'Washington', 'key_6': 'California'}\n"
          ]
        }
      ]
    },
    {
      "cell_type": "markdown",
      "source": [
        "## Storing Values of key in a variable"
      ],
      "metadata": {
        "id": "pKjaa2iXxGR2"
      }
    },
    {
      "cell_type": "markdown",
      "source": [
        "### get"
      ],
      "metadata": {
        "id": "AxxwvzXTxol_"
      }
    },
    {
      "cell_type": "code",
      "source": [
        "dit_1={'key_1': 'Newyork', 'key_2': 'Paris', 'key_3': 'London', 'key_4': 'Munich', 'key_5': 'Washington', 'key_6': 'California'}\n",
        "\n",
        "x=dit_1.get(\"key_1\")\n",
        "y=dit_1.get('key_2')\n",
        "\n",
        "print(x,\"\\n\",y)"
      ],
      "metadata": {
        "colab": {
          "base_uri": "https://localhost:8080/"
        },
        "id": "ynp5rklnxrzr",
        "outputId": "144f2815-4115-453c-e37c-3bcdd3a59297"
      },
      "execution_count": null,
      "outputs": [
        {
          "output_type": "stream",
          "name": "stdout",
          "text": [
            "Newyork \n",
            " Paris\n"
          ]
        }
      ]
    },
    {
      "cell_type": "markdown",
      "source": [
        "### key : storing key"
      ],
      "metadata": {
        "id": "cu9BDQvdx67Q"
      }
    },
    {
      "cell_type": "code",
      "source": [
        "dit_1={'key_1': 'Newyork', 'key_2': 'Paris', 'key_3': 'London', 'key_4': 'Munich', 'key_5': 'Washington', 'key_6': 'California'}\n",
        "\n",
        "x = dit_1.keys()\n",
        "\n",
        "print(x)"
      ],
      "metadata": {
        "colab": {
          "base_uri": "https://localhost:8080/"
        },
        "id": "KONh4gNGyLtD",
        "outputId": "18b438d3-c184-4e37-d921-1690c567a9c7"
      },
      "execution_count": null,
      "outputs": [
        {
          "output_type": "stream",
          "name": "stdout",
          "text": [
            "dict_keys(['key_1', 'key_2', 'key_3', 'key_4', 'key_5', 'key_6'])\n"
          ]
        }
      ]
    },
    {
      "cell_type": "markdown",
      "source": [
        "## Updating a dictionary : update({})"
      ],
      "metadata": {
        "id": "CZ8ynZURyP6K"
      }
    },
    {
      "cell_type": "code",
      "source": [
        "dit_1={'key_1': 'Newyork', 'key_2': 'Paris', 'key_3': 'London', 'key_4': 'Munich', 'key_5': 'Washington', 'key_6': 'California'}\n",
        "\n",
        "dit_1.update({'key_7':'stockholm'})\n",
        "print(dit_1)"
      ],
      "metadata": {
        "colab": {
          "base_uri": "https://localhost:8080/"
        },
        "id": "fZ9MZeOkyi5Z",
        "outputId": "3a2739fe-c73e-438b-ea2a-71d2c51025a7"
      },
      "execution_count": null,
      "outputs": [
        {
          "output_type": "stream",
          "name": "stdout",
          "text": [
            "{'key_1': 'Newyork', 'key_2': 'Paris', 'key_3': 'London', 'key_4': 'Munich', 'key_5': 'Washington', 'key_6': 'California', 'key_7': 'stockholm'}\n"
          ]
        }
      ]
    },
    {
      "cell_type": "markdown",
      "source": [
        "# Funciton"
      ],
      "metadata": {
        "id": "5moD_pCGy8CW"
      }
    },
    {
      "cell_type": "markdown",
      "source": [
        "## User Defined Functions"
      ],
      "metadata": {
        "id": "JvtOiuQDFE5j"
      }
    },
    {
      "cell_type": "code",
      "source": [
        "def greet():\n",
        "  print(\"Hello World!\")\n",
        "\n",
        "\n",
        "greet()"
      ],
      "metadata": {
        "colab": {
          "base_uri": "https://localhost:8080/"
        },
        "id": "-jYbJQtokcXi",
        "outputId": "fd976077-e4a6-4502-b647-359eb01c029b"
      },
      "execution_count": null,
      "outputs": [
        {
          "output_type": "stream",
          "name": "stdout",
          "text": [
            "Hello World!\n"
          ]
        }
      ]
    },
    {
      "cell_type": "code",
      "source": [
        "def add(m,n):\n",
        "  return m+n\n",
        "\n",
        "print(add(4,5))"
      ],
      "metadata": {
        "colab": {
          "base_uri": "https://localhost:8080/"
        },
        "id": "UeUfHhVykqKv",
        "outputId": "3bbf5b2d-af31-4018-b614-4a3f0c4d3d1b"
      },
      "execution_count": null,
      "outputs": [
        {
          "output_type": "stream",
          "name": "stdout",
          "text": [
            "9\n"
          ]
        }
      ]
    },
    {
      "cell_type": "code",
      "source": [
        "def add(m,n):\n",
        "  return m+n\n",
        "\n",
        "z=add(4,9)\n",
        "print(z)"
      ],
      "metadata": {
        "colab": {
          "base_uri": "https://localhost:8080/"
        },
        "id": "FwHo3DUOlEiq",
        "outputId": "586c8316-2dd4-4cb5-c0cf-d51e45b5ef84"
      },
      "execution_count": null,
      "outputs": [
        {
          "output_type": "stream",
          "name": "stdout",
          "text": [
            "13\n"
          ]
        }
      ]
    },
    {
      "cell_type": "markdown",
      "source": [
        "## Lamda function(Anonymous function)"
      ],
      "metadata": {
        "id": "BFKcqt8RlLFR"
      }
    },
    {
      "cell_type": "code",
      "source": [
        "z=lambda x: x**2\n",
        "print(z(3))\n",
        "\n",
        "z=lambda m,n: m*n\n",
        "print(z(3,4))\n",
        "\n",
        "z=lambda m,n,o: (m*n)**o\n",
        "print(z(1,2,3))"
      ],
      "metadata": {
        "colab": {
          "base_uri": "https://localhost:8080/"
        },
        "id": "yeN8QIfRGD6w",
        "outputId": "80ddffee-a61f-4f59-8dcd-00bbf5469a0c"
      },
      "execution_count": null,
      "outputs": [
        {
          "output_type": "stream",
          "name": "stdout",
          "text": [
            "9\n",
            "12\n",
            "8\n"
          ]
        }
      ]
    },
    {
      "cell_type": "code",
      "source": [
        "def myfun(n):\n",
        "  return lambda x: x**n\n",
        "\n",
        "one=myfun(3)\n",
        "print(one(2))\n",
        "\n",
        "two=myfun(6)\n",
        "print(two(2))\n"
      ],
      "metadata": {
        "colab": {
          "base_uri": "https://localhost:8080/"
        },
        "id": "mGhjp6SyGcDu",
        "outputId": "ba48e60c-4117-45a5-b06a-937d6bf8581d"
      },
      "execution_count": null,
      "outputs": [
        {
          "output_type": "stream",
          "name": "stdout",
          "text": [
            "8\n",
            "64\n"
          ]
        }
      ]
    },
    {
      "cell_type": "markdown",
      "source": [
        "## Required Arguments"
      ],
      "metadata": {
        "id": "xHCGRV4YJXP4"
      }
    },
    {
      "cell_type": "code",
      "source": [],
      "metadata": {
        "id": "L9vwckB5K6-E"
      },
      "execution_count": null,
      "outputs": []
    },
    {
      "cell_type": "markdown",
      "source": [
        "## Keyword Arguments"
      ],
      "metadata": {
        "id": "BWxJk1bOHWQu"
      }
    },
    {
      "cell_type": "code",
      "source": [
        "def my_fun(name,course,fee):\n",
        "  print(\"name   :\",name)\n",
        "  print(\"course :\",course)\n",
        "  print(\"fee    :\",fee)\n",
        "\n",
        "n=\"Rahul\"\n",
        "c=\"Physics\"\n",
        "f=25000\n",
        "\n",
        "my_fun(name=n,fee=f,course=c)\n",
        "\n",
        "# Order is not important\n",
        "\n",
        "\n"
      ],
      "metadata": {
        "colab": {
          "base_uri": "https://localhost:8080/"
        },
        "id": "SrkIQi6zHq-0",
        "outputId": "3dd178bd-a1e8-4731-ddbe-1a09774e63db"
      },
      "execution_count": null,
      "outputs": [
        {
          "output_type": "stream",
          "name": "stdout",
          "text": [
            "name   : Rahul\n",
            "course : Physics\n",
            "fee    : 25000\n"
          ]
        }
      ]
    },
    {
      "cell_type": "markdown",
      "source": [
        "## Default Argument"
      ],
      "metadata": {
        "id": "WKprJ07QIcVS"
      }
    },
    {
      "cell_type": "code",
      "source": [
        "def student(name,course=\"MSc Physics\"):\n",
        "  print(\"Name   :\",name)\n",
        "  print(\"Course :\",course)\n",
        "\n",
        "student(name=\"Rahul\")\n",
        "\n",
        "student(name=\"Rahul\",course=\"Computational Physics\")"
      ],
      "metadata": {
        "colab": {
          "base_uri": "https://localhost:8080/"
        },
        "id": "yyXIg_jzI4Zr",
        "outputId": "7804f40d-36de-429e-daa6-f40a594d1613"
      },
      "execution_count": null,
      "outputs": [
        {
          "output_type": "stream",
          "name": "stdout",
          "text": [
            "Name   : Rahul\n",
            "Course : MSc Physics\n",
            "Name   : Rahul\n",
            "Course : Computational Physics\n"
          ]
        }
      ]
    },
    {
      "cell_type": "markdown",
      "source": [
        "## Variable Length Argument"
      ],
      "metadata": {
        "id": "TlzcG0NtJK4w"
      }
    },
    {
      "cell_type": "code",
      "source": [
        "def varlen(name,course,*paper):\n",
        "  print(\"Name   :\",name)\n",
        "  print(\"Course :\",course)\n",
        "  for p in paper:\n",
        "    print(\"Paper : \",p)\n",
        "\n",
        "\n",
        "varlen(\"Rahul\",\"Physics\",100,102,103,104,105,106)"
      ],
      "metadata": {
        "colab": {
          "base_uri": "https://localhost:8080/"
        },
        "id": "7_xy3yAsKJW0",
        "outputId": "0f79da6e-0239-4d0d-e6d5-d4f394f20f08"
      },
      "execution_count": null,
      "outputs": [
        {
          "output_type": "stream",
          "name": "stdout",
          "text": [
            "Name   : Rahul\n",
            "Course : Physics\n",
            "Paper :  100\n",
            "Paper :  102\n",
            "Paper :  103\n",
            "Paper :  104\n",
            "Paper :  105\n",
            "Paper :  106\n"
          ]
        }
      ]
    },
    {
      "cell_type": "markdown",
      "source": [
        "## Global and Local Variables"
      ],
      "metadata": {
        "id": "8h-WU0YQKtqL"
      }
    },
    {
      "cell_type": "code",
      "source": [
        "key = 3\n",
        "\n",
        "def hi(x,y):\n",
        "  key=x*y\n",
        "  print(key)\n",
        "  return\n",
        "\n",
        "print(hi(3,4))\n",
        "print(\"Global variable key =\",key)"
      ],
      "metadata": {
        "colab": {
          "base_uri": "https://localhost:8080/"
        },
        "id": "l4hdvD7YLeXO",
        "outputId": "fae5482e-82fe-464c-8fc1-d30dc4e75149"
      },
      "execution_count": null,
      "outputs": [
        {
          "output_type": "stream",
          "name": "stdout",
          "text": [
            "12\n",
            "None\n",
            "Global variable key = 3\n"
          ]
        }
      ]
    },
    {
      "cell_type": "markdown",
      "source": [
        "## Varible length inside function"
      ],
      "metadata": {
        "id": "j09pxs0qTTaG"
      }
    },
    {
      "cell_type": "code",
      "source": [
        "def my_fun(*values):\n",
        "  for i in values:\n",
        "    print(i**2)\n",
        "\n",
        "\n",
        "\n",
        "my_fun(20,21,22,23,24,35)"
      ],
      "metadata": {
        "colab": {
          "base_uri": "https://localhost:8080/"
        },
        "id": "bQ1dgMrhLweD",
        "outputId": "ddb1b721-d80c-4e16-ff1d-b1df499c463a"
      },
      "execution_count": null,
      "outputs": [
        {
          "output_type": "stream",
          "name": "stdout",
          "text": [
            "400\n",
            "441\n",
            "484\n",
            "529\n",
            "576\n",
            "1225\n"
          ]
        }
      ]
    },
    {
      "cell_type": "markdown",
      "source": [
        "## Basic Calculator"
      ],
      "metadata": {
        "id": "G8D7TkcMTCBM"
      }
    },
    {
      "cell_type": "code",
      "source": [
        "def cal(x,y):\n",
        "  add = x+y\n",
        "  diff = abs(x-y)\n",
        "  mul = x*y\n",
        "  div = x/y\n",
        "  return add,diff,mul,div\n",
        "\n",
        "val_1=float(input(\"Enter the first value\"))\n",
        "val_2=float(input(\"Enter the second value\"))\n",
        "\n",
        "print(cal(val_1,val_2))"
      ],
      "metadata": {
        "colab": {
          "base_uri": "https://localhost:8080/"
        },
        "id": "LjowHmPdT8-c",
        "outputId": "20f717b8-8b14-402a-e05b-fe3e53cf98e6"
      },
      "execution_count": null,
      "outputs": [
        {
          "output_type": "stream",
          "name": "stdout",
          "text": [
            "Enter the first value3\n",
            "Enter the second value5\n",
            "(8.0, 2.0, 15.0, 0.6)\n"
          ]
        }
      ]
    },
    {
      "cell_type": "markdown",
      "source": [
        "## Check greater or lesser"
      ],
      "metadata": {
        "id": "wFHCcWPdUwTg"
      }
    },
    {
      "cell_type": "code",
      "source": [
        "def cal(x,y):\n",
        "  if(x==y):\n",
        "    return 0\n",
        "  elif(x>y):\n",
        "    return 1\n",
        "  else:\n",
        "    return -1\n",
        "\n",
        "print(\"Enter the two values\")\n",
        "val1=int(input(\"Val 1 : \"))\n",
        "val2=int(input(\"Val 2 : \"))\n",
        "\n",
        "k=cal(val1,val2)\n",
        "\n",
        "if(k==0):\n",
        "  print(\" x = y \" )\n",
        "elif(k==1):\n",
        "  print(\" x > y \")\n",
        "else:\n",
        "  print(\" x < y \")"
      ],
      "metadata": {
        "colab": {
          "base_uri": "https://localhost:8080/"
        },
        "id": "RNisnojwVpPs",
        "outputId": "4446d7a7-37a4-47ee-ba23-5298d7769343"
      },
      "execution_count": null,
      "outputs": [
        {
          "output_type": "stream",
          "name": "stdout",
          "text": [
            "Enter the two values\n",
            "Val 1 : 5\n",
            "Val 2 : 9\n",
            " x < y \n"
          ]
        }
      ]
    },
    {
      "cell_type": "markdown",
      "source": [
        "## Factorial\n"
      ],
      "metadata": {
        "id": "j_XZdt9nWged"
      }
    },
    {
      "cell_type": "code",
      "source": [
        "def fact(x):\n",
        "  if(x==1 or x==0):\n",
        "    return 1\n",
        "  else:\n",
        "    return x*fact(x-1)\n",
        "\n",
        "k=int(input(\"Enter the value for factorial\"))\n",
        "\n",
        "print(\"Factorial value of \",k,\" = \",fact(k))"
      ],
      "metadata": {
        "colab": {
          "base_uri": "https://localhost:8080/"
        },
        "id": "2yr6qsPJX0BM",
        "outputId": "19349f03-2536-48e9-b8fb-9c8be9268a8e"
      },
      "execution_count": null,
      "outputs": [
        {
          "output_type": "stream",
          "name": "stdout",
          "text": [
            "Enter the value for factorial4\n",
            "Factorial value of  4  =  24\n"
          ]
        }
      ]
    },
    {
      "cell_type": "markdown",
      "source": [
        "## Check this example"
      ],
      "metadata": {
        "id": "YMbvaeCXaeSd"
      }
    },
    {
      "cell_type": "code",
      "source": [
        "def outer_fun(x, y):\n",
        "    def inner_fun(m, n):\n",
        "        m=6\n",
        "        return m + n\n",
        "\n",
        "    return inner_fun(x, y)\n",
        "    return x\n",
        "\n",
        "result = outer_fun(15, 10)\n",
        "print(result)\n"
      ],
      "metadata": {
        "colab": {
          "base_uri": "https://localhost:8080/"
        },
        "id": "I9tzdJEFYWvj",
        "outputId": "b060d951-9288-4a72-ef96-c645b81b17d6"
      },
      "execution_count": null,
      "outputs": [
        {
          "output_type": "stream",
          "name": "stdout",
          "text": [
            "16\n"
          ]
        }
      ]
    },
    {
      "cell_type": "code",
      "source": [
        "def myfunc(x):\n",
        "  return lambda y : y * x\n",
        "\n",
        "mytripler = myfunc(5)\n",
        "\n",
        "print(mytripler(10))"
      ],
      "metadata": {
        "colab": {
          "base_uri": "https://localhost:8080/"
        },
        "id": "oFaowej8ZNJJ",
        "outputId": "511af6f5-690e-4960-9f4b-8e4b6b7207f2"
      },
      "execution_count": null,
      "outputs": [
        {
          "output_type": "stream",
          "name": "stdout",
          "text": [
            "50\n"
          ]
        }
      ]
    },
    {
      "cell_type": "code",
      "source": [
        "a=5\n",
        "b=6\n",
        "c=(str(a)+\"x^\"+str(b))\n",
        "print(c)"
      ],
      "metadata": {
        "id": "tQhVT_JLahcN",
        "colab": {
          "base_uri": "https://localhost:8080/"
        },
        "outputId": "bb5b6565-20ea-466f-9df3-3dbbfcdefc7c"
      },
      "execution_count": null,
      "outputs": [
        {
          "output_type": "stream",
          "name": "stdout",
          "text": [
            "5x^6\n"
          ]
        }
      ]
    },
    {
      "cell_type": "code",
      "source": [
        "1222\n",
        "44\n",
        "24"
      ],
      "metadata": {
        "id": "XCcJmCNF1UE2"
      },
      "execution_count": null,
      "outputs": []
    },
    {
      "cell_type": "markdown",
      "source": [
        "# Modules"
      ],
      "metadata": {
        "id": "my6d1OEBuT2K"
      }
    },
    {
      "cell_type": "markdown",
      "source": [
        "### Module_1"
      ],
      "metadata": {
        "id": "guh8z3emuWcY"
      }
    },
    {
      "cell_type": "code",
      "source": [
        "def fun(name):\n",
        "    print(\"Hello \"+name)"
      ],
      "metadata": {
        "id": "BnPP34ePuao4"
      },
      "execution_count": null,
      "outputs": []
    },
    {
      "cell_type": "code",
      "source": [
        "#!/usr/bin/env python3\n",
        "\n",
        "import name_mod\n",
        "\n",
        "x=str(input(\"Enter the name \"))\n",
        "\n",
        "name_mod.fun(x)\n"
      ],
      "metadata": {
        "id": "yzdzdXXQu-vM"
      },
      "execution_count": null,
      "outputs": []
    },
    {
      "cell_type": "markdown",
      "source": [
        "### Module_2"
      ],
      "metadata": {
        "id": "PXtFD4clyitW"
      }
    },
    {
      "cell_type": "code",
      "source": [
        "#!/usr/bin/env python3\n",
        "\n",
        "x ={\n",
        "        \"name\":\"Rahul\",\n",
        "        \"course\":\"Physics\",\n",
        "        \"place\":\"Thiruvananthapuram\"\n",
        "        }"
      ],
      "metadata": {
        "id": "u48e7y73yltW"
      },
      "execution_count": null,
      "outputs": []
    },
    {
      "cell_type": "code",
      "source": [
        "#!/usr/bin/env python3\n",
        "\n",
        "import job1_mod\n",
        "\n",
        "k1=job1_mod.x[\"name\"]\n",
        "k2=job1_mod.x[\"course\"]\n",
        "k3=job1_mod.x[\"place\"]\n",
        "\n",
        "print(\"Name   :\"+k1)\n",
        "print(\"Course :\"+k2)\n",
        "print(\"Place  :\"+k3)"
      ],
      "metadata": {
        "id": "QAtDnmmmymzO"
      },
      "execution_count": null,
      "outputs": []
    },
    {
      "cell_type": "markdown",
      "source": [
        "### Renaming a module"
      ],
      "metadata": {
        "id": "Ghv39HacysrP"
      }
    },
    {
      "cell_type": "code",
      "source": [
        "#!/usr/bin/env python3\n",
        "\n",
        "x ={\n",
        "        \"name\":\"Rahul\",\n",
        "        \"course\":\"Physics\",\n",
        "        \"place\":\"Thiruvananthapuram\"\n",
        "        }"
      ],
      "metadata": {
        "id": "WQ8PL6vH0MSH"
      },
      "execution_count": null,
      "outputs": []
    },
    {
      "cell_type": "code",
      "source": [
        "#!/usr/bin/env python3\n",
        "\n",
        "import job1_mod as j\n",
        "\n",
        "x=j.x[\"name\"]\n",
        "y=j.x[\"course\"]\n",
        "z=j.x[\"place\"]\n",
        "\n",
        "print(\"Name   :\"+x)\n",
        "print(\"Course :\"+y)\n",
        "print(\"Place  :\"+z)"
      ],
      "metadata": {
        "id": "V-LC7IuJzKho"
      },
      "execution_count": null,
      "outputs": []
    },
    {
      "cell_type": "markdown",
      "source": [
        "### calculator module"
      ],
      "metadata": {
        "id": "c1zzV3wm0XZv"
      }
    },
    {
      "cell_type": "code",
      "source": [
        "#!/usr/bin/env python3\n",
        "\n",
        "def f1(a,b):\n",
        "    x=a+b\n",
        "    return x\n",
        "def f2(a,b):\n",
        "    x=a-b\n",
        "    return x\n",
        "def f3(a,b):\n",
        "    x=a*b\n",
        "    return x\n",
        "def f4(a,b):\n",
        "    x=a/b\n",
        "    return x\n"
      ],
      "metadata": {
        "id": "fVm7kK829sAM"
      },
      "execution_count": null,
      "outputs": []
    },
    {
      "cell_type": "code",
      "source": [
        "#!/usr/bin/env python3\n",
        "\n",
        "import cal_mod\n",
        "\n",
        "print(\"Enter the first number\")\n",
        "x=float(input())\n",
        "print(\"Enter the second number\")\n",
        "y=float(input())\n",
        "\n",
        "print(\"Addition    =\"+str(cal_mod.f1(x,y)))\n",
        "print(\"Difference  =\"+str(abs(cal_mod.f2(x,y))))\n",
        "print(\"Product     =\"+str(cal_mod.f3(x,y)))\n",
        "print(\"Division    =\"+str(cal_mod.f4(x,y)))\n"
      ],
      "metadata": {
        "id": "ri8CERYg9tcd"
      },
      "execution_count": null,
      "outputs": []
    },
    {
      "cell_type": "markdown",
      "source": [
        "## Importing Module & Working with module and packages."
      ],
      "metadata": {
        "id": "WSwKLrWv9Rwx"
      }
    },
    {
      "cell_type": "code",
      "source": [
        "import numpy as np\n",
        "c=dir(np)\n",
        "print(c)"
      ],
      "metadata": {
        "colab": {
          "base_uri": "https://localhost:8080/"
        },
        "id": "Uflb2csZ9VOf",
        "outputId": "4f0d6a71-8cfc-4c5d-b438-e3efeb2e67f3"
      },
      "execution_count": null,
      "outputs": [
        {
          "output_type": "stream",
          "name": "stdout",
          "text": [
            "['ALLOW_THREADS', 'AxisError', 'BUFSIZE', 'CLIP', 'ComplexWarning', 'DataSource', 'ERR_CALL', 'ERR_DEFAULT', 'ERR_IGNORE', 'ERR_LOG', 'ERR_PRINT', 'ERR_RAISE', 'ERR_WARN', 'FLOATING_POINT_SUPPORT', 'FPE_DIVIDEBYZERO', 'FPE_INVALID', 'FPE_OVERFLOW', 'FPE_UNDERFLOW', 'False_', 'Inf', 'Infinity', 'MAXDIMS', 'MAY_SHARE_BOUNDS', 'MAY_SHARE_EXACT', 'ModuleDeprecationWarning', 'NAN', 'NINF', 'NZERO', 'NaN', 'PINF', 'PZERO', 'RAISE', 'RankWarning', 'SHIFT_DIVIDEBYZERO', 'SHIFT_INVALID', 'SHIFT_OVERFLOW', 'SHIFT_UNDERFLOW', 'ScalarType', 'Tester', 'TooHardError', 'True_', 'UFUNC_BUFSIZE_DEFAULT', 'UFUNC_PYVALS_NAME', 'VisibleDeprecationWarning', 'WRAP', '_CopyMode', '_NoValue', '_UFUNC_API', '__NUMPY_SETUP__', '__all__', '__builtins__', '__cached__', '__config__', '__deprecated_attrs__', '__dir__', '__doc__', '__expired_functions__', '__file__', '__getattr__', '__git_version__', '__loader__', '__name__', '__package__', '__path__', '__spec__', '__version__', '_add_newdoc_ufunc', '_distributor_init', '_financial_names', '_globals', '_mat', '_pyinstaller_hooks_dir', '_pytesttester', '_version', 'abs', 'absolute', 'add', 'add_docstring', 'add_newdoc', 'add_newdoc_ufunc', 'all', 'allclose', 'alltrue', 'amax', 'amin', 'angle', 'any', 'append', 'apply_along_axis', 'apply_over_axes', 'arange', 'arccos', 'arccosh', 'arcsin', 'arcsinh', 'arctan', 'arctan2', 'arctanh', 'argmax', 'argmin', 'argpartition', 'argsort', 'argwhere', 'around', 'array', 'array2string', 'array_equal', 'array_equiv', 'array_repr', 'array_split', 'array_str', 'asanyarray', 'asarray', 'asarray_chkfinite', 'ascontiguousarray', 'asfarray', 'asfortranarray', 'asmatrix', 'atleast_1d', 'atleast_2d', 'atleast_3d', 'average', 'bartlett', 'base_repr', 'binary_repr', 'bincount', 'bitwise_and', 'bitwise_not', 'bitwise_or', 'bitwise_xor', 'blackman', 'block', 'bmat', 'bool8', 'bool_', 'broadcast', 'broadcast_arrays', 'broadcast_shapes', 'broadcast_to', 'busday_count', 'busday_offset', 'busdaycalendar', 'byte', 'byte_bounds', 'bytes0', 'bytes_', 'c_', 'can_cast', 'cast', 'cbrt', 'cdouble', 'ceil', 'cfloat', 'char', 'character', 'chararray', 'choose', 'clip', 'clongdouble', 'clongfloat', 'column_stack', 'common_type', 'compare_chararrays', 'compat', 'complex128', 'complex256', 'complex64', 'complex_', 'complexfloating', 'compress', 'concatenate', 'conj', 'conjugate', 'convolve', 'copy', 'copysign', 'copyto', 'core', 'corrcoef', 'correlate', 'cos', 'cosh', 'count_nonzero', 'cov', 'cross', 'csingle', 'ctypeslib', 'cumprod', 'cumproduct', 'cumsum', 'datetime64', 'datetime_as_string', 'datetime_data', 'deg2rad', 'degrees', 'delete', 'deprecate', 'deprecate_with_doc', 'diag', 'diag_indices', 'diag_indices_from', 'diagflat', 'diagonal', 'diff', 'digitize', 'disp', 'divide', 'divmod', 'dot', 'double', 'dsplit', 'dstack', 'dtype', 'e', 'ediff1d', 'einsum', 'einsum_path', 'emath', 'empty', 'empty_like', 'equal', 'errstate', 'euler_gamma', 'exp', 'exp2', 'expand_dims', 'expm1', 'extract', 'eye', 'fabs', 'fastCopyAndTranspose', 'fft', 'fill_diagonal', 'find_common_type', 'finfo', 'fix', 'flatiter', 'flatnonzero', 'flexible', 'flip', 'fliplr', 'flipud', 'float128', 'float16', 'float32', 'float64', 'float_', 'float_power', 'floating', 'floor', 'floor_divide', 'fmax', 'fmin', 'fmod', 'format_float_positional', 'format_float_scientific', 'format_parser', 'frexp', 'from_dlpack', 'frombuffer', 'fromfile', 'fromfunction', 'fromiter', 'frompyfunc', 'fromregex', 'fromstring', 'full', 'full_like', 'gcd', 'generic', 'genfromtxt', 'geomspace', 'get_array_wrap', 'get_include', 'get_printoptions', 'getbufsize', 'geterr', 'geterrcall', 'geterrobj', 'gradient', 'greater', 'greater_equal', 'half', 'hamming', 'hanning', 'heaviside', 'histogram', 'histogram2d', 'histogram_bin_edges', 'histogramdd', 'hsplit', 'hstack', 'hypot', 'i0', 'identity', 'iinfo', 'imag', 'in1d', 'index_exp', 'indices', 'inexact', 'inf', 'info', 'infty', 'inner', 'insert', 'int0', 'int16', 'int32', 'int64', 'int8', 'int_', 'intc', 'integer', 'interp', 'intersect1d', 'intp', 'invert', 'is_busday', 'isclose', 'iscomplex', 'iscomplexobj', 'isfinite', 'isfortran', 'isin', 'isinf', 'isnan', 'isnat', 'isneginf', 'isposinf', 'isreal', 'isrealobj', 'isscalar', 'issctype', 'issubclass_', 'issubdtype', 'issubsctype', 'iterable', 'ix_', 'kaiser', 'kernel_version', 'kron', 'lcm', 'ldexp', 'left_shift', 'less', 'less_equal', 'lexsort', 'lib', 'linalg', 'linspace', 'little_endian', 'load', 'loadtxt', 'log', 'log10', 'log1p', 'log2', 'logaddexp', 'logaddexp2', 'logical_and', 'logical_not', 'logical_or', 'logical_xor', 'logspace', 'longcomplex', 'longdouble', 'longfloat', 'longlong', 'lookfor', 'ma', 'mask_indices', 'mat', 'math', 'matmul', 'matrix', 'matrixlib', 'max', 'maximum', 'maximum_sctype', 'may_share_memory', 'mean', 'median', 'memmap', 'meshgrid', 'mgrid', 'min', 'min_scalar_type', 'minimum', 'mintypecode', 'mod', 'modf', 'moveaxis', 'msort', 'multiply', 'nan', 'nan_to_num', 'nanargmax', 'nanargmin', 'nancumprod', 'nancumsum', 'nanmax', 'nanmean', 'nanmedian', 'nanmin', 'nanpercentile', 'nanprod', 'nanquantile', 'nanstd', 'nansum', 'nanvar', 'nbytes', 'ndarray', 'ndenumerate', 'ndim', 'ndindex', 'nditer', 'negative', 'nested_iters', 'newaxis', 'nextafter', 'nonzero', 'not_equal', 'numarray', 'number', 'obj2sctype', 'object0', 'object_', 'ogrid', 'oldnumeric', 'ones', 'ones_like', 'os', 'outer', 'packbits', 'pad', 'partition', 'percentile', 'pi', 'piecewise', 'place', 'poly', 'poly1d', 'polyadd', 'polyder', 'polydiv', 'polyfit', 'polyint', 'polymul', 'polynomial', 'polysub', 'polyval', 'positive', 'power', 'printoptions', 'prod', 'product', 'promote_types', 'ptp', 'put', 'put_along_axis', 'putmask', 'quantile', 'r_', 'rad2deg', 'radians', 'random', 'ravel', 'ravel_multi_index', 'real', 'real_if_close', 'rec', 'recarray', 'recfromcsv', 'recfromtxt', 'reciprocal', 'record', 'remainder', 'repeat', 'require', 'reshape', 'resize', 'result_type', 'right_shift', 'rint', 'roll', 'rollaxis', 'roots', 'rot90', 'round', 'round_', 'row_stack', 's_', 'safe_eval', 'save', 'savetxt', 'savez', 'savez_compressed', 'sctype2char', 'sctypeDict', 'sctypes', 'searchsorted', 'select', 'set_numeric_ops', 'set_printoptions', 'set_string_function', 'setbufsize', 'setdiff1d', 'seterr', 'seterrcall', 'seterrobj', 'setxor1d', 'shape', 'shares_memory', 'short', 'show_config', 'sign', 'signbit', 'signedinteger', 'sin', 'sinc', 'single', 'singlecomplex', 'sinh', 'size', 'sometrue', 'sort', 'sort_complex', 'source', 'spacing', 'split', 'sqrt', 'square', 'squeeze', 'stack', 'std', 'str0', 'str_', 'string_', 'subtract', 'sum', 'swapaxes', 'sys', 'take', 'take_along_axis', 'tan', 'tanh', 'tensordot', 'test', 'testing', 'tile', 'timedelta64', 'trace', 'tracemalloc_domain', 'transpose', 'trapz', 'tri', 'tril', 'tril_indices', 'tril_indices_from', 'trim_zeros', 'triu', 'triu_indices', 'triu_indices_from', 'true_divide', 'trunc', 'typecodes', 'typename', 'ubyte', 'ufunc', 'uint', 'uint0', 'uint16', 'uint32', 'uint64', 'uint8', 'uintc', 'uintp', 'ulonglong', 'unicode_', 'union1d', 'unique', 'unpackbits', 'unravel_index', 'unsignedinteger', 'unwrap', 'use_hugepage', 'ushort', 'vander', 'var', 'vdot', 'vectorize', 'version', 'void', 'void0', 'vsplit', 'vstack', 'warnings', 'where', 'who', 'zeros', 'zeros_like']\n"
          ]
        }
      ]
    },
    {
      "cell_type": "markdown",
      "source": [
        "# File Opening"
      ],
      "metadata": {
        "id": "h-N5WuBA9orP"
      }
    },
    {
      "cell_type": "markdown",
      "source": [
        "## File writing"
      ],
      "metadata": {
        "id": "malFdEnWKSAT"
      }
    },
    {
      "cell_type": "code",
      "source": [
        "#!/usr/bin/env python3\n",
        "\n",
        "x=open(\"data.txt\",\"w\")\n",
        "\n",
        "for i in range (0,10,1):\n",
        "    print(\"enter the number\")\n",
        "    k=input()\n",
        "    x.write(k)\n",
        "\n",
        "x.close()"
      ],
      "metadata": {
        "id": "Gm77KBdvKLLH"
      },
      "execution_count": null,
      "outputs": []
    },
    {
      "cell_type": "markdown",
      "source": [
        "## File writing 2"
      ],
      "metadata": {
        "id": "8MTX3p99KUMI"
      }
    },
    {
      "cell_type": "code",
      "source": [
        "#!/usr/bin/env python3\n",
        "\n",
        "x=open(\"dat2.txt\",\"w\")\n",
        "\n",
        "for i in range (0,10,1):\n",
        "    print(\"Enter the input\")\n",
        "    k=input()\n",
        "    x.writelines(k)\n",
        "    x.writelines(\"\\n\")\n",
        "\n",
        "x.close()"
      ],
      "metadata": {
        "id": "YQkGSnKBKW9w"
      },
      "execution_count": null,
      "outputs": []
    },
    {
      "cell_type": "markdown",
      "source": [
        "## File appending"
      ],
      "metadata": {
        "id": "P2-iuV8ZKdi2"
      }
    },
    {
      "cell_type": "code",
      "source": [
        "#!/usr/bin/env python3\n",
        "\n",
        "print(\"This program will append the file \")\n",
        "\n",
        "file=input(\"Enter the file name with .txt extension : \")\n",
        "x=open(file,\"a\")\n",
        "\n",
        "n=int(input(\"enter the number of lines to enter  : \"))\n",
        "\n",
        "for i in range (0,n,1):\n",
        "    print(\"Enter the number\")\n",
        "    y=float(input())\n",
        "    x.write(str(y))\n",
        "    x.write(\" x \")\n",
        "    x.write(str(i+1))\n",
        "    x.write(\" = \")\n",
        "    x.write(str(y*(i+1)))\n",
        "    x.write(\"\\n\")\n",
        "\n",
        "x.close()"
      ],
      "metadata": {
        "id": "nVPZLe-wKhLp"
      },
      "execution_count": null,
      "outputs": []
    },
    {
      "cell_type": "markdown",
      "source": [
        "## File reading"
      ],
      "metadata": {
        "id": "Qx0GKatqN973"
      }
    },
    {
      "cell_type": "code",
      "source": [
        "#!/usr/bin/env python3\n",
        "\n",
        "file=input(\"Enter the name of file to read : \")\n",
        "\n",
        "x=open(file,\"r\")\n",
        "\n",
        "n=int(input(\"enter the number of lines : \"))\n",
        "\n",
        "for i in range (1,n+1,1):\n",
        "    k=x.read(5)\n",
        "    print(k)\n",
        "\n",
        "x.close()\n"
      ],
      "metadata": {
        "id": "JbJ4XhjSOAEU"
      },
      "execution_count": null,
      "outputs": []
    },
    {
      "cell_type": "markdown",
      "source": [
        "## File reading 2"
      ],
      "metadata": {
        "id": "CYEdE1SxOCHN"
      }
    },
    {
      "cell_type": "code",
      "source": [
        "#!/usr/bin/env python3\n",
        "\n",
        "file=input(\"Enter the name of file to read : \")\n",
        "\n",
        "x=open(file,\"r\")\n",
        "\n",
        "n=int(input(\"enter the number of lines : \"))\n",
        "\n",
        "for i in range (1,n+1,1):\n",
        "    k=x.read()\n",
        "    print(k)\n",
        "\n",
        "x.close()\n"
      ],
      "metadata": {
        "id": "C3hNJSarOFKm"
      },
      "execution_count": null,
      "outputs": []
    },
    {
      "cell_type": "markdown",
      "source": [
        "## File reading 3"
      ],
      "metadata": {
        "id": "--r07lBWOPOg"
      }
    },
    {
      "cell_type": "code",
      "source": [
        "#!/usr/bin/env python3\n",
        "\n",
        "file=input(\"Enter the name of file to read : \")\n",
        "\n",
        "x=open(file,\"r\")\n",
        "\n",
        "n=int(input(\"enter the number of lines : \"))\n",
        "\n",
        "for i in range (1,n+1,1):\n",
        "    k=x.readline()\n",
        "    print(k)\n",
        "\n",
        "x.close()\n"
      ],
      "metadata": {
        "id": "d_XaXYobOSbY"
      },
      "execution_count": null,
      "outputs": []
    },
    {
      "cell_type": "markdown",
      "source": [
        "## File reading 4"
      ],
      "metadata": {
        "id": "ew1cdnzlOUh5"
      }
    },
    {
      "cell_type": "code",
      "source": [
        "#!/usr/bin/env python3\n",
        "\n",
        "file=input(\"Enter the name of file to read : \")\n",
        "\n",
        "x=open(file,\"r\")\n",
        "\n",
        "n=int(input(\"enter the number of lines : \"))\n",
        "\n",
        "for i in range (1,n+1,1):\n",
        "    k=x.readlines()\n",
        "    print(k)\n",
        "\n",
        "x.close()\n"
      ],
      "metadata": {
        "id": "mgB5eE-YOXfx"
      },
      "execution_count": null,
      "outputs": []
    }
  ],
  "metadata": {
    "colab": {
      "toc_visible": true,
      "provenance": [],
      "authorship_tag": "ABX9TyMdIXFWnGRqobusFVHSUSDg",
      "include_colab_link": true
    },
    "kernelspec": {
      "display_name": "Python 3",
      "name": "python3"
    },
    "language_info": {
      "name": "python"
    }
  },
  "nbformat": 4,
  "nbformat_minor": 0
}