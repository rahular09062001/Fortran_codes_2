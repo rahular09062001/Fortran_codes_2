{
  "nbformat": 4,
  "nbformat_minor": 0,
  "metadata": {
    "colab": {
      "provenance": [],
      "include_colab_link": true
    },
    "kernelspec": {
      "name": "python3",
      "display_name": "Python 3"
    },
    "language_info": {
      "name": "python"
    }
  },
  "cells": [
    {
      "cell_type": "markdown",
      "metadata": {
        "id": "view-in-github",
        "colab_type": "text"
      },
      "source": [
        "<a href=\"https://colab.research.google.com/github/rahular09062001/Google_Colab_Codes/blob/main/Numerical_Methods.ipynb\" target=\"_parent\"><img src=\"https://colab.research.google.com/assets/colab-badge.svg\" alt=\"Open In Colab\"/></a>"
      ]
    },
    {
      "cell_type": "markdown",
      "source": [
        "$$ NumericalMethods $$"
      ],
      "metadata": {
        "id": "nVn-FVKH3OR3"
      }
    },
    {
      "cell_type": "markdown",
      "source": [
        "![image.png](https://ocw.mit.edu/courses/18-330-introduction-to-numerical-analysis-spring-2012/5df8aa2c10fe1b90737c9f0e747b0f70_18-330s12.jpg)"
      ],
      "metadata": {
        "id": "4ijO1yAn2-tr"
      }
    },
    {
      "cell_type": "markdown",
      "source": [
        "# Primary"
      ],
      "metadata": {
        "id": "N--eaX7ugNpi"
      }
    },
    {
      "cell_type": "markdown",
      "source": [
        "##Find the value of x and y\n"
      ],
      "metadata": {
        "id": "JAnY_MUGfumn"
      }
    },
    {
      "cell_type": "markdown",
      "source": [
        "find the value of x and y\n",
        "\n",
        "ax + by = c\n",
        "px + qy = r"
      ],
      "metadata": {
        "id": "0rb06iT4f5Zs"
      }
    },
    {
      "cell_type": "code",
      "execution_count": null,
      "metadata": {
        "id": "9ty7hNjSfLTS"
      },
      "outputs": [],
      "source": [
        "program find_x_y\n",
        "\n",
        "      implicit none\n",
        "\n",
        "      real :: a,b,c,p,q,r,x,y\n",
        "\n",
        "      print*,\"Enter the value of a  b  c respectively\"\n",
        "      read(*,*) a,b,c\n",
        "\n",
        "      print*,\"Enter the value of p  q  r respectively\"\n",
        "      read(*,*) p,q,r\n",
        "\n",
        "      r=r-(p*c/a)\n",
        "      q=q-(p*b/a)\n",
        "\n",
        "      if(q /= 0 ) then\n",
        "\n",
        "      y=(r/q)\n",
        "      x=(c-(b*y))/a\n",
        "\n",
        "      print*,\"The value of x =\",x\n",
        "      print*,\"The value of y =\",y\n",
        "\n",
        "      else\n",
        "              print*,\"Error \"\n",
        "\n",
        "      end if\n",
        "\n",
        "      end program find_x_y\n"
      ]
    },
    {
      "cell_type": "markdown",
      "source": [
        "## Fibinocci Sequence"
      ],
      "metadata": {
        "id": "Z1z9x_3LjsSb"
      }
    },
    {
      "cell_type": "code",
      "source": [
        "program fibinocci\n",
        "\n",
        "      implicit none\n",
        "\n",
        "      integer :: pre, cur ,new,i,n\n",
        "\n",
        "      ! pre : previous\n",
        "      ! cur : Current\n",
        "      ! new : new\n",
        "\n",
        "      pre = 0\n",
        "      cur = 1\n",
        "\n",
        "      print*,\"Enter the term you want to obtain\"\n",
        "      read(*,*) n\n",
        "\n",
        "      100 format(\"Fibinocci No. =\",I0)\n",
        "      if (n < 1) then\n",
        "              write(*,*)\"Error\"\n",
        "\n",
        "      elseif (n==1) then\n",
        "              write(*,100)pre\n",
        "\n",
        "      elseif (n==2) then\n",
        "              write(*,100)cur\n",
        "\n",
        "      else\n",
        "              do i=1,n-2\n",
        "\n",
        "              new = pre + cur\n",
        "              pre = cur\n",
        "              cur = new\n",
        "\n",
        "              end do\n",
        "\n",
        "              write(*,100)new\n",
        "\n",
        "      end if\n",
        "\n",
        "      end program fibinocci\n",
        "\n",
        "\n"
      ],
      "metadata": {
        "id": "QIj564V7kVb7"
      },
      "execution_count": null,
      "outputs": []
    },
    {
      "cell_type": "markdown",
      "source": [
        "## Sin(x)"
      ],
      "metadata": {
        "id": "VbV3EPAU18bJ"
      }
    },
    {
      "cell_type": "markdown",
      "source": [
        "Main program"
      ],
      "metadata": {
        "id": "Aum8KdNX2Buf"
      }
    },
    {
      "cell_type": "code",
      "source": [
        "program sinx\n",
        "\n",
        "  use sinx_mod\n",
        "  implicit none\n",
        "\n",
        "  print*,\"Enter the value of theta in degree\"\n",
        "  read(*,*)x\n",
        "  x=x*rad\n",
        "\n",
        "  print*,\"===========\"\n",
        "  print*,\" \"\n",
        "\n",
        "  call sinx_cal()\n",
        "\n",
        "\n",
        "  print*,\" Sin(x) = \",sum\n",
        "\n",
        "  end program sinx\n",
        "\n",
        "\n"
      ],
      "metadata": {
        "id": "Hxsa3P4s1_tX"
      },
      "execution_count": null,
      "outputs": []
    },
    {
      "cell_type": "markdown",
      "source": [
        "Module"
      ],
      "metadata": {
        "id": "Cd1xt6n02WxK"
      }
    },
    {
      "cell_type": "code",
      "source": [
        "module sinx_mod\n",
        "\n",
        "  implicit none\n",
        "  save\n",
        "\n",
        "  integer :: i\n",
        "  integer,parameter :: n=1000\n",
        "  real :: x,sum,term\n",
        "  real,parameter :: rad=(2*asin(1.0))/180.0\n",
        "\n",
        "\n",
        "  contains\n",
        "\n",
        "  subroutine sinx_cal()\n",
        "\n",
        "  term = x\n",
        "  sum = x\n",
        "\n",
        "  do i=1,n-1\n",
        "\n",
        "  term = (((-1)*(x**2))/((2*real(i)+1)*(2*real(i))))*term\n",
        "\n",
        "\n",
        "\n",
        "  sum = sum + term\n",
        "\n",
        "\n",
        "\n",
        "  end do\n",
        "\n",
        "\n",
        "  end subroutine sinx_cal\n",
        "\n",
        "  end module  sinx_mod"
      ],
      "metadata": {
        "id": "-yxcN3VE2cw1"
      },
      "execution_count": null,
      "outputs": []
    },
    {
      "cell_type": "markdown",
      "source": [
        "## Cos(x)"
      ],
      "metadata": {
        "id": "_QDJjrlfFqXi"
      }
    },
    {
      "cell_type": "code",
      "source": [
        "program cosx\n",
        "\n",
        "  implicit none\n",
        "\n",
        "  integer :: i,n=100000\n",
        "  real(kind=16) :: x,term,sum\n",
        "  real,parameter :: rad = (2*asin(1.0))/180.0\n",
        "\n",
        "  print*,\"Enter the value of theta \"\n",
        "  read(*,*) x\n",
        "\n",
        "  x=x*rad\n",
        "  term=1.0\n",
        "  sum=term\n",
        "\n",
        "  do i=1,n\n",
        "\n",
        "  term = ((x**2)/(2*real(i)*((2*real(i))-1)))*term*(-1)\n",
        "  !print*,term\n",
        "\n",
        "  sum = sum + term\n",
        "  !print*,\"sum =\",sum\n",
        "\n",
        "  end do\n",
        "\n",
        "  print*,\"The value of cos(\",x,\") = \",sum\n",
        "\n",
        "end program cosx\n",
        "\n"
      ],
      "metadata": {
        "id": "57zgNAf3Fu7a"
      },
      "execution_count": null,
      "outputs": []
    },
    {
      "cell_type": "markdown",
      "source": [
        "# Bisection Method"
      ],
      "metadata": {
        "id": "HUT-rKMjRC02"
      }
    },
    {
      "cell_type": "markdown",
      "source": [
        "## Bisection Method 1"
      ],
      "metadata": {
        "id": "0-i8KvkdtwBY"
      }
    },
    {
      "cell_type": "markdown",
      "source": [
        "Module"
      ],
      "metadata": {
        "id": "CbqPXfEsRHi8"
      }
    },
    {
      "cell_type": "code",
      "source": [
        "module Bis_Met_mod\n",
        "\n",
        "  implicit none\n",
        "\n",
        "  real ::a,b,c,x1,x0,x2,x,y1,y2,y0\n",
        "\n",
        "  contains\n",
        "\n",
        "  ! .....................................................(function 1)\n",
        "  real function pol(a,b,c,x)\n",
        "\n",
        "  implicit none\n",
        "\n",
        "  real,intent(in) :: a,b,c,x\n",
        "\n",
        "  pol=a*(x**2)+(b*x)+c\n",
        "\n",
        "  end function  pol\n",
        "\n",
        "end module Bis_Met_mod"
      ],
      "metadata": {
        "id": "Jc91CyrgRGWu"
      },
      "execution_count": null,
      "outputs": []
    },
    {
      "cell_type": "markdown",
      "source": [
        "Main Program"
      ],
      "metadata": {
        "id": "TB7nNI-2RKdJ"
      }
    },
    {
      "cell_type": "code",
      "source": [
        "program Bisection_Method\n",
        "\n",
        "  use Bis_Met_mod\n",
        "  implicit none\n",
        "\n",
        "  logical :: range_t\n",
        "  real,parameter :: lim = 0.000001\n",
        "  real :: dif\n",
        "\n",
        "\n",
        "  print*,\"Enter the Coefficents a,b,c respectively \"\n",
        "  read(*,*)a,b,c\n",
        "\n",
        "\n",
        "\n",
        "  print*,\"Give the range of x0 and x1\"\n",
        "  read(*,*) x0, x1\n",
        "\n",
        "  dif_loop: do\n",
        "\n",
        "  !.....................................................(1)\n",
        "  x=x0\n",
        "  y0=pol(a,b,c,x)\n",
        "  !print*,\"y0\",y0\n",
        "  x=x1\n",
        "  y1=pol(a,b,c,x)\n",
        "  !print*,\"y1\",y1\n",
        "\n",
        "  !.....................................................(range test)\n",
        "  range_test: if (y1*y0 < 0) then\n",
        "\n",
        "   !print*,\"y1*y0\",y1*y0\n",
        "   !print*,\"The range is acceptable\"\n",
        "   range_t = .true.\n",
        "\n",
        "  else\n",
        "\n",
        "   print*,\"y1*y0\",y1*y0\n",
        "   print*,\"The range is not acceptable\"\n",
        "   range_t = .false.\n",
        "\n",
        "  end if  range_test\n",
        "\n",
        "  !...................................................(x2 calculation)\n",
        "  x2_cal: if( range_t ) then\n",
        "\n",
        "  x2=(x0+x1)/2.0\n",
        "  x=x2\n",
        "  y2=pol(a,b,c,x)\n",
        "\n",
        "  end if x2_cal\n",
        "\n",
        "  !.................................................(reducing width)\n",
        "\n",
        "  rw : if (y0*y2 < 0) then\n",
        "\n",
        "  x1 = x2\n",
        "\n",
        "  else rw\n",
        "\n",
        "  x0 = x2\n",
        "\n",
        "  end if rw\n",
        "\n",
        "\n",
        "\n",
        "  dif = abs(x1 - x0)\n",
        "\n",
        "\n",
        "  !.....................................................(Exit value)\n",
        "\n",
        "  if ( dif <= lim .or. .not.(range_t)) exit dif_loop\n",
        "\n",
        "  end do dif_loop\n",
        "\n",
        "  print*,\"One of the value of x =\",(x0+x1)/2.0\n",
        "\n",
        "end program Bisection_Method"
      ],
      "metadata": {
        "id": "nEzxE6fgRMVJ"
      },
      "execution_count": null,
      "outputs": []
    },
    {
      "cell_type": "markdown",
      "source": [
        "## Bisection Method updated"
      ],
      "metadata": {
        "id": "HKlH2aDCt05j"
      }
    },
    {
      "cell_type": "markdown",
      "source": [
        "Added open statement to store data points"
      ],
      "metadata": {
        "id": "ONuXh6ewuH6H"
      }
    },
    {
      "cell_type": "markdown",
      "source": [
        "**Module**"
      ],
      "metadata": {
        "id": "pwi79AzjuCmk"
      }
    },
    {
      "cell_type": "code",
      "source": [
        "module Bis_Met_mod\n",
        "\n",
        "  implicit none\n",
        "\n",
        "  real ::a,b,c,x1,x0,x2,x,y1,y2,y0\n",
        "\n",
        "  contains\n",
        "\n",
        "  ! .....................................................(function 1)\n",
        "  real function pol(a,b,c,x)\n",
        "\n",
        "  implicit none\n",
        "\n",
        "  real,intent(in) :: a,b,c,x\n",
        "\n",
        "  pol=a*(x**2)+(b*x)+c\n",
        "\n",
        "  end function  pol\n",
        "\n",
        "end module Bis_Met_mod"
      ],
      "metadata": {
        "id": "F5wd2SWht-TE"
      },
      "execution_count": null,
      "outputs": []
    },
    {
      "cell_type": "markdown",
      "source": [
        "**Main program**"
      ],
      "metadata": {
        "id": "_O8Kd8jpuE4P"
      }
    },
    {
      "cell_type": "code",
      "source": [
        "program Bisection_Method\n",
        "\n",
        "  use Bis_Met_mod\n",
        "  implicit none\n",
        "\n",
        "  logical :: range_t\n",
        "  real,parameter :: lim = 0.000001\n",
        "  real :: dif\n",
        "  integer :: stat,nval = 0\n",
        "  character(len = 80) :: msg\n",
        "\n",
        "  print*,\"Enter the Coefficents a,b,c respectively \"\n",
        "  read(*,*)a,b,c\n",
        "\n",
        "\n",
        "\n",
        "  print*,\"Give the range of x0 and x1\"\n",
        "  read(*,*) x0, x1\n",
        "\n",
        "  open(3,file='Bisection_Method.txt',status='unknown',action='write',iostat=stat, iomsg=msg)\n",
        "\n",
        "  fileopen: if ( stat == 0 ) then\n",
        "\n",
        "  dif_loop: do\n",
        "\n",
        "  !.....................................................(1)\n",
        "  x=x0\n",
        "  y0=pol(a,b,c,x)\n",
        "  !print*,\"y0\",y0\n",
        "  x=x1\n",
        "  y1=pol(a,b,c,x)\n",
        "  !print*,\"y1\",y1\n",
        "\n",
        "  !.....................................................(range test)\n",
        "  range_test: if (y1*y0 < 0) then\n",
        "\n",
        "   !print*,\"y1*y0\",y1*y0\n",
        "   !print*,\"The range is acceptable\"\n",
        "   range_t = .true.\n",
        "\n",
        "   write(3,*) x0,y0\n",
        "   write(3,*) x1,y1\n",
        "\n",
        "  else\n",
        "\n",
        "   print*,\"y1*y0\",y1*y0\n",
        "   print*,\"The range is not acceptable\"\n",
        "   range_t = .false.\n",
        "\n",
        "  end if  range_test\n",
        "\n",
        "  !...................................................(x2 calculation)\n",
        "  x2_cal: if( range_t ) then\n",
        "\n",
        "  x2=(x0+x1)/2.0\n",
        "  x=x2\n",
        "  y2=pol(a,b,c,x)\n",
        "\n",
        "  end if x2_cal\n",
        "\n",
        "  !.................................................(reducing width)\n",
        "\n",
        "  rw : if (y0*y2 < 0) then\n",
        "\n",
        "  x1 = x2\n",
        "\n",
        "  else rw\n",
        "\n",
        "  x0 = x2\n",
        "\n",
        "  end if rw\n",
        "\n",
        "\n",
        "\n",
        "  dif = abs(x1 - x0)\n",
        "\n",
        "\n",
        "  !.....................................................(Exit value)\n",
        "  nval = nval + 1\n",
        "  if ( dif <= lim .or. .not.(range_t)) exit dif_loop\n",
        "\n",
        "  end do dif_loop\n",
        "\n",
        "  print*,\"One of the value of x =\",(x0+x1)/2.0\n",
        "  print*,\"No. of iterations =\",nval\n",
        "\n",
        "  else fileopen\n",
        "\n",
        "  print*,\"Error\",trim(msg)\n",
        "\n",
        "  end if fileopen\n",
        "\n",
        "end program Bisection_Method"
      ],
      "metadata": {
        "id": "UiAdWqsKt7eN"
      },
      "execution_count": null,
      "outputs": []
    },
    {
      "cell_type": "markdown",
      "source": [
        "# False Position Method"
      ],
      "metadata": {
        "id": "WDexTI_XQKAN"
      }
    },
    {
      "cell_type": "markdown",
      "source": [
        "Eventhough False position method and bisection method follows almost same structure False Position requires less computing power"
      ],
      "metadata": {
        "id": "Aw3ze9MLRVaJ"
      }
    },
    {
      "cell_type": "markdown",
      "source": [
        "Main Program"
      ],
      "metadata": {
        "id": "xbbV9Y-LRCXR"
      }
    },
    {
      "cell_type": "code",
      "source": [
        "program False_Position\n",
        "\n",
        " use FP_mod\n",
        " implicit none\n",
        "\n",
        " real(kind=16),parameter :: lim=0.0000001\n",
        " integer :: nval = 0\n",
        "\n",
        "! print*,\"lim\",lim\n",
        "\n",
        " print*,\"Enter the value of coefficents a,b,c\"\n",
        " read(*,*)a,b,c\n",
        " print*,\"Enter the range of x(lower to upper)\"\n",
        " read(*,*)x0,x1\n",
        "\n",
        " y0=pol(a,b,c,x0)\n",
        "\n",
        " y1=pol(a,b,c,x1)\n",
        "! print*,\"y0\",y0\n",
        "! print*,\"y1\",y1\n",
        "! print*,y1*y0\n",
        "\n",
        " if (y0*y1 < 0) then\n",
        "\n",
        " reduction: do !...........................................reduction loop\n",
        "\n",
        "   y0=pol(a,b,c,x0)\n",
        "   y1=pol(a,b,c,x1)\n",
        "!   print*,y1,\" \",y0\n",
        "   x2= ((x0*y1)-(x1*y0))/(y1-y0)\n",
        "   y2=pol(a,b,c,x2)\n",
        "\n",
        "!   print*,x2,y2\n",
        "   nval = nval +1\n",
        "   !.......................................................exit statement\n",
        "   if (abs(y2-0.0)< lim) exit\n",
        "\n",
        "   interchange:if (y2*y0 < 0) then !......................... interchange\n",
        "\n",
        "   x1=x2\n",
        "\n",
        "   else\n",
        "\n",
        "   x0=x2\n",
        "\n",
        "   end if interchange\n",
        "\n",
        "  end do reduction\n",
        "\n",
        "  print*,\"the value of x = \",x2\n",
        "  print*,\"No. of cycles = \",nval\n",
        "\n",
        " else\n",
        "\n",
        " print*,\"The range is not acceptable\"\n",
        "\n",
        " end if\n",
        "\n",
        "end program False_Position"
      ],
      "metadata": {
        "id": "Ta2FZkpjQQbu"
      },
      "execution_count": null,
      "outputs": []
    },
    {
      "cell_type": "markdown",
      "source": [
        "Module"
      ],
      "metadata": {
        "id": "_6DFz_6mRFNf"
      }
    },
    {
      "cell_type": "code",
      "source": [
        "module FP_mod\n",
        "\n",
        "implicit none\n",
        "save\n",
        "\n",
        "real :: a,b,c,x0,x1,x2,y0,y1,y2\n",
        "\n",
        "contains\n",
        "\n",
        "real function pol(a,b,c,x)\n",
        "\n",
        "implicit none\n",
        "\n",
        "real,intent(in) :: a,b,c,x\n",
        "\n",
        "pol= a*(x**2)+(b*x)+c\n",
        "\n",
        "end function\n",
        "\n",
        "end module FP_mod"
      ],
      "metadata": {
        "id": "-6c21pXgRG0L"
      },
      "execution_count": null,
      "outputs": []
    },
    {
      "cell_type": "markdown",
      "source": [
        "# Newton_Raphson"
      ],
      "metadata": {
        "id": "0yIGaEkv75I5"
      }
    },
    {
      "cell_type": "markdown",
      "source": [
        "Module"
      ],
      "metadata": {
        "id": "vJAXw0gz8D-i"
      }
    },
    {
      "cell_type": "code",
      "source": [
        "module NR_mod\n",
        "\n",
        "  implicit none\n",
        "  save\n",
        "\n",
        "  real :: a,b,c,x,x0,x1,y0,y1\n",
        "\n",
        "  contains\n",
        "\n",
        "  real function pol_1(a,b,c,x) !.............................function _1\n",
        "\n",
        "  implicit none\n",
        "  real,intent(in) :: a,b,c,x\n",
        "\n",
        "  pol_1=a*(x**2)+(b*x)+c\n",
        "\n",
        "  end function pol_1\n",
        "\n",
        "  real function pol_2(a,b,x)\n",
        "\n",
        "    implicit none\n",
        "\n",
        "    real,intent(in) :: a,b,x\n",
        "\n",
        "    pol_2= (2*x*a)+b\n",
        "\n",
        "  end function pol_2\n",
        "\n",
        "\n",
        "end module NR_mod"
      ],
      "metadata": {
        "id": "AAWMamEN79ed"
      },
      "execution_count": null,
      "outputs": []
    },
    {
      "cell_type": "markdown",
      "source": [
        "Main Program"
      ],
      "metadata": {
        "id": "xim5ZPOc8G7z"
      }
    },
    {
      "cell_type": "code",
      "source": [
        "program Newton_Raphson\n",
        "\n",
        "  use NR_mod\n",
        "  implicit none\n",
        "\n",
        "  real,parameter :: lim=0.0000001\n",
        "  integer :: nval=0\n",
        "\n",
        "  print*,\"Enter the value of coefficents a,b,c\"\n",
        "  read(*,*) a,b,c\n",
        "\n",
        "  print*,\"Enter the value  of x\"\n",
        "  read(*,*) x0\n",
        "\n",
        "  do\n",
        "\n",
        "  x=x0\n",
        "\n",
        "  y0=pol_1(a,b,c,x)\n",
        "\n",
        "  if ((y0-0) < lim) exit\n",
        "\n",
        "  y1=pol_2(a,b,x)\n",
        "\n",
        "  x1=x0-(y0/y1)\n",
        "\n",
        "  x0=x1\n",
        "\n",
        "  nval= nval+1\n",
        "\n",
        "  end do\n",
        "\n",
        "  print*,\"root of the function = \",x0\n",
        "  print*,\"Number of  iterations = \",nval\n",
        "\n",
        "end program Newton_Raphson"
      ],
      "metadata": {
        "id": "w6jb94XG8J_U"
      },
      "execution_count": null,
      "outputs": []
    },
    {
      "cell_type": "markdown",
      "source": [
        "# Gauss Elimination method"
      ],
      "metadata": {
        "id": "dwUOO465AfmN"
      }
    },
    {
      "cell_type": "markdown",
      "source": [
        "## Triagularization of Matrix"
      ],
      "metadata": {
        "id": "7hsp5X4zAnT4"
      }
    },
    {
      "cell_type": "code",
      "source": [
        "program GE\n",
        "\n",
        " implicit none\n",
        " integer,parameter :: n=3  ! don't  forget to change  format 103\n",
        "\n",
        " real,dimension(n,(n+1)) :: a\n",
        " integer :: i,j,k\n",
        " real :: u\n",
        "\n",
        " read_1:do i=1,n ! row\n",
        " read_2:do j=1,n+1 ! Column\n",
        "\n",
        " write(*,101)\"Enter a(\",i,j,\")\"\n",
        " 101 format(A,2I1,A)\n",
        " read(*,*)a(i,j)\n",
        "\n",
        " end do read_2\n",
        " end do read_1\n",
        "\n",
        " write(*,102)transpose(a)\n",
        " 102 format(4(f5.2,x))\n",
        "\n",
        "\n",
        "\n",
        " column:do k=1,n-1  ! No.of rows minus  one\n",
        " row:do i=k+1,n  ! no. of rows\n",
        "\n",
        " u= a(i,k)/a(k,k)\n",
        " element:do j=k,n+1 ! Total no. of columns\n",
        "\n",
        "  a(i,j)= a(i,j)-(u*a(k,j))\n",
        "\n",
        "  print*,\"==============================\"\n",
        " write(*,103)transpose(a)\n",
        "\n",
        " end do element\n",
        " end do row\n",
        "\n",
        " end do column\n",
        "\n",
        " 103 format(4(f7.3,x))\n",
        "\n",
        "\n",
        "\n",
        "end program GE"
      ],
      "metadata": {
        "id": "flAKEZcjAlJI"
      },
      "execution_count": null,
      "outputs": []
    },
    {
      "cell_type": "markdown",
      "source": [
        "## check"
      ],
      "metadata": {
        "id": "H3YmE2HaNQiu"
      }
    },
    {
      "cell_type": "code",
      "source": [
        "program GE\n",
        "\n",
        " implicit none\n",
        " integer,parameter :: n=3  ! don't  forget to change  format 103\n",
        "\n",
        " real,dimension(n,(n+1)) :: a\n",
        " integer :: i,j,k\n",
        " real :: u\n",
        "\n",
        " read_1:do i=1,n ! row\n",
        " read_2:do j=1,n+1 ! Column\n",
        "\n",
        " write(*,101)\"Enter a(\",i,j,\")\"\n",
        " 101 format(A,2I1,A)\n",
        " read(*,*)a(i,j)\n",
        "\n",
        " end do read_2\n",
        " end do read_1\n",
        "\n",
        " write(*,102)transpose(a)\n",
        " 102 format(4(f5.2,x))\n",
        "\n",
        "\n",
        "\n",
        " column:do k=1,n-1  ! No.of rows minus  one\n",
        " row:do i=k+1,n  ! no. of rows\n",
        "\n",
        " u= a(i,k)/a(k,k)\n",
        " element:do j=k,n+1 ! Total no. of columns\n",
        "\n",
        "  a(i,j)= a(i,j)-(u*a(k,j))\n",
        "\n",
        "  print*,\"==============================\"\n",
        " write(*,103)transpose(a)\n",
        "\n",
        " end do element\n",
        " end do row\n",
        "\n",
        " end do column\n",
        "\n",
        " 103 format(4(f7.3,x))\n",
        "\n",
        "\n",
        " rcolumn: do k=n-1,1,-1\n",
        " rrow:do i=k-1,1,-1\n",
        " u=a(i,k)/a(k,k)\n",
        " relement: do j=1,k\n",
        " a(i,j)=a(i,j)-u*a(j,k)\n",
        " print*,\"=====================================\"\n",
        "  write(*,103)transpose(a)\n",
        "\n",
        " end do relement\n",
        " end do rrow\n",
        " end do rcolumn\n",
        " print*,\"=====================================\"\n",
        "  write(*,103)transpose(a)\n",
        "\n",
        "\n",
        "\n",
        "end program GE"
      ],
      "metadata": {
        "id": "0Y0EI3ceNO8D"
      },
      "execution_count": null,
      "outputs": []
    },
    {
      "cell_type": "markdown",
      "source": [
        "## Diagonalization of Matrix"
      ],
      "metadata": {
        "id": "ba_I2zHkIpYx"
      }
    },
    {
      "cell_type": "code",
      "source": [
        "program GE\n",
        "\n",
        " implicit none\n",
        " integer,parameter :: n=3  ! don't  forget to change  format 103 and 102\n",
        "\n",
        " real,dimension(n,(n+1)) :: a\n",
        " integer :: i,j,k\n",
        " real :: u\n",
        "\n",
        " read_1:do i=1,n ! row\n",
        " read_2:do j=1,n+1 ! Column\n",
        "\n",
        " write(*,101)\"Enter a(\",i,j,\")\"\n",
        " 101 format(A,2I1,A)\n",
        " read(*,*)a(i,j)\n",
        "\n",
        " end do read_2\n",
        " end do read_1\n",
        "\n",
        " write(*,102)transpose(a)\n",
        " 102 format(4(f5.2,x)) !...................................format 102\n",
        "\n",
        "\n",
        "\n",
        " column:do k=1,n-1  ! No.of rows minus  one\n",
        " row:do i=k+1,n  ! no. of rows\n",
        "\n",
        " u= a(i,k)/a(k,k)\n",
        " element:do j=k,n+1 ! Total no. of columns\n",
        "\n",
        "  a(i,j)= a(i,j)-(u*a(k,j))\n",
        "\n",
        "  print*,\"==============================\"\n",
        " write(*,103)transpose(a)\n",
        "\n",
        " end do element\n",
        " end do row\n",
        "\n",
        " end do column\n",
        "\n",
        " 103 format(4(f7.3,x)) !...................................format 103\n",
        "\n",
        " print*,\"*******************************\"\n",
        "\n",
        " rcolumn:do k=n,2,-1\n",
        " rrow:do  i=k-1,1,-1\n",
        " u=a(i,k)/a(k,k)\n",
        " relement : do j=k+1,1,-1\n",
        "\n",
        " a(i,j)=a(i,j)-(u*a(k,j))\n",
        "\n",
        " print*,\"********************************\"\n",
        " write(*,103)transpose(a)\n",
        "\n",
        " end do relement\n",
        " end do rrow\n",
        " end do rcolumn\n",
        "\n",
        "\n",
        "\n",
        "end program GE"
      ],
      "metadata": {
        "id": "RU01FW-wIs-b"
      },
      "execution_count": null,
      "outputs": []
    },
    {
      "cell_type": "markdown",
      "source": [
        "## Solution of equation"
      ],
      "metadata": {
        "id": "N-qRPRGOMlcQ"
      }
    },
    {
      "cell_type": "code",
      "source": [
        "program GE\n",
        "\n",
        " implicit none\n",
        " integer,parameter :: n=2  ! don't  forget to change  format 103 and 102\n",
        "\n",
        " real,dimension(n,(n+1)) :: a\n",
        " integer :: i,j,k\n",
        " real :: u\n",
        "\n",
        " read_1:do i=1,n ! row\n",
        " read_2:do j=1,n+1 ! Column\n",
        "\n",
        " write(*,101)\"Enter a(\",i,j,\")\"\n",
        " 101 format(A,2I1,A)\n",
        " read(*,*)a(i,j)\n",
        "\n",
        " end do read_2\n",
        " end do read_1\n",
        "\n",
        " write(*,102)transpose(a)\n",
        " 102 format(3(f5.2,x)) !................................format 102 :(n+1)\n",
        "\n",
        "\n",
        "\n",
        " column:do k=1,n-1  ! No.of rows minus  one\n",
        " row:do i=k+1,n  ! no. of rows\n",
        "\n",
        " u= a(i,k)/a(k,k)\n",
        " element:do j=k,n+1 ! Total no. of columns\n",
        "\n",
        "  a(i,j)= a(i,j)-(u*a(k,j))\n",
        "\n",
        "  print*,\"==============================\"\n",
        " write(*,103)transpose(a)\n",
        "\n",
        " end do element\n",
        " end do row\n",
        "\n",
        " end do column\n",
        "\n",
        " 103 format(3(f7.3,x)) !...............................format 103 :(n+1)\n",
        "\n",
        " print*,\"*******************************\"\n",
        "\n",
        " rcolumn:do k=n,2,-1\n",
        " rrow:do  i=k-1,1,-1\n",
        " u=a(i,k)/a(k,k)\n",
        " relement : do j=k+1,1,-1\n",
        "\n",
        " a(i,j)=a(i,j)-(u*a(k,j))\n",
        "\n",
        " print*,\"********************************\"\n",
        " write(*,103)transpose(a)\n",
        "\n",
        " end do relement\n",
        " end do rrow\n",
        " end do rcolumn\n",
        "\n",
        " !********************Solution*********************************\n",
        "\n",
        " solution: do i=1,n\n",
        "\n",
        " a(i,i) = a(i,(n+1))/a(i,i)\n",
        " print*,\"solution a(\",i,\") = \",a(i,i)\n",
        " end do solution\n",
        "\n",
        "\n",
        "end program GE"
      ],
      "metadata": {
        "id": "pBPzKtbvMqR-"
      },
      "execution_count": null,
      "outputs": []
    },
    {
      "cell_type": "markdown",
      "source": [
        "# Polynomial Equation"
      ],
      "metadata": {
        "id": "geKqyq6UHeQj"
      }
    },
    {
      "cell_type": "code",
      "source": [
        "program polynomial\n",
        "\n",
        "      implicit none\n",
        "\n",
        "      integer,parameter :: n=3\n",
        "      real,dimension(0:n) :: a\n",
        "      real :: x,c\n",
        "      integer ::i\n",
        "\n",
        "      print*,\"Enter the value of x\"\n",
        "      read(*,*)x\n",
        "\n",
        "      coefficent:do i=0,n !........................................coefficent\n",
        "\n",
        "      print*,\"give the coefficent a\",i\n",
        "      read(*,*)a(i)\n",
        "\n",
        "      end do coefficent\n",
        "\n",
        "      c=a(3)\n",
        "\n",
        "      polynomial_1 :do i=n,1,-1 !.................................Polynomial\n",
        "\n",
        "      c=a(n-1)+(x*c)\n",
        "\n",
        "      end do polynomial_1\n",
        "\n",
        "      print*,\"The value of polynomial = \",c\n",
        "\n",
        "      end program polynomial"
      ],
      "metadata": {
        "id": "WBtQrSidHkFK"
      },
      "execution_count": null,
      "outputs": []
    },
    {
      "cell_type": "markdown",
      "source": [
        "# Lagrangian Interpolation"
      ],
      "metadata": {
        "id": "73T2Y1K0-Yhq"
      }
    },
    {
      "cell_type": "markdown",
      "source": [
        "## Code with inbuilt n"
      ],
      "metadata": {
        "id": "2ZSU6oo1_JFx"
      }
    },
    {
      "cell_type": "code",
      "source": [
        "program Lag_Int\n",
        "\n",
        "      implicit none\n",
        "\n",
        "      integer,parameter::n=4\n",
        "      real,dimension(n) :: y,x\n",
        "      real :: a\n",
        "      integer :: i,j\n",
        "      real:: p=1,s=0\n",
        "\n",
        "      print*,\"y =f(x)\"\n",
        "\n",
        "      get_value:do i=1,n !..................................get_value\n",
        "      print*,\"Enter x\",i,\"y\",i\n",
        "      read(*,*)x(i),y(i)\n",
        "      end do get_value\n",
        "\n",
        "      print*,\"Give the value of x for which y has to be calculate\"\n",
        "      read(*,*)a\n",
        "\n",
        "      calculation: do i=1,3 !...............................Calculation\n",
        "      product_1:do j=1,3\n",
        "      if(j==i)cycle\n",
        "      p=p*((a-x(j))/(x(i)-x(j)))\n",
        "      end do product_1\n",
        "      s=s+(y(i)*p)\n",
        "      p=1 !..................................................Important\n",
        "      !After every iteration of loop i the value of p should be updated\n",
        "      !back to 1\n",
        "      end do calculation\n",
        "\n",
        "      print*,\"The y value of \",a,\" = \",s\n",
        "\n",
        "      end program Lag_Int"
      ],
      "metadata": {
        "id": "HsQlExFk-dOe"
      },
      "execution_count": null,
      "outputs": []
    },
    {
      "cell_type": "markdown",
      "source": [
        "## Code with n input by user"
      ],
      "metadata": {
        "id": "yTn500_m1hYk"
      }
    },
    {
      "cell_type": "markdown",
      "source": [
        "# Pivoting Matrix"
      ],
      "metadata": {
        "id": "KSwMqwKHIegz"
      }
    },
    {
      "cell_type": "code",
      "source": [
        "program pivoting\n",
        "\n",
        "      implicit none\n",
        "\n",
        "      real,allocatable,dimension(:,:) :: a\n",
        "      real :: temp\n",
        "      integer :: i,n,k,astat,dstat\n",
        "      integer :: b\n",
        "      integer :: ipointer  !..........................................pointer\n",
        "      integer :: nval=0\n",
        "\n",
        "      print*,\"CHANGE THE VALUE OF N IN THE FORAMT ALSO\"\n",
        "      print*,\"Enter the value of n\"\n",
        "      read(*,*) n\n",
        "\n",
        "      allocate(a(n,n),stat=astat)\n",
        "      if (astat == 0) print*,\"a is allocated\"\n",
        "\n",
        "      get_outer:do i=1,n !...............................get value  loop\n",
        "      get_inner:do k=1,n\n",
        "      print*,\"enter a(\",i,k,\")\"\n",
        "      read(*,*)a(i,k)\n",
        "      end do get_inner\n",
        "      end do get_outer\n",
        "\n",
        "     write(*,101)transpose(a)\n",
        "\n",
        "      check_outer: do i=1,n-1 !.............................check_outer\n",
        "      ipointer=i\n",
        "       swap_l: do k=i,n !............................change of pointer\n",
        "\n",
        "       swap_if: if (a(ipointer,ipointer)<a(k,i))then\n",
        "\n",
        "               ipointer = k\n",
        "\n",
        "       end if swap_if\n",
        "\n",
        "\n",
        "       end do swap_l\n",
        "\n",
        "\n",
        "       swap_l2 : if (ipointer /= i) then\n",
        "\n",
        "              exchange: do b=1,n !............swaping of elements of matrix\n",
        "\n",
        "              temp=a(i,b)\n",
        "              a(i,b)=a(ipointer,b)\n",
        "              a(ipointer,b)=temp\n",
        "\n",
        "               end do exchange\n",
        "\n",
        "       end if swap_l2\n",
        "\n",
        "      end do check_outer\n",
        "\n",
        "      print*,\"====================\"\n",
        "      print*,\"====================\"\n",
        "\n",
        "     write(*,101)transpose(a)\n",
        "     101 format(3(f6.2,x)) !...................................change n value\n",
        "\n",
        "\n",
        "     deallocate(a,stat=dstat)\n",
        "      if (dstat == 0) print*,\"a is deallocated\"\n",
        "\n",
        "      end program pivoting\n"
      ],
      "metadata": {
        "id": "eJ3RAWoMIiZk"
      },
      "execution_count": null,
      "outputs": []
    },
    {
      "cell_type": "markdown",
      "source": [
        "Main Program"
      ],
      "metadata": {
        "id": "Cg9WgBVV1lKW"
      }
    },
    {
      "cell_type": "code",
      "source": [
        "program Lag_Inter_u\n",
        "\n",
        "      use Lag_Inter_M\n",
        "      implicit none\n",
        "\n",
        "      print*,\"Enter the value of n\"\n",
        "      read(*,*)n\n",
        "\n",
        "      call cal_s()\n",
        "\n",
        "      end program Lag_Inter_u"
      ],
      "metadata": {
        "id": "adVeOR7W2AKt"
      },
      "execution_count": null,
      "outputs": []
    },
    {
      "cell_type": "markdown",
      "source": [
        "Module"
      ],
      "metadata": {
        "id": "yXYQZObD2IVq"
      }
    },
    {
      "cell_type": "code",
      "source": [
        "module Lag_Inter_M\n",
        "\n",
        "      implicit none\n",
        "      save\n",
        "\n",
        "      integer:: n\n",
        "\n",
        "      contains\n",
        "\n",
        "              subroutine cal_s()\n",
        "\n",
        "              implicit none\n",
        "\n",
        "\n",
        "\n",
        "      real,dimension(n) :: y,x\n",
        "      real :: a\n",
        "      integer :: i,j\n",
        "      real:: p=1,s=0\n",
        "\n",
        "      print*,\"y =f(x)\"\n",
        "\n",
        "      get_value:do i=1,n !..................................get_value\n",
        "      print*,\"Enter x\",i,\"y\",i\n",
        "      read(*,*)x(i),y(i)\n",
        "      end do get_value\n",
        "\n",
        "      print*,\"Give the value of x for which y has to be calculate\"\n",
        "      read(*,*)a\n",
        "\n",
        "      calculation: do i=1,n !...............................Calculation\n",
        "      product_1:do j=1,n\n",
        "      if(j==i)cycle\n",
        "      p=p*((a-x(j))/(x(i)-x(j)))\n",
        "      end do product_1\n",
        "      s=s+(y(i)*p)\n",
        "      p=1 !..................................................Important\n",
        "      !After every iteration of loop i the value of p should be updated\n",
        "      !back to 1\n",
        "      end do calculation\n",
        "\n",
        "      print*,\"The y value of \",a,\" = \",s\n",
        "\n",
        "\n",
        "                      end subroutine cal_s\n",
        "\n",
        "                      end module Lag_Inter_M"
      ],
      "metadata": {
        "id": "uiGEOdDi2J6t"
      },
      "execution_count": null,
      "outputs": []
    },
    {
      "cell_type": "markdown",
      "source": [
        "# Gauss Seidel Method"
      ],
      "metadata": {
        "id": "pmN2OGOCGzsY"
      }
    },
    {
      "cell_type": "markdown",
      "source": [
        "## GS 1"
      ],
      "metadata": {
        "id": "bfzXcjGZIY4t"
      }
    },
    {
      "cell_type": "code",
      "source": [
        "program GS1\n",
        "\n",
        "      implicit none\n",
        "\n",
        "      real,allocatable,dimension(:,:) :: a\n",
        "      real,allocatable,dimension(:) :: x,y\n",
        "      real,parameter :: err= 0.0001\n",
        "      integer :: i=0,j=0,n,k\n",
        "      real:: u,w,c  ! c : to store the summation value\n",
        "      real :: temp\n",
        "      integer :: astat_1,astat_2,dstat_1,dstat_2,astat_3,dstat_3\n",
        "      integer :: nval = 0\n",
        "\n",
        "      print*,\"Enter the total number of variables to be determined\"\n",
        "      read(*,*)n\n",
        "\n",
        "      allocate(a(n,n+1),stat=astat_1)\n",
        "      allocate(x(n),stat=astat_2)\n",
        "     ! allocate(y(n),stat=astat_3)\n",
        "\n",
        "      if(astat_1==0)print*,\" a is allocated\"\n",
        "      if(astat_2==0)print*,\"x is allocated\"\n",
        "\n",
        "      get_outer:do i=1,n\n",
        "      get_inner:do j=1,n+1\n",
        "      print*,\"Enter the value of a(\",i,j,\")\"\n",
        "      read(*,*)a(i,j)\n",
        "      end do get_inner\n",
        "      end do get_outer\n",
        "\n",
        "     calculation: do k=1,100 !.....................calculation\n",
        "      outer:do i=1,n\n",
        "      !u=a(i,n+1)\n",
        "      !w=a(i,i)\n",
        "      c = 0\n",
        "      inner: do j=1,n\n",
        "      if(i==j)cycle\n",
        "      c=c + (a(i,j)*x(j))\n",
        "      end do inner\n",
        "      temp = (a(i,n+1) - c)/a(i,i)\n",
        "     if(abs(x(i)-temp) < err)exit calculation\n",
        "     print*,\"exit stat =\",abs(x(i)-temp)\n",
        "      x(i)=temp\n",
        "      print*,\"x(\",i,\") =\",x(i)\n",
        "      103 format(A,x,I0,x,A,f9.5)\n",
        "      end do outer\n",
        "      nval=nval+1\n",
        "      print*,\"loop no.\",nval\n",
        "     end do calculation !............................calculation\n",
        "\n",
        "      write(*,101)x\n",
        "      101 format (\"The value is \",f9.5)\n",
        "\n",
        "\n",
        "      deallocate(a,stat=dstat_1)\n",
        "      deallocate(x,stat=dstat_2)\n",
        "      !deallocate(y,stat=dstat_3)\n",
        "\n",
        "      if(dstat_1==0)print*,\" a is deallocated\"\n",
        "      if(dstat_2==0)print*,\"x is deallocated\"\n",
        "\n",
        "\n",
        "      end program GS1\n",
        "\n",
        "\n"
      ],
      "metadata": {
        "id": "pj57I7z6G4vn"
      },
      "execution_count": null,
      "outputs": []
    },
    {
      "cell_type": "markdown",
      "source": [
        "# To check the time to run the program"
      ],
      "metadata": {
        "id": "dpGBx5wCiAMk"
      }
    },
    {
      "cell_type": "markdown",
      "source": [
        " This can be done by using the command\n",
        "\n",
        "real:: start,stop\n",
        " call cpu_time(start)\n",
        "\n",
        " call cpu_time(stop)\n",
        "\n",
        "\n",
        " time = stop - starat"
      ],
      "metadata": {
        "id": "ACn0ABYkiIJE"
      }
    },
    {
      "cell_type": "code",
      "source": [
        "program GE\n",
        "\n",
        " implicit none\n",
        " integer,parameter :: n=3  ! don't  forget to change  format 103 and 102\n",
        " real,dimension(n,(n+1)) :: a\n",
        " integer :: i,j,k\n",
        " real :: u\n",
        " real :: cpu_st,cpu_et\n",
        "\n",
        " read_1:do i=1,n ! row\n",
        " read_2:do j=1,n+1 ! Column\n",
        "\n",
        " write(*,101)\"Enter a(\",i,j,\")\"\n",
        " 101 format(A,2I1,A)\n",
        " read(*,*)a(i,j)\n",
        "\n",
        " end do read_2\n",
        " end do read_1\n",
        "\n",
        " write(*,102)transpose(a)\n",
        " 102 format(4(f5.2,x)) !................................format 102 :(n+1)\n",
        "\n",
        " call cpu_time(cpu_st)!.......................................CPU Time\n",
        "\n",
        " column:do k=1,n-1  ! No.of rows minus  one\n",
        " row:do i=k+1,n  ! no. of rows\n",
        "\n",
        " u= a(i,k)/a(k,k)\n",
        " element:do j=k,n+1 ! Total no. of columns\n",
        "\n",
        "  a(i,j)= a(i,j)-(u*a(k,j))\n",
        "\n",
        "  print*,\"==============================\"\n",
        " write(*,103)transpose(a)\n",
        "\n",
        " end do element\n",
        " end do row\n",
        "\n",
        " end do column\n",
        "\n",
        " 103 format(4(f7.3,x)) !...............................format 103 :(n+1)\n",
        "\n",
        " print*,\"*******************************\"\n",
        "\n",
        " rcolumn:do k=n,2,-1\n",
        " rrow:do  i=k-1,1,-1\n",
        " u=a(i,k)/a(k,k)\n",
        " relement : do j=k+1,1,-1\n",
        "\n",
        " a(i,j)=a(i,j)-(u*a(k,j))\n",
        "\n",
        " print*,\"********************************\"\n",
        " write(*,103)transpose(a)\n",
        "\n",
        " end do relement\n",
        " end do rrow\n",
        " end do rcolumn\n",
        "\n",
        " !********************Solution*********************************\n",
        "\n",
        " solution: do i=1,n\n",
        "\n",
        " a(i,i) = a(i,(n+1))/a(i,i)\n",
        " print*,\"solution a(\",i,\") = \",a(i,i)\n",
        " end do solution\n",
        "\n",
        " call cpu_time(cpu_et) !........................................CPU stop time\n",
        "\n",
        " print*,\"The time taken for running the program =\",cpu_et - cpu_st\n",
        "\n",
        "end program GE"
      ],
      "metadata": {
        "id": "FegYrSIPiZco"
      },
      "execution_count": null,
      "outputs": []
    },
    {
      "cell_type": "markdown",
      "source": [
        "# Rough"
      ],
      "metadata": {
        "id": "GmJ463Pak6cK"
      }
    },
    {
      "cell_type": "markdown",
      "source": [
        "## Pivoting"
      ],
      "metadata": {
        "id": "CLalv1Jek9dC"
      }
    },
    {
      "cell_type": "code",
      "source": [
        "program pivoting\n",
        "\n",
        "      implicit none\n",
        "\n",
        "      real,allocatable,dimension(:,:) :: a\n",
        "      integer :: i,j,n,k,astat,dstat\n",
        "      integer :: ipointer  !..........................................pointer\n",
        "      integer :: nval=0\n",
        "\n",
        "      print*,\"Enter the value of n\"\n",
        "      read(*,*) n\n",
        "\n",
        "      allocate(a(n,n),stat=astat)\n",
        "      if (astat == 0) print*,\"a is allocated\"\n",
        "\n",
        "      get_outer:do i=1,n !...............................get value  loop\n",
        "      get_inner:do j=1,n\n",
        "      print*,\"enter a(\",i,j,\")\"\n",
        "      read(*,*)a(i,j)\n",
        "      end do get_inner\n",
        "      end do get_outer\n",
        "\n",
        "      check_outer: do i=1,n\n",
        "      ipointer=i\n",
        "      check_inner: do j=1,n\n",
        "\n",
        "      !nval=nval+1\n",
        "\n",
        "       if(i==j)cycle check_inner\n",
        "       if(a(i,i)>=a(i,j))cycle check_inner\n",
        "       swap_l: do k=i+1,n\n",
        "\n",
        "       swap_if: if (a(ipointer,ipointer)<a(k,k))then\n",
        "\n",
        "               print*,\"ipointer =\",k\n",
        "               ipointer = k\n",
        "\n",
        "       end if swap_if\n",
        "\n",
        "       end do swap_l\n",
        "\n",
        "      end do check_inner\n",
        "      end do check_outer\n",
        "\n",
        "\n",
        "     deallocate(a,stat=dstat)\n",
        "      if (dstat == 0) print*,\"a is deallocated\"\n",
        "\n",
        "      end program pivoting\n"
      ],
      "metadata": {
        "id": "fWp42SZslEV4"
      },
      "execution_count": null,
      "outputs": []
    },
    {
      "cell_type": "markdown",
      "source": [
        "## Pivoting Updated (with error)"
      ],
      "metadata": {
        "id": "aZlcRy_zzpDW"
      }
    },
    {
      "cell_type": "code",
      "source": [
        "program pivoting\n",
        "\n",
        "      implicit none\n",
        "\n",
        "      real,allocatable,dimension(:,:) :: a\n",
        "      real :: temp\n",
        "      integer :: i,j,n,k,astat,dstat\n",
        "      integer :: b\n",
        "      integer :: ipointer  !..........................................pointer\n",
        "      integer :: nval=0\n",
        "\n",
        "      print*,\"CHANGE THE VALUE OF N IN THE FORAMAT ALSO\"\n",
        "      print*,\"Enter the value of n\"\n",
        "      read(*,*) n\n",
        "\n",
        "      allocate(a(n,n),stat=astat)\n",
        "      if (astat == 0) print*,\"a is allocated\"\n",
        "\n",
        "      get_outer:do i=1,n !...............................get value  loop\n",
        "      get_inner:do j=1,n\n",
        "      print*,\"enter a(\",i,j,\")\"\n",
        "      read(*,*)a(i,j)\n",
        "      end do get_inner\n",
        "      end do get_outer\n",
        "\n",
        "     write(*,101)transpose(a)\n",
        "\n",
        "      check_outer: do i=1,n-1 !.............................check_outer\n",
        "      ipointer=i\n",
        "      check_inner: do j=1,n !.............................check_inner\n",
        "\n",
        "      !nval=nval+1\n",
        "\n",
        "       if(i==j)cycle check_inner\n",
        "       if(a(i,i)>=a(i,j))cycle check_inner\n",
        "       swap_l: do k=i+1,n !............................change of pointer\n",
        "\n",
        "       swap_if: if (a(ipointer,ipointer)<a(i,k))then\n",
        "\n",
        "               ipointer = k\n",
        "\n",
        "       end if swap_if\n",
        "\n",
        "       end do swap_l\n",
        "\n",
        "\n",
        "       swap_l2 : if (ipointer /= i) then\n",
        "\n",
        "              exchange: do b=1,n !............swaping of elements of matrix\n",
        "\n",
        "              temp=a(i,b)\n",
        "              a(i,b)=a(ipointer,b)\n",
        "              a(ipointer,b)=temp\n",
        "\n",
        "               end do exchange\n",
        "\n",
        "       end if swap_l2\n",
        "\n",
        "      end do check_inner\n",
        "      end do check_outer\n",
        "\n",
        "      print*,\"====================\"\n",
        "      print*,\"====================\"\n",
        "\n",
        "     write(*,101)transpose(a)\n",
        "     101 format(3(f6.2,x)) !...................................change n value\n",
        "\n",
        "\n",
        "     deallocate(a,stat=dstat)\n",
        "      if (dstat == 0) print*,\"a is deallocated\"\n",
        "\n",
        "      end program pivoting\n"
      ],
      "metadata": {
        "id": "UWJ3jC6SzuFS"
      },
      "execution_count": null,
      "outputs": []
    },
    {
      "cell_type": "markdown",
      "source": [
        "# Integration"
      ],
      "metadata": {
        "id": "dV36nv8tO1PS"
      }
    },
    {
      "cell_type": "markdown",
      "source": [
        "## Trapizoidal Method"
      ],
      "metadata": {
        "id": "IL8TuRpibq-H"
      }
    },
    {
      "cell_type": "code",
      "source": [
        "program intg_x2\n",
        "\n",
        "        implicit none\n",
        "\n",
        "        real :: x,h,a,b,n,y1,y2\n",
        "        integer :: i=0\n",
        "\n",
        "\n",
        "       print*,\"Enter the value of Initial Point\"\n",
        "       read(*,*) a\n",
        "\n",
        "       print*,\"Enter the value of Final Point\"\n",
        "       read(*,*) b\n",
        "\n",
        "       print*,\"Give the no. of  divisions required (n)\"\n",
        "       read(*,*) n\n",
        "\n",
        "       h = (b - a)/n\n",
        "\n",
        "       x=0\n",
        "\n",
        "\n",
        "       do\n",
        "\n",
        "         i= i+1\n",
        "\n",
        "         if (i>n)exit\n",
        "\n",
        "         y1 = a**2\n",
        "         y2 = (a+h)**2\n",
        "\n",
        "         x = x + (h*(y1+y2))/2.0\n",
        "\n",
        "         a = a+h\n",
        "\n",
        "       end do\n",
        "\n",
        "       write(*,*)\"The integrated value  =\",x\n",
        "\n",
        "       end program intg_x2\n",
        "\n"
      ],
      "metadata": {
        "id": "0QHp-SfiO5-u"
      },
      "execution_count": null,
      "outputs": []
    },
    {
      "cell_type": "markdown",
      "source": [
        "## Simpson Method"
      ],
      "metadata": {
        "id": "-PrhY_eCppaR"
      }
    },
    {
      "cell_type": "markdown",
      "source": [
        "Main Program"
      ],
      "metadata": {
        "id": "rCWKOThcpu3l"
      }
    },
    {
      "cell_type": "code",
      "source": [
        "program simpson\n",
        "\n",
        "        use simp\n",
        "        implicit none\n",
        "\n",
        "        print*,\"Enter the value of intial Limit\"\n",
        "        read(*,*) x(1)\n",
        "\n",
        "        print*,\"Enter the value of final limit\"\n",
        "        read(*,*) x(2)\n",
        "\n",
        "        print*,\"The number of rectangles required\"\n",
        "        read(*,*)n\n",
        "\n",
        "        h= (x(2)-x(1))/real(n)\n",
        "\n",
        "        cal_loop:do i=1,n-1\n",
        "\n",
        "        x(2)=x(1)+h\n",
        "        x(3)=x(1)+(2*h)\n",
        "\n",
        "        Y_loop: do j=1,3\n",
        "        y(j)=poly(x(j))\n",
        "\n",
        "     !   print*,\"x(\",j,\")\",x(j)\n",
        "     !  print*,\"y(\",j,\")\",y(j)\n",
        "        end do Y_loop\n",
        "\n",
        "        cal_val= cal_val + ((y(1)+(4*y(2))+y(3))*h)/6.0\n",
        "\n",
        "     !  print*,i, \":\", cal_val\n",
        "\n",
        "        x(1) = x(1) + h\n",
        "\n",
        "        end do cal_loop\n",
        "\n",
        "        print*,\"The Final Result =\",cal_val\n",
        "\n",
        "\n",
        "\n",
        "        end program simpson"
      ],
      "metadata": {
        "id": "rdHM4RZwpwsP"
      },
      "execution_count": null,
      "outputs": []
    },
    {
      "cell_type": "markdown",
      "source": [
        "Function Module"
      ],
      "metadata": {
        "id": "OrroRunBp6UZ"
      }
    },
    {
      "cell_type": "code",
      "source": [
        "      module simp\n",
        "\n",
        "      implicit none\n",
        "      save\n",
        "\n",
        "      real,dimension(3) :: x,y\n",
        "      integer :: i,j,n\n",
        "      real :: h, cal_val=0 ! Step size\n",
        "\n",
        "      contains\n",
        "\n",
        "              real function poly(x)\n",
        "\n",
        "                      implicit none\n",
        "                      real,intent(in) :: x\n",
        "\n",
        "                      poly=x**2\n",
        "\n",
        "\n",
        "\n",
        "                      end function poly\n",
        "\n",
        "\n",
        "      end module simp"
      ],
      "metadata": {
        "id": "OYJXUP62p_JS"
      },
      "execution_count": null,
      "outputs": []
    },
    {
      "cell_type": "markdown",
      "source": [
        "# Differentiation"
      ],
      "metadata": {
        "id": "CBAxwZRqWMp_"
      }
    },
    {
      "cell_type": "markdown",
      "source": [
        "## Euler"
      ],
      "metadata": {
        "id": "4JtFgwFYWPGG"
      }
    },
    {
      "cell_type": "markdown",
      "source": [
        "$y_{n+1}=y_n+hf(x_n,y_n)$\n",
        "\n",
        "The Function f = $\\frac{dy}{dx} = x^2 + y^2$"
      ],
      "metadata": {
        "id": "S4_5zeuSWQWj"
      }
    },
    {
      "cell_type": "code",
      "source": [
        "program Euler\n",
        "\n",
        "      implicit none\n",
        "\n",
        "      real :: h,y,y1,f,x,x1,xn\n",
        "\n",
        "\n",
        "      print*,\"Enter the value of x0\"\n",
        "      read(*,*) x\n",
        "\n",
        "      print*, \"Enter the value of y0\"\n",
        "      read(*,*) y\n",
        "\n",
        "      print*,\"Enter the value of point to obtain the solution\"\n",
        "      read(*,*) xn\n",
        "\n",
        "      print*,\"Enter the step size\"\n",
        "      read(*,*) h\n",
        "\n",
        "      do\n",
        "\n",
        "      f=(x**2+y**2)\n",
        "\n",
        "      y1=y+(h*f)\n",
        "      x1=x+h\n",
        "\n",
        "      print*,\"Y(x) :\",y1\n",
        "      print*, \"x :\",x1\n",
        "\n",
        "      y=y1\n",
        "      x=x1\n",
        "\n",
        "      if (x>=xn) exit\n",
        "\n",
        "\n",
        "      end do\n",
        "\n",
        "      print*,\"The value of x\",x\n",
        "      print*,\"The value of y\",y\n",
        "\n",
        "      end program Euler"
      ],
      "metadata": {
        "id": "pRvS7hTDWa7l"
      },
      "execution_count": null,
      "outputs": []
    },
    {
      "cell_type": "markdown",
      "source": [
        "## Modified Euler"
      ],
      "metadata": {
        "id": "H2v4fNUqLhMz"
      }
    },
    {
      "cell_type": "markdown",
      "source": [
        "$y_{i+1}^{(0)} = y_i = hf(x_i,y_i) $\n",
        "\n",
        "$y^{(k+1)}_{i+1}=y_i + \\frac{h}{2}[f(x_i,y_i) + f(x_{i+1},y_{i+1}^{(k)})]$\n",
        "\n",
        "$k = 0,1,2,...;  i=0,1,2,.....$\n",
        "\n"
      ],
      "metadata": {
        "id": "odG-dGKwORv3"
      }
    },
    {
      "cell_type": "code",
      "source": [
        "program Modified_Euler\n",
        "\n",
        "        implicit none\n",
        "\n",
        "        real :: y0,y1,x0,x1,f0,f1,h,xn,y\n",
        "        real,parameter :: e  = 0.0001\n",
        "\n",
        "        print*,  \"Enter the value of x0\"\n",
        "        read(*,*) x0\n",
        "        print*, \"Enter the value of y0\"\n",
        "        read(*,*) y0\n",
        "        print*, \"Enter the step size\"\n",
        "        read(*,*) h\n",
        "        print*,\"Enter the value of xn for which yn should be obtained\"\n",
        "        read(*,*) xn\n",
        "\n",
        "        Outer:  do\n",
        "\n",
        "        f0 = (x0**2) - y0\n",
        "        y1=y0+(h*f0)\n",
        "        y=0\n",
        "        x1=x0+h\n",
        "\n",
        "        Inner:  do\n",
        "\n",
        "        f1 = (x1**2) - y1\n",
        "        y1=y0+(h/2)*(f0+f1)\n",
        "        print*,\"y1 to modified : \",y1\n",
        "        if(abs(y1-y)<=e)exit Inner\n",
        "        y=y1\n",
        "\n",
        "        end do  Inner\n",
        "\n",
        "        if(x1>=xn)exit Outer\n",
        "\n",
        "        y0=y1\n",
        "        x0=x1\n",
        "\n",
        "        end do Outer\n",
        "\n",
        "        print*,\"The value of xn = \",x1\n",
        "        print*,\"The value of yn = \",y1\n",
        "\n",
        "        end program Modified_Euler"
      ],
      "metadata": {
        "id": "O_b-MClELi-L"
      },
      "execution_count": null,
      "outputs": []
    },
    {
      "cell_type": "markdown",
      "source": [
        "## Second Order Runge-Kutta"
      ],
      "metadata": {
        "id": "9HyZSOris1VI"
      }
    },
    {
      "cell_type": "markdown",
      "source": [
        "$y_{i+1}=y_i = \\frac{1}{2}(k_1^{(i)}+ k_2^{(i)})$\n",
        "\n",
        "$k_i^{(i)} = hf(x_i,y_i)$\n",
        "\n",
        "$k_2^{(i)} =hf(x_i + h, y_i + k_1^{(i)})$\n",
        "\n",
        "$i = 0,1,2,3,.... $\n"
      ],
      "metadata": {
        "id": "V7g1aGd5txeo"
      }
    },
    {
      "cell_type": "code",
      "source": [
        "program Ruge_kutta_2\n",
        "\n",
        "        implicit none\n",
        "\n",
        "\n",
        "        real :: y1,y0,k1,k2,x1,x0,x,h,f\n",
        "\n",
        "        print*,\"Enter the intial value of x \"\n",
        "        read(*,*) x0\n",
        "\n",
        "        print*,\"Enter the intial value y0\"\n",
        "        read(*,*) y0\n",
        "\n",
        "        print*,\"Enter the interval\"\n",
        "        read(*,*) h\n",
        "\n",
        "        print*,\"Enter the point to be determined\"\n",
        "        read(*,*) x\n",
        "\n",
        "        !...............Function................................!\n",
        "\n",
        "        calculation : do\n",
        "\n",
        "         f = y0**2 - x0**2\n",
        "         k1=h*f\n",
        "         x1= x0 + h\n",
        "         y1=y0 + (k1)\n",
        "         f = y1**2 - x1**2\n",
        "         k2 = (h*f)\n",
        "         y1 = y0 + (k1 + k2)/2.0\n",
        "         x0 = x1\n",
        "         y0 = y1\n",
        "\n",
        "         print*,\"=====================\"\n",
        "         print*,\"x = \",x0\n",
        "         print*,\"y = \",y0\n",
        "         print*,\"=====================\"\n",
        "\n",
        "         if(x0>=x)exit calculation\n",
        "\n",
        "         end do calculation\n",
        "\n",
        "\n",
        "\n",
        "        !.............end Function..............................!\n",
        "\n",
        "\n",
        "\n",
        "        end program Ruge_kutta_2"
      ],
      "metadata": {
        "id": "SazeprhVvDpe"
      },
      "execution_count": null,
      "outputs": []
    },
    {
      "cell_type": "markdown",
      "source": [
        "## Fourth Order Runge-Kutta"
      ],
      "metadata": {
        "id": "7rbqIF_OPV-3"
      }
    },
    {
      "cell_type": "markdown",
      "source": [
        "$y_i = y_0 + \\frac{1}{2}(k_1^{(i)}+2k_2^{(i)}+2k_3^{(i)}+k_4)$"
      ],
      "metadata": {
        "id": "1jp7e9wGPiS7"
      }
    },
    {
      "cell_type": "code",
      "source": [
        "program Ruge_kutta_4\n",
        "\n",
        "        implicit none\n",
        "\n",
        "\n",
        "        real :: y1,y0,k1,k2,k3,k4,x1,x0,x,h,f\n",
        "\n",
        "        print*,\"Enter the intial value of x \"\n",
        "        read(*,*) x0\n",
        "\n",
        "        print*,\"Enter the intial value y0\"\n",
        "        read(*,*) y0\n",
        "\n",
        "        print*,\"Enter the interval\"\n",
        "        read(*,*) h\n",
        "\n",
        "        print*,\"Enter the point to be determined\"\n",
        "        read(*,*) x\n",
        "\n",
        "        !...............Function................................!\n",
        "\n",
        "        calculation : do\n",
        "\n",
        "         f = y0**2 - x0**2\n",
        "         k1=h*f\n",
        "         x1= x0 + (h/2.0)\n",
        "         y1=y0 + (k1/2.0)\n",
        "         f = (y1**2) - (x1**2)\n",
        "         k2 = (h*f)\n",
        "         y1=y0 + (k2/2.0)\n",
        "         f = (y1**2) - (x1**2)\n",
        "         k3 = h*f\n",
        "         y1 = y0 + k3\n",
        "         x1=x0 + h\n",
        "         f = (y1**2) - (x1**2)\n",
        "         k4 = h*f\n",
        "         y1 = y0 + (k1 + (2*k2) + (2*k3) + k4)/6.0\n",
        "         x0 = x1\n",
        "         y0 = y1\n",
        "\n",
        "         print*,\"=====================\"\n",
        "         print*,\"x = \",x0\n",
        "         print*,\"y = \",y0\n",
        "         print*,\"=====================\"\n",
        "\n",
        "         if(x0>=x)exit calculation\n",
        "\n",
        "         end do calculation\n",
        "\n",
        "\n",
        "\n",
        "        !.............end Function..............................!\n",
        "\n",
        "\n",
        "\n",
        "        end program Ruge_kutta_4"
      ],
      "metadata": {
        "id": "gbecLWPaPZzQ"
      },
      "execution_count": null,
      "outputs": []
    },
    {
      "cell_type": "markdown",
      "source": [
        "## Predictor_Corrector (Adam Bash)"
      ],
      "metadata": {
        "id": "HXu-KK8N9j2V"
      }
    },
    {
      "cell_type": "code",
      "source": [
        "program Predictor_Corrector_adam\n",
        "\n",
        "      implicit none\n",
        "\n",
        "      integer :: i\n",
        "      real :: y1,y0,yp,yc,x0,x1,xn,h,f1,k1,k2,k3,k4\n",
        "      real,dimension(5) :: x,y\n",
        "      real,dimension(5) :: f\n",
        "\n",
        "      print*,\"Enter the initial value of x\"\n",
        "      read(*,*) x0\n",
        "\n",
        "      x(1)=x0\n",
        "\n",
        "      print*,\"Enter the initial value of y\"\n",
        "      read(*,*) y0\n",
        "\n",
        "      y(1) = y0\n",
        "\n",
        "      print*,\"Enter the interval\"\n",
        "      read(*,*) h\n",
        "\n",
        "      print*,\"Enter the point to be determined\"\n",
        "      read(*,*) xn\n",
        "\n",
        "\n",
        "      !..................Calculation...........................\n",
        "\n",
        "        calculation : do i=1,3\n",
        "\n",
        "         f1 = y0**2 - x0**2\n",
        "         k1=h*f1\n",
        "         x1= x0 + (h/2.0)\n",
        "         y1=y0 + (k1/2.0)\n",
        "         f1 = (y1**2) - (x1**2)\n",
        "         k2 = (h*f1)\n",
        "         y1=y0 + (k2/2.0)\n",
        "         f1 = (y1**2) - (x1**2)\n",
        "         k3 = h*f1\n",
        "         y1 = y0 + k3\n",
        "         x1=x0 + h\n",
        "         f1 = (y1**2) - (x1**2)\n",
        "         k4 = h*f1\n",
        "         y1 = y0 + (k1 + (2*k2) + (2*k3) + k4)/6.0\n",
        "         x0 = x1\n",
        "         y0 = y1\n",
        "         x(i+1)=x0\n",
        "         y(i+1)=y0\n",
        "\n",
        "         end do calculation\n",
        "\n",
        "\n",
        "         func : do i=1,4\n",
        "\n",
        "         f(i) = y(i)**2 - x(i)**2\n",
        "\n",
        "         end do func\n",
        "\n",
        "\n",
        "\n",
        "\n",
        "         pc : do\n",
        "\n",
        "         x0 = x0 + h\n",
        "         yp=y(4) + (h/24.0)*(-9.0*f(1) + 37*f(2) - 59*f(3) + 55*f(4) )\n",
        "         f(5) = yp**2 - (x0+h)**2\n",
        "         yc= y(4) + (h/24.0)*(f(2) - 5*f(3) + 19*f(4) + 9*f(5))\n",
        "\n",
        "         print*,\"x = \",x0\n",
        "         print*,\"yp = \",yp\n",
        "         print*,\"yc = \",yc\n",
        "\n",
        "         if (x0 >= xn) exit pc\n",
        "\n",
        "         end do pc\n",
        "\n",
        "\n",
        "      end program Predictor_Corrector_adam\n",
        "\n",
        "\n",
        "\n",
        "\n",
        "\n",
        "\n",
        "\n",
        "\n",
        "\n",
        "\n",
        "\n",
        "\n",
        "\n",
        "\n",
        "\n",
        "\n"
      ],
      "metadata": {
        "id": "_B3qADFw9pEu"
      },
      "execution_count": null,
      "outputs": []
    },
    {
      "cell_type": "markdown",
      "source": [
        "# Practicals\n"
      ],
      "metadata": {
        "id": "A5nU30A03JqU"
      }
    },
    {
      "cell_type": "markdown",
      "source": [
        "## List of Practicals\n",
        "\n",
        "1. Bisection Method\n",
        "2. False Position Method\n",
        "3. Newton Raphson Method\n",
        "4. Gauss Elimination\n",
        "5. Matrix Pivoting"
      ],
      "metadata": {
        "id": "iDquLUCV3ST_"
      }
    },
    {
      "cell_type": "markdown",
      "source": [
        "## Bisection Method"
      ],
      "metadata": {
        "id": "txMH3WIz3eBW"
      }
    },
    {
      "cell_type": "code",
      "source": [
        "! This program will calculate the root by using bisection method\n",
        "! Here I have used the function f(x)= x^2 + x -7\n",
        "! The function can be changed\n",
        "program Bisection_method\n",
        "\n",
        "      implicit none\n",
        "\n",
        "      real(kind=16) :: x0,x1,x2\n",
        "      real(kind=16) :: fun\n",
        "      real(kind=16),parameter :: er = 0.0000000000000000000000000000000000000001\n",
        "      real(kind=16) :: rle ! relative error\n",
        "\n",
        "\n",
        "      print*,\"Enter the Interval you want to check\"\n",
        "      read(*,*) x0,x1\n",
        "\n",
        "      if(fun(x0)*fun(x1)<0) then\n",
        "\n",
        "\n",
        "        print*,\"The value is accepted\"\n",
        "        print*,\"f(x0)\",fun(x0)\n",
        "        print*,\"f(x1)\",fun(x1)\n",
        "\n",
        "        loop_1: do\n",
        "\n",
        "        rle = x2\n",
        "       print*,\"x0 =\",x0,\"x1 = \",x1, \"f(x1) =\",fun(x1),\"f(x0) = \",fun(x0)\n",
        "        x2 = (x0+x1)/2\n",
        "\n",
        "      if_1:if(fun(x0)*fun(x2)<0) then\n",
        "\n",
        "              x1 = x2\n",
        "\n",
        "      else if_1\n",
        "\n",
        "              x0=x2\n",
        "\n",
        "      end if if_1\n",
        "      print*,\"x2 = \",x2,\"f(x2) = \",fun(x2)\n",
        "\n",
        "\n",
        "\n",
        "      if_2 : if(abs(rle-x2) <= er) then\n",
        "\n",
        "               exit loop_1\n",
        "       end if if_2\n",
        "       end do loop_1\n",
        "\n",
        "       print*,\"The root value in this range is = \",x2\n",
        "\n",
        "      else\n",
        "              print*,\"The value is not accepted\"\n",
        "\n",
        "      end if\n",
        "\n",
        "\n",
        "      end program Bisection_method\n",
        "\n",
        "     real(kind=16) function fun(a)\n",
        "\n",
        "      implicit none\n",
        "\n",
        "      real(kind=16),intent(in) :: a\n",
        "\n",
        "      fun = a**2 + a - 7\n",
        "\n",
        "      return\n",
        "\n",
        "      end function fun\n"
      ],
      "metadata": {
        "id": "8OrBS7Bg3z7U"
      },
      "execution_count": null,
      "outputs": []
    },
    {
      "cell_type": "markdown",
      "source": [
        "## False Position Method"
      ],
      "metadata": {
        "id": "5oBqPKMt306X"
      }
    },
    {
      "cell_type": "code",
      "source": [
        "! This program uses Regular-False method to calculate the root\n",
        "! The functions can be changed in the function section\n",
        "! The minimum error can be changed in the error part of main program\n",
        "\n",
        "!**********************    MAIN  PROGRAM    **********************\n",
        "program Regular_False\n",
        "\n",
        "      implicit none\n",
        "\n",
        "      real :: x0,x1,x2=0\n",
        "      real :: fun\n",
        "      real :: rle\n",
        "      real,parameter :: err = 0.00001 !................ ERROR\n",
        "      integer :: i=0\n",
        "\n",
        "      print*,\"Enter the value of range\"\n",
        "      read(*,*) x0,x1\n",
        "\n",
        "      if_1:if(fun(x0)*fun(x1)<0)then\n",
        "\n",
        "              print*,\"The range is accepted\"\n",
        "\n",
        "              loop_1:do\n",
        "\n",
        "              i = i+1\n",
        "\n",
        "              rle = x2\n",
        "\n",
        "              x2 = x0 - (fun(x0)/(fun(x1)-fun(x0)))*(x1 - x0)\n",
        "\n",
        "              if_2:if((fun(x2)*fun(x0))<0)then\n",
        "\n",
        "                      x1 = x2\n",
        "\n",
        "              else if_2\n",
        "\n",
        "                      x0 = x2\n",
        "\n",
        "              end if if_2\n",
        "\n",
        "              if(abs(rle - x2) < err)exit loop_1\n",
        "\n",
        "              end do loop_1\n",
        "\n",
        "              print*,\"Number of iterations = \",i\n",
        "              print*,\"The root is = \",x2\n",
        "\n",
        "      else if_1\n",
        "\n",
        "              print*,\"The range is not accepted\"\n",
        "              print*,\"f(x0) = \",fun(x0),\" f(x1) = \",fun(x1)\n",
        "              print*,\"f(x0) x f(x1) = \",fun(x0)*fun(x1)\n",
        "\n",
        "      end if if_1\n",
        "\n",
        "      end program Regular_False\n",
        "\n",
        "\n",
        "      ! **********************   FUNCTION   ***********************\n",
        "\n",
        "\n",
        "              real function fun(a)\n",
        "\n",
        "                      implicit none\n",
        "\n",
        "                      real,intent(in) :: a\n",
        "\n",
        "                      fun = a**3 + 2*a - 2\n",
        "\n",
        "                      return\n",
        "\n",
        "                      end function fun\n"
      ],
      "metadata": {
        "id": "-ncZfwAM337g"
      },
      "execution_count": null,
      "outputs": []
    },
    {
      "cell_type": "markdown",
      "source": [
        "## Newton Raphson"
      ],
      "metadata": {
        "id": "nG3l7RAq38iq"
      }
    },
    {
      "cell_type": "code",
      "source": [
        "! This program uses Newton-Raphson method to calculate the root\n",
        "! The one draw back is we have to calculate derrivative by oursef\n",
        "! The functions can be changed in the functions section\n",
        "! The derrivative of function should be changed in the derrivative section\n",
        "\n",
        "! ************************* MAIN PROGRAM  *********************************\n",
        "program Newton_Raphson\n",
        "\n",
        "      implicit none\n",
        "\n",
        "      real :: x,x1\n",
        "      real :: fn,fn_1\n",
        "      real,parameter :: er = 0.000001\n",
        "      integer :: i=0\n",
        "\n",
        "      print*,\"Enter the point to intialize\"\n",
        "      read(*,*) x\n",
        "\n",
        "      loop_1: do\n",
        "\n",
        "      i = i+1\n",
        "\n",
        "      x1 = x - (fn(x)/fn_1(x))\n",
        "      if(abs(x1-x)<er)exit loop_1\n",
        "      x = x1\n",
        "\n",
        "      end do loop_1\n",
        "\n",
        "      print*,\"The number of interations = \",i\n",
        "      print*,\"The root = \", x1\n",
        "\n",
        "      end program Newton_Raphson\n",
        "\n",
        "\n",
        "      !************* Function  ****************\n",
        "\n",
        "      real function fn(x)\n",
        "\n",
        "      implicit none\n",
        "\n",
        "      real,intent(in) :: x\n",
        "\n",
        "      fn = x**3 + x - 1\n",
        "\n",
        "      return\n",
        "\n",
        "      end function fn\n",
        "\n",
        "      !************** Derrivative Function *****************\n",
        "\n",
        "      real function fn_1(x)\n",
        "\n",
        "              implicit none\n",
        "\n",
        "              real,intent(in) :: x\n",
        "\n",
        "              fn_1 = (3*x**2) + 1\n",
        "\n",
        "              return\n",
        "\n",
        "              end function fn_1\n",
        "\n"
      ],
      "metadata": {
        "id": "qpd4yzk84AWj"
      },
      "execution_count": null,
      "outputs": []
    },
    {
      "cell_type": "markdown",
      "source": [
        "## Gauss Elimination"
      ],
      "metadata": {
        "id": "lFwlXw3a4Jp4"
      }
    },
    {
      "cell_type": "code",
      "source": [
        "! This program uses Gauss Elimination method to solve the simultaneous equations\n",
        "\n",
        "program Gauss_Elimination\n",
        "\n",
        "        ! WARNING: change the format when needed\n",
        "\n",
        "      implicit none\n",
        "\n",
        "      integer:: n1,n2\n",
        "      real,allocatable,dimension(:,:) :: a\n",
        "      real :: u,v\n",
        "      integer :: i,j,k\n",
        "      integer :: status_1,status_2\n",
        "      real,allocatable,dimension(:)::x\n",
        "\n",
        "      print*,\"WARNING: Change the format 102 according to \"\n",
        "      print*,\"the number of column and row\"\n",
        "\n",
        "      print*,\"Enter the total number of equations\"\n",
        "      read(*,*)n1\n",
        "      n2=n1+1\n",
        "\n",
        "      allocate (a(n1,n2), STAT=status_1)\n",
        "\n",
        "      alloc_if:if(status_1==0) then\n",
        "      print*,\"The rows and columns are allocated\"\n",
        "      else alloc_if\n",
        "              print*,\"The rows and columns are not allocated\"\n",
        "      end if alloc_if\n",
        "\n",
        "      input_i: do i=1,n1\n",
        "      input_j: do j=1,n2\n",
        "\n",
        "      write(*,101)\"Enter the value of a(\",i,\",\",j,\")\"\n",
        "      101 format (A,I2,A,I2,A)\n",
        "      read(*,*) a(i,j)\n",
        "\n",
        "      end do input_j\n",
        "      end do input_i\n",
        "\n",
        "      print*,\"=========================\"\n",
        "      print*,\"     The data input\"\n",
        "      print*,\"=========================\"\n",
        "      write(*,102)transpose(a)\n",
        "      102 format (4f8.3) !...........................Format 102\n",
        "      print*,\"=========================\"\n",
        "      print*,\"    End of input data\"\n",
        "      print*,\"=========================\"\n",
        "\n",
        "      cal_k: do k=1,n2-1\n",
        "      cal_out:do i=k+1,n1\n",
        "      u=a(i,k)/a(k,k)\n",
        "      print*,a(i,k)\n",
        "      print*,a(k,k)\n",
        "      print*,\"k = \",u\n",
        "\n",
        "      cal_in: do j=1,n2\n",
        "\n",
        "      a(i,j) = a(i,j) - u*a(k,j)\n",
        "      print*,a(i,j)\n",
        "\n",
        "      end do cal_in\n",
        "      print*,\"=========================\"\n",
        "      print*,\"    Intermediate step\"\n",
        "      print*,\"=========================\"\n",
        "      write(*,102)transpose(a)\n",
        "      print*,\"=========================\"\n",
        "      print*,\"           End \"\n",
        "      print*,\"=========================\"\n",
        "      end do cal_out\n",
        "      end do cal_k\n",
        "\n",
        "\n",
        "      print*,\"=========================\"\n",
        "      print*,\"       The output 1\"\n",
        "      print*,\"=========================\"\n",
        "      write(*,102)transpose(a)\n",
        "      print*,\"=========================\"\n",
        "      print*,\"      End of output 1\"\n",
        "      print*,\"=========================\"\n",
        "\n",
        "      allocate(x(n1),STAT=status_2)\n",
        "\n",
        "      stat2:if(status_2==0)then\n",
        "              print*,\"x is allocated\"\n",
        "      else stat2\n",
        "              print*,\"x is not allocated\"\n",
        "      end if stat2\n",
        "\n",
        "      bs_cal_out:do i=n1,1,-1\n",
        "      v=0\n",
        "      bs_cal_in:do j=n1,i+1,-1\n",
        "      cyc:if(i>=j) then\n",
        "              cycle bs_cal_in\n",
        "      end if cyc\n",
        "      v= a(i,j)*x(j)+v\n",
        "      end do bs_cal_in\n",
        "      x(i)=(a(i,n1+1)-v)/a(i,i)\n",
        "      end do bs_cal_out\n",
        "\n",
        "      print*,\"=========================\"\n",
        "      print*,\"        Result\"\n",
        "      print*,\"=========================\"\n",
        "      result_1:do i=1,n1\n",
        "      write(*,103) \"x(\",i,\")\",x(i)\n",
        "      103 format (A,i0,A,f8.3)\n",
        "      end do result_1\n",
        "      print*,\"=========================\"\n",
        "      print*,\"      End result\"\n",
        "      print*,\"=========================\"\n",
        "\n",
        "      deallocate(a,STAT=status_1)\n",
        "      deallocate(x,STAT=status_2)\n",
        "\n",
        "      end program Gauss_Elimination"
      ],
      "metadata": {
        "id": "apldIioC4NGE"
      },
      "execution_count": null,
      "outputs": []
    },
    {
      "cell_type": "markdown",
      "source": [
        "## Matrix Pivoting"
      ],
      "metadata": {
        "id": "1bJaJgM74W6t"
      }
    },
    {
      "cell_type": "code",
      "source": [
        "! This Program will partialy pivot the matrix\n",
        "\n",
        "program partial_pivoting\n",
        "\n",
        "      implicit none\n",
        "\n",
        "      real,allocatable,dimension(:,:) :: a\n",
        "      real :: ipointer, temp\n",
        "      integer :: i,j,stat_1,stat_2,n,l\n",
        "      integer :: ipj\n",
        "      character(len = 80) :: err_msg\n",
        "\n",
        "      print*,\"Beware of Format \"\n",
        "      print*,\"Check the format \"\n",
        "\n",
        "      print*,\"Total Number of equations\"\n",
        "      read(*,*)n\n",
        "\n",
        "      !================ Allocation ==============================\n",
        "\n",
        "      allocate(a(n,n+1),STAT=stat_1,ERRMSG=err_msg)\n",
        "      alloc_if: if(stat_1==0)then\n",
        "              print*,\" a is allocated\"\n",
        "      else alloc_if\n",
        "              print*,\" a is not allocated\"\n",
        "              print*,err_msg\n",
        "      end if alloc_if\n",
        "\n",
        "      !====================== Data Input ========================\n",
        "\n",
        "      input_out: do i=1,n\n",
        "      input_in: do j=1,n+1\n",
        "      write(*,101) i,j\n",
        "      101 format(\"Enter: a(\",I0,\",\",I0,\")\")\n",
        "      read(*,*) a(i,j)\n",
        "      end do input_in\n",
        "      end do input_out\n",
        "\n",
        "      !========================== Data ==========================\n",
        "\n",
        "      print*,\"====================\"\n",
        "      print*,\"        DATA\"\n",
        "      print*,\"====================\"\n",
        "      write(*,102) transpose(a)\n",
        "      102 format(4f9.3) !*************************************** Format\n",
        "      print*,\"====================\"\n",
        "      print*,\"      End  DATA\"\n",
        "      print*,\"====================\"\n",
        "\n",
        "      !====================== Pivoting ==========================\n",
        "\n",
        "      Piv_out: do i=1,n-1\n",
        "      ipointer = a(i,i)\n",
        "      ipj = 0\n",
        "      Piv_in:  do j=i,n\n",
        "\n",
        "\n",
        "      piv_if:if(a(j,i)>ipointer)then\n",
        "              ipointer = a(j,i)\n",
        "              ipj=j\n",
        "      end if piv_if\n",
        "\n",
        "\n",
        "      end do Piv_in\n",
        "\n",
        "      piv_1:if(a(i,i) /= ipointer)then\n",
        "\n",
        "      piv:do l=1,n+1\n",
        "      temp = a(i,l)\n",
        "      a(i,l)=a(ipj,l)\n",
        "      a(ipj,l)=temp\n",
        "      end do piv\n",
        "      print*,\"====================\"\n",
        "      print*,\"  intermediate pivot\"\n",
        "      print*,\"====================\"\n",
        "      write(*,102) transpose(a)\n",
        "      print*,\"====================\"\n",
        "      print*,\"    End int pivot\"\n",
        "      print*,\"====================\"\n",
        "\n",
        "      end if piv_1\n",
        "\n",
        "      end do Piv_out\n",
        "\n",
        "      !================= Printing Pivoted Matrix =================\n",
        "\n",
        "      print*,\"====================\"\n",
        "      print*,\"        pivot\"\n",
        "      print*,\"====================\"\n",
        "      write(*,102) transpose(a)\n",
        "      print*,\"====================\"\n",
        "      print*,\"    End pivot DATA\"\n",
        "      print*,\"====================\"\n",
        "\n",
        "\n",
        "      !====================== Deallocation ======================\n",
        "\n",
        "      deallocate(a,STAT=stat_2)\n",
        "      dalloc_if:if(stat_2==0)then\n",
        "              print*,\"a is deallocated\"\n",
        "      else dalloc_if\n",
        "              print*,\"a is not deallocated\"\n",
        "      end if dalloc_if\n",
        "\n",
        "      end program partial_pivoting"
      ],
      "metadata": {
        "id": "1X8eWGV54Z3X"
      },
      "execution_count": null,
      "outputs": []
    }
  ]
}